{
  "cells": [
    {
      "cell_type": "markdown",
      "metadata": {
        "id": "WF5l7egx9RJh"
      },
      "source": [
        "# Imports"
      ]
    },
    {
      "cell_type": "code",
      "execution_count": 1,
      "metadata": {
        "id": "65dO9DD39RJj"
      },
      "outputs": [],
      "source": [
        "import numpy as np\n",
        "\n",
        "# Add these lines if you clone from https://github.com/fdalvi/NeuroX\n",
        "# import sys\n",
        "# sys.path.append(\"/path/to/NeuroX\")\n",
        "# In the case of the notebook, the path is the parent directory\n",
        "import sys\n",
        "sys.path.append(\"..\")"
      ]
    },
    {
      "cell_type": "markdown",
      "metadata": {},
      "source": [
        "# Introduction\n",
        "\n",
        "This notebook uses the [CONLL 2003](https://huggingface.co/datasets/conll2003) dataset for Named Entity Recognition to illustrate central methods in NeuroX:\n",
        "- Extracting activations from a transformer LM\n",
        "- Loading activations and a labeled dataset\n",
        "- Training a probe on all activations of the LM\n",
        "- Training a probe on specific layers and neuron subsets\n",
        "- Running a control task to assess the quality of the probe\n",
        "\n",
        "\n",
        "The notebook was built by [David Arps](https://github.com/davidarps) and [Younes Samih](https://user.phil-fak.uni-duesseldorf.de/~samih/) on the basis of the [tutorial](https://github.com/fdalvi/NeuroX/blob/master/examples/End%20to%20End%20Example.ipynb) from [Fahim Dalvi](https://fdalvi.github.io)."
      ]
    },
    {
      "cell_type": "markdown",
      "metadata": {
        "id": "CyBEJfvr9RJm"
      },
      "source": [
        "# Data"
      ]
    },
    {
      "cell_type": "code",
      "execution_count": 2,
      "metadata": {
        "id": "ohEqGfcX9RJo"
      },
      "outputs": [],
      "source": [
        "from datasets import load_dataset"
      ]
    },
    {
      "cell_type": "code",
      "execution_count": 14,
      "metadata": {
        "colab": {
          "base_uri": "https://localhost:8080/",
          "height": 200,
          "referenced_widgets": [
            "092de4d85b374037ae44843da9812008",
            "54507e5c3f40494b8db4b6f349314bc0",
            "5ef19a8681b740f2bcf14ae66b98962e",
            "a77995b8b4b449149be8f779ad2c13aa",
            "216b063b0ba14448b7118a3079cac72d",
            "3b28c387e5874d54bb921c0884d91f75",
            "93a8aac98ac442418941fc2e770ae045",
            "619f019c30cf4bb4a27faef341042b2e",
            "8379c10aaab241368ab7eeb2fe18d2c3",
            "9a058dbb245a44d491d9da87599377b8",
            "7040f996a3f54a93a778d25b4ef81a3d",
            "9c2141fbedc84deeb6ce0c7b2dfcdb5e",
            "9f360d7ae9984f908a4925c5d7867066",
            "87ef658f61d04ed9ac997b5cc7142a3d",
            "1d03126c053c4d62b8f8897d8676bf1f",
            "426424c92ac2474ca0dab7d577270438",
            "8dfaa0020a5d4165852016d92b1fc715",
            "c68dc9dee8f04ba9885bbde376007726",
            "c9bbd4ee69fc46c6a6ea3bdc7354996f",
            "9073af83176b4471a912dad9f297cb6f",
            "853309ae97d14d51ac83c5a2b3da5b03",
            "ead3fb2e5e444450b4efb802762b5ef2",
            "22952c4e6a1c4e5496f4554655d0752a",
            "ca47fbb7a9364399acca0121f34fe0c2",
            "1e29bd5876e8459dbf0ff07870390f03",
            "634c0e8582cf449caf93ad0cc8d65f54",
            "beb371c8ef234cd39f75233fa42621c3",
            "b9105e71903d487bb13188c8142c1c15",
            "1c2e4b8abf3a4180ba31e3268b6bf6dc",
            "3026493a301c495ab0d1ce4ffaf853c3",
            "8dbedd2f24ea41be8b5aab7dbc40271e",
            "921582a660ba451e8a48335ada368e89",
            "305e92111d8543268c0e6a02b0c5fe58",
            "8b0ce9190b634e819c4f3c9899fab65c",
            "4f8d1898228a4783a25b58d6566ab36e",
            "e49a3550f8d04d6697aa7b8ec77a096d",
            "e66620272f8f4e4b9fe8e86b963771e8",
            "193f1075bb454760b59fd9a6c182d045",
            "7fcd295aa5f14cb6b0d460194cb244d9",
            "ce90e303fec74ed19e509442e58cba75",
            "c7302a89482b4f2aa21da533824c2316",
            "e90ecec359a5445a95c58bc1e0f342f1",
            "f5d6fc87268046119bb82397614bc054",
            "7aafb81e95734749b4cf8da0192eb9bc",
            "d71e3a2c953c4b88a7e9f3c6043a43fe",
            "b821f42a53774684bf9c3ea33dfdecbb",
            "f7561f20e740490f965e83e5408c7772",
            "fc4167ab200344d0baa7e284ceb388f0",
            "c62e7acb59904fb197bdc019a406861b",
            "b124776b9fb94b678e53e6c6708f9db9",
            "5a529309eb5d463dbf310cb21e99bfc7",
            "8ec3668ac99b41069731507246f0736e",
            "aa27ededc7d74616b251e7af635917d9",
            "44d5179b29b941da881a00bee99cf7dc",
            "1817588a779e4a5b97729aa3957c53ed",
            "5f525aafa37b4af2a8b4737d9acad6fe",
            "1912fd4e11c94aeabfe11ef019cdc25c",
            "57582895188f4934b468230d1f660a47",
            "61ac05f04ff74bdabc868134ee4a2f0a",
            "57d8aade48b647c88138f7483d7ac028",
            "15db52c69ac94edea6ae604044f5a515",
            "2697a2df0a574ca184bc5049948a3ca8",
            "37cb117424784d48993c11d384bb1875",
            "b34c4fa4274e4f7e9853c4cc51e539e7",
            "ad6d6c79896d46d9a895ca71a3529418",
            "b38451339dbb4ebb85b49daabe27905b",
            "791eca3a4e5741afbf968abf1b4f2529",
            "3174240843b945ceb39063d9aabeb629",
            "ad7b041beb0b447297c7b6dce5aec715",
            "5859b6dc116242198c1da0d9742dace7",
            "bdf42558159441d79395dec1c93d0a46",
            "449807178df34c69937e86cf0f77fd74",
            "9e90b5daf4994e1fa44040848c497bc2",
            "24a1b7a21bd846aeb0ec40e8d6948ad1",
            "36c88e3816a841fca8dcc3ef3a85a053",
            "da6856847bdd4a4c8d19ef919881ee7c",
            "df17a7e453f349f5acdac1ac1b604bb3"
          ]
        },
        "id": "S7s7ouzx9RJp",
        "outputId": "2a3945f4-289e-4f04-8e0c-79d46815bd2e"
      },
      "outputs": [
        {
          "name": "stderr",
          "output_type": "stream",
          "text": [
            "Reusing dataset conll2003 (/home/david/.cache/huggingface/datasets/conll2003/conll2003/1.0.0/63f4ebd1bcb7148b1644497336fd74643d4ce70123334431a3c053b7ee4e96ee)\n"
          ]
        },
        {
          "data": {
            "application/vnd.jupyter.widget-view+json": {
              "model_id": "d5be3cd1ebab4b89b6c937eeeae1eb3f",
              "version_major": 2,
              "version_minor": 0
            },
            "text/plain": [
              "  0%|          | 0/3 [00:00<?, ?it/s]"
            ]
          },
          "metadata": {},
          "output_type": "display_data"
        }
      ],
      "source": [
        "conll_dataset = load_dataset(\"conll2003\")"
      ]
    },
    {
      "cell_type": "markdown",
      "metadata": {},
      "source": [
        "Adapt these cutoffs to your hardware. Rule of thumb: DistilBERT representations in `float16` precision take 150-200MB for 1k sentences. "
      ]
    },
    {
      "cell_type": "code",
      "execution_count": 80,
      "metadata": {
        "id": "9WqzWmXL9RJr"
      },
      "outputs": [],
      "source": [
        "train_cutoff = 2000 # max: 14042\n",
        "valid_cutoff = 200  # max: 3251"
      ]
    },
    {
      "cell_type": "code",
      "execution_count": 81,
      "metadata": {
        "id": "u4DI-FpB9RJr"
      },
      "outputs": [],
      "source": [
        "# write the training set to file\n",
        "with open('train.tok', 'w') as f:\n",
        "    for sent in conll_dataset['train']['tokens'][:train_cutoff]:\n",
        "        f.write(' '.join(sent))\n",
        "        f.write('\\n')\n",
        "with open('train.ner', 'w') as f:\n",
        "    # for decoding ix->label\n",
        "    feat_names = conll_dataset['train'].features['ner_tags'].feature.names\n",
        "    for ix_seq in conll_dataset['train']['ner_tags'][:train_cutoff]:\n",
        "        f.write(' '.join([feat_names[t] for t in ix_seq]))\n",
        "        f.write('\\n')"
      ]
    },
    {
      "cell_type": "code",
      "execution_count": 82,
      "metadata": {},
      "outputs": [],
      "source": [
        "# write the validation set to file\n",
        "with open('validation.tok', 'w') as f:\n",
        "    for sent in conll_dataset['validation']['tokens'][:valid_cutoff]:\n",
        "        f.write(' '.join(sent))\n",
        "        f.write('\\n')\n",
        "with open('validation.ner', 'w') as f:\n",
        "    # for decoding ix->label\n",
        "    feat_names = conll_dataset['validation'].features['ner_tags'].feature.names\n",
        "    for ix_seq in conll_dataset['validation']['ner_tags'][:valid_cutoff]:\n",
        "        f.write(' '.join([feat_names[t] for t in ix_seq]))\n",
        "        f.write('\\n')"
      ]
    },
    {
      "cell_type": "markdown",
      "metadata": {
        "id": "4lzdrI8v9RJt"
      },
      "source": [
        "# Extract Representations"
      ]
    },
    {
      "cell_type": "code",
      "execution_count": 26,
      "metadata": {
        "id": "7fY3gD7o-fOj"
      },
      "outputs": [],
      "source": [
        "import neurox.data.extraction.transformers_extractor as transformers_extractor"
      ]
    },
    {
      "cell_type": "code",
      "execution_count": 83,
      "metadata": {
        "colab": {
          "base_uri": "https://localhost:8080/"
        },
        "id": "q0y0_KLS9RJu",
        "outputId": "01c543be-8aa5-45f7-dcfe-ef8452bfa1f7",
        "scrolled": false
      },
      "outputs": [
        {
          "name": "stdout",
          "output_type": "stream",
          "text": [
            "Loading model: distilbert-base-uncased\n"
          ]
        },
        {
          "name": "stderr",
          "output_type": "stream",
          "text": [
            "Some weights of the model checkpoint at distilbert-base-uncased were not used when initializing DistilBertModel: ['vocab_projector.weight', 'vocab_transform.bias', 'vocab_transform.weight', 'vocab_layer_norm.weight', 'vocab_layer_norm.bias', 'vocab_projector.bias']\n",
            "- This IS expected if you are initializing DistilBertModel from the checkpoint of a model trained on another task or with another architecture (e.g. initializing a BertForSequenceClassification model from a BertForPreTraining model).\n",
            "- This IS NOT expected if you are initializing DistilBertModel from the checkpoint of a model that you expect to be exactly identical (initializing a BertForSequenceClassification model from a BertForSequenceClassification model).\n"
          ]
        },
        {
          "name": "stdout",
          "output_type": "stream",
          "text": [
            "Reading input corpus\n",
            "Preparing output file\n",
            "Extracting representations from model\n",
            "Sentence         : \"EU rejects German call to boycott British lamb .\"\n",
            "Original    (009): ['EU', 'rejects', 'German', 'call', 'to', 'boycott', 'British', 'lamb', '.']\n",
            "Tokenized   (011): ['[CLS]', 'eu', 'rejects', 'german', 'call', 'to', 'boycott', 'british', 'lamb', '.', '[SEP]']\n",
            "Filtered   (009): ['eu', 'rejects', 'german', 'call', 'to', 'boycott', 'british', 'lamb', '.']\n",
            "Detokenized (009): ['eu', 'rejects', 'german', 'call', 'to', 'boycott', 'british', 'lamb', '.']\n",
            "Counter: 9\n",
            "===================================================================\n",
            "Hidden states:  (7, 9, 768)\n",
            "# Extracted words:  9\n"
          ]
        }
      ],
      "source": [
        "transformers_extractor.extract_representations('distilbert-base-uncased',\n",
        "    'train.tok',\n",
        "    'train_activations.hdf5',\n",
        "    aggregation=\"average\", #last, first\n",
        "    output_type='hdf5',\n",
        "    dtype='float16'\n",
        ")"
      ]
    },
    {
      "cell_type": "code",
      "execution_count": 84,
      "metadata": {
        "id": "n9GClkaBAqBC"
      },
      "outputs": [
        {
          "name": "stdout",
          "output_type": "stream",
          "text": [
            "Loading model: distilbert-base-uncased\n"
          ]
        },
        {
          "name": "stderr",
          "output_type": "stream",
          "text": [
            "Some weights of the model checkpoint at distilbert-base-uncased were not used when initializing DistilBertModel: ['vocab_projector.weight', 'vocab_transform.bias', 'vocab_transform.weight', 'vocab_layer_norm.weight', 'vocab_layer_norm.bias', 'vocab_projector.bias']\n",
            "- This IS expected if you are initializing DistilBertModel from the checkpoint of a model trained on another task or with another architecture (e.g. initializing a BertForSequenceClassification model from a BertForPreTraining model).\n",
            "- This IS NOT expected if you are initializing DistilBertModel from the checkpoint of a model that you expect to be exactly identical (initializing a BertForSequenceClassification model from a BertForSequenceClassification model).\n"
          ]
        },
        {
          "name": "stdout",
          "output_type": "stream",
          "text": [
            "Reading input corpus\n",
            "Preparing output file\n",
            "Extracting representations from model\n",
            "Sentence         : \"CRICKET - LEICESTERSHIRE TAKE OVER AT TOP AFTER INNINGS VICTORY .\"\n",
            "Original    (011): ['CRICKET', '-', 'LEICESTERSHIRE', 'TAKE', 'OVER', 'AT', 'TOP', 'AFTER', 'INNINGS', 'VICTORY', '.']\n",
            "Tokenized   (013): ['[CLS]', 'cricket', '-', 'leicestershire', 'take', 'over', 'at', 'top', 'after', 'innings', 'victory', '.', '[SEP]']\n",
            "Filtered   (011): ['cricket', '-', 'leicestershire', 'take', 'over', 'at', 'top', 'after', 'innings', 'victory', '.']\n",
            "Detokenized (011): ['cricket', '-', 'leicestershire', 'take', 'over', 'at', 'top', 'after', 'innings', 'victory', '.']\n",
            "Counter: 11\n",
            "===================================================================\n",
            "Hidden states:  (7, 11, 768)\n",
            "# Extracted words:  11\n"
          ]
        }
      ],
      "source": [
        "transformers_extractor.extract_representations('distilbert-base-uncased',\n",
        "    'validation.tok',\n",
        "    'validation_activations.hdf5',\n",
        "    aggregation=\"average\", #last, first\n",
        "    output_type='hdf5',\n",
        "    dtype='float16'\n",
        ")"
      ]
    },
    {
      "cell_type": "markdown",
      "metadata": {
        "id": "vsTNFQ5Y9RJw"
      },
      "source": [
        "# Prepare Data"
      ]
    },
    {
      "cell_type": "markdown",
      "metadata": {
        "id": "zfoHHOmjB1_p"
      },
      "source": [
        "The following cells load the activation file for the training and validation data."
      ]
    },
    {
      "cell_type": "code",
      "execution_count": 33,
      "metadata": {
        "colab": {
          "base_uri": "https://localhost:8080/"
        },
        "id": "vI5ta3Jt9RJ7",
        "outputId": "dbbd77cf-7a85-4f98-edba-89e3ad59416a"
      },
      "outputs": [
        {
          "name": "stdout",
          "output_type": "stream",
          "text": [
            "Loading hdf5 activations from train_activations.hdf5...\n"
          ]
        }
      ],
      "source": [
        "import neurox.data.loader as data_loader\n",
        "activations, num_layers = data_loader.load_activations('train_activations.hdf5', 768, dtype='float16')"
      ]
    },
    {
      "cell_type": "code",
      "execution_count": 46,
      "metadata": {
        "id": "VPwaRKn_CMqa"
      },
      "outputs": [
        {
          "name": "stdout",
          "output_type": "stream",
          "text": [
            "Loading hdf5 activations from validation_activations.hdf5...\n"
          ]
        }
      ],
      "source": [
        "valid_activations, num_layers = data_loader.load_activations('validation_activations.hdf5', 768, dtype='float16')"
      ]
    },
    {
      "cell_type": "markdown",
      "metadata": {
        "id": "yBBt6JgOCc57"
      },
      "source": [
        "You can explore the activations variable. What type is it? What do the size of the activations variable, and the size of its components mean?"
      ]
    },
    {
      "cell_type": "code",
      "execution_count": 105,
      "metadata": {
        "colab": {
          "base_uri": "https://localhost:8080/"
        },
        "id": "gQjdaMAl9RJ8",
        "outputId": "920f632f-3c3f-4a66-c145-a33901ea8e2f"
      },
      "outputs": [],
      "source": [
        "# print(activations)"
      ]
    },
    {
      "cell_type": "code",
      "execution_count": 39,
      "metadata": {
        "colab": {
          "base_uri": "https://localhost:8080/"
        },
        "id": "g0S_wCkC9RJ-",
        "outputId": "0816eb4f-4ed3-4709-8aef-a438fc719e89"
      },
      "outputs": [
        {
          "data": {
            "text/plain": [
              "(9, 5376)"
            ]
          },
          "execution_count": 39,
          "metadata": {},
          "output_type": "execute_result"
        }
      ],
      "source": [
        "activations[0].shape"
      ]
    },
    {
      "cell_type": "code",
      "execution_count": 40,
      "metadata": {
        "colab": {
          "base_uri": "https://localhost:8080/"
        },
        "id": "qXCGRmKo9RJ-",
        "outputId": "50076094-02d9-4c63-9912-17baf93db57b"
      },
      "outputs": [
        {
          "data": {
            "text/plain": [
              "(2, 5376)"
            ]
          },
          "execution_count": 40,
          "metadata": {},
          "output_type": "execute_result"
        }
      ],
      "source": [
        "activations[1].shape"
      ]
    },
    {
      "cell_type": "markdown",
      "metadata": {
        "id": "cqPO4AIZC_-n"
      },
      "source": [
        "Here, the text and NER tags are loaded"
      ]
    },
    {
      "cell_type": "code",
      "execution_count": 41,
      "metadata": {
        "id": "oPfy5VQU9RJ-"
      },
      "outputs": [],
      "source": [
        "# load_data also does sanity checks for parallelism between tokens, labels and activations\n",
        "tokens = data_loader.load_data('train.tok',\n",
        "                               'train.ner',\n",
        "                               activations,\n",
        "                               512 # max_sent_l\n",
        "                              )"
      ]
    },
    {
      "cell_type": "code",
      "execution_count": 47,
      "metadata": {
        "id": "92SyMPr7DVTr"
      },
      "outputs": [],
      "source": [
        "# load validation text and tokens here\n",
        "valid_tokens = data_loader.load_data('validation.tok',\n",
        "                               'validation.ner',\n",
        "                               valid_activations,\n",
        "                               512 # max_sent_l\n",
        "                              )"
      ]
    },
    {
      "cell_type": "markdown",
      "metadata": {},
      "source": [
        "This creates tensors and mappings, which are used as input to the probes."
      ]
    },
    {
      "cell_type": "code",
      "execution_count": 49,
      "metadata": {
        "colab": {
          "base_uri": "https://localhost:8080/"
        },
        "id": "Xn5S8JzJ9RJ_",
        "outputId": "c9833ab8-4164-4346-b204-8e116746381c"
      },
      "outputs": [
        {
          "name": "stdout",
          "output_type": "stream",
          "text": [
            "Number of tokens:  29031\n",
            "length of source dictionary:  7020\n",
            "length of target dictionary:  9\n",
            "29031\n",
            "Total instances: 29031\n",
            "['Scorer', 'Social', 'RACING', 'promised', 'evacuated', 'second-seeded', 'weapon', 'scores', 'weighed', 'Sales', '2-1', 'writers', 'draft', 'audience', 'landed', 'Northamptonshire', 'steps', '6-7(3-7', 'risk', 'championships']\n",
            "Number of samples:  29031\n",
            "Stats: Labels with their frequencies in the final set\n",
            "O 23888\n",
            "B-ORG 656\n",
            "B-PER 1084\n",
            "I-LOC 152\n",
            "B-MISC 577\n",
            "I-ORG 428\n",
            "B-LOC 1255\n",
            "I-PER 791\n",
            "I-MISC 200\n"
          ]
        }
      ],
      "source": [
        "import neurox.interpretation.utils as utils\n",
        "X, y, mapping = utils.create_tensors(tokens, activations, 'NN', dtype='float16')\n",
        "label2idx, idx2label, src2idx, idx2src = mapping"
      ]
    },
    {
      "cell_type": "code",
      "execution_count": 55,
      "metadata": {
        "colab": {
          "base_uri": "https://localhost:8080/"
        },
        "id": "fns15s4e9RKA",
        "outputId": "8393e913-15a9-4ce0-dfea-6630ac604a30"
      },
      "outputs": [
        {
          "name": "stdout",
          "output_type": "stream",
          "text": [
            "Number of tokens:  2591\n",
            "length of source dictionary:  7020\n",
            "length of target dictionary:  9\n",
            "2591\n",
            "Total instances: 2591\n",
            "['471', '199', 'Medvedev', 'silence', 'U.S.', 'CAPTAIN', '31st', 'Africa', 'Glenn', '56', 'feel', '6-4', 'scores', '426', 'Test', 'CHAMPIONSHIP', 'taking', '372', '2-1', 'Northamptonshire']\n",
            "Number of samples:  2591\n",
            "Stats: Labels with their frequencies in the final set\n",
            "O 2022\n",
            "B-ORG 119\n",
            "B-PER 122\n",
            "I-LOC 24\n",
            "B-MISC 27\n",
            "I-ORG 20\n",
            "B-LOC 125\n",
            "I-PER 111\n",
            "I-MISC 21\n"
          ]
        },
        {
          "data": {
            "text/plain": [
              "array([-0.7524,  0.0982,  1.195 , ..., -0.523 ,  0.576 ,  0.1161],\n",
              "      dtype=float16)"
            ]
          },
          "execution_count": 55,
          "metadata": {},
          "output_type": "execute_result"
        }
      ],
      "source": [
        "X_valid, y_valid, mapping = utils.create_tensors(valid_tokens, valid_activations, 'NN', mappings=mapping, dtype='float16')\n",
        "X[0] #9984"
      ]
    },
    {
      "cell_type": "markdown",
      "metadata": {
        "id": "aLAmWM1K9RKA"
      },
      "source": [
        "# Train Probing Classifier"
      ]
    },
    {
      "cell_type": "code",
      "execution_count": 106,
      "metadata": {
        "colab": {
          "base_uri": "https://localhost:8080/"
        },
        "id": "bbMeDUAt9RKA",
        "outputId": "e45302a9-3d5a-4d24-cef3-e3ea8c0f1f04"
      },
      "outputs": [
        {
          "name": "stdout",
          "output_type": "stream",
          "text": [
            "Training classification probe\n",
            "Creating model...\n",
            "Number of training instances: 29031\n",
            "Number of classes: 9\n"
          ]
        },
        {
          "data": {
            "application/vnd.jupyter.widget-view+json": {
              "model_id": "bb91f8f282784ac88e0a21f3666772da",
              "version_major": 2,
              "version_minor": 0
            },
            "text/plain": [
              "epoch [1/10]: 0it [00:00, ?it/s]"
            ]
          },
          "metadata": {},
          "output_type": "display_data"
        },
        {
          "name": "stdout",
          "output_type": "stream",
          "text": [
            "Epoch: [1/10], Loss: 0.0149\n"
          ]
        },
        {
          "data": {
            "application/vnd.jupyter.widget-view+json": {
              "model_id": "634eaed732404897932c7a04ffb08264",
              "version_major": 2,
              "version_minor": 0
            },
            "text/plain": [
              "epoch [2/10]: 0it [00:00, ?it/s]"
            ]
          },
          "metadata": {},
          "output_type": "display_data"
        },
        {
          "name": "stdout",
          "output_type": "stream",
          "text": [
            "Epoch: [2/10], Loss: 0.0137\n"
          ]
        },
        {
          "data": {
            "application/vnd.jupyter.widget-view+json": {
              "model_id": "c2927bd942f648dca6beced60201c4be",
              "version_major": 2,
              "version_minor": 0
            },
            "text/plain": [
              "epoch [3/10]: 0it [00:00, ?it/s]"
            ]
          },
          "metadata": {},
          "output_type": "display_data"
        },
        {
          "name": "stdout",
          "output_type": "stream",
          "text": [
            "Epoch: [3/10], Loss: 0.0135\n"
          ]
        },
        {
          "data": {
            "application/vnd.jupyter.widget-view+json": {
              "model_id": "b50f32880cc7494cbb661760bb4a76dc",
              "version_major": 2,
              "version_minor": 0
            },
            "text/plain": [
              "epoch [4/10]: 0it [00:00, ?it/s]"
            ]
          },
          "metadata": {},
          "output_type": "display_data"
        },
        {
          "name": "stdout",
          "output_type": "stream",
          "text": [
            "Epoch: [4/10], Loss: 0.0134\n"
          ]
        },
        {
          "data": {
            "application/vnd.jupyter.widget-view+json": {
              "model_id": "76ab7faa96be48ffa84f7a55cf17a1ad",
              "version_major": 2,
              "version_minor": 0
            },
            "text/plain": [
              "epoch [5/10]: 0it [00:00, ?it/s]"
            ]
          },
          "metadata": {},
          "output_type": "display_data"
        },
        {
          "name": "stdout",
          "output_type": "stream",
          "text": [
            "Epoch: [5/10], Loss: 0.0133\n"
          ]
        },
        {
          "data": {
            "application/vnd.jupyter.widget-view+json": {
              "model_id": "840c160e10e646778fad5f8315de94da",
              "version_major": 2,
              "version_minor": 0
            },
            "text/plain": [
              "epoch [6/10]: 0it [00:00, ?it/s]"
            ]
          },
          "metadata": {},
          "output_type": "display_data"
        },
        {
          "name": "stdout",
          "output_type": "stream",
          "text": [
            "Epoch: [6/10], Loss: 0.0133\n"
          ]
        },
        {
          "data": {
            "application/vnd.jupyter.widget-view+json": {
              "model_id": "cee080cead784e209c3e6d016b050ab9",
              "version_major": 2,
              "version_minor": 0
            },
            "text/plain": [
              "epoch [7/10]: 0it [00:00, ?it/s]"
            ]
          },
          "metadata": {},
          "output_type": "display_data"
        },
        {
          "name": "stdout",
          "output_type": "stream",
          "text": [
            "Epoch: [7/10], Loss: 0.0133\n"
          ]
        },
        {
          "data": {
            "application/vnd.jupyter.widget-view+json": {
              "model_id": "444a322e506541038c6e0c3e15f008b8",
              "version_major": 2,
              "version_minor": 0
            },
            "text/plain": [
              "epoch [8/10]: 0it [00:00, ?it/s]"
            ]
          },
          "metadata": {},
          "output_type": "display_data"
        },
        {
          "name": "stdout",
          "output_type": "stream",
          "text": [
            "Epoch: [8/10], Loss: 0.0133\n"
          ]
        },
        {
          "data": {
            "application/vnd.jupyter.widget-view+json": {
              "model_id": "949e0c340ade45549c807a65237ff0b9",
              "version_major": 2,
              "version_minor": 0
            },
            "text/plain": [
              "epoch [9/10]: 0it [00:00, ?it/s]"
            ]
          },
          "metadata": {},
          "output_type": "display_data"
        },
        {
          "name": "stdout",
          "output_type": "stream",
          "text": [
            "Epoch: [9/10], Loss: 0.0132\n"
          ]
        },
        {
          "data": {
            "application/vnd.jupyter.widget-view+json": {
              "model_id": "d99001153e28431b82c8e8f2d18bd4c5",
              "version_major": 2,
              "version_minor": 0
            },
            "text/plain": [
              "epoch [10/10]: 0it [00:00, ?it/s]"
            ]
          },
          "metadata": {},
          "output_type": "display_data"
        },
        {
          "name": "stdout",
          "output_type": "stream",
          "text": [
            "Epoch: [10/10], Loss: 0.0132\n"
          ]
        }
      ],
      "source": [
        "import neurox.interpretation.linear_probe as linear_probe\n",
        "\n",
        "# check out the parameters of this method for default hyperparameters\n",
        "probe = linear_probe.train_logistic_regression_probe(X, y, lambda_l1=0.001, lambda_l2=0.001)"
      ]
    },
    {
      "cell_type": "markdown",
      "metadata": {
        "id": "09dPdFW29RKB"
      },
      "source": [
        "# Evaluate Model"
      ]
    },
    {
      "cell_type": "code",
      "execution_count": 54,
      "metadata": {
        "colab": {
          "base_uri": "https://localhost:8080/"
        },
        "id": "bXHAA_k39RKB",
        "outputId": "ef84ffec-52f6-4528-ef5d-651d43e7140b"
      },
      "outputs": [
        {
          "name": "stdout",
          "output_type": "stream",
          "text": [
            "Eval on training data:\n"
          ]
        },
        {
          "data": {
            "application/vnd.jupyter.widget-view+json": {
              "model_id": "309ca9d439e7411e8da5191705f4818e",
              "version_major": 2,
              "version_minor": 0
            },
            "text/plain": [
              "Evaluating: 0it [00:00, ?it/s]"
            ]
          },
          "metadata": {},
          "output_type": "display_data"
        },
        {
          "name": "stdout",
          "output_type": "stream",
          "text": [
            "Score (accuracy) of the probe: 0.94\n"
          ]
        },
        {
          "data": {
            "text/plain": [
              "{'__OVERALL__': 0.9425786228514347,\n",
              " 'O': 0.996483590087073,\n",
              " 'B-ORG': 0.29115853658536583,\n",
              " 'B-PER': 0.9575645756457565,\n",
              " 'I-LOC': 0.25,\n",
              " 'B-MISC': 0.6845753899480069,\n",
              " 'I-ORG': 0.29439252336448596,\n",
              " 'B-LOC': 0.7960159362549801,\n",
              " 'I-PER': 0.8470290771175727,\n",
              " 'I-MISC': 0.515}"
            ]
          },
          "execution_count": 54,
          "metadata": {},
          "output_type": "execute_result"
        }
      ],
      "source": [
        "print('Eval on training data:')\n",
        "linear_probe.evaluate_probe(probe, X, y, idx_to_class=idx2label)"
      ]
    },
    {
      "cell_type": "code",
      "execution_count": 101,
      "metadata": {},
      "outputs": [
        {
          "name": "stdout",
          "output_type": "stream",
          "text": [
            "Eval on validation data:\n"
          ]
        },
        {
          "data": {
            "application/vnd.jupyter.widget-view+json": {
              "model_id": "bb98c55dbcac4cb490fedb187d5a361d",
              "version_major": 2,
              "version_minor": 0
            },
            "text/plain": [
              "Evaluating: 0it [00:00, ?it/s]"
            ]
          },
          "metadata": {},
          "output_type": "display_data"
        },
        {
          "name": "stdout",
          "output_type": "stream",
          "text": [
            "Score (accuracy) of the probe: 0.93\n"
          ]
        },
        {
          "data": {
            "text/plain": [
              "{'__OVERALL__': 0.9293708992666924,\n",
              " 'O': 0.996538081107814,\n",
              " 'B-ORG': 0.36134453781512604,\n",
              " 'B-PER': 0.9836065573770492,\n",
              " 'I-LOC': 0.5,\n",
              " 'B-MISC': 0.5555555555555556,\n",
              " 'I-ORG': 0.15,\n",
              " 'B-LOC': 0.752,\n",
              " 'I-PER': 0.8558558558558559,\n",
              " 'I-MISC': 0.5238095238095238}"
            ]
          },
          "execution_count": 101,
          "metadata": {},
          "output_type": "execute_result"
        }
      ],
      "source": [
        "print('Eval on validation data:')\n",
        "scores = linear_probe.evaluate_probe(probe, X_valid, y_valid, idx_to_class=idx2label)\n",
        "scores"
      ]
    },
    {
      "cell_type": "markdown",
      "metadata": {
        "id": "fdhA-_Gr9RKC"
      },
      "source": [
        "# Layerwise probing"
      ]
    },
    {
      "cell_type": "code",
      "execution_count": 57,
      "metadata": {
        "id": "pxTADox59RKC"
      },
      "outputs": [],
      "source": [
        "# [layer0_neuron0, layer0_neuron1, layer0_neuron2 ...., layer1_neuron0, layer1_neuron1,....., layer13_neuron768]\n",
        "# [768,768,770...1536] <- for layer 1\n",
        "import neurox.interpretation.ablation as ablation"
      ]
    },
    {
      "cell_type": "markdown",
      "metadata": {
        "id": "2KUxtLNzEqdL"
      },
      "source": [
        "The following cell shows how to train and evaluate a probe on individual layers. In this case, the embedding layer, and two hidden layers"
      ]
    },
    {
      "cell_type": "code",
      "execution_count": 58,
      "metadata": {
        "colab": {
          "base_uri": "https://localhost:8080/"
        },
        "id": "yMdxhPog9RKC",
        "outputId": "f4d90d70-8c48-4f4f-ff9d-9bec7b2626e5"
      },
      "outputs": [
        {
          "name": "stdout",
          "output_type": "stream",
          "text": [
            "Training classification probe\n",
            "Creating model...\n",
            "Number of training instances: 29031\n",
            "Number of classes: 9\n"
          ]
        },
        {
          "data": {
            "application/vnd.jupyter.widget-view+json": {
              "model_id": "c8817f20b7ee4d76a355d09dc213cdfa",
              "version_major": 2,
              "version_minor": 0
            },
            "text/plain": [
              "epoch [1/10]: 0it [00:00, ?it/s]"
            ]
          },
          "metadata": {},
          "output_type": "display_data"
        },
        {
          "name": "stdout",
          "output_type": "stream",
          "text": [
            "Epoch: [1/10], Loss: 0.0200\n"
          ]
        },
        {
          "data": {
            "application/vnd.jupyter.widget-view+json": {
              "model_id": "5b361f9d68294b079020502dceb22a04",
              "version_major": 2,
              "version_minor": 0
            },
            "text/plain": [
              "epoch [2/10]: 0it [00:00, ?it/s]"
            ]
          },
          "metadata": {},
          "output_type": "display_data"
        },
        {
          "name": "stdout",
          "output_type": "stream",
          "text": [
            "Epoch: [2/10], Loss: 0.0152\n"
          ]
        },
        {
          "data": {
            "application/vnd.jupyter.widget-view+json": {
              "model_id": "0838563b850a43e781a5fa80187a8df8",
              "version_major": 2,
              "version_minor": 0
            },
            "text/plain": [
              "epoch [3/10]: 0it [00:00, ?it/s]"
            ]
          },
          "metadata": {},
          "output_type": "display_data"
        },
        {
          "name": "stdout",
          "output_type": "stream",
          "text": [
            "Epoch: [3/10], Loss: 0.0146\n"
          ]
        },
        {
          "data": {
            "application/vnd.jupyter.widget-view+json": {
              "model_id": "306e857e00cf4b099b408388217f9acd",
              "version_major": 2,
              "version_minor": 0
            },
            "text/plain": [
              "epoch [4/10]: 0it [00:00, ?it/s]"
            ]
          },
          "metadata": {},
          "output_type": "display_data"
        },
        {
          "name": "stdout",
          "output_type": "stream",
          "text": [
            "Epoch: [4/10], Loss: 0.0144\n"
          ]
        },
        {
          "data": {
            "application/vnd.jupyter.widget-view+json": {
              "model_id": "5b62e036ab8043efbb480d92c4a8a9e9",
              "version_major": 2,
              "version_minor": 0
            },
            "text/plain": [
              "epoch [5/10]: 0it [00:00, ?it/s]"
            ]
          },
          "metadata": {},
          "output_type": "display_data"
        },
        {
          "name": "stdout",
          "output_type": "stream",
          "text": [
            "Epoch: [5/10], Loss: 0.0142\n"
          ]
        },
        {
          "data": {
            "application/vnd.jupyter.widget-view+json": {
              "model_id": "29debfac0ba8497bb10d3b6a36fe8393",
              "version_major": 2,
              "version_minor": 0
            },
            "text/plain": [
              "epoch [6/10]: 0it [00:00, ?it/s]"
            ]
          },
          "metadata": {},
          "output_type": "display_data"
        },
        {
          "name": "stdout",
          "output_type": "stream",
          "text": [
            "Epoch: [6/10], Loss: 0.0141\n"
          ]
        },
        {
          "data": {
            "application/vnd.jupyter.widget-view+json": {
              "model_id": "bf36cfe602084a058688ed27a4bee6a9",
              "version_major": 2,
              "version_minor": 0
            },
            "text/plain": [
              "epoch [7/10]: 0it [00:00, ?it/s]"
            ]
          },
          "metadata": {},
          "output_type": "display_data"
        },
        {
          "name": "stdout",
          "output_type": "stream",
          "text": [
            "Epoch: [7/10], Loss: 0.0141\n"
          ]
        },
        {
          "data": {
            "application/vnd.jupyter.widget-view+json": {
              "model_id": "b6b9424d822a4336a1ea28cce2d4ae6f",
              "version_major": 2,
              "version_minor": 0
            },
            "text/plain": [
              "epoch [8/10]: 0it [00:00, ?it/s]"
            ]
          },
          "metadata": {},
          "output_type": "display_data"
        },
        {
          "name": "stdout",
          "output_type": "stream",
          "text": [
            "Epoch: [8/10], Loss: 0.0140\n"
          ]
        },
        {
          "data": {
            "application/vnd.jupyter.widget-view+json": {
              "model_id": "f5587dd4936e4e4683c522a045e37d16",
              "version_major": 2,
              "version_minor": 0
            },
            "text/plain": [
              "epoch [9/10]: 0it [00:00, ?it/s]"
            ]
          },
          "metadata": {},
          "output_type": "display_data"
        },
        {
          "name": "stdout",
          "output_type": "stream",
          "text": [
            "Epoch: [9/10], Loss: 0.0140\n"
          ]
        },
        {
          "data": {
            "application/vnd.jupyter.widget-view+json": {
              "model_id": "646b85d29b024bc28ea21c206bdcdb4f",
              "version_major": 2,
              "version_minor": 0
            },
            "text/plain": [
              "epoch [10/10]: 0it [00:00, ?it/s]"
            ]
          },
          "metadata": {},
          "output_type": "display_data"
        },
        {
          "name": "stdout",
          "output_type": "stream",
          "text": [
            "Epoch: [10/10], Loss: 0.0139\n"
          ]
        },
        {
          "data": {
            "application/vnd.jupyter.widget-view+json": {
              "model_id": "002b2327653844cc8d2fe3e3654eb6c2",
              "version_major": 2,
              "version_minor": 0
            },
            "text/plain": [
              "Evaluating: 0it [00:00, ?it/s]"
            ]
          },
          "metadata": {},
          "output_type": "display_data"
        },
        {
          "name": "stdout",
          "output_type": "stream",
          "text": [
            "Score (accuracy) of the probe: 0.90\n"
          ]
        },
        {
          "data": {
            "application/vnd.jupyter.widget-view+json": {
              "model_id": "53aac54e842043958e36db933c2e6416",
              "version_major": 2,
              "version_minor": 0
            },
            "text/plain": [
              "Evaluating: 0it [00:00, ?it/s]"
            ]
          },
          "metadata": {},
          "output_type": "display_data"
        },
        {
          "name": "stdout",
          "output_type": "stream",
          "text": [
            "Score (accuracy) of the probe: 0.88\n",
            "Training classification probe\n",
            "Creating model...\n",
            "Number of training instances: 29031\n",
            "Number of classes: 9\n"
          ]
        },
        {
          "data": {
            "application/vnd.jupyter.widget-view+json": {
              "model_id": "4c5286001df04a478b32ff4b69638d2f",
              "version_major": 2,
              "version_minor": 0
            },
            "text/plain": [
              "epoch [1/10]: 0it [00:00, ?it/s]"
            ]
          },
          "metadata": {},
          "output_type": "display_data"
        },
        {
          "name": "stdout",
          "output_type": "stream",
          "text": [
            "Epoch: [1/10], Loss: 0.0142\n"
          ]
        },
        {
          "data": {
            "application/vnd.jupyter.widget-view+json": {
              "model_id": "7732c1e180ef439dae56a42f7d75a921",
              "version_major": 2,
              "version_minor": 0
            },
            "text/plain": [
              "epoch [2/10]: 0it [00:00, ?it/s]"
            ]
          },
          "metadata": {},
          "output_type": "display_data"
        },
        {
          "name": "stdout",
          "output_type": "stream",
          "text": [
            "Epoch: [2/10], Loss: 0.0107\n"
          ]
        },
        {
          "data": {
            "application/vnd.jupyter.widget-view+json": {
              "model_id": "33a4fe14bad6486aa3b66c4e1d99439b",
              "version_major": 2,
              "version_minor": 0
            },
            "text/plain": [
              "epoch [3/10]: 0it [00:00, ?it/s]"
            ]
          },
          "metadata": {},
          "output_type": "display_data"
        },
        {
          "name": "stdout",
          "output_type": "stream",
          "text": [
            "Epoch: [3/10], Loss: 0.0103\n"
          ]
        },
        {
          "data": {
            "application/vnd.jupyter.widget-view+json": {
              "model_id": "570990eac57241378a877521b5302d05",
              "version_major": 2,
              "version_minor": 0
            },
            "text/plain": [
              "epoch [4/10]: 0it [00:00, ?it/s]"
            ]
          },
          "metadata": {},
          "output_type": "display_data"
        },
        {
          "name": "stdout",
          "output_type": "stream",
          "text": [
            "Epoch: [4/10], Loss: 0.0101\n"
          ]
        },
        {
          "data": {
            "application/vnd.jupyter.widget-view+json": {
              "model_id": "1c7988f2354c4d4788a9e9475d7403c3",
              "version_major": 2,
              "version_minor": 0
            },
            "text/plain": [
              "epoch [5/10]: 0it [00:00, ?it/s]"
            ]
          },
          "metadata": {},
          "output_type": "display_data"
        },
        {
          "name": "stdout",
          "output_type": "stream",
          "text": [
            "Epoch: [5/10], Loss: 0.0100\n"
          ]
        },
        {
          "data": {
            "application/vnd.jupyter.widget-view+json": {
              "model_id": "a01592d4b2204cfba346962b80c1e287",
              "version_major": 2,
              "version_minor": 0
            },
            "text/plain": [
              "epoch [6/10]: 0it [00:00, ?it/s]"
            ]
          },
          "metadata": {},
          "output_type": "display_data"
        },
        {
          "name": "stdout",
          "output_type": "stream",
          "text": [
            "Epoch: [6/10], Loss: 0.0099\n"
          ]
        },
        {
          "data": {
            "application/vnd.jupyter.widget-view+json": {
              "model_id": "59e0064dc5bf40498436ccbd5bf978e7",
              "version_major": 2,
              "version_minor": 0
            },
            "text/plain": [
              "epoch [7/10]: 0it [00:00, ?it/s]"
            ]
          },
          "metadata": {},
          "output_type": "display_data"
        },
        {
          "name": "stdout",
          "output_type": "stream",
          "text": [
            "Epoch: [7/10], Loss: 0.0099\n"
          ]
        },
        {
          "data": {
            "application/vnd.jupyter.widget-view+json": {
              "model_id": "1eafffdde44344af839f4d98f2e7ec04",
              "version_major": 2,
              "version_minor": 0
            },
            "text/plain": [
              "epoch [8/10]: 0it [00:00, ?it/s]"
            ]
          },
          "metadata": {},
          "output_type": "display_data"
        },
        {
          "name": "stdout",
          "output_type": "stream",
          "text": [
            "Epoch: [8/10], Loss: 0.0098\n"
          ]
        },
        {
          "data": {
            "application/vnd.jupyter.widget-view+json": {
              "model_id": "2ebbf7e8fa3643daa59629c2df87462f",
              "version_major": 2,
              "version_minor": 0
            },
            "text/plain": [
              "epoch [9/10]: 0it [00:00, ?it/s]"
            ]
          },
          "metadata": {},
          "output_type": "display_data"
        },
        {
          "name": "stdout",
          "output_type": "stream",
          "text": [
            "Epoch: [9/10], Loss: 0.0098\n"
          ]
        },
        {
          "data": {
            "application/vnd.jupyter.widget-view+json": {
              "model_id": "7cf8a955ea4149cf8a920849cde0067d",
              "version_major": 2,
              "version_minor": 0
            },
            "text/plain": [
              "epoch [10/10]: 0it [00:00, ?it/s]"
            ]
          },
          "metadata": {},
          "output_type": "display_data"
        },
        {
          "name": "stdout",
          "output_type": "stream",
          "text": [
            "Epoch: [10/10], Loss: 0.0098\n"
          ]
        },
        {
          "data": {
            "application/vnd.jupyter.widget-view+json": {
              "model_id": "fecfe37d543847c0a07145248a4f932e",
              "version_major": 2,
              "version_minor": 0
            },
            "text/plain": [
              "Evaluating: 0it [00:00, ?it/s]"
            ]
          },
          "metadata": {},
          "output_type": "display_data"
        },
        {
          "name": "stdout",
          "output_type": "stream",
          "text": [
            "Score (accuracy) of the probe: 0.94\n"
          ]
        },
        {
          "data": {
            "application/vnd.jupyter.widget-view+json": {
              "model_id": "c6a813a4ba7b49518a11e9c113b4a7bf",
              "version_major": 2,
              "version_minor": 0
            },
            "text/plain": [
              "Evaluating: 0it [00:00, ?it/s]"
            ]
          },
          "metadata": {},
          "output_type": "display_data"
        },
        {
          "name": "stdout",
          "output_type": "stream",
          "text": [
            "Score (accuracy) of the probe: 0.93\n",
            "Training classification probe\n",
            "Creating model...\n",
            "Number of training instances: 29031\n",
            "Number of classes: 9\n"
          ]
        },
        {
          "data": {
            "application/vnd.jupyter.widget-view+json": {
              "model_id": "1fe2c2b1c96149c3aef580cd4eb38a80",
              "version_major": 2,
              "version_minor": 0
            },
            "text/plain": [
              "epoch [1/10]: 0it [00:00, ?it/s]"
            ]
          },
          "metadata": {},
          "output_type": "display_data"
        },
        {
          "name": "stdout",
          "output_type": "stream",
          "text": [
            "Epoch: [1/10], Loss: 0.0124\n"
          ]
        },
        {
          "data": {
            "application/vnd.jupyter.widget-view+json": {
              "model_id": "24fa70cda0d14532b7c6973da1f197af",
              "version_major": 2,
              "version_minor": 0
            },
            "text/plain": [
              "epoch [2/10]: 0it [00:00, ?it/s]"
            ]
          },
          "metadata": {},
          "output_type": "display_data"
        },
        {
          "name": "stdout",
          "output_type": "stream",
          "text": [
            "Epoch: [2/10], Loss: 0.0093\n"
          ]
        },
        {
          "data": {
            "application/vnd.jupyter.widget-view+json": {
              "model_id": "05bca358f1b44ced834bf42d09a0563c",
              "version_major": 2,
              "version_minor": 0
            },
            "text/plain": [
              "epoch [3/10]: 0it [00:00, ?it/s]"
            ]
          },
          "metadata": {},
          "output_type": "display_data"
        },
        {
          "name": "stdout",
          "output_type": "stream",
          "text": [
            "Epoch: [3/10], Loss: 0.0089\n"
          ]
        },
        {
          "data": {
            "application/vnd.jupyter.widget-view+json": {
              "model_id": "c7f20a3f1ffb4e90905b63025fddb237",
              "version_major": 2,
              "version_minor": 0
            },
            "text/plain": [
              "epoch [4/10]: 0it [00:00, ?it/s]"
            ]
          },
          "metadata": {},
          "output_type": "display_data"
        },
        {
          "name": "stdout",
          "output_type": "stream",
          "text": [
            "Epoch: [4/10], Loss: 0.0087\n"
          ]
        },
        {
          "data": {
            "application/vnd.jupyter.widget-view+json": {
              "model_id": "7eb4522a25b6487784d07bae1ee28ba9",
              "version_major": 2,
              "version_minor": 0
            },
            "text/plain": [
              "epoch [5/10]: 0it [00:00, ?it/s]"
            ]
          },
          "metadata": {},
          "output_type": "display_data"
        },
        {
          "name": "stdout",
          "output_type": "stream",
          "text": [
            "Epoch: [5/10], Loss: 0.0086\n"
          ]
        },
        {
          "data": {
            "application/vnd.jupyter.widget-view+json": {
              "model_id": "f76b5ea185c64ba3aaac7d6fe6b7c99e",
              "version_major": 2,
              "version_minor": 0
            },
            "text/plain": [
              "epoch [6/10]: 0it [00:00, ?it/s]"
            ]
          },
          "metadata": {},
          "output_type": "display_data"
        },
        {
          "name": "stdout",
          "output_type": "stream",
          "text": [
            "Epoch: [6/10], Loss: 0.0086\n"
          ]
        },
        {
          "data": {
            "application/vnd.jupyter.widget-view+json": {
              "model_id": "69a20ced8126471fa9833b82c968189e",
              "version_major": 2,
              "version_minor": 0
            },
            "text/plain": [
              "epoch [7/10]: 0it [00:00, ?it/s]"
            ]
          },
          "metadata": {},
          "output_type": "display_data"
        },
        {
          "name": "stdout",
          "output_type": "stream",
          "text": [
            "Epoch: [7/10], Loss: 0.0086\n"
          ]
        },
        {
          "data": {
            "application/vnd.jupyter.widget-view+json": {
              "model_id": "aadb7dd4f1c145dcb0e4a6c69ba9b6fc",
              "version_major": 2,
              "version_minor": 0
            },
            "text/plain": [
              "epoch [8/10]: 0it [00:00, ?it/s]"
            ]
          },
          "metadata": {},
          "output_type": "display_data"
        },
        {
          "name": "stdout",
          "output_type": "stream",
          "text": [
            "Epoch: [8/10], Loss: 0.0085\n"
          ]
        },
        {
          "data": {
            "application/vnd.jupyter.widget-view+json": {
              "model_id": "93f52796fefd4d9b86616e928ced246d",
              "version_major": 2,
              "version_minor": 0
            },
            "text/plain": [
              "epoch [9/10]: 0it [00:00, ?it/s]"
            ]
          },
          "metadata": {},
          "output_type": "display_data"
        },
        {
          "name": "stdout",
          "output_type": "stream",
          "text": [
            "Epoch: [9/10], Loss: 0.0085\n"
          ]
        },
        {
          "data": {
            "application/vnd.jupyter.widget-view+json": {
              "model_id": "59f8ec682bef4c36a0bce5b5b3f18bbe",
              "version_major": 2,
              "version_minor": 0
            },
            "text/plain": [
              "epoch [10/10]: 0it [00:00, ?it/s]"
            ]
          },
          "metadata": {},
          "output_type": "display_data"
        },
        {
          "name": "stdout",
          "output_type": "stream",
          "text": [
            "Epoch: [10/10], Loss: 0.0085\n"
          ]
        },
        {
          "data": {
            "application/vnd.jupyter.widget-view+json": {
              "model_id": "970077148bb54faf8bcc46862f28528a",
              "version_major": 2,
              "version_minor": 0
            },
            "text/plain": [
              "Evaluating: 0it [00:00, ?it/s]"
            ]
          },
          "metadata": {},
          "output_type": "display_data"
        },
        {
          "name": "stdout",
          "output_type": "stream",
          "text": [
            "Score (accuracy) of the probe: 0.96\n"
          ]
        },
        {
          "data": {
            "application/vnd.jupyter.widget-view+json": {
              "model_id": "fa278ded0c834e2ca88e34b41f7c86d9",
              "version_major": 2,
              "version_minor": 0
            },
            "text/plain": [
              "Evaluating: 0it [00:00, ?it/s]"
            ]
          },
          "metadata": {},
          "output_type": "display_data"
        },
        {
          "name": "stdout",
          "output_type": "stream",
          "text": [
            "Score (accuracy) of the probe: 0.95\n"
          ]
        }
      ],
      "source": [
        "layers_to_evaluate = [0,2,4]\n",
        "train_results = []\n",
        "valid_results = []\n",
        "for layer in layers_to_evaluate:\n",
        "    layer_l_X = ablation.filter_activations_by_layers(X, [layer], 7)\n",
        "    layer_l_X_valid = ablation.filter_activations_by_layers(X_valid, [layer], 7)\n",
        "    probe_layer_l = linear_probe.train_logistic_regression_probe(layer_l_X, y, lambda_l1=0.001, lambda_l2=0.001)\n",
        "    train_results.append(linear_probe.evaluate_probe(probe_layer_l, layer_l_X, y, idx_to_class=idx2label))\n",
        "    valid_results.append(linear_probe.evaluate_probe(probe_layer_l, layer_l_X_valid, y_valid, idx_to_class=idx2label))"
      ]
    },
    {
      "cell_type": "code",
      "execution_count": 66,
      "metadata": {},
      "outputs": [
        {
          "name": "stdout",
          "output_type": "stream",
          "text": [
            "Layer     :  0      2      4\n",
            "Train acc.:  0.89   0.94   0.95\n",
            "Valid acc.:  0.88   0.93   0.94\n"
          ]
        }
      ],
      "source": [
        "print('Layer     : ', '      '.join([str(l) for l in layers_to_evaluate]))\n",
        "print('Train acc.: ','   '.join([str(l['__OVERALL__'])[:4] for l in train_results]))\n",
        "print('Valid acc.: ','   '.join([str(l['__OVERALL__'])[:4] for l in valid_results]))\n"
      ]
    },
    {
      "cell_type": "markdown",
      "metadata": {
        "id": "CRS1jF8Q9RKD"
      },
      "source": [
        "# Get Neuron Ranking"
      ]
    },
    {
      "cell_type": "markdown",
      "metadata": {
        "id": "zMmu0gBuFm0i"
      },
      "source": [
        "The following code snippets creates a ranking of all neurons (of all dimensions of the representation). Then, a probing classifier is trained on only the neurons that are most salient according to the ranking algorithm. \n"
      ]
    },
    {
      "cell_type": "code",
      "execution_count": 69,
      "metadata": {
        "colab": {
          "base_uri": "https://localhost:8080/"
        },
        "id": "4Yq8AF589RKD",
        "outputId": "754ca1d6-a905-4f30-c07f-51ee111b2fed"
      },
      "outputs": [
        {
          "data": {
            "application/vnd.jupyter.widget-view+json": {
              "model_id": "76a6c2cfd3a34f2dac3a50776e7ffd15",
              "version_major": 2,
              "version_minor": 0
            },
            "text/plain": [
              "  0%|          | 0/101 [00:00<?, ?it/s]"
            ]
          },
          "metadata": {},
          "output_type": "display_data"
        }
      ],
      "source": [
        "ordering, cutoffs = linear_probe.get_neuron_ordering(probe, label2idx)"
      ]
    },
    {
      "cell_type": "code",
      "execution_count": 107,
      "metadata": {
        "colab": {
          "base_uri": "https://localhost:8080/"
        },
        "id": "nBJyGiRs9RKD",
        "outputId": "228db118-1393-4635-a4be-299ecbc6c37e"
      },
      "outputs": [
        {
          "data": {
            "text/plain": [
              "[3489,\n",
              " 3746,\n",
              " 2590,\n",
              " 584,\n",
              " 3113,\n",
              " 3438,\n",
              " 3442,\n",
              " 3357,\n",
              " 4094,\n",
              " 3681,\n",
              " 3618,\n",
              " 2435,\n",
              " 3593,\n",
              " 4330,\n",
              " 3254,\n",
              " 3326,\n",
              " 4099,\n",
              " 867,\n",
              " 1544,\n",
              " 3176]"
            ]
          },
          "execution_count": 107,
          "metadata": {},
          "output_type": "execute_result"
        }
      ],
      "source": [
        "ordering[:20]"
      ]
    },
    {
      "cell_type": "markdown",
      "metadata": {
        "id": "CkQefR7h9RKE"
      },
      "source": [
        "# Train on top N neurons"
      ]
    },
    {
      "cell_type": "code",
      "execution_count": 79,
      "metadata": {},
      "outputs": [],
      "source": [
        "N=20"
      ]
    },
    {
      "cell_type": "code",
      "execution_count": 74,
      "metadata": {
        "id": "Bvn_N6Be9RKE"
      },
      "outputs": [],
      "source": [
        "X_selected = ablation.filter_activations_keep_neurons(X, ordering[:N])\n",
        "X_selected_valid = ablation.filter_activations_keep_neurons(X_valid, ordering[:N])"
      ]
    },
    {
      "cell_type": "code",
      "execution_count": 72,
      "metadata": {
        "colab": {
          "base_uri": "https://localhost:8080/"
        },
        "id": "NGuKZstU9RKE",
        "outputId": "60e07b26-c23a-49dd-c0b2-0b5f1a2b6fff"
      },
      "outputs": [
        {
          "data": {
            "text/plain": [
              "(29031, 20)"
            ]
          },
          "execution_count": 72,
          "metadata": {},
          "output_type": "execute_result"
        }
      ],
      "source": [
        "X_selected.shape"
      ]
    },
    {
      "cell_type": "code",
      "execution_count": 73,
      "metadata": {
        "colab": {
          "base_uri": "https://localhost:8080/"
        },
        "id": "YlMB8PrT9RKF",
        "outputId": "baa5086b-da51-4e0a-f64d-c3812afa0aad"
      },
      "outputs": [
        {
          "name": "stdout",
          "output_type": "stream",
          "text": [
            "Training classification probe\n",
            "Creating model...\n",
            "Number of training instances: 29031\n",
            "Number of classes: 9\n"
          ]
        },
        {
          "data": {
            "application/vnd.jupyter.widget-view+json": {
              "model_id": "8f9dace5871f4eab87c2d24a8a41927f",
              "version_major": 2,
              "version_minor": 0
            },
            "text/plain": [
              "epoch [1/10]: 0it [00:00, ?it/s]"
            ]
          },
          "metadata": {},
          "output_type": "display_data"
        },
        {
          "name": "stdout",
          "output_type": "stream",
          "text": [
            "Epoch: [1/10], Loss: 0.0436\n"
          ]
        },
        {
          "data": {
            "application/vnd.jupyter.widget-view+json": {
              "model_id": "311068405ada40a18894a5392d6aab9c",
              "version_major": 2,
              "version_minor": 0
            },
            "text/plain": [
              "epoch [2/10]: 0it [00:00, ?it/s]"
            ]
          },
          "metadata": {},
          "output_type": "display_data"
        },
        {
          "name": "stdout",
          "output_type": "stream",
          "text": [
            "Epoch: [2/10], Loss: 0.0258\n"
          ]
        },
        {
          "data": {
            "application/vnd.jupyter.widget-view+json": {
              "model_id": "92a521c19e2b4efc9789b231dd62765a",
              "version_major": 2,
              "version_minor": 0
            },
            "text/plain": [
              "epoch [3/10]: 0it [00:00, ?it/s]"
            ]
          },
          "metadata": {},
          "output_type": "display_data"
        },
        {
          "name": "stdout",
          "output_type": "stream",
          "text": [
            "Epoch: [3/10], Loss: 0.0215\n"
          ]
        },
        {
          "data": {
            "application/vnd.jupyter.widget-view+json": {
              "model_id": "048e54d187464b6b99dac8c1aea0ebb7",
              "version_major": 2,
              "version_minor": 0
            },
            "text/plain": [
              "epoch [4/10]: 0it [00:00, ?it/s]"
            ]
          },
          "metadata": {},
          "output_type": "display_data"
        },
        {
          "name": "stdout",
          "output_type": "stream",
          "text": [
            "Epoch: [4/10], Loss: 0.0195\n"
          ]
        },
        {
          "data": {
            "application/vnd.jupyter.widget-view+json": {
              "model_id": "96e7d653619d497b9b6da23a78fd40e4",
              "version_major": 2,
              "version_minor": 0
            },
            "text/plain": [
              "epoch [5/10]: 0it [00:00, ?it/s]"
            ]
          },
          "metadata": {},
          "output_type": "display_data"
        },
        {
          "name": "stdout",
          "output_type": "stream",
          "text": [
            "Epoch: [5/10], Loss: 0.0185\n"
          ]
        },
        {
          "data": {
            "application/vnd.jupyter.widget-view+json": {
              "model_id": "66ac06507fcd415b844053382405109d",
              "version_major": 2,
              "version_minor": 0
            },
            "text/plain": [
              "epoch [6/10]: 0it [00:00, ?it/s]"
            ]
          },
          "metadata": {},
          "output_type": "display_data"
        },
        {
          "name": "stdout",
          "output_type": "stream",
          "text": [
            "Epoch: [6/10], Loss: 0.0180\n"
          ]
        },
        {
          "data": {
            "application/vnd.jupyter.widget-view+json": {
              "model_id": "0828c5803b454f8d9c9f2c7c65e1655d",
              "version_major": 2,
              "version_minor": 0
            },
            "text/plain": [
              "epoch [7/10]: 0it [00:00, ?it/s]"
            ]
          },
          "metadata": {},
          "output_type": "display_data"
        },
        {
          "name": "stdout",
          "output_type": "stream",
          "text": [
            "Epoch: [7/10], Loss: 0.0176\n"
          ]
        },
        {
          "data": {
            "application/vnd.jupyter.widget-view+json": {
              "model_id": "4b508a6bd0774d0ab8ae7125b702e361",
              "version_major": 2,
              "version_minor": 0
            },
            "text/plain": [
              "epoch [8/10]: 0it [00:00, ?it/s]"
            ]
          },
          "metadata": {},
          "output_type": "display_data"
        },
        {
          "name": "stdout",
          "output_type": "stream",
          "text": [
            "Epoch: [8/10], Loss: 0.0174\n"
          ]
        },
        {
          "data": {
            "application/vnd.jupyter.widget-view+json": {
              "model_id": "71a12b9bcb0546059ba4faade7a52d89",
              "version_major": 2,
              "version_minor": 0
            },
            "text/plain": [
              "epoch [9/10]: 0it [00:00, ?it/s]"
            ]
          },
          "metadata": {},
          "output_type": "display_data"
        },
        {
          "name": "stdout",
          "output_type": "stream",
          "text": [
            "Epoch: [9/10], Loss: 0.0173\n"
          ]
        },
        {
          "data": {
            "application/vnd.jupyter.widget-view+json": {
              "model_id": "23aa737a75604b49926742dab7d41274",
              "version_major": 2,
              "version_minor": 0
            },
            "text/plain": [
              "epoch [10/10]: 0it [00:00, ?it/s]"
            ]
          },
          "metadata": {},
          "output_type": "display_data"
        },
        {
          "name": "stdout",
          "output_type": "stream",
          "text": [
            "Epoch: [10/10], Loss: 0.0172\n"
          ]
        }
      ],
      "source": [
        "probe_selected = linear_probe.train_logistic_regression_probe(X_selected, y, lambda_l1=0.001, lambda_l2=0.001)"
      ]
    },
    {
      "cell_type": "code",
      "execution_count": 76,
      "metadata": {
        "colab": {
          "base_uri": "https://localhost:8080/"
        },
        "id": "4ppBOfZo9RKF",
        "outputId": "7be1a680-d011-45e3-82ac-66922a05a582"
      },
      "outputs": [
        {
          "name": "stdout",
          "output_type": "stream",
          "text": [
            "Acc. on training data: \n"
          ]
        },
        {
          "data": {
            "application/vnd.jupyter.widget-view+json": {
              "model_id": "3b1466bad60b4656bfd24bcc492c55dc",
              "version_major": 2,
              "version_minor": 0
            },
            "text/plain": [
              "Evaluating: 0it [00:00, ?it/s]"
            ]
          },
          "metadata": {},
          "output_type": "display_data"
        },
        {
          "name": "stdout",
          "output_type": "stream",
          "text": [
            "Score (accuracy) of the probe: 0.86\n"
          ]
        },
        {
          "data": {
            "text/plain": [
              "{'__OVERALL__': 0.8557404154180015,\n",
              " 'O': 0.9938044206296048,\n",
              " 'B-ORG': 0.051829268292682924,\n",
              " 'B-PER': 0.25830258302583026,\n",
              " 'I-LOC': 0.03289473684210526,\n",
              " 'B-MISC': 0.21837088388214904,\n",
              " 'I-ORG': 0.007009345794392523,\n",
              " 'B-LOC': 0.38326693227091635,\n",
              " 'I-PER': 0.21997471554993678,\n",
              " 'I-MISC': 0.0}"
            ]
          },
          "execution_count": 76,
          "metadata": {},
          "output_type": "execute_result"
        }
      ],
      "source": [
        "print('Acc. on training data: ')\n",
        "linear_probe.evaluate_probe(probe_selected, X_selected, y, idx_to_class=idx2label)"
      ]
    },
    {
      "cell_type": "code",
      "execution_count": 78,
      "metadata": {},
      "outputs": [
        {
          "name": "stdout",
          "output_type": "stream",
          "text": [
            "Acc. on validation data: \n"
          ]
        },
        {
          "data": {
            "application/vnd.jupyter.widget-view+json": {
              "model_id": "015702487e0143f0bf222fa5c3d251d3",
              "version_major": 2,
              "version_minor": 0
            },
            "text/plain": [
              "Evaluating: 0it [00:00, ?it/s]"
            ]
          },
          "metadata": {},
          "output_type": "display_data"
        },
        {
          "name": "stdout",
          "output_type": "stream",
          "text": [
            "Score (accuracy) of the probe: 0.82\n"
          ]
        },
        {
          "data": {
            "text/plain": [
              "{'__OVERALL__': 0.8189888074102664,\n",
              " 'O': 0.9945598417408507,\n",
              " 'B-ORG': 0.025210084033613446,\n",
              " 'B-PER': 0.2540983606557377,\n",
              " 'I-LOC': 0.0,\n",
              " 'B-MISC': 0.07407407407407407,\n",
              " 'I-ORG': 0.0,\n",
              " 'B-LOC': 0.4,\n",
              " 'I-PER': 0.22522522522522523,\n",
              " 'I-MISC': 0.0}"
            ]
          },
          "execution_count": 78,
          "metadata": {},
          "output_type": "execute_result"
        }
      ],
      "source": [
        "print('Acc. on validation data: ')\n",
        "linear_probe.evaluate_probe(probe_selected, X_selected_valid, y_valid, idx_to_class=idx2label)"
      ]
    },
    {
      "cell_type": "markdown",
      "metadata": {},
      "source": [
        "# Control task\n",
        "\n",
        "Implementation of the sequence labeling control task as described by [Hewitt and Liang (2019)](https://aclanthology.org/D19-1275.pdf).\n",
        "The control task is used to assess the selectivity of a probe. Selectivity is the performance difference between the probe and performance on a control task with random, word-based labels. It quantifies how well a probe memorizes the task based on word types. "
      ]
    },
    {
      "cell_type": "code",
      "execution_count": 91,
      "metadata": {},
      "outputs": [],
      "source": [
        "import neurox.data.control_task as ct\n",
        "import neurox.interpretation.utils as utils"
      ]
    },
    {
      "cell_type": "code",
      "execution_count": 95,
      "metadata": {},
      "outputs": [],
      "source": [
        "# prepare control task labels based on the training data\n",
        "[ct_tokens, ct_valid_tokens] = ct.create_sequence_labeling_dataset(tokens, dev_source=valid_tokens['source'], sample_from='uniform')"
      ]
    },
    {
      "cell_type": "code",
      "execution_count": 108,
      "metadata": {},
      "outputs": [
        {
          "name": "stdout",
          "output_type": "stream",
          "text": [
            "['EU/7', 'rejects/2', 'German/1', 'call/4', 'to/3', 'boycott/3', 'British/4', 'lamb/6', './6']\n"
          ]
        }
      ],
      "source": [
        "# example from the dataset: \n",
        "print([s+'/'+str(t) for s,t in zip(ct_tokens['source'][0], ct_tokens['target'][0])])"
      ]
    },
    {
      "cell_type": "code",
      "execution_count": 99,
      "metadata": {},
      "outputs": [
        {
          "name": "stdout",
          "output_type": "stream",
          "text": [
            "Number of tokens:  29031\n",
            "length of source dictionary:  7020\n",
            "length of target dictionary:  9\n",
            "29031\n",
            "Total instances: 29031\n",
            "['Scorer', 'Social', 'RACING', 'promised', 'evacuated', 'second-seeded', 'weapon', 'scores', 'weighed', 'Sales', '2-1', 'writers', 'draft', 'audience', 'landed', 'Northamptonshire', 'steps', '6-7(3-7', 'risk', 'championships']\n",
            "Number of samples:  29031\n",
            "Stats: Labels with their frequencies in the final set\n",
            "0 2636\n",
            "1 3500\n",
            "2 2300\n",
            "3 3954\n",
            "4 2954\n",
            "5 4461\n",
            "6 3275\n",
            "7 3518\n",
            "8 2433\n",
            "Number of tokens:  2591\n",
            "length of source dictionary:  7020\n",
            "length of target dictionary:  9\n",
            "2591\n",
            "Total instances: 2591\n",
            "['471', '199', 'Medvedev', 'silence', 'U.S.', 'CAPTAIN', '31st', 'Africa', 'Glenn', '56', 'feel', '6-4', 'scores', '426', 'Test', 'CHAMPIONSHIP', 'taking', '372', '2-1', 'Northamptonshire']\n",
            "Number of samples:  2591\n",
            "Stats: Labels with their frequencies in the final set\n",
            "0 250\n",
            "1 235\n",
            "2 207\n",
            "3 395\n",
            "4 265\n",
            "5 338\n",
            "6 311\n",
            "7 386\n",
            "8 204\n"
          ]
        }
      ],
      "source": [
        "# control task tensors\n",
        "X_ct, y_ct, mapping_ct = utils.create_tensors(ct_tokens, activations, 'NN')\n",
        "label2idx_ct, idx2label_ct, src2idx_ct, idx2src_ct = mapping_ct\n",
        "X_valid_ct, y_valid_ct, mapping_ct = utils.create_tensors(ct_valid_tokens, valid_activations, 'NN', mappings=mapping_ct)"
      ]
    },
    {
      "cell_type": "code",
      "execution_count": 100,
      "metadata": {},
      "outputs": [
        {
          "name": "stdout",
          "output_type": "stream",
          "text": [
            "Training classification probe\n",
            "Creating model...\n",
            "Number of training instances: 29031\n",
            "Number of classes: 9\n"
          ]
        },
        {
          "data": {
            "application/vnd.jupyter.widget-view+json": {
              "model_id": "fb4f64a4da234648888201bf9f0229ab",
              "version_major": 2,
              "version_minor": 0
            },
            "text/plain": [
              "epoch [1/10]: 0it [00:00, ?it/s]"
            ]
          },
          "metadata": {},
          "output_type": "display_data"
        },
        {
          "name": "stdout",
          "output_type": "stream",
          "text": [
            "Epoch: [1/10], Loss: 0.0565\n"
          ]
        },
        {
          "data": {
            "application/vnd.jupyter.widget-view+json": {
              "model_id": "3858f6266a004eb4b56b1a40c8a8de96",
              "version_major": 2,
              "version_minor": 0
            },
            "text/plain": [
              "epoch [2/10]: 0it [00:00, ?it/s]"
            ]
          },
          "metadata": {},
          "output_type": "display_data"
        },
        {
          "name": "stdout",
          "output_type": "stream",
          "text": [
            "Epoch: [2/10], Loss: 0.0539\n"
          ]
        },
        {
          "data": {
            "application/vnd.jupyter.widget-view+json": {
              "model_id": "e472a13b1be640239a5fe277a2c4bf6a",
              "version_major": 2,
              "version_minor": 0
            },
            "text/plain": [
              "epoch [3/10]: 0it [00:00, ?it/s]"
            ]
          },
          "metadata": {},
          "output_type": "display_data"
        },
        {
          "name": "stdout",
          "output_type": "stream",
          "text": [
            "Epoch: [3/10], Loss: 0.0531\n"
          ]
        },
        {
          "data": {
            "application/vnd.jupyter.widget-view+json": {
              "model_id": "8ffd1d85b7af46468565963e3bc699b1",
              "version_major": 2,
              "version_minor": 0
            },
            "text/plain": [
              "epoch [4/10]: 0it [00:00, ?it/s]"
            ]
          },
          "metadata": {},
          "output_type": "display_data"
        },
        {
          "name": "stdout",
          "output_type": "stream",
          "text": [
            "Epoch: [4/10], Loss: 0.0528\n"
          ]
        },
        {
          "data": {
            "application/vnd.jupyter.widget-view+json": {
              "model_id": "7e00db121bc2400aa3e6b534632e30ca",
              "version_major": 2,
              "version_minor": 0
            },
            "text/plain": [
              "epoch [5/10]: 0it [00:00, ?it/s]"
            ]
          },
          "metadata": {},
          "output_type": "display_data"
        },
        {
          "name": "stdout",
          "output_type": "stream",
          "text": [
            "Epoch: [5/10], Loss: 0.0526\n"
          ]
        },
        {
          "data": {
            "application/vnd.jupyter.widget-view+json": {
              "model_id": "9a9b605fc66a4accbf30576bb0ba4f2d",
              "version_major": 2,
              "version_minor": 0
            },
            "text/plain": [
              "epoch [6/10]: 0it [00:00, ?it/s]"
            ]
          },
          "metadata": {},
          "output_type": "display_data"
        },
        {
          "name": "stdout",
          "output_type": "stream",
          "text": [
            "Epoch: [6/10], Loss: 0.0525\n"
          ]
        },
        {
          "data": {
            "application/vnd.jupyter.widget-view+json": {
              "model_id": "37e60cae25bc471da4f2a160cef3ec02",
              "version_major": 2,
              "version_minor": 0
            },
            "text/plain": [
              "epoch [7/10]: 0it [00:00, ?it/s]"
            ]
          },
          "metadata": {},
          "output_type": "display_data"
        },
        {
          "name": "stdout",
          "output_type": "stream",
          "text": [
            "Epoch: [7/10], Loss: 0.0524\n"
          ]
        },
        {
          "data": {
            "application/vnd.jupyter.widget-view+json": {
              "model_id": "1f802f65b93f4904aaaf9623bd62842e",
              "version_major": 2,
              "version_minor": 0
            },
            "text/plain": [
              "epoch [8/10]: 0it [00:00, ?it/s]"
            ]
          },
          "metadata": {},
          "output_type": "display_data"
        },
        {
          "name": "stdout",
          "output_type": "stream",
          "text": [
            "Epoch: [8/10], Loss: 0.0524\n"
          ]
        },
        {
          "data": {
            "application/vnd.jupyter.widget-view+json": {
              "model_id": "d2515f0d93984edc9f573dd241b08732",
              "version_major": 2,
              "version_minor": 0
            },
            "text/plain": [
              "epoch [9/10]: 0it [00:00, ?it/s]"
            ]
          },
          "metadata": {},
          "output_type": "display_data"
        },
        {
          "name": "stdout",
          "output_type": "stream",
          "text": [
            "Epoch: [9/10], Loss: 0.0523\n"
          ]
        },
        {
          "data": {
            "application/vnd.jupyter.widget-view+json": {
              "model_id": "75014c6d30df4a0c9dfce65c35cdcc29",
              "version_major": 2,
              "version_minor": 0
            },
            "text/plain": [
              "epoch [10/10]: 0it [00:00, ?it/s]"
            ]
          },
          "metadata": {},
          "output_type": "display_data"
        },
        {
          "name": "stdout",
          "output_type": "stream",
          "text": [
            "Epoch: [10/10], Loss: 0.0523\n"
          ]
        }
      ],
      "source": [
        "ct_probe = linear_probe.train_logistic_regression_probe(X, y_ct, lambda_l1=0.001, lambda_l2=0.001)"
      ]
    },
    {
      "cell_type": "code",
      "execution_count": 110,
      "metadata": {},
      "outputs": [
        {
          "data": {
            "application/vnd.jupyter.widget-view+json": {
              "model_id": "c23bd5bbbebb41f69736ac8040701057",
              "version_major": 2,
              "version_minor": 0
            },
            "text/plain": [
              "Evaluating: 0it [00:00, ?it/s]"
            ]
          },
          "metadata": {},
          "output_type": "display_data"
        },
        {
          "name": "stdout",
          "output_type": "stream",
          "text": [
            "Score (accuracy) of the probe: 0.56\n",
            "Selectivity (Diff. between true task and probing task performance on validation data):  0.3708992666923967\n"
          ]
        }
      ],
      "source": [
        "ct_scores = linear_probe.evaluate_probe(ct_probe, X_valid_ct, y_valid_ct, idx_to_class=idx2label_ct)\n",
        "selectivity = scores['__OVERALL__'] - ct_scores['__OVERALL__']\n",
        "print('Selectivity (Diff. between true task and probing task performance on validation data): ', selectivity)"
      ]
    },
    {
      "cell_type": "code",
      "execution_count": null,
      "metadata": {},
      "outputs": [],
      "source": []
    }
  ],
  "metadata": {
    "colab": {
      "name": "conll2003_Example.ipynb",
      "provenance": []
    },
    "interpreter": {
      "hash": "7c578cd8a1b0f0f66adc8b78c27d04433c7400526429a3fe260f4c83111b3982"
    },
    "kernelspec": {
      "display_name": "Python [conda env:neurox-toolkit]",
      "language": "python",
      "name": "python3"
    },
    "language_info": {
      "codemirror_mode": {
        "name": "ipython",
        "version": 3
      },
      "file_extension": ".py",
      "mimetype": "text/x-python",
      "name": "python",
      "nbconvert_exporter": "python",
      "pygments_lexer": "ipython3",
      "version": "3.6.13"
    },
    "widgets": {
      "application/vnd.jupyter.widget-state+json": {
        "092de4d85b374037ae44843da9812008": {
          "model_module": "@jupyter-widgets/controls",
          "model_module_version": "1.5.0",
          "model_name": "HBoxModel",
          "state": {
            "_dom_classes": [],
            "_model_module": "@jupyter-widgets/controls",
            "_model_module_version": "1.5.0",
            "_model_name": "HBoxModel",
            "_view_count": null,
            "_view_module": "@jupyter-widgets/controls",
            "_view_module_version": "1.5.0",
            "_view_name": "HBoxView",
            "box_style": "",
            "children": [
              "IPY_MODEL_54507e5c3f40494b8db4b6f349314bc0",
              "IPY_MODEL_5ef19a8681b740f2bcf14ae66b98962e",
              "IPY_MODEL_a77995b8b4b449149be8f779ad2c13aa"
            ],
            "layout": "IPY_MODEL_216b063b0ba14448b7118a3079cac72d"
          }
        },
        "15db52c69ac94edea6ae604044f5a515": {
          "model_module": "@jupyter-widgets/base",
          "model_module_version": "1.2.0",
          "model_name": "LayoutModel",
          "state": {
            "_model_module": "@jupyter-widgets/base",
            "_model_module_version": "1.2.0",
            "_model_name": "LayoutModel",
            "_view_count": null,
            "_view_module": "@jupyter-widgets/base",
            "_view_module_version": "1.2.0",
            "_view_name": "LayoutView",
            "align_content": null,
            "align_items": null,
            "align_self": null,
            "border": null,
            "bottom": null,
            "display": null,
            "flex": null,
            "flex_flow": null,
            "grid_area": null,
            "grid_auto_columns": null,
            "grid_auto_flow": null,
            "grid_auto_rows": null,
            "grid_column": null,
            "grid_gap": null,
            "grid_row": null,
            "grid_template_areas": null,
            "grid_template_columns": null,
            "grid_template_rows": null,
            "height": null,
            "justify_content": null,
            "justify_items": null,
            "left": null,
            "margin": null,
            "max_height": null,
            "max_width": null,
            "min_height": null,
            "min_width": null,
            "object_fit": null,
            "object_position": null,
            "order": null,
            "overflow": null,
            "overflow_x": null,
            "overflow_y": null,
            "padding": null,
            "right": null,
            "top": null,
            "visibility": null,
            "width": null
          }
        },
        "1817588a779e4a5b97729aa3957c53ed": {
          "model_module": "@jupyter-widgets/controls",
          "model_module_version": "1.5.0",
          "model_name": "DescriptionStyleModel",
          "state": {
            "_model_module": "@jupyter-widgets/controls",
            "_model_module_version": "1.5.0",
            "_model_name": "DescriptionStyleModel",
            "_view_count": null,
            "_view_module": "@jupyter-widgets/base",
            "_view_module_version": "1.2.0",
            "_view_name": "StyleView",
            "description_width": ""
          }
        },
        "1912fd4e11c94aeabfe11ef019cdc25c": {
          "model_module": "@jupyter-widgets/controls",
          "model_module_version": "1.5.0",
          "model_name": "HTMLModel",
          "state": {
            "_dom_classes": [],
            "_model_module": "@jupyter-widgets/controls",
            "_model_module_version": "1.5.0",
            "_model_name": "HTMLModel",
            "_view_count": null,
            "_view_module": "@jupyter-widgets/controls",
            "_view_module_version": "1.5.0",
            "_view_name": "HTMLView",
            "description": "",
            "description_tooltip": null,
            "layout": "IPY_MODEL_15db52c69ac94edea6ae604044f5a515",
            "placeholder": "​",
            "style": "IPY_MODEL_2697a2df0a574ca184bc5049948a3ca8",
            "value": "Generating test split: 100%"
          }
        },
        "193f1075bb454760b59fd9a6c182d045": {
          "model_module": "@jupyter-widgets/base",
          "model_module_version": "1.2.0",
          "model_name": "LayoutModel",
          "state": {
            "_model_module": "@jupyter-widgets/base",
            "_model_module_version": "1.2.0",
            "_model_name": "LayoutModel",
            "_view_count": null,
            "_view_module": "@jupyter-widgets/base",
            "_view_module_version": "1.2.0",
            "_view_name": "LayoutView",
            "align_content": null,
            "align_items": null,
            "align_self": null,
            "border": null,
            "bottom": null,
            "display": null,
            "flex": null,
            "flex_flow": null,
            "grid_area": null,
            "grid_auto_columns": null,
            "grid_auto_flow": null,
            "grid_auto_rows": null,
            "grid_column": null,
            "grid_gap": null,
            "grid_row": null,
            "grid_template_areas": null,
            "grid_template_columns": null,
            "grid_template_rows": null,
            "height": null,
            "justify_content": null,
            "justify_items": null,
            "left": null,
            "margin": null,
            "max_height": null,
            "max_width": null,
            "min_height": null,
            "min_width": null,
            "object_fit": null,
            "object_position": null,
            "order": null,
            "overflow": null,
            "overflow_x": null,
            "overflow_y": null,
            "padding": null,
            "right": null,
            "top": null,
            "visibility": null,
            "width": null
          }
        },
        "1c2e4b8abf3a4180ba31e3268b6bf6dc": {
          "model_module": "@jupyter-widgets/controls",
          "model_module_version": "1.5.0",
          "model_name": "DescriptionStyleModel",
          "state": {
            "_model_module": "@jupyter-widgets/controls",
            "_model_module_version": "1.5.0",
            "_model_name": "DescriptionStyleModel",
            "_view_count": null,
            "_view_module": "@jupyter-widgets/base",
            "_view_module_version": "1.2.0",
            "_view_name": "StyleView",
            "description_width": ""
          }
        },
        "1d03126c053c4d62b8f8897d8676bf1f": {
          "model_module": "@jupyter-widgets/controls",
          "model_module_version": "1.5.0",
          "model_name": "HTMLModel",
          "state": {
            "_dom_classes": [],
            "_model_module": "@jupyter-widgets/controls",
            "_model_module_version": "1.5.0",
            "_model_name": "HTMLModel",
            "_view_count": null,
            "_view_module": "@jupyter-widgets/controls",
            "_view_module_version": "1.5.0",
            "_view_name": "HTMLView",
            "description": "",
            "description_tooltip": null,
            "layout": "IPY_MODEL_853309ae97d14d51ac83c5a2b3da5b03",
            "placeholder": "​",
            "style": "IPY_MODEL_ead3fb2e5e444450b4efb802762b5ef2",
            "value": " 3.79k/? [00:00&lt;00:00, 81.8kB/s]"
          }
        },
        "1e29bd5876e8459dbf0ff07870390f03": {
          "model_module": "@jupyter-widgets/controls",
          "model_module_version": "1.5.0",
          "model_name": "FloatProgressModel",
          "state": {
            "_dom_classes": [],
            "_model_module": "@jupyter-widgets/controls",
            "_model_module_version": "1.5.0",
            "_model_name": "FloatProgressModel",
            "_view_count": null,
            "_view_module": "@jupyter-widgets/controls",
            "_view_module_version": "1.5.0",
            "_view_name": "ProgressView",
            "bar_style": "success",
            "description": "",
            "description_tooltip": null,
            "layout": "IPY_MODEL_3026493a301c495ab0d1ce4ffaf853c3",
            "max": 982975,
            "min": 0,
            "orientation": "horizontal",
            "style": "IPY_MODEL_8dbedd2f24ea41be8b5aab7dbc40271e",
            "value": 982975
          }
        },
        "216b063b0ba14448b7118a3079cac72d": {
          "model_module": "@jupyter-widgets/base",
          "model_module_version": "1.2.0",
          "model_name": "LayoutModel",
          "state": {
            "_model_module": "@jupyter-widgets/base",
            "_model_module_version": "1.2.0",
            "_model_name": "LayoutModel",
            "_view_count": null,
            "_view_module": "@jupyter-widgets/base",
            "_view_module_version": "1.2.0",
            "_view_name": "LayoutView",
            "align_content": null,
            "align_items": null,
            "align_self": null,
            "border": null,
            "bottom": null,
            "display": null,
            "flex": null,
            "flex_flow": null,
            "grid_area": null,
            "grid_auto_columns": null,
            "grid_auto_flow": null,
            "grid_auto_rows": null,
            "grid_column": null,
            "grid_gap": null,
            "grid_row": null,
            "grid_template_areas": null,
            "grid_template_columns": null,
            "grid_template_rows": null,
            "height": null,
            "justify_content": null,
            "justify_items": null,
            "left": null,
            "margin": null,
            "max_height": null,
            "max_width": null,
            "min_height": null,
            "min_width": null,
            "object_fit": null,
            "object_position": null,
            "order": null,
            "overflow": null,
            "overflow_x": null,
            "overflow_y": null,
            "padding": null,
            "right": null,
            "top": null,
            "visibility": null,
            "width": null
          }
        },
        "22952c4e6a1c4e5496f4554655d0752a": {
          "model_module": "@jupyter-widgets/controls",
          "model_module_version": "1.5.0",
          "model_name": "HBoxModel",
          "state": {
            "_dom_classes": [],
            "_model_module": "@jupyter-widgets/controls",
            "_model_module_version": "1.5.0",
            "_model_name": "HBoxModel",
            "_view_count": null,
            "_view_module": "@jupyter-widgets/controls",
            "_view_module_version": "1.5.0",
            "_view_name": "HBoxView",
            "box_style": "",
            "children": [
              "IPY_MODEL_ca47fbb7a9364399acca0121f34fe0c2",
              "IPY_MODEL_1e29bd5876e8459dbf0ff07870390f03",
              "IPY_MODEL_634c0e8582cf449caf93ad0cc8d65f54"
            ],
            "layout": "IPY_MODEL_beb371c8ef234cd39f75233fa42621c3"
          }
        },
        "24a1b7a21bd846aeb0ec40e8d6948ad1": {
          "model_module": "@jupyter-widgets/base",
          "model_module_version": "1.2.0",
          "model_name": "LayoutModel",
          "state": {
            "_model_module": "@jupyter-widgets/base",
            "_model_module_version": "1.2.0",
            "_model_name": "LayoutModel",
            "_view_count": null,
            "_view_module": "@jupyter-widgets/base",
            "_view_module_version": "1.2.0",
            "_view_name": "LayoutView",
            "align_content": null,
            "align_items": null,
            "align_self": null,
            "border": null,
            "bottom": null,
            "display": null,
            "flex": null,
            "flex_flow": null,
            "grid_area": null,
            "grid_auto_columns": null,
            "grid_auto_flow": null,
            "grid_auto_rows": null,
            "grid_column": null,
            "grid_gap": null,
            "grid_row": null,
            "grid_template_areas": null,
            "grid_template_columns": null,
            "grid_template_rows": null,
            "height": null,
            "justify_content": null,
            "justify_items": null,
            "left": null,
            "margin": null,
            "max_height": null,
            "max_width": null,
            "min_height": null,
            "min_width": null,
            "object_fit": null,
            "object_position": null,
            "order": null,
            "overflow": null,
            "overflow_x": null,
            "overflow_y": null,
            "padding": null,
            "right": null,
            "top": null,
            "visibility": null,
            "width": null
          }
        },
        "2697a2df0a574ca184bc5049948a3ca8": {
          "model_module": "@jupyter-widgets/controls",
          "model_module_version": "1.5.0",
          "model_name": "DescriptionStyleModel",
          "state": {
            "_model_module": "@jupyter-widgets/controls",
            "_model_module_version": "1.5.0",
            "_model_name": "DescriptionStyleModel",
            "_view_count": null,
            "_view_module": "@jupyter-widgets/base",
            "_view_module_version": "1.2.0",
            "_view_name": "StyleView",
            "description_width": ""
          }
        },
        "3026493a301c495ab0d1ce4ffaf853c3": {
          "model_module": "@jupyter-widgets/base",
          "model_module_version": "1.2.0",
          "model_name": "LayoutModel",
          "state": {
            "_model_module": "@jupyter-widgets/base",
            "_model_module_version": "1.2.0",
            "_model_name": "LayoutModel",
            "_view_count": null,
            "_view_module": "@jupyter-widgets/base",
            "_view_module_version": "1.2.0",
            "_view_name": "LayoutView",
            "align_content": null,
            "align_items": null,
            "align_self": null,
            "border": null,
            "bottom": null,
            "display": null,
            "flex": null,
            "flex_flow": null,
            "grid_area": null,
            "grid_auto_columns": null,
            "grid_auto_flow": null,
            "grid_auto_rows": null,
            "grid_column": null,
            "grid_gap": null,
            "grid_row": null,
            "grid_template_areas": null,
            "grid_template_columns": null,
            "grid_template_rows": null,
            "height": null,
            "justify_content": null,
            "justify_items": null,
            "left": null,
            "margin": null,
            "max_height": null,
            "max_width": null,
            "min_height": null,
            "min_width": null,
            "object_fit": null,
            "object_position": null,
            "order": null,
            "overflow": null,
            "overflow_x": null,
            "overflow_y": null,
            "padding": null,
            "right": null,
            "top": null,
            "visibility": null,
            "width": null
          }
        },
        "305e92111d8543268c0e6a02b0c5fe58": {
          "model_module": "@jupyter-widgets/controls",
          "model_module_version": "1.5.0",
          "model_name": "DescriptionStyleModel",
          "state": {
            "_model_module": "@jupyter-widgets/controls",
            "_model_module_version": "1.5.0",
            "_model_name": "DescriptionStyleModel",
            "_view_count": null,
            "_view_module": "@jupyter-widgets/base",
            "_view_module_version": "1.2.0",
            "_view_name": "StyleView",
            "description_width": ""
          }
        },
        "3174240843b945ceb39063d9aabeb629": {
          "model_module": "@jupyter-widgets/controls",
          "model_module_version": "1.5.0",
          "model_name": "HTMLModel",
          "state": {
            "_dom_classes": [],
            "_model_module": "@jupyter-widgets/controls",
            "_model_module_version": "1.5.0",
            "_model_name": "HTMLModel",
            "_view_count": null,
            "_view_module": "@jupyter-widgets/controls",
            "_view_module_version": "1.5.0",
            "_view_name": "HTMLView",
            "description": "",
            "description_tooltip": null,
            "layout": "IPY_MODEL_449807178df34c69937e86cf0f77fd74",
            "placeholder": "​",
            "style": "IPY_MODEL_9e90b5daf4994e1fa44040848c497bc2",
            "value": "100%"
          }
        },
        "36c88e3816a841fca8dcc3ef3a85a053": {
          "model_module": "@jupyter-widgets/controls",
          "model_module_version": "1.5.0",
          "model_name": "ProgressStyleModel",
          "state": {
            "_model_module": "@jupyter-widgets/controls",
            "_model_module_version": "1.5.0",
            "_model_name": "ProgressStyleModel",
            "_view_count": null,
            "_view_module": "@jupyter-widgets/base",
            "_view_module_version": "1.2.0",
            "_view_name": "StyleView",
            "bar_color": null,
            "description_width": ""
          }
        },
        "37cb117424784d48993c11d384bb1875": {
          "model_module": "@jupyter-widgets/base",
          "model_module_version": "1.2.0",
          "model_name": "LayoutModel",
          "state": {
            "_model_module": "@jupyter-widgets/base",
            "_model_module_version": "1.2.0",
            "_model_name": "LayoutModel",
            "_view_count": null,
            "_view_module": "@jupyter-widgets/base",
            "_view_module_version": "1.2.0",
            "_view_name": "LayoutView",
            "align_content": null,
            "align_items": null,
            "align_self": null,
            "border": null,
            "bottom": null,
            "display": null,
            "flex": null,
            "flex_flow": null,
            "grid_area": null,
            "grid_auto_columns": null,
            "grid_auto_flow": null,
            "grid_auto_rows": null,
            "grid_column": null,
            "grid_gap": null,
            "grid_row": null,
            "grid_template_areas": null,
            "grid_template_columns": null,
            "grid_template_rows": null,
            "height": null,
            "justify_content": null,
            "justify_items": null,
            "left": null,
            "margin": null,
            "max_height": null,
            "max_width": null,
            "min_height": null,
            "min_width": null,
            "object_fit": null,
            "object_position": null,
            "order": null,
            "overflow": null,
            "overflow_x": null,
            "overflow_y": null,
            "padding": null,
            "right": null,
            "top": null,
            "visibility": null,
            "width": null
          }
        },
        "3b28c387e5874d54bb921c0884d91f75": {
          "model_module": "@jupyter-widgets/base",
          "model_module_version": "1.2.0",
          "model_name": "LayoutModel",
          "state": {
            "_model_module": "@jupyter-widgets/base",
            "_model_module_version": "1.2.0",
            "_model_name": "LayoutModel",
            "_view_count": null,
            "_view_module": "@jupyter-widgets/base",
            "_view_module_version": "1.2.0",
            "_view_name": "LayoutView",
            "align_content": null,
            "align_items": null,
            "align_self": null,
            "border": null,
            "bottom": null,
            "display": null,
            "flex": null,
            "flex_flow": null,
            "grid_area": null,
            "grid_auto_columns": null,
            "grid_auto_flow": null,
            "grid_auto_rows": null,
            "grid_column": null,
            "grid_gap": null,
            "grid_row": null,
            "grid_template_areas": null,
            "grid_template_columns": null,
            "grid_template_rows": null,
            "height": null,
            "justify_content": null,
            "justify_items": null,
            "left": null,
            "margin": null,
            "max_height": null,
            "max_width": null,
            "min_height": null,
            "min_width": null,
            "object_fit": null,
            "object_position": null,
            "order": null,
            "overflow": null,
            "overflow_x": null,
            "overflow_y": null,
            "padding": null,
            "right": null,
            "top": null,
            "visibility": null,
            "width": null
          }
        },
        "426424c92ac2474ca0dab7d577270438": {
          "model_module": "@jupyter-widgets/base",
          "model_module_version": "1.2.0",
          "model_name": "LayoutModel",
          "state": {
            "_model_module": "@jupyter-widgets/base",
            "_model_module_version": "1.2.0",
            "_model_name": "LayoutModel",
            "_view_count": null,
            "_view_module": "@jupyter-widgets/base",
            "_view_module_version": "1.2.0",
            "_view_name": "LayoutView",
            "align_content": null,
            "align_items": null,
            "align_self": null,
            "border": null,
            "bottom": null,
            "display": null,
            "flex": null,
            "flex_flow": null,
            "grid_area": null,
            "grid_auto_columns": null,
            "grid_auto_flow": null,
            "grid_auto_rows": null,
            "grid_column": null,
            "grid_gap": null,
            "grid_row": null,
            "grid_template_areas": null,
            "grid_template_columns": null,
            "grid_template_rows": null,
            "height": null,
            "justify_content": null,
            "justify_items": null,
            "left": null,
            "margin": null,
            "max_height": null,
            "max_width": null,
            "min_height": null,
            "min_width": null,
            "object_fit": null,
            "object_position": null,
            "order": null,
            "overflow": null,
            "overflow_x": null,
            "overflow_y": null,
            "padding": null,
            "right": null,
            "top": null,
            "visibility": null,
            "width": null
          }
        },
        "449807178df34c69937e86cf0f77fd74": {
          "model_module": "@jupyter-widgets/base",
          "model_module_version": "1.2.0",
          "model_name": "LayoutModel",
          "state": {
            "_model_module": "@jupyter-widgets/base",
            "_model_module_version": "1.2.0",
            "_model_name": "LayoutModel",
            "_view_count": null,
            "_view_module": "@jupyter-widgets/base",
            "_view_module_version": "1.2.0",
            "_view_name": "LayoutView",
            "align_content": null,
            "align_items": null,
            "align_self": null,
            "border": null,
            "bottom": null,
            "display": null,
            "flex": null,
            "flex_flow": null,
            "grid_area": null,
            "grid_auto_columns": null,
            "grid_auto_flow": null,
            "grid_auto_rows": null,
            "grid_column": null,
            "grid_gap": null,
            "grid_row": null,
            "grid_template_areas": null,
            "grid_template_columns": null,
            "grid_template_rows": null,
            "height": null,
            "justify_content": null,
            "justify_items": null,
            "left": null,
            "margin": null,
            "max_height": null,
            "max_width": null,
            "min_height": null,
            "min_width": null,
            "object_fit": null,
            "object_position": null,
            "order": null,
            "overflow": null,
            "overflow_x": null,
            "overflow_y": null,
            "padding": null,
            "right": null,
            "top": null,
            "visibility": null,
            "width": null
          }
        },
        "44d5179b29b941da881a00bee99cf7dc": {
          "model_module": "@jupyter-widgets/base",
          "model_module_version": "1.2.0",
          "model_name": "LayoutModel",
          "state": {
            "_model_module": "@jupyter-widgets/base",
            "_model_module_version": "1.2.0",
            "_model_name": "LayoutModel",
            "_view_count": null,
            "_view_module": "@jupyter-widgets/base",
            "_view_module_version": "1.2.0",
            "_view_name": "LayoutView",
            "align_content": null,
            "align_items": null,
            "align_self": null,
            "border": null,
            "bottom": null,
            "display": null,
            "flex": null,
            "flex_flow": null,
            "grid_area": null,
            "grid_auto_columns": null,
            "grid_auto_flow": null,
            "grid_auto_rows": null,
            "grid_column": null,
            "grid_gap": null,
            "grid_row": null,
            "grid_template_areas": null,
            "grid_template_columns": null,
            "grid_template_rows": null,
            "height": null,
            "justify_content": null,
            "justify_items": null,
            "left": null,
            "margin": null,
            "max_height": null,
            "max_width": null,
            "min_height": null,
            "min_width": null,
            "object_fit": null,
            "object_position": null,
            "order": null,
            "overflow": null,
            "overflow_x": null,
            "overflow_y": null,
            "padding": null,
            "right": null,
            "top": null,
            "visibility": null,
            "width": null
          }
        },
        "4f8d1898228a4783a25b58d6566ab36e": {
          "model_module": "@jupyter-widgets/controls",
          "model_module_version": "1.5.0",
          "model_name": "HTMLModel",
          "state": {
            "_dom_classes": [],
            "_model_module": "@jupyter-widgets/controls",
            "_model_module_version": "1.5.0",
            "_model_name": "HTMLModel",
            "_view_count": null,
            "_view_module": "@jupyter-widgets/controls",
            "_view_module_version": "1.5.0",
            "_view_name": "HTMLView",
            "description": "",
            "description_tooltip": null,
            "layout": "IPY_MODEL_7fcd295aa5f14cb6b0d460194cb244d9",
            "placeholder": "​",
            "style": "IPY_MODEL_ce90e303fec74ed19e509442e58cba75",
            "value": "Generating train split:  98%"
          }
        },
        "54507e5c3f40494b8db4b6f349314bc0": {
          "model_module": "@jupyter-widgets/controls",
          "model_module_version": "1.5.0",
          "model_name": "HTMLModel",
          "state": {
            "_dom_classes": [],
            "_model_module": "@jupyter-widgets/controls",
            "_model_module_version": "1.5.0",
            "_model_name": "HTMLModel",
            "_view_count": null,
            "_view_module": "@jupyter-widgets/controls",
            "_view_module_version": "1.5.0",
            "_view_name": "HTMLView",
            "description": "",
            "description_tooltip": null,
            "layout": "IPY_MODEL_3b28c387e5874d54bb921c0884d91f75",
            "placeholder": "​",
            "style": "IPY_MODEL_93a8aac98ac442418941fc2e770ae045",
            "value": "Downloading builder script: "
          }
        },
        "57582895188f4934b468230d1f660a47": {
          "model_module": "@jupyter-widgets/controls",
          "model_module_version": "1.5.0",
          "model_name": "FloatProgressModel",
          "state": {
            "_dom_classes": [],
            "_model_module": "@jupyter-widgets/controls",
            "_model_module_version": "1.5.0",
            "_model_name": "FloatProgressModel",
            "_view_count": null,
            "_view_module": "@jupyter-widgets/controls",
            "_view_module_version": "1.5.0",
            "_view_name": "ProgressView",
            "bar_style": "",
            "description": "",
            "description_tooltip": null,
            "layout": "IPY_MODEL_37cb117424784d48993c11d384bb1875",
            "max": 3454,
            "min": 0,
            "orientation": "horizontal",
            "style": "IPY_MODEL_b34c4fa4274e4f7e9853c4cc51e539e7",
            "value": 3454
          }
        },
        "57d8aade48b647c88138f7483d7ac028": {
          "model_module": "@jupyter-widgets/base",
          "model_module_version": "1.2.0",
          "model_name": "LayoutModel",
          "state": {
            "_model_module": "@jupyter-widgets/base",
            "_model_module_version": "1.2.0",
            "_model_name": "LayoutModel",
            "_view_count": null,
            "_view_module": "@jupyter-widgets/base",
            "_view_module_version": "1.2.0",
            "_view_name": "LayoutView",
            "align_content": null,
            "align_items": null,
            "align_self": null,
            "border": null,
            "bottom": null,
            "display": null,
            "flex": null,
            "flex_flow": null,
            "grid_area": null,
            "grid_auto_columns": null,
            "grid_auto_flow": null,
            "grid_auto_rows": null,
            "grid_column": null,
            "grid_gap": null,
            "grid_row": null,
            "grid_template_areas": null,
            "grid_template_columns": null,
            "grid_template_rows": null,
            "height": null,
            "justify_content": null,
            "justify_items": null,
            "left": null,
            "margin": null,
            "max_height": null,
            "max_width": null,
            "min_height": null,
            "min_width": null,
            "object_fit": null,
            "object_position": null,
            "order": null,
            "overflow": null,
            "overflow_x": null,
            "overflow_y": null,
            "padding": null,
            "right": null,
            "top": null,
            "visibility": null,
            "width": null
          }
        },
        "5859b6dc116242198c1da0d9742dace7": {
          "model_module": "@jupyter-widgets/controls",
          "model_module_version": "1.5.0",
          "model_name": "HTMLModel",
          "state": {
            "_dom_classes": [],
            "_model_module": "@jupyter-widgets/controls",
            "_model_module_version": "1.5.0",
            "_model_name": "HTMLModel",
            "_view_count": null,
            "_view_module": "@jupyter-widgets/controls",
            "_view_module_version": "1.5.0",
            "_view_name": "HTMLView",
            "description": "",
            "description_tooltip": null,
            "layout": "IPY_MODEL_da6856847bdd4a4c8d19ef919881ee7c",
            "placeholder": "​",
            "style": "IPY_MODEL_df17a7e453f349f5acdac1ac1b604bb3",
            "value": " 3/3 [00:00&lt;00:00, 47.80it/s]"
          }
        },
        "5a529309eb5d463dbf310cb21e99bfc7": {
          "model_module": "@jupyter-widgets/controls",
          "model_module_version": "1.5.0",
          "model_name": "DescriptionStyleModel",
          "state": {
            "_model_module": "@jupyter-widgets/controls",
            "_model_module_version": "1.5.0",
            "_model_name": "DescriptionStyleModel",
            "_view_count": null,
            "_view_module": "@jupyter-widgets/base",
            "_view_module_version": "1.2.0",
            "_view_name": "StyleView",
            "description_width": ""
          }
        },
        "5ef19a8681b740f2bcf14ae66b98962e": {
          "model_module": "@jupyter-widgets/controls",
          "model_module_version": "1.5.0",
          "model_name": "FloatProgressModel",
          "state": {
            "_dom_classes": [],
            "_model_module": "@jupyter-widgets/controls",
            "_model_module_version": "1.5.0",
            "_model_name": "FloatProgressModel",
            "_view_count": null,
            "_view_module": "@jupyter-widgets/controls",
            "_view_module_version": "1.5.0",
            "_view_name": "ProgressView",
            "bar_style": "success",
            "description": "",
            "description_tooltip": null,
            "layout": "IPY_MODEL_619f019c30cf4bb4a27faef341042b2e",
            "max": 2581,
            "min": 0,
            "orientation": "horizontal",
            "style": "IPY_MODEL_8379c10aaab241368ab7eeb2fe18d2c3",
            "value": 2581
          }
        },
        "5f525aafa37b4af2a8b4737d9acad6fe": {
          "model_module": "@jupyter-widgets/controls",
          "model_module_version": "1.5.0",
          "model_name": "HBoxModel",
          "state": {
            "_dom_classes": [],
            "_model_module": "@jupyter-widgets/controls",
            "_model_module_version": "1.5.0",
            "_model_name": "HBoxModel",
            "_view_count": null,
            "_view_module": "@jupyter-widgets/controls",
            "_view_module_version": "1.5.0",
            "_view_name": "HBoxView",
            "box_style": "",
            "children": [
              "IPY_MODEL_1912fd4e11c94aeabfe11ef019cdc25c",
              "IPY_MODEL_57582895188f4934b468230d1f660a47",
              "IPY_MODEL_61ac05f04ff74bdabc868134ee4a2f0a"
            ],
            "layout": "IPY_MODEL_57d8aade48b647c88138f7483d7ac028"
          }
        },
        "619f019c30cf4bb4a27faef341042b2e": {
          "model_module": "@jupyter-widgets/base",
          "model_module_version": "1.2.0",
          "model_name": "LayoutModel",
          "state": {
            "_model_module": "@jupyter-widgets/base",
            "_model_module_version": "1.2.0",
            "_model_name": "LayoutModel",
            "_view_count": null,
            "_view_module": "@jupyter-widgets/base",
            "_view_module_version": "1.2.0",
            "_view_name": "LayoutView",
            "align_content": null,
            "align_items": null,
            "align_self": null,
            "border": null,
            "bottom": null,
            "display": null,
            "flex": null,
            "flex_flow": null,
            "grid_area": null,
            "grid_auto_columns": null,
            "grid_auto_flow": null,
            "grid_auto_rows": null,
            "grid_column": null,
            "grid_gap": null,
            "grid_row": null,
            "grid_template_areas": null,
            "grid_template_columns": null,
            "grid_template_rows": null,
            "height": null,
            "justify_content": null,
            "justify_items": null,
            "left": null,
            "margin": null,
            "max_height": null,
            "max_width": null,
            "min_height": null,
            "min_width": null,
            "object_fit": null,
            "object_position": null,
            "order": null,
            "overflow": null,
            "overflow_x": null,
            "overflow_y": null,
            "padding": null,
            "right": null,
            "top": null,
            "visibility": null,
            "width": null
          }
        },
        "61ac05f04ff74bdabc868134ee4a2f0a": {
          "model_module": "@jupyter-widgets/controls",
          "model_module_version": "1.5.0",
          "model_name": "HTMLModel",
          "state": {
            "_dom_classes": [],
            "_model_module": "@jupyter-widgets/controls",
            "_model_module_version": "1.5.0",
            "_model_name": "HTMLModel",
            "_view_count": null,
            "_view_module": "@jupyter-widgets/controls",
            "_view_module_version": "1.5.0",
            "_view_name": "HTMLView",
            "description": "",
            "description_tooltip": null,
            "layout": "IPY_MODEL_ad6d6c79896d46d9a895ca71a3529418",
            "placeholder": "​",
            "style": "IPY_MODEL_b38451339dbb4ebb85b49daabe27905b",
            "value": " 3445/3454 [00:00&lt;00:00, 4311.23 examples/s]"
          }
        },
        "634c0e8582cf449caf93ad0cc8d65f54": {
          "model_module": "@jupyter-widgets/controls",
          "model_module_version": "1.5.0",
          "model_name": "HTMLModel",
          "state": {
            "_dom_classes": [],
            "_model_module": "@jupyter-widgets/controls",
            "_model_module_version": "1.5.0",
            "_model_name": "HTMLModel",
            "_view_count": null,
            "_view_module": "@jupyter-widgets/controls",
            "_view_module_version": "1.5.0",
            "_view_name": "HTMLView",
            "description": "",
            "description_tooltip": null,
            "layout": "IPY_MODEL_921582a660ba451e8a48335ada368e89",
            "placeholder": "​",
            "style": "IPY_MODEL_305e92111d8543268c0e6a02b0c5fe58",
            "value": " 983k/983k [00:00&lt;00:00, 1.61MB/s]"
          }
        },
        "7040f996a3f54a93a778d25b4ef81a3d": {
          "model_module": "@jupyter-widgets/controls",
          "model_module_version": "1.5.0",
          "model_name": "DescriptionStyleModel",
          "state": {
            "_model_module": "@jupyter-widgets/controls",
            "_model_module_version": "1.5.0",
            "_model_name": "DescriptionStyleModel",
            "_view_count": null,
            "_view_module": "@jupyter-widgets/base",
            "_view_module_version": "1.2.0",
            "_view_name": "StyleView",
            "description_width": ""
          }
        },
        "791eca3a4e5741afbf968abf1b4f2529": {
          "model_module": "@jupyter-widgets/controls",
          "model_module_version": "1.5.0",
          "model_name": "HBoxModel",
          "state": {
            "_dom_classes": [],
            "_model_module": "@jupyter-widgets/controls",
            "_model_module_version": "1.5.0",
            "_model_name": "HBoxModel",
            "_view_count": null,
            "_view_module": "@jupyter-widgets/controls",
            "_view_module_version": "1.5.0",
            "_view_name": "HBoxView",
            "box_style": "",
            "children": [
              "IPY_MODEL_3174240843b945ceb39063d9aabeb629",
              "IPY_MODEL_ad7b041beb0b447297c7b6dce5aec715",
              "IPY_MODEL_5859b6dc116242198c1da0d9742dace7"
            ],
            "layout": "IPY_MODEL_bdf42558159441d79395dec1c93d0a46"
          }
        },
        "7aafb81e95734749b4cf8da0192eb9bc": {
          "model_module": "@jupyter-widgets/controls",
          "model_module_version": "1.5.0",
          "model_name": "DescriptionStyleModel",
          "state": {
            "_model_module": "@jupyter-widgets/controls",
            "_model_module_version": "1.5.0",
            "_model_name": "DescriptionStyleModel",
            "_view_count": null,
            "_view_module": "@jupyter-widgets/base",
            "_view_module_version": "1.2.0",
            "_view_name": "StyleView",
            "description_width": ""
          }
        },
        "7fcd295aa5f14cb6b0d460194cb244d9": {
          "model_module": "@jupyter-widgets/base",
          "model_module_version": "1.2.0",
          "model_name": "LayoutModel",
          "state": {
            "_model_module": "@jupyter-widgets/base",
            "_model_module_version": "1.2.0",
            "_model_name": "LayoutModel",
            "_view_count": null,
            "_view_module": "@jupyter-widgets/base",
            "_view_module_version": "1.2.0",
            "_view_name": "LayoutView",
            "align_content": null,
            "align_items": null,
            "align_self": null,
            "border": null,
            "bottom": null,
            "display": null,
            "flex": null,
            "flex_flow": null,
            "grid_area": null,
            "grid_auto_columns": null,
            "grid_auto_flow": null,
            "grid_auto_rows": null,
            "grid_column": null,
            "grid_gap": null,
            "grid_row": null,
            "grid_template_areas": null,
            "grid_template_columns": null,
            "grid_template_rows": null,
            "height": null,
            "justify_content": null,
            "justify_items": null,
            "left": null,
            "margin": null,
            "max_height": null,
            "max_width": null,
            "min_height": null,
            "min_width": null,
            "object_fit": null,
            "object_position": null,
            "order": null,
            "overflow": null,
            "overflow_x": null,
            "overflow_y": null,
            "padding": null,
            "right": null,
            "top": null,
            "visibility": null,
            "width": null
          }
        },
        "8379c10aaab241368ab7eeb2fe18d2c3": {
          "model_module": "@jupyter-widgets/controls",
          "model_module_version": "1.5.0",
          "model_name": "ProgressStyleModel",
          "state": {
            "_model_module": "@jupyter-widgets/controls",
            "_model_module_version": "1.5.0",
            "_model_name": "ProgressStyleModel",
            "_view_count": null,
            "_view_module": "@jupyter-widgets/base",
            "_view_module_version": "1.2.0",
            "_view_name": "StyleView",
            "bar_color": null,
            "description_width": ""
          }
        },
        "853309ae97d14d51ac83c5a2b3da5b03": {
          "model_module": "@jupyter-widgets/base",
          "model_module_version": "1.2.0",
          "model_name": "LayoutModel",
          "state": {
            "_model_module": "@jupyter-widgets/base",
            "_model_module_version": "1.2.0",
            "_model_name": "LayoutModel",
            "_view_count": null,
            "_view_module": "@jupyter-widgets/base",
            "_view_module_version": "1.2.0",
            "_view_name": "LayoutView",
            "align_content": null,
            "align_items": null,
            "align_self": null,
            "border": null,
            "bottom": null,
            "display": null,
            "flex": null,
            "flex_flow": null,
            "grid_area": null,
            "grid_auto_columns": null,
            "grid_auto_flow": null,
            "grid_auto_rows": null,
            "grid_column": null,
            "grid_gap": null,
            "grid_row": null,
            "grid_template_areas": null,
            "grid_template_columns": null,
            "grid_template_rows": null,
            "height": null,
            "justify_content": null,
            "justify_items": null,
            "left": null,
            "margin": null,
            "max_height": null,
            "max_width": null,
            "min_height": null,
            "min_width": null,
            "object_fit": null,
            "object_position": null,
            "order": null,
            "overflow": null,
            "overflow_x": null,
            "overflow_y": null,
            "padding": null,
            "right": null,
            "top": null,
            "visibility": null,
            "width": null
          }
        },
        "87ef658f61d04ed9ac997b5cc7142a3d": {
          "model_module": "@jupyter-widgets/controls",
          "model_module_version": "1.5.0",
          "model_name": "FloatProgressModel",
          "state": {
            "_dom_classes": [],
            "_model_module": "@jupyter-widgets/controls",
            "_model_module_version": "1.5.0",
            "_model_name": "FloatProgressModel",
            "_view_count": null,
            "_view_module": "@jupyter-widgets/controls",
            "_view_module_version": "1.5.0",
            "_view_name": "ProgressView",
            "bar_style": "success",
            "description": "",
            "description_tooltip": null,
            "layout": "IPY_MODEL_c9bbd4ee69fc46c6a6ea3bdc7354996f",
            "max": 1618,
            "min": 0,
            "orientation": "horizontal",
            "style": "IPY_MODEL_9073af83176b4471a912dad9f297cb6f",
            "value": 1618
          }
        },
        "8b0ce9190b634e819c4f3c9899fab65c": {
          "model_module": "@jupyter-widgets/controls",
          "model_module_version": "1.5.0",
          "model_name": "HBoxModel",
          "state": {
            "_dom_classes": [],
            "_model_module": "@jupyter-widgets/controls",
            "_model_module_version": "1.5.0",
            "_model_name": "HBoxModel",
            "_view_count": null,
            "_view_module": "@jupyter-widgets/controls",
            "_view_module_version": "1.5.0",
            "_view_name": "HBoxView",
            "box_style": "",
            "children": [
              "IPY_MODEL_4f8d1898228a4783a25b58d6566ab36e",
              "IPY_MODEL_e49a3550f8d04d6697aa7b8ec77a096d",
              "IPY_MODEL_e66620272f8f4e4b9fe8e86b963771e8"
            ],
            "layout": "IPY_MODEL_193f1075bb454760b59fd9a6c182d045"
          }
        },
        "8dbedd2f24ea41be8b5aab7dbc40271e": {
          "model_module": "@jupyter-widgets/controls",
          "model_module_version": "1.5.0",
          "model_name": "ProgressStyleModel",
          "state": {
            "_model_module": "@jupyter-widgets/controls",
            "_model_module_version": "1.5.0",
            "_model_name": "ProgressStyleModel",
            "_view_count": null,
            "_view_module": "@jupyter-widgets/base",
            "_view_module_version": "1.2.0",
            "_view_name": "StyleView",
            "bar_color": null,
            "description_width": ""
          }
        },
        "8dfaa0020a5d4165852016d92b1fc715": {
          "model_module": "@jupyter-widgets/base",
          "model_module_version": "1.2.0",
          "model_name": "LayoutModel",
          "state": {
            "_model_module": "@jupyter-widgets/base",
            "_model_module_version": "1.2.0",
            "_model_name": "LayoutModel",
            "_view_count": null,
            "_view_module": "@jupyter-widgets/base",
            "_view_module_version": "1.2.0",
            "_view_name": "LayoutView",
            "align_content": null,
            "align_items": null,
            "align_self": null,
            "border": null,
            "bottom": null,
            "display": null,
            "flex": null,
            "flex_flow": null,
            "grid_area": null,
            "grid_auto_columns": null,
            "grid_auto_flow": null,
            "grid_auto_rows": null,
            "grid_column": null,
            "grid_gap": null,
            "grid_row": null,
            "grid_template_areas": null,
            "grid_template_columns": null,
            "grid_template_rows": null,
            "height": null,
            "justify_content": null,
            "justify_items": null,
            "left": null,
            "margin": null,
            "max_height": null,
            "max_width": null,
            "min_height": null,
            "min_width": null,
            "object_fit": null,
            "object_position": null,
            "order": null,
            "overflow": null,
            "overflow_x": null,
            "overflow_y": null,
            "padding": null,
            "right": null,
            "top": null,
            "visibility": null,
            "width": null
          }
        },
        "8ec3668ac99b41069731507246f0736e": {
          "model_module": "@jupyter-widgets/base",
          "model_module_version": "1.2.0",
          "model_name": "LayoutModel",
          "state": {
            "_model_module": "@jupyter-widgets/base",
            "_model_module_version": "1.2.0",
            "_model_name": "LayoutModel",
            "_view_count": null,
            "_view_module": "@jupyter-widgets/base",
            "_view_module_version": "1.2.0",
            "_view_name": "LayoutView",
            "align_content": null,
            "align_items": null,
            "align_self": null,
            "border": null,
            "bottom": null,
            "display": null,
            "flex": null,
            "flex_flow": null,
            "grid_area": null,
            "grid_auto_columns": null,
            "grid_auto_flow": null,
            "grid_auto_rows": null,
            "grid_column": null,
            "grid_gap": null,
            "grid_row": null,
            "grid_template_areas": null,
            "grid_template_columns": null,
            "grid_template_rows": null,
            "height": null,
            "justify_content": null,
            "justify_items": null,
            "left": null,
            "margin": null,
            "max_height": null,
            "max_width": null,
            "min_height": null,
            "min_width": null,
            "object_fit": null,
            "object_position": null,
            "order": null,
            "overflow": null,
            "overflow_x": null,
            "overflow_y": null,
            "padding": null,
            "right": null,
            "top": null,
            "visibility": null,
            "width": null
          }
        },
        "9073af83176b4471a912dad9f297cb6f": {
          "model_module": "@jupyter-widgets/controls",
          "model_module_version": "1.5.0",
          "model_name": "ProgressStyleModel",
          "state": {
            "_model_module": "@jupyter-widgets/controls",
            "_model_module_version": "1.5.0",
            "_model_name": "ProgressStyleModel",
            "_view_count": null,
            "_view_module": "@jupyter-widgets/base",
            "_view_module_version": "1.2.0",
            "_view_name": "StyleView",
            "bar_color": null,
            "description_width": ""
          }
        },
        "921582a660ba451e8a48335ada368e89": {
          "model_module": "@jupyter-widgets/base",
          "model_module_version": "1.2.0",
          "model_name": "LayoutModel",
          "state": {
            "_model_module": "@jupyter-widgets/base",
            "_model_module_version": "1.2.0",
            "_model_name": "LayoutModel",
            "_view_count": null,
            "_view_module": "@jupyter-widgets/base",
            "_view_module_version": "1.2.0",
            "_view_name": "LayoutView",
            "align_content": null,
            "align_items": null,
            "align_self": null,
            "border": null,
            "bottom": null,
            "display": null,
            "flex": null,
            "flex_flow": null,
            "grid_area": null,
            "grid_auto_columns": null,
            "grid_auto_flow": null,
            "grid_auto_rows": null,
            "grid_column": null,
            "grid_gap": null,
            "grid_row": null,
            "grid_template_areas": null,
            "grid_template_columns": null,
            "grid_template_rows": null,
            "height": null,
            "justify_content": null,
            "justify_items": null,
            "left": null,
            "margin": null,
            "max_height": null,
            "max_width": null,
            "min_height": null,
            "min_width": null,
            "object_fit": null,
            "object_position": null,
            "order": null,
            "overflow": null,
            "overflow_x": null,
            "overflow_y": null,
            "padding": null,
            "right": null,
            "top": null,
            "visibility": null,
            "width": null
          }
        },
        "93a8aac98ac442418941fc2e770ae045": {
          "model_module": "@jupyter-widgets/controls",
          "model_module_version": "1.5.0",
          "model_name": "DescriptionStyleModel",
          "state": {
            "_model_module": "@jupyter-widgets/controls",
            "_model_module_version": "1.5.0",
            "_model_name": "DescriptionStyleModel",
            "_view_count": null,
            "_view_module": "@jupyter-widgets/base",
            "_view_module_version": "1.2.0",
            "_view_name": "StyleView",
            "description_width": ""
          }
        },
        "9a058dbb245a44d491d9da87599377b8": {
          "model_module": "@jupyter-widgets/base",
          "model_module_version": "1.2.0",
          "model_name": "LayoutModel",
          "state": {
            "_model_module": "@jupyter-widgets/base",
            "_model_module_version": "1.2.0",
            "_model_name": "LayoutModel",
            "_view_count": null,
            "_view_module": "@jupyter-widgets/base",
            "_view_module_version": "1.2.0",
            "_view_name": "LayoutView",
            "align_content": null,
            "align_items": null,
            "align_self": null,
            "border": null,
            "bottom": null,
            "display": null,
            "flex": null,
            "flex_flow": null,
            "grid_area": null,
            "grid_auto_columns": null,
            "grid_auto_flow": null,
            "grid_auto_rows": null,
            "grid_column": null,
            "grid_gap": null,
            "grid_row": null,
            "grid_template_areas": null,
            "grid_template_columns": null,
            "grid_template_rows": null,
            "height": null,
            "justify_content": null,
            "justify_items": null,
            "left": null,
            "margin": null,
            "max_height": null,
            "max_width": null,
            "min_height": null,
            "min_width": null,
            "object_fit": null,
            "object_position": null,
            "order": null,
            "overflow": null,
            "overflow_x": null,
            "overflow_y": null,
            "padding": null,
            "right": null,
            "top": null,
            "visibility": null,
            "width": null
          }
        },
        "9c2141fbedc84deeb6ce0c7b2dfcdb5e": {
          "model_module": "@jupyter-widgets/controls",
          "model_module_version": "1.5.0",
          "model_name": "HBoxModel",
          "state": {
            "_dom_classes": [],
            "_model_module": "@jupyter-widgets/controls",
            "_model_module_version": "1.5.0",
            "_model_name": "HBoxModel",
            "_view_count": null,
            "_view_module": "@jupyter-widgets/controls",
            "_view_module_version": "1.5.0",
            "_view_name": "HBoxView",
            "box_style": "",
            "children": [
              "IPY_MODEL_9f360d7ae9984f908a4925c5d7867066",
              "IPY_MODEL_87ef658f61d04ed9ac997b5cc7142a3d",
              "IPY_MODEL_1d03126c053c4d62b8f8897d8676bf1f"
            ],
            "layout": "IPY_MODEL_426424c92ac2474ca0dab7d577270438"
          }
        },
        "9e90b5daf4994e1fa44040848c497bc2": {
          "model_module": "@jupyter-widgets/controls",
          "model_module_version": "1.5.0",
          "model_name": "DescriptionStyleModel",
          "state": {
            "_model_module": "@jupyter-widgets/controls",
            "_model_module_version": "1.5.0",
            "_model_name": "DescriptionStyleModel",
            "_view_count": null,
            "_view_module": "@jupyter-widgets/base",
            "_view_module_version": "1.2.0",
            "_view_name": "StyleView",
            "description_width": ""
          }
        },
        "9f360d7ae9984f908a4925c5d7867066": {
          "model_module": "@jupyter-widgets/controls",
          "model_module_version": "1.5.0",
          "model_name": "HTMLModel",
          "state": {
            "_dom_classes": [],
            "_model_module": "@jupyter-widgets/controls",
            "_model_module_version": "1.5.0",
            "_model_name": "HTMLModel",
            "_view_count": null,
            "_view_module": "@jupyter-widgets/controls",
            "_view_module_version": "1.5.0",
            "_view_name": "HTMLView",
            "description": "",
            "description_tooltip": null,
            "layout": "IPY_MODEL_8dfaa0020a5d4165852016d92b1fc715",
            "placeholder": "​",
            "style": "IPY_MODEL_c68dc9dee8f04ba9885bbde376007726",
            "value": "Downloading metadata: "
          }
        },
        "a77995b8b4b449149be8f779ad2c13aa": {
          "model_module": "@jupyter-widgets/controls",
          "model_module_version": "1.5.0",
          "model_name": "HTMLModel",
          "state": {
            "_dom_classes": [],
            "_model_module": "@jupyter-widgets/controls",
            "_model_module_version": "1.5.0",
            "_model_name": "HTMLModel",
            "_view_count": null,
            "_view_module": "@jupyter-widgets/controls",
            "_view_module_version": "1.5.0",
            "_view_name": "HTMLView",
            "description": "",
            "description_tooltip": null,
            "layout": "IPY_MODEL_9a058dbb245a44d491d9da87599377b8",
            "placeholder": "​",
            "style": "IPY_MODEL_7040f996a3f54a93a778d25b4ef81a3d",
            "value": " 9.52k/? [00:00&lt;00:00, 163kB/s]"
          }
        },
        "aa27ededc7d74616b251e7af635917d9": {
          "model_module": "@jupyter-widgets/controls",
          "model_module_version": "1.5.0",
          "model_name": "ProgressStyleModel",
          "state": {
            "_model_module": "@jupyter-widgets/controls",
            "_model_module_version": "1.5.0",
            "_model_name": "ProgressStyleModel",
            "_view_count": null,
            "_view_module": "@jupyter-widgets/base",
            "_view_module_version": "1.2.0",
            "_view_name": "StyleView",
            "bar_color": null,
            "description_width": ""
          }
        },
        "ad6d6c79896d46d9a895ca71a3529418": {
          "model_module": "@jupyter-widgets/base",
          "model_module_version": "1.2.0",
          "model_name": "LayoutModel",
          "state": {
            "_model_module": "@jupyter-widgets/base",
            "_model_module_version": "1.2.0",
            "_model_name": "LayoutModel",
            "_view_count": null,
            "_view_module": "@jupyter-widgets/base",
            "_view_module_version": "1.2.0",
            "_view_name": "LayoutView",
            "align_content": null,
            "align_items": null,
            "align_self": null,
            "border": null,
            "bottom": null,
            "display": null,
            "flex": null,
            "flex_flow": null,
            "grid_area": null,
            "grid_auto_columns": null,
            "grid_auto_flow": null,
            "grid_auto_rows": null,
            "grid_column": null,
            "grid_gap": null,
            "grid_row": null,
            "grid_template_areas": null,
            "grid_template_columns": null,
            "grid_template_rows": null,
            "height": null,
            "justify_content": null,
            "justify_items": null,
            "left": null,
            "margin": null,
            "max_height": null,
            "max_width": null,
            "min_height": null,
            "min_width": null,
            "object_fit": null,
            "object_position": null,
            "order": null,
            "overflow": null,
            "overflow_x": null,
            "overflow_y": null,
            "padding": null,
            "right": null,
            "top": null,
            "visibility": null,
            "width": null
          }
        },
        "ad7b041beb0b447297c7b6dce5aec715": {
          "model_module": "@jupyter-widgets/controls",
          "model_module_version": "1.5.0",
          "model_name": "FloatProgressModel",
          "state": {
            "_dom_classes": [],
            "_model_module": "@jupyter-widgets/controls",
            "_model_module_version": "1.5.0",
            "_model_name": "FloatProgressModel",
            "_view_count": null,
            "_view_module": "@jupyter-widgets/controls",
            "_view_module_version": "1.5.0",
            "_view_name": "ProgressView",
            "bar_style": "success",
            "description": "",
            "description_tooltip": null,
            "layout": "IPY_MODEL_24a1b7a21bd846aeb0ec40e8d6948ad1",
            "max": 3,
            "min": 0,
            "orientation": "horizontal",
            "style": "IPY_MODEL_36c88e3816a841fca8dcc3ef3a85a053",
            "value": 3
          }
        },
        "b124776b9fb94b678e53e6c6708f9db9": {
          "model_module": "@jupyter-widgets/base",
          "model_module_version": "1.2.0",
          "model_name": "LayoutModel",
          "state": {
            "_model_module": "@jupyter-widgets/base",
            "_model_module_version": "1.2.0",
            "_model_name": "LayoutModel",
            "_view_count": null,
            "_view_module": "@jupyter-widgets/base",
            "_view_module_version": "1.2.0",
            "_view_name": "LayoutView",
            "align_content": null,
            "align_items": null,
            "align_self": null,
            "border": null,
            "bottom": null,
            "display": null,
            "flex": null,
            "flex_flow": null,
            "grid_area": null,
            "grid_auto_columns": null,
            "grid_auto_flow": null,
            "grid_auto_rows": null,
            "grid_column": null,
            "grid_gap": null,
            "grid_row": null,
            "grid_template_areas": null,
            "grid_template_columns": null,
            "grid_template_rows": null,
            "height": null,
            "justify_content": null,
            "justify_items": null,
            "left": null,
            "margin": null,
            "max_height": null,
            "max_width": null,
            "min_height": null,
            "min_width": null,
            "object_fit": null,
            "object_position": null,
            "order": null,
            "overflow": null,
            "overflow_x": null,
            "overflow_y": null,
            "padding": null,
            "right": null,
            "top": null,
            "visibility": null,
            "width": null
          }
        },
        "b34c4fa4274e4f7e9853c4cc51e539e7": {
          "model_module": "@jupyter-widgets/controls",
          "model_module_version": "1.5.0",
          "model_name": "ProgressStyleModel",
          "state": {
            "_model_module": "@jupyter-widgets/controls",
            "_model_module_version": "1.5.0",
            "_model_name": "ProgressStyleModel",
            "_view_count": null,
            "_view_module": "@jupyter-widgets/base",
            "_view_module_version": "1.2.0",
            "_view_name": "StyleView",
            "bar_color": null,
            "description_width": ""
          }
        },
        "b38451339dbb4ebb85b49daabe27905b": {
          "model_module": "@jupyter-widgets/controls",
          "model_module_version": "1.5.0",
          "model_name": "DescriptionStyleModel",
          "state": {
            "_model_module": "@jupyter-widgets/controls",
            "_model_module_version": "1.5.0",
            "_model_name": "DescriptionStyleModel",
            "_view_count": null,
            "_view_module": "@jupyter-widgets/base",
            "_view_module_version": "1.2.0",
            "_view_name": "StyleView",
            "description_width": ""
          }
        },
        "b821f42a53774684bf9c3ea33dfdecbb": {
          "model_module": "@jupyter-widgets/controls",
          "model_module_version": "1.5.0",
          "model_name": "HTMLModel",
          "state": {
            "_dom_classes": [],
            "_model_module": "@jupyter-widgets/controls",
            "_model_module_version": "1.5.0",
            "_model_name": "HTMLModel",
            "_view_count": null,
            "_view_module": "@jupyter-widgets/controls",
            "_view_module_version": "1.5.0",
            "_view_name": "HTMLView",
            "description": "",
            "description_tooltip": null,
            "layout": "IPY_MODEL_b124776b9fb94b678e53e6c6708f9db9",
            "placeholder": "​",
            "style": "IPY_MODEL_5a529309eb5d463dbf310cb21e99bfc7",
            "value": "Generating validation split:  94%"
          }
        },
        "b9105e71903d487bb13188c8142c1c15": {
          "model_module": "@jupyter-widgets/base",
          "model_module_version": "1.2.0",
          "model_name": "LayoutModel",
          "state": {
            "_model_module": "@jupyter-widgets/base",
            "_model_module_version": "1.2.0",
            "_model_name": "LayoutModel",
            "_view_count": null,
            "_view_module": "@jupyter-widgets/base",
            "_view_module_version": "1.2.0",
            "_view_name": "LayoutView",
            "align_content": null,
            "align_items": null,
            "align_self": null,
            "border": null,
            "bottom": null,
            "display": null,
            "flex": null,
            "flex_flow": null,
            "grid_area": null,
            "grid_auto_columns": null,
            "grid_auto_flow": null,
            "grid_auto_rows": null,
            "grid_column": null,
            "grid_gap": null,
            "grid_row": null,
            "grid_template_areas": null,
            "grid_template_columns": null,
            "grid_template_rows": null,
            "height": null,
            "justify_content": null,
            "justify_items": null,
            "left": null,
            "margin": null,
            "max_height": null,
            "max_width": null,
            "min_height": null,
            "min_width": null,
            "object_fit": null,
            "object_position": null,
            "order": null,
            "overflow": null,
            "overflow_x": null,
            "overflow_y": null,
            "padding": null,
            "right": null,
            "top": null,
            "visibility": null,
            "width": null
          }
        },
        "bdf42558159441d79395dec1c93d0a46": {
          "model_module": "@jupyter-widgets/base",
          "model_module_version": "1.2.0",
          "model_name": "LayoutModel",
          "state": {
            "_model_module": "@jupyter-widgets/base",
            "_model_module_version": "1.2.0",
            "_model_name": "LayoutModel",
            "_view_count": null,
            "_view_module": "@jupyter-widgets/base",
            "_view_module_version": "1.2.0",
            "_view_name": "LayoutView",
            "align_content": null,
            "align_items": null,
            "align_self": null,
            "border": null,
            "bottom": null,
            "display": null,
            "flex": null,
            "flex_flow": null,
            "grid_area": null,
            "grid_auto_columns": null,
            "grid_auto_flow": null,
            "grid_auto_rows": null,
            "grid_column": null,
            "grid_gap": null,
            "grid_row": null,
            "grid_template_areas": null,
            "grid_template_columns": null,
            "grid_template_rows": null,
            "height": null,
            "justify_content": null,
            "justify_items": null,
            "left": null,
            "margin": null,
            "max_height": null,
            "max_width": null,
            "min_height": null,
            "min_width": null,
            "object_fit": null,
            "object_position": null,
            "order": null,
            "overflow": null,
            "overflow_x": null,
            "overflow_y": null,
            "padding": null,
            "right": null,
            "top": null,
            "visibility": null,
            "width": null
          }
        },
        "beb371c8ef234cd39f75233fa42621c3": {
          "model_module": "@jupyter-widgets/base",
          "model_module_version": "1.2.0",
          "model_name": "LayoutModel",
          "state": {
            "_model_module": "@jupyter-widgets/base",
            "_model_module_version": "1.2.0",
            "_model_name": "LayoutModel",
            "_view_count": null,
            "_view_module": "@jupyter-widgets/base",
            "_view_module_version": "1.2.0",
            "_view_name": "LayoutView",
            "align_content": null,
            "align_items": null,
            "align_self": null,
            "border": null,
            "bottom": null,
            "display": null,
            "flex": null,
            "flex_flow": null,
            "grid_area": null,
            "grid_auto_columns": null,
            "grid_auto_flow": null,
            "grid_auto_rows": null,
            "grid_column": null,
            "grid_gap": null,
            "grid_row": null,
            "grid_template_areas": null,
            "grid_template_columns": null,
            "grid_template_rows": null,
            "height": null,
            "justify_content": null,
            "justify_items": null,
            "left": null,
            "margin": null,
            "max_height": null,
            "max_width": null,
            "min_height": null,
            "min_width": null,
            "object_fit": null,
            "object_position": null,
            "order": null,
            "overflow": null,
            "overflow_x": null,
            "overflow_y": null,
            "padding": null,
            "right": null,
            "top": null,
            "visibility": null,
            "width": null
          }
        },
        "c62e7acb59904fb197bdc019a406861b": {
          "model_module": "@jupyter-widgets/base",
          "model_module_version": "1.2.0",
          "model_name": "LayoutModel",
          "state": {
            "_model_module": "@jupyter-widgets/base",
            "_model_module_version": "1.2.0",
            "_model_name": "LayoutModel",
            "_view_count": null,
            "_view_module": "@jupyter-widgets/base",
            "_view_module_version": "1.2.0",
            "_view_name": "LayoutView",
            "align_content": null,
            "align_items": null,
            "align_self": null,
            "border": null,
            "bottom": null,
            "display": null,
            "flex": null,
            "flex_flow": null,
            "grid_area": null,
            "grid_auto_columns": null,
            "grid_auto_flow": null,
            "grid_auto_rows": null,
            "grid_column": null,
            "grid_gap": null,
            "grid_row": null,
            "grid_template_areas": null,
            "grid_template_columns": null,
            "grid_template_rows": null,
            "height": null,
            "justify_content": null,
            "justify_items": null,
            "left": null,
            "margin": null,
            "max_height": null,
            "max_width": null,
            "min_height": null,
            "min_width": null,
            "object_fit": null,
            "object_position": null,
            "order": null,
            "overflow": null,
            "overflow_x": null,
            "overflow_y": null,
            "padding": null,
            "right": null,
            "top": null,
            "visibility": null,
            "width": null
          }
        },
        "c68dc9dee8f04ba9885bbde376007726": {
          "model_module": "@jupyter-widgets/controls",
          "model_module_version": "1.5.0",
          "model_name": "DescriptionStyleModel",
          "state": {
            "_model_module": "@jupyter-widgets/controls",
            "_model_module_version": "1.5.0",
            "_model_name": "DescriptionStyleModel",
            "_view_count": null,
            "_view_module": "@jupyter-widgets/base",
            "_view_module_version": "1.2.0",
            "_view_name": "StyleView",
            "description_width": ""
          }
        },
        "c7302a89482b4f2aa21da533824c2316": {
          "model_module": "@jupyter-widgets/base",
          "model_module_version": "1.2.0",
          "model_name": "LayoutModel",
          "state": {
            "_model_module": "@jupyter-widgets/base",
            "_model_module_version": "1.2.0",
            "_model_name": "LayoutModel",
            "_view_count": null,
            "_view_module": "@jupyter-widgets/base",
            "_view_module_version": "1.2.0",
            "_view_name": "LayoutView",
            "align_content": null,
            "align_items": null,
            "align_self": null,
            "border": null,
            "bottom": null,
            "display": null,
            "flex": null,
            "flex_flow": null,
            "grid_area": null,
            "grid_auto_columns": null,
            "grid_auto_flow": null,
            "grid_auto_rows": null,
            "grid_column": null,
            "grid_gap": null,
            "grid_row": null,
            "grid_template_areas": null,
            "grid_template_columns": null,
            "grid_template_rows": null,
            "height": null,
            "justify_content": null,
            "justify_items": null,
            "left": null,
            "margin": null,
            "max_height": null,
            "max_width": null,
            "min_height": null,
            "min_width": null,
            "object_fit": null,
            "object_position": null,
            "order": null,
            "overflow": null,
            "overflow_x": null,
            "overflow_y": null,
            "padding": null,
            "right": null,
            "top": null,
            "visibility": null,
            "width": null
          }
        },
        "c9bbd4ee69fc46c6a6ea3bdc7354996f": {
          "model_module": "@jupyter-widgets/base",
          "model_module_version": "1.2.0",
          "model_name": "LayoutModel",
          "state": {
            "_model_module": "@jupyter-widgets/base",
            "_model_module_version": "1.2.0",
            "_model_name": "LayoutModel",
            "_view_count": null,
            "_view_module": "@jupyter-widgets/base",
            "_view_module_version": "1.2.0",
            "_view_name": "LayoutView",
            "align_content": null,
            "align_items": null,
            "align_self": null,
            "border": null,
            "bottom": null,
            "display": null,
            "flex": null,
            "flex_flow": null,
            "grid_area": null,
            "grid_auto_columns": null,
            "grid_auto_flow": null,
            "grid_auto_rows": null,
            "grid_column": null,
            "grid_gap": null,
            "grid_row": null,
            "grid_template_areas": null,
            "grid_template_columns": null,
            "grid_template_rows": null,
            "height": null,
            "justify_content": null,
            "justify_items": null,
            "left": null,
            "margin": null,
            "max_height": null,
            "max_width": null,
            "min_height": null,
            "min_width": null,
            "object_fit": null,
            "object_position": null,
            "order": null,
            "overflow": null,
            "overflow_x": null,
            "overflow_y": null,
            "padding": null,
            "right": null,
            "top": null,
            "visibility": null,
            "width": null
          }
        },
        "ca47fbb7a9364399acca0121f34fe0c2": {
          "model_module": "@jupyter-widgets/controls",
          "model_module_version": "1.5.0",
          "model_name": "HTMLModel",
          "state": {
            "_dom_classes": [],
            "_model_module": "@jupyter-widgets/controls",
            "_model_module_version": "1.5.0",
            "_model_name": "HTMLModel",
            "_view_count": null,
            "_view_module": "@jupyter-widgets/controls",
            "_view_module_version": "1.5.0",
            "_view_name": "HTMLView",
            "description": "",
            "description_tooltip": null,
            "layout": "IPY_MODEL_b9105e71903d487bb13188c8142c1c15",
            "placeholder": "​",
            "style": "IPY_MODEL_1c2e4b8abf3a4180ba31e3268b6bf6dc",
            "value": "Downloading data: 100%"
          }
        },
        "ce90e303fec74ed19e509442e58cba75": {
          "model_module": "@jupyter-widgets/controls",
          "model_module_version": "1.5.0",
          "model_name": "DescriptionStyleModel",
          "state": {
            "_model_module": "@jupyter-widgets/controls",
            "_model_module_version": "1.5.0",
            "_model_name": "DescriptionStyleModel",
            "_view_count": null,
            "_view_module": "@jupyter-widgets/base",
            "_view_module_version": "1.2.0",
            "_view_name": "StyleView",
            "description_width": ""
          }
        },
        "d71e3a2c953c4b88a7e9f3c6043a43fe": {
          "model_module": "@jupyter-widgets/controls",
          "model_module_version": "1.5.0",
          "model_name": "HBoxModel",
          "state": {
            "_dom_classes": [],
            "_model_module": "@jupyter-widgets/controls",
            "_model_module_version": "1.5.0",
            "_model_name": "HBoxModel",
            "_view_count": null,
            "_view_module": "@jupyter-widgets/controls",
            "_view_module_version": "1.5.0",
            "_view_name": "HBoxView",
            "box_style": "",
            "children": [
              "IPY_MODEL_b821f42a53774684bf9c3ea33dfdecbb",
              "IPY_MODEL_f7561f20e740490f965e83e5408c7772",
              "IPY_MODEL_fc4167ab200344d0baa7e284ceb388f0"
            ],
            "layout": "IPY_MODEL_c62e7acb59904fb197bdc019a406861b"
          }
        },
        "da6856847bdd4a4c8d19ef919881ee7c": {
          "model_module": "@jupyter-widgets/base",
          "model_module_version": "1.2.0",
          "model_name": "LayoutModel",
          "state": {
            "_model_module": "@jupyter-widgets/base",
            "_model_module_version": "1.2.0",
            "_model_name": "LayoutModel",
            "_view_count": null,
            "_view_module": "@jupyter-widgets/base",
            "_view_module_version": "1.2.0",
            "_view_name": "LayoutView",
            "align_content": null,
            "align_items": null,
            "align_self": null,
            "border": null,
            "bottom": null,
            "display": null,
            "flex": null,
            "flex_flow": null,
            "grid_area": null,
            "grid_auto_columns": null,
            "grid_auto_flow": null,
            "grid_auto_rows": null,
            "grid_column": null,
            "grid_gap": null,
            "grid_row": null,
            "grid_template_areas": null,
            "grid_template_columns": null,
            "grid_template_rows": null,
            "height": null,
            "justify_content": null,
            "justify_items": null,
            "left": null,
            "margin": null,
            "max_height": null,
            "max_width": null,
            "min_height": null,
            "min_width": null,
            "object_fit": null,
            "object_position": null,
            "order": null,
            "overflow": null,
            "overflow_x": null,
            "overflow_y": null,
            "padding": null,
            "right": null,
            "top": null,
            "visibility": null,
            "width": null
          }
        },
        "df17a7e453f349f5acdac1ac1b604bb3": {
          "model_module": "@jupyter-widgets/controls",
          "model_module_version": "1.5.0",
          "model_name": "DescriptionStyleModel",
          "state": {
            "_model_module": "@jupyter-widgets/controls",
            "_model_module_version": "1.5.0",
            "_model_name": "DescriptionStyleModel",
            "_view_count": null,
            "_view_module": "@jupyter-widgets/base",
            "_view_module_version": "1.2.0",
            "_view_name": "StyleView",
            "description_width": ""
          }
        },
        "e49a3550f8d04d6697aa7b8ec77a096d": {
          "model_module": "@jupyter-widgets/controls",
          "model_module_version": "1.5.0",
          "model_name": "FloatProgressModel",
          "state": {
            "_dom_classes": [],
            "_model_module": "@jupyter-widgets/controls",
            "_model_module_version": "1.5.0",
            "_model_name": "FloatProgressModel",
            "_view_count": null,
            "_view_module": "@jupyter-widgets/controls",
            "_view_module_version": "1.5.0",
            "_view_name": "ProgressView",
            "bar_style": "",
            "description": "",
            "description_tooltip": null,
            "layout": "IPY_MODEL_c7302a89482b4f2aa21da533824c2316",
            "max": 14042,
            "min": 0,
            "orientation": "horizontal",
            "style": "IPY_MODEL_e90ecec359a5445a95c58bc1e0f342f1",
            "value": 14042
          }
        },
        "e66620272f8f4e4b9fe8e86b963771e8": {
          "model_module": "@jupyter-widgets/controls",
          "model_module_version": "1.5.0",
          "model_name": "HTMLModel",
          "state": {
            "_dom_classes": [],
            "_model_module": "@jupyter-widgets/controls",
            "_model_module_version": "1.5.0",
            "_model_name": "HTMLModel",
            "_view_count": null,
            "_view_module": "@jupyter-widgets/controls",
            "_view_module_version": "1.5.0",
            "_view_name": "HTMLView",
            "description": "",
            "description_tooltip": null,
            "layout": "IPY_MODEL_f5d6fc87268046119bb82397614bc054",
            "placeholder": "​",
            "style": "IPY_MODEL_7aafb81e95734749b4cf8da0192eb9bc",
            "value": " 13737/14042 [00:04&lt;00:00, 3210.01 examples/s]"
          }
        },
        "e90ecec359a5445a95c58bc1e0f342f1": {
          "model_module": "@jupyter-widgets/controls",
          "model_module_version": "1.5.0",
          "model_name": "ProgressStyleModel",
          "state": {
            "_model_module": "@jupyter-widgets/controls",
            "_model_module_version": "1.5.0",
            "_model_name": "ProgressStyleModel",
            "_view_count": null,
            "_view_module": "@jupyter-widgets/base",
            "_view_module_version": "1.2.0",
            "_view_name": "StyleView",
            "bar_color": null,
            "description_width": ""
          }
        },
        "ead3fb2e5e444450b4efb802762b5ef2": {
          "model_module": "@jupyter-widgets/controls",
          "model_module_version": "1.5.0",
          "model_name": "DescriptionStyleModel",
          "state": {
            "_model_module": "@jupyter-widgets/controls",
            "_model_module_version": "1.5.0",
            "_model_name": "DescriptionStyleModel",
            "_view_count": null,
            "_view_module": "@jupyter-widgets/base",
            "_view_module_version": "1.2.0",
            "_view_name": "StyleView",
            "description_width": ""
          }
        },
        "f5d6fc87268046119bb82397614bc054": {
          "model_module": "@jupyter-widgets/base",
          "model_module_version": "1.2.0",
          "model_name": "LayoutModel",
          "state": {
            "_model_module": "@jupyter-widgets/base",
            "_model_module_version": "1.2.0",
            "_model_name": "LayoutModel",
            "_view_count": null,
            "_view_module": "@jupyter-widgets/base",
            "_view_module_version": "1.2.0",
            "_view_name": "LayoutView",
            "align_content": null,
            "align_items": null,
            "align_self": null,
            "border": null,
            "bottom": null,
            "display": null,
            "flex": null,
            "flex_flow": null,
            "grid_area": null,
            "grid_auto_columns": null,
            "grid_auto_flow": null,
            "grid_auto_rows": null,
            "grid_column": null,
            "grid_gap": null,
            "grid_row": null,
            "grid_template_areas": null,
            "grid_template_columns": null,
            "grid_template_rows": null,
            "height": null,
            "justify_content": null,
            "justify_items": null,
            "left": null,
            "margin": null,
            "max_height": null,
            "max_width": null,
            "min_height": null,
            "min_width": null,
            "object_fit": null,
            "object_position": null,
            "order": null,
            "overflow": null,
            "overflow_x": null,
            "overflow_y": null,
            "padding": null,
            "right": null,
            "top": null,
            "visibility": null,
            "width": null
          }
        },
        "f7561f20e740490f965e83e5408c7772": {
          "model_module": "@jupyter-widgets/controls",
          "model_module_version": "1.5.0",
          "model_name": "FloatProgressModel",
          "state": {
            "_dom_classes": [],
            "_model_module": "@jupyter-widgets/controls",
            "_model_module_version": "1.5.0",
            "_model_name": "FloatProgressModel",
            "_view_count": null,
            "_view_module": "@jupyter-widgets/controls",
            "_view_module_version": "1.5.0",
            "_view_name": "ProgressView",
            "bar_style": "",
            "description": "",
            "description_tooltip": null,
            "layout": "IPY_MODEL_8ec3668ac99b41069731507246f0736e",
            "max": 3251,
            "min": 0,
            "orientation": "horizontal",
            "style": "IPY_MODEL_aa27ededc7d74616b251e7af635917d9",
            "value": 3251
          }
        },
        "fc4167ab200344d0baa7e284ceb388f0": {
          "model_module": "@jupyter-widgets/controls",
          "model_module_version": "1.5.0",
          "model_name": "HTMLModel",
          "state": {
            "_dom_classes": [],
            "_model_module": "@jupyter-widgets/controls",
            "_model_module_version": "1.5.0",
            "_model_name": "HTMLModel",
            "_view_count": null,
            "_view_module": "@jupyter-widgets/controls",
            "_view_module_version": "1.5.0",
            "_view_name": "HTMLView",
            "description": "",
            "description_tooltip": null,
            "layout": "IPY_MODEL_44d5179b29b941da881a00bee99cf7dc",
            "placeholder": "​",
            "style": "IPY_MODEL_1817588a779e4a5b97729aa3957c53ed",
            "value": " 3045/3251 [00:01&lt;00:00, 3072.26 examples/s]"
          }
        }
      }
    }
  },
  "nbformat": 4,
  "nbformat_minor": 0
}
