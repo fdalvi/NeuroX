{
 "cells": [
  {
   "cell_type": "markdown",
   "metadata": {},
   "source": [
    "# Imports"
   ]
  },
  {
   "cell_type": "code",
   "execution_count": 1,
   "metadata": {},
   "outputs": [],
   "source": [
    "import dill as pickle\n",
    "import json\n",
    "import numpy as np\n",
    "import os\n",
    "import re\n",
    "import sys\n",
    "import h5py\n",
    "import torch\n",
    "import matplotlib.pyplot as plt\n",
    "# Can replace with your own path\n",
    "sys.path.append(os.path.abspath('/alt-mt/work/durrani/aux_classifier/'))\n",
    "\n",
    "import aux_classifier\n",
    "from aux_classifier import data_loader\n",
    "from aux_classifier import utils\n",
    "#from aux_classifier import plotting\n",
    "sys.modules['aux_classifier'] = aux_classifier"
   ]
  },
  {
   "cell_type": "markdown",
   "metadata": {},
   "source": [
    "# Constants"
   ]
  },
  {
   "cell_type": "code",
   "execution_count": 19,
   "metadata": {},
   "outputs": [],
   "source": [
    "# Results save directory\n",
    "OUT_DIR = 'results/'\n",
    "\n",
    "# Training setup\n",
    "NUM_EPOCHS = 10\n",
    "BATCH_SIZE = 128\n",
    "\n",
    "L1 = 0.0001 \n",
    "L2 = 0.0001\n",
    "\n",
    "DIR='Representations/bert-base-cased'\n",
    "MODEL=os.path.join(DIR,'aux_model')\n",
    "JSON=os.path.join(DIR,'mapping.json')\n",
    "nMap=os.path.join(DIR,'neuronMap.json')\n",
    "TRAIN_SOURCE = os.path.join(DIR,'en_ewt-ud-train.conllu.word')\n",
    "TRAIN_LABELS = os.path.join(DIR, 'en_ewt-ud-train.conllu.label')\n",
    "TRAIN_ACTIVATIONS = os.path.join(DIR, 'en_ewt-ud-train.conllu.hdf5')\n",
    "DEV_SOURCE = os.path.join(DIR,'en_ewt-ud-dev.conllu.word')\n",
    "DEV_LABELS = os.path.join(DIR, 'en_ewt-ud-dev.conllu.label')\n",
    "DEV_ACTIVATIONS = os.path.join(DIR, 'en_ewt-ud-dev.conllu.hdf5')\n",
    "TEST_SOURCE = os.path.join(DIR, 'en_ewt-ud-test.conllu.word')\n",
    "TEST_LABELS = os.path.join(DIR, 'en_ewt-ud-test.conllu.label')\n",
    "TEST_ACTIVATIONS = os.path.join(DIR, 'en_ewt-ud-test.conllu.hdf5')\n",
    "\n",
    "#NUM_NEURONS_PER_LAYER = 768\n",
    "MAX_SENT_L = 1000\n",
    "IS_BRNN = False\n",
    "TASK_SPECIFIC_TAG = 'NN'"
   ]
  },
  {
   "cell_type": "code",
   "execution_count": 15,
   "metadata": {},
   "outputs": [],
   "source": [
    "representations=h5py.File(TRAIN_ACTIVATIONS, \"r\")\n",
    "sentRepresentation = torch.FloatTensor(representations[\"0\"])\n",
    "NUM_NEURONS_PER_LAYER = sentRepresentation.shape[2]"
   ]
  },
  {
   "cell_type": "markdown",
   "metadata": {},
   "source": [
    "# Preprocessing"
   ]
  },
  {
   "cell_type": "code",
   "execution_count": 16,
   "metadata": {},
   "outputs": [],
   "source": [
    "# Create required directories\n",
    "os.makedirs(OUT_DIR, exist_ok=True)"
   ]
  },
  {
   "cell_type": "code",
   "execution_count": 20,
   "metadata": {},
   "outputs": [
    {
     "name": "stdout",
     "output_type": "stream",
     "text": [
      "Loading activations...\n",
      "Loading hdf5 activations from Representations/bert-base-cased/en_ewt-ud-test.conllu.hdf5...\n",
      "Number of train sentences: 11733\n",
      "Number of dev sentences: 1914\n",
      "Number of test sentences: 1972\n"
     ]
    }
   ],
   "source": [
    "print(\"Loading activations...\")\n",
    "train_activations, NUM_LAYERS = data_loader.load_activations(TRAIN_ACTIVATIONS, NUM_NEURONS_PER_LAYER, is_brnn=IS_BRNN)\n",
    "dev_activations, _ = data_loader.load_activations(DEV_ACTIVATIONS, NUM_NEURONS_PER_LAYER, is_brnn=IS_BRNN)\n",
    "test_activations, _ = data_loader.load_activations(TEST_ACTIVATIONS, NUM_NEURONS_PER_LAYER, is_brnn=IS_BRNN)\n",
    "print(\"Number of train sentences: %d\"%(len(train_activations)))\n",
    "print(\"Number of dev sentences: %d\"%(len(dev_activations)))\n",
    "print(\"Number of test sentences: %d\"%(len(test_activations)))"
   ]
  },
  {
   "cell_type": "code",
   "execution_count": 21,
   "metadata": {},
   "outputs": [],
   "source": [
    "train_tokens = data_loader.load_data(TRAIN_SOURCE, TRAIN_LABELS, train_activations, MAX_SENT_L)\n",
    "dev_tokens = data_loader.load_data(DEV_SOURCE, DEV_LABELS, dev_activations, MAX_SENT_L)\n",
    "test_tokens = data_loader.load_data(TEST_SOURCE, TEST_LABELS, test_activations, MAX_SENT_L)\n",
    "NUM_TOKENS = sum([len(t) for t in train_tokens['target']])"
   ]
  },
  {
   "cell_type": "code",
   "execution_count": 22,
   "metadata": {
    "scrolled": true
   },
   "outputs": [
    {
     "name": "stdout",
     "output_type": "stream",
     "text": [
      "Number of total train tokens: 199207\n",
      "Number of source words: 199207\n",
      "Number of neurons: 9984\n",
      "Number of layers: 13\n"
     ]
    }
   ],
   "source": [
    "print('Number of total train tokens: %d'%(NUM_TOKENS))\n",
    "NUM_SOURCE_TOKENS = sum([len(t) for t in train_tokens['source']])\n",
    "print('Number of source words: %d'%(NUM_SOURCE_TOKENS)) \n",
    "NUM_NEURONS = train_activations[0].shape[1]\n",
    "print('Number of neurons: %d'%(NUM_NEURONS))\n",
    "print(\"Number of layers: %d\" % (NUM_LAYERS))"
   ]
  },
  {
   "cell_type": "markdown",
   "metadata": {},
   "source": [
    "# Create Tensors"
   ]
  },
  {
   "cell_type": "code",
   "execution_count": 23,
   "metadata": {},
   "outputs": [
    {
     "name": "stdout",
     "output_type": "stream",
     "text": [
      "Creating train tensors...\n",
      "Number of tokens:  199207\n",
      "length of source dictionary:  19649\n",
      "length of target dictionary:  17\n",
      "199207\n",
      "Total instances: 199207\n",
      "['partnership', 'Crim', 'DAUGHTER', 'equivalant', 'SE', 'Conservative', 'sniffing', 'Bio', 'caught', 'ate', 'trimmers', '1542', 'discretion', 'Claude', 'sulfur', 'Meanwhile', 'arbitrators', 'finish', 'dear', 'straight']\n",
      "(199207, 9984)\n",
      "(199207,)\n"
     ]
    }
   ],
   "source": [
    "print(\"Creating train tensors...\")\n",
    "X, y, mappings = utils.create_tensors(train_tokens, train_activations, TASK_SPECIFIC_TAG)\n",
    "print (X.shape)\n",
    "print (y.shape)"
   ]
  },
  {
   "cell_type": "code",
   "execution_count": 24,
   "metadata": {},
   "outputs": [
    {
     "name": "stdout",
     "output_type": "stream",
     "text": [
      "Creating test tensors...\n",
      "Number of tokens:  24737\n",
      "length of source dictionary:  19649\n",
      "length of target dictionary:  17\n",
      "24737\n",
      "Total instances: 24737\n",
      "['thirteen', 'trimmers', 'Hubris', 'straight', 'finish', 'reside', 'Looks', 'join', 'bit', 'bagh', 'Usamah', 'facsimile', 'Harvey', '4/14/00', 'bmw', 'sink', 'greatest', 'L', 'gifts', 'beat']\n",
      "Creating dev tensors...\n",
      "Number of tokens:  24904\n",
      "length of source dictionary:  19649\n",
      "length of target dictionary:  17\n",
      "24904\n",
      "Total instances: 24904\n",
      "['http://www.google.co.uk/search?q=forensic+photography&ie=utf-8&oe=utf-8&aq=t&rls=org.mozilla:en-US:official&client=firefox-a&safe=active&sout=1', 'ate', 'discretion', 'Urban', 'straight', 'dear', 'join', 'bit', 'Harvey', 'smart', 'smooth', 'L', 'gifts', 'beat', 'occupied', 'appear', 'stayed', 'begin', 'answer', 'smell']\n"
     ]
    }
   ],
   "source": [
    "print(\"Creating test tensors...\")\n",
    "X_test, y_test, mappings = utils.create_tensors(test_tokens, test_activations, TASK_SPECIFIC_TAG, mappings)\n",
    "print(\"Creating dev tensors...\")\n",
    "X_dev, y_dev, mappings = utils.create_tensors(dev_tokens, dev_activations, TASK_SPECIFIC_TAG, mappings)"
   ]
  },
  {
   "cell_type": "code",
   "execution_count": 25,
   "metadata": {},
   "outputs": [],
   "source": [
    "label2idx, idx2label, src2idx, idx2src = mappings"
   ]
  },
  {
   "cell_type": "markdown",
   "metadata": {},
   "source": [
    "# Get Accuracy with All neurons without Regularization"
   ]
  },
  {
   "cell_type": "code",
   "execution_count": 26,
   "metadata": {
    "scrolled": true
   },
   "outputs": [
    {
     "name": "stdout",
     "output_type": "stream",
     "text": [
      "Building model...\n",
      "Training classification model\n",
      "Creating model...\n",
      "Number of training instances: 199207\n",
      "Number of classes: 17\n"
     ]
    },
    {
     "data": {
      "application/vnd.jupyter.widget-view+json": {
       "model_id": "ba6b21e1809743a8bd460187e728243e",
       "version_major": 2,
       "version_minor": 0
      },
      "text/plain": [
       "HBox(children=(FloatProgress(value=1.0, bar_style='info', description='epoch [1/10]', max=1.0, style=ProgressS…"
      ]
     },
     "metadata": {},
     "output_type": "display_data"
    },
    {
     "name": "stdout",
     "output_type": "stream",
     "text": [
      "\n",
      "Epoch: [1/10], Loss: 0.0021\n"
     ]
    },
    {
     "data": {
      "application/vnd.jupyter.widget-view+json": {
       "model_id": "0b1db8f59a324d0ab23176f9e263d802",
       "version_major": 2,
       "version_minor": 0
      },
      "text/plain": [
       "HBox(children=(FloatProgress(value=1.0, bar_style='info', description='epoch [2/10]', max=1.0, style=ProgressS…"
      ]
     },
     "metadata": {},
     "output_type": "display_data"
    },
    {
     "name": "stdout",
     "output_type": "stream",
     "text": [
      "\n",
      "Epoch: [2/10], Loss: 0.0015\n"
     ]
    },
    {
     "data": {
      "application/vnd.jupyter.widget-view+json": {
       "model_id": "c2279e8f728b400c84dd56b42a12fef5",
       "version_major": 2,
       "version_minor": 0
      },
      "text/plain": [
       "HBox(children=(FloatProgress(value=1.0, bar_style='info', description='epoch [3/10]', max=1.0, style=ProgressS…"
      ]
     },
     "metadata": {},
     "output_type": "display_data"
    },
    {
     "name": "stdout",
     "output_type": "stream",
     "text": [
      "\n",
      "Epoch: [3/10], Loss: 0.0013\n"
     ]
    },
    {
     "data": {
      "application/vnd.jupyter.widget-view+json": {
       "model_id": "c1213ae54f45420c94075cf34c56a62f",
       "version_major": 2,
       "version_minor": 0
      },
      "text/plain": [
       "HBox(children=(FloatProgress(value=1.0, bar_style='info', description='epoch [4/10]', max=1.0, style=ProgressS…"
      ]
     },
     "metadata": {},
     "output_type": "display_data"
    },
    {
     "name": "stdout",
     "output_type": "stream",
     "text": [
      "\n",
      "Epoch: [4/10], Loss: 0.0012\n"
     ]
    },
    {
     "data": {
      "application/vnd.jupyter.widget-view+json": {
       "model_id": "805c9c8b069d41009cad5fcd0f3b96e0",
       "version_major": 2,
       "version_minor": 0
      },
      "text/plain": [
       "HBox(children=(FloatProgress(value=1.0, bar_style='info', description='epoch [5/10]', max=1.0, style=ProgressS…"
      ]
     },
     "metadata": {},
     "output_type": "display_data"
    },
    {
     "name": "stdout",
     "output_type": "stream",
     "text": [
      "\n",
      "Epoch: [5/10], Loss: 0.0011\n"
     ]
    },
    {
     "data": {
      "application/vnd.jupyter.widget-view+json": {
       "model_id": "e408df24127a43ad8f5812f2fea0794a",
       "version_major": 2,
       "version_minor": 0
      },
      "text/plain": [
       "HBox(children=(FloatProgress(value=1.0, bar_style='info', description='epoch [6/10]', max=1.0, style=ProgressS…"
      ]
     },
     "metadata": {},
     "output_type": "display_data"
    },
    {
     "name": "stdout",
     "output_type": "stream",
     "text": [
      "\n",
      "Epoch: [6/10], Loss: 0.0010\n"
     ]
    },
    {
     "data": {
      "application/vnd.jupyter.widget-view+json": {
       "model_id": "8a9d187496b8488c838a881700fbe877",
       "version_major": 2,
       "version_minor": 0
      },
      "text/plain": [
       "HBox(children=(FloatProgress(value=1.0, bar_style='info', description='epoch [7/10]', max=1.0, style=ProgressS…"
      ]
     },
     "metadata": {},
     "output_type": "display_data"
    },
    {
     "name": "stdout",
     "output_type": "stream",
     "text": [
      "\n",
      "Epoch: [7/10], Loss: 0.0009\n"
     ]
    },
    {
     "data": {
      "application/vnd.jupyter.widget-view+json": {
       "model_id": "278cb629fb8c4c45bb4ebd2e0af1203a",
       "version_major": 2,
       "version_minor": 0
      },
      "text/plain": [
       "HBox(children=(FloatProgress(value=1.0, bar_style='info', description='epoch [8/10]', max=1.0, style=ProgressS…"
      ]
     },
     "metadata": {},
     "output_type": "display_data"
    },
    {
     "name": "stdout",
     "output_type": "stream",
     "text": [
      "\n",
      "Epoch: [8/10], Loss: 0.0008\n"
     ]
    },
    {
     "data": {
      "application/vnd.jupyter.widget-view+json": {
       "model_id": "446c793422d640e08deded7e7ddec5c3",
       "version_major": 2,
       "version_minor": 0
      },
      "text/plain": [
       "HBox(children=(FloatProgress(value=1.0, bar_style='info', description='epoch [9/10]', max=1.0, style=ProgressS…"
      ]
     },
     "metadata": {},
     "output_type": "display_data"
    },
    {
     "name": "stdout",
     "output_type": "stream",
     "text": [
      "\n",
      "Epoch: [9/10], Loss: 0.0008\n"
     ]
    },
    {
     "data": {
      "application/vnd.jupyter.widget-view+json": {
       "model_id": "8e4cdd1b78114fd2b67d1cdf3dcac318",
       "version_major": 2,
       "version_minor": 0
      },
      "text/plain": [
       "HBox(children=(FloatProgress(value=1.0, bar_style='info', description='epoch [10/10]', max=1.0, style=Progress…"
      ]
     },
     "metadata": {},
     "output_type": "display_data"
    },
    {
     "name": "stdout",
     "output_type": "stream",
     "text": [
      "\n",
      "Epoch: [10/10], Loss: 0.0007\n"
     ]
    },
    {
     "data": {
      "application/vnd.jupyter.widget-view+json": {
       "model_id": "7106ae36dbfa4c0682bd2ffb65e54736",
       "version_major": 2,
       "version_minor": 0
      },
      "text/plain": [
       "HBox(children=(FloatProgress(value=1.0, bar_style='info', description='Evaluating', max=1.0, style=ProgressSty…"
      ]
     },
     "metadata": {},
     "output_type": "display_data"
    },
    {
     "name": "stdout",
     "output_type": "stream",
     "text": [
      "\n",
      "Score (accuracy) of the model: 0.9797\n"
     ]
    },
    {
     "data": {
      "application/vnd.jupyter.widget-view+json": {
       "model_id": "fbc17eaab47c4d98bc247fe308ebd27f",
       "version_major": 2,
       "version_minor": 0
      },
      "text/plain": [
       "HBox(children=(FloatProgress(value=1.0, bar_style='info', description='Evaluating', max=1.0, style=ProgressSty…"
      ]
     },
     "metadata": {},
     "output_type": "display_data"
    },
    {
     "name": "stdout",
     "output_type": "stream",
     "text": [
      "\n",
      "Score (accuracy) of the model: 0.9528\n"
     ]
    },
    {
     "data": {
      "application/vnd.jupyter.widget-view+json": {
       "model_id": "2c09436221e142298bdeed923a14a170",
       "version_major": 2,
       "version_minor": 0
      },
      "text/plain": [
       "HBox(children=(FloatProgress(value=1.0, bar_style='info', description='Evaluating', max=1.0, style=ProgressSty…"
      ]
     },
     "metadata": {},
     "output_type": "display_data"
    },
    {
     "name": "stdout",
     "output_type": "stream",
     "text": [
      "\n",
      "Score (accuracy) of the model: 0.9510\n",
      "=============================================\n",
      "Overall Train Accuracies\n",
      "{'__OVERALL__': 0.9797346478788396, 'PUNCT': 0.9988628908812596, 'ADV': 0.9652157201883348, 'DET': 0.9981587903810746, 'PART': 0.9998155321896329, 'NOUN': 0.9568043370544173, 'SYM': 0.9618055555555556, 'PROPN': 0.9438028627195836, 'ADJ': 0.9635934191236357, 'VERB': 0.9867591660139495, 'AUX': 0.9801520814537956, 'NUM': 0.9654901960784313, 'CONJ': 0.998330044026112, 'PRON': 0.9986623351805848, 'X': 0.9587628865979382, 'SCONJ': 0.9797945205479452, 'INTJ': 0.9577464788732394, 'ADP': 0.9899536321483772}\n",
      "Overall Dev Accuracies\n",
      "{'__OVERALL__': 0.9527786700931578, 'PUNCT': 0.9956910838581372, 'ADV': 0.919431279620853, 'DET': 0.9919735599622285, 'PART': 0.9968051118210862, 'NOUN': 0.9242065371861677, 'SYM': 0.8360655737704918, 'PROPN': 0.8699945145364784, 'ADJ': 0.9199549041713642, 'VERB': 0.9681011134517002, 'AUX': 0.9496248660235799, 'NUM': 0.9251336898395722, 'CONJ': 0.9922978177150192, 'PRON': 0.9947671376242805, 'X': 0.7284768211920529, 'SCONJ': 0.9612903225806452, 'INTJ': 0.75, 'ADP': 0.9738593155893536}\n",
      "Overall Test Accuracies\n",
      "{'__OVERALL__': 0.9509641427820673, 'PUNCT': 0.9976775049767751, 'ADV': 0.9248366013071896, 'DET': 0.9938708156529938, 'PART': 0.9935587761674718, 'NOUN': 0.9123188405797101, 'SYM': 0.7741935483870968, 'PROPN': 0.8527363184079602, 'ADJ': 0.9154761904761904, 'VERB': 0.9725638599810785, 'AUX': 0.9735169491525424, 'NUM': 0.9401544401544402, 'CONJ': 0.9877717391304348, 'PRON': 0.9967141292442497, 'X': 0.7777777777777778, 'SCONJ': 0.9207920792079208, 'INTJ': 0.8376068376068376, 'ADP': 0.9788867562380038}\n",
      "=============================================\n"
     ]
    }
   ],
   "source": [
    "print(\"Building model...\")\n",
    "model = utils.train_logreg_model(X, y, lambda_l1=0, lambda_l2=0, num_epochs=NUM_EPOCHS, batch_size=BATCH_SIZE)\n",
    "overall_train_accuracies = utils.evaluate_model(model, X, y, idx2label)\n",
    "overall_dev_accuracies = utils.evaluate_model(model, X_dev, y_dev, idx2label)\n",
    "overall_test_accuracies, predictions = utils.evaluate_model(model, X_test, y_test, idx2label, return_predictions=True, source_tokens=test_tokens['source'])\n",
    "\n",
    "print(\"=============================================\")\n",
    "print(\"Overall Train Accuracies\")\n",
    "print(overall_train_accuracies)\n",
    "\n",
    "print(\"Overall Dev Accuracies\")\n",
    "print(overall_dev_accuracies)\n",
    "\n",
    "print(\"Overall Test Accuracies\")\n",
    "print(overall_test_accuracies)\n",
    "print(\"=============================================\")"
   ]
  },
  {
   "cell_type": "markdown",
   "metadata": {},
   "source": [
    "# Get Accuracy with Selected neurons with Elastic-net (Retraining)"
   ]
  },
  {
   "cell_type": "code",
   "execution_count": 34,
   "metadata": {},
   "outputs": [],
   "source": [
    "def findMinimalNeurons(X, y, X_dev, y_dev, X_train, y_train):\n",
    "    bestTopNeurons = []\n",
    "    bestRandomNeurons = []\n",
    "    bestBottomNeurons = []\n",
    "     \n",
    "    print(\"Building model with: L1: \" +  str(L1) + \" L2: \" + str(L2))\n",
    "    model_temp = utils.train_logreg_model(X, y, lambda_l1=L1, lambda_l2=L2, num_epochs=10, batch_size=BATCH_SIZE)\n",
    "    dev_accuracies = utils.evaluate_model(model_temp, X_dev, y_dev, idx2label, source_tokens=dev_tokens['source'])\n",
    "    accuracyElastic = dev_accuracies['__OVERALL__']\n",
    "    torch.save(model_temp, MODEL)\n",
    "    with open(JSON, 'w') as fp:\n",
    "        json.dump(mappings, fp)\n",
    "        \n",
    "    ordering, cutoffs = utils.get_neuron_ordering(model_temp, label2idx, search_stride=1000)\n",
    "    for percentage in [0.05]: #[0.01, 0.02, 0.03, 0.05, 0.1, 0.2, 0.3, 0.5]:\n",
    "        top_neurons = ordering[:int(percentage*len(ordering))]\n",
    "        print(\"Selecting %d top neurons\" % (len(top_neurons)))\n",
    "        X_filtered = utils.filter_activations_keep_neurons(top_neurons, X)\n",
    "        X_dev_filtered = utils.filter_activations_keep_neurons(top_neurons, X_dev)\n",
    "        X_test_filtered = utils.filter_activations_keep_neurons(top_neurons, X_test)\n",
    "        model_temp = utils.train_logreg_model(X_filtered, y, lambda_l1=L1, lambda_l2=L2, num_epochs=10, batch_size=BATCH_SIZE)\n",
    "        top_neurons_dev_accuracies = utils.evaluate_model(model_temp, X_dev_filtered, y_dev, idx2label, source_tokens=dev_tokens['source'])\n",
    "        top_neurons_test_accuracies = utils.evaluate_model(model_temp, X_test_filtered, y_test, idx2label, source_tokens=test_tokens['source'])\n",
    "        accuracyElasticTop = top_neurons_dev_accuracies['__OVERALL__']\n",
    "        \n",
    "        random_neurons = np.random.choice(ordering, size=len(top_neurons), replace=False)\n",
    "        print(\"Selecting %d random neurons\" % (len(random_neurons)))\n",
    "        X_filtered = utils.filter_activations_keep_neurons(random_neurons, X)\n",
    "        X_dev_filtered = utils.filter_activations_keep_neurons(random_neurons, X_dev)\n",
    "        model_temp = utils.train_logreg_model(X_filtered, y, lambda_l1=L1, lambda_l2=L2, num_epochs=10, batch_size=BATCH_SIZE)\n",
    "        random_neurons_dev_accuracies = utils.evaluate_model(model_temp, X_dev_filtered, y_dev, idx2label, source_tokens=dev_tokens['source'])\n",
    "        accuracyElasticRandom = random_neurons_dev_accuracies['__OVERALL__']\n",
    "        \n",
    "        bottom_neurons = ordering[-int(percentage*len(ordering)):]\n",
    "        print(\"Selecting %d bottom neurons\" % (len(bottom_neurons)))\n",
    "        X_filtered = utils.filter_activations_keep_neurons(bottom_neurons, X)\n",
    "        X_dev_filtered = utils.filter_activations_keep_neurons(bottom_neurons, X_dev)\n",
    "        model_temp = utils.train_logreg_model(X_filtered, y, lambda_l1=L1, lambda_l2=L2, num_epochs=10, batch_size=BATCH_SIZE)\n",
    "        bottom_neurons_dev_accuracies = utils.evaluate_model(model_temp, X_dev_filtered, y_dev, idx2label, source_tokens=dev_tokens['source'])\n",
    "        accuracyElasticBottom = bottom_neurons_dev_accuracies['__OVERALL__']\n",
    "        \n",
    "        print (\"Accuracy with selected: \" + str(percentage*100) + str(\"% = \") + str(len(top_neurons)) + str(\" neurons\"))\n",
    "        print (\"Overall Accuracy for this Lambda Set: \" + str(accuracyElastic))\n",
    "        print (\"Top Neurons Accuracy: \" + str(accuracyElasticTop))\n",
    "        print (\"Random Neuron Accuracy: \" + str(accuracyElasticRandom))\n",
    "        print (\"Bottom Neuron Accuracy: \" + str(accuracyElasticBottom))\n",
    "    \n",
    "    return\n",
    "\n"
   ]
  },
  {
   "cell_type": "code",
   "execution_count": 35,
   "metadata": {
    "scrolled": true
   },
   "outputs": [
    {
     "name": "stdout",
     "output_type": "stream",
     "text": [
      "Building model with: L1: 0.0001 L2: 0.0001\n",
      "Training classification model\n",
      "Creating model...\n",
      "Number of training instances: 199207\n",
      "Number of classes: 17\n"
     ]
    },
    {
     "data": {
      "application/vnd.jupyter.widget-view+json": {
       "model_id": "5fbe6146574c4cec9a9a47d4131c529b",
       "version_major": 2,
       "version_minor": 0
      },
      "text/plain": [
       "HBox(children=(FloatProgress(value=1.0, bar_style='info', description='epoch [1/10]', max=1.0, style=ProgressS…"
      ]
     },
     "metadata": {},
     "output_type": "display_data"
    },
    {
     "name": "stdout",
     "output_type": "stream",
     "text": [
      "\n",
      "Epoch: [1/10], Loss: 0.0032\n"
     ]
    },
    {
     "data": {
      "application/vnd.jupyter.widget-view+json": {
       "model_id": "fff8fbf5011e414197ac754189cc36e1",
       "version_major": 2,
       "version_minor": 0
      },
      "text/plain": [
       "HBox(children=(FloatProgress(value=1.0, bar_style='info', description='epoch [2/10]', max=1.0, style=ProgressS…"
      ]
     },
     "metadata": {},
     "output_type": "display_data"
    },
    {
     "name": "stdout",
     "output_type": "stream",
     "text": [
      "\n",
      "Epoch: [2/10], Loss: 0.0029\n"
     ]
    },
    {
     "data": {
      "application/vnd.jupyter.widget-view+json": {
       "model_id": "e13dbc812f634f03b8925fb6352b171d",
       "version_major": 2,
       "version_minor": 0
      },
      "text/plain": [
       "HBox(children=(FloatProgress(value=1.0, bar_style='info', description='epoch [3/10]', max=1.0, style=ProgressS…"
      ]
     },
     "metadata": {},
     "output_type": "display_data"
    },
    {
     "name": "stdout",
     "output_type": "stream",
     "text": [
      "\n",
      "Epoch: [3/10], Loss: 0.0029\n"
     ]
    },
    {
     "data": {
      "application/vnd.jupyter.widget-view+json": {
       "model_id": "6846566e44de41a18871aecf9d1faf5e",
       "version_major": 2,
       "version_minor": 0
      },
      "text/plain": [
       "HBox(children=(FloatProgress(value=1.0, bar_style='info', description='epoch [4/10]', max=1.0, style=ProgressS…"
      ]
     },
     "metadata": {},
     "output_type": "display_data"
    },
    {
     "name": "stdout",
     "output_type": "stream",
     "text": [
      "\n",
      "Epoch: [4/10], Loss: 0.0031\n"
     ]
    },
    {
     "data": {
      "application/vnd.jupyter.widget-view+json": {
       "model_id": "b384ef7f50fc4322b05cd1bea7715f61",
       "version_major": 2,
       "version_minor": 0
      },
      "text/plain": [
       "HBox(children=(FloatProgress(value=1.0, bar_style='info', description='epoch [5/10]', max=1.0, style=ProgressS…"
      ]
     },
     "metadata": {},
     "output_type": "display_data"
    },
    {
     "name": "stdout",
     "output_type": "stream",
     "text": [
      "\n",
      "Epoch: [5/10], Loss: 0.0029\n"
     ]
    },
    {
     "data": {
      "application/vnd.jupyter.widget-view+json": {
       "model_id": "bd1bc4b08fd745caacd6faae4ab0946b",
       "version_major": 2,
       "version_minor": 0
      },
      "text/plain": [
       "HBox(children=(FloatProgress(value=1.0, bar_style='info', description='epoch [6/10]', max=1.0, style=ProgressS…"
      ]
     },
     "metadata": {},
     "output_type": "display_data"
    },
    {
     "name": "stdout",
     "output_type": "stream",
     "text": [
      "\n",
      "Epoch: [6/10], Loss: 0.0029\n"
     ]
    },
    {
     "data": {
      "application/vnd.jupyter.widget-view+json": {
       "model_id": "ead29300c5e04c8dbdc2af05815ccbf1",
       "version_major": 2,
       "version_minor": 0
      },
      "text/plain": [
       "HBox(children=(FloatProgress(value=1.0, bar_style='info', description='epoch [7/10]', max=1.0, style=ProgressS…"
      ]
     },
     "metadata": {},
     "output_type": "display_data"
    },
    {
     "name": "stdout",
     "output_type": "stream",
     "text": [
      "\n",
      "Epoch: [7/10], Loss: 0.0030\n"
     ]
    },
    {
     "data": {
      "application/vnd.jupyter.widget-view+json": {
       "model_id": "b2c1ceead0824ab182ba48fe3ebfa77b",
       "version_major": 2,
       "version_minor": 0
      },
      "text/plain": [
       "HBox(children=(FloatProgress(value=1.0, bar_style='info', description='epoch [8/10]', max=1.0, style=ProgressS…"
      ]
     },
     "metadata": {},
     "output_type": "display_data"
    },
    {
     "name": "stdout",
     "output_type": "stream",
     "text": [
      "\n",
      "Epoch: [8/10], Loss: 0.0029\n"
     ]
    },
    {
     "data": {
      "application/vnd.jupyter.widget-view+json": {
       "model_id": "377df886c53b43b3b36a041a49c0e392",
       "version_major": 2,
       "version_minor": 0
      },
      "text/plain": [
       "HBox(children=(FloatProgress(value=1.0, bar_style='info', description='epoch [9/10]', max=1.0, style=ProgressS…"
      ]
     },
     "metadata": {},
     "output_type": "display_data"
    },
    {
     "name": "stdout",
     "output_type": "stream",
     "text": [
      "\n",
      "Epoch: [9/10], Loss: 0.0030\n"
     ]
    },
    {
     "data": {
      "application/vnd.jupyter.widget-view+json": {
       "model_id": "c19ef4b9121c49068d45e62e52620d3f",
       "version_major": 2,
       "version_minor": 0
      },
      "text/plain": [
       "HBox(children=(FloatProgress(value=1.0, bar_style='info', description='epoch [10/10]', max=1.0, style=Progress…"
      ]
     },
     "metadata": {},
     "output_type": "display_data"
    },
    {
     "name": "stdout",
     "output_type": "stream",
     "text": [
      "\n",
      "Epoch: [10/10], Loss: 0.0029\n"
     ]
    },
    {
     "data": {
      "application/vnd.jupyter.widget-view+json": {
       "model_id": "b1fbb5093eaa4a61bfccb3ab0760d108",
       "version_major": 2,
       "version_minor": 0
      },
      "text/plain": [
       "HBox(children=(FloatProgress(value=1.0, bar_style='info', description='Evaluating', max=1.0, style=ProgressSty…"
      ]
     },
     "metadata": {},
     "output_type": "display_data"
    },
    {
     "name": "stdout",
     "output_type": "stream",
     "text": [
      "\n",
      "Score (accuracy) of the model: 0.9411\n"
     ]
    },
    {
     "data": {
      "application/vnd.jupyter.widget-view+json": {
       "model_id": "02f79cf98bb04ef5a177af4608dc44d0",
       "version_major": 2,
       "version_minor": 0
      },
      "text/plain": [
       "HBox(children=(FloatProgress(value=0.0, max=1001.0), HTML(value='')))"
      ]
     },
     "metadata": {},
     "output_type": "display_data"
    },
    {
     "name": "stdout",
     "output_type": "stream",
     "text": [
      "\n",
      "Selecting 499 top neurons\n",
      "Training classification model\n",
      "Creating model...\n",
      "Number of training instances: 199207\n",
      "Number of classes: 17\n"
     ]
    },
    {
     "data": {
      "application/vnd.jupyter.widget-view+json": {
       "model_id": "5eefa26962294f0497dcbe147fa6f84c",
       "version_major": 2,
       "version_minor": 0
      },
      "text/plain": [
       "HBox(children=(FloatProgress(value=1.0, bar_style='info', description='epoch [1/10]', max=1.0, style=ProgressS…"
      ]
     },
     "metadata": {},
     "output_type": "display_data"
    },
    {
     "name": "stdout",
     "output_type": "stream",
     "text": [
      "\n",
      "Epoch: [1/10], Loss: 0.0024\n"
     ]
    },
    {
     "data": {
      "application/vnd.jupyter.widget-view+json": {
       "model_id": "413c82f74e2f4f2b859960f191dbbd43",
       "version_major": 2,
       "version_minor": 0
      },
      "text/plain": [
       "HBox(children=(FloatProgress(value=1.0, bar_style='info', description='epoch [2/10]', max=1.0, style=ProgressS…"
      ]
     },
     "metadata": {},
     "output_type": "display_data"
    },
    {
     "name": "stdout",
     "output_type": "stream",
     "text": [
      "\n",
      "Epoch: [2/10], Loss: 0.0015\n"
     ]
    },
    {
     "data": {
      "application/vnd.jupyter.widget-view+json": {
       "model_id": "13403ef8190a4d808d64ea5ef3a21a5e",
       "version_major": 2,
       "version_minor": 0
      },
      "text/plain": [
       "HBox(children=(FloatProgress(value=1.0, bar_style='info', description='epoch [3/10]', max=1.0, style=ProgressS…"
      ]
     },
     "metadata": {},
     "output_type": "display_data"
    },
    {
     "name": "stdout",
     "output_type": "stream",
     "text": [
      "\n",
      "Epoch: [3/10], Loss: 0.0015\n"
     ]
    },
    {
     "data": {
      "application/vnd.jupyter.widget-view+json": {
       "model_id": "d8e237fd1da54e818450df2ad507c0d3",
       "version_major": 2,
       "version_minor": 0
      },
      "text/plain": [
       "HBox(children=(FloatProgress(value=1.0, bar_style='info', description='epoch [4/10]', max=1.0, style=ProgressS…"
      ]
     },
     "metadata": {},
     "output_type": "display_data"
    },
    {
     "name": "stdout",
     "output_type": "stream",
     "text": [
      "\n",
      "Epoch: [4/10], Loss: 0.0014\n"
     ]
    },
    {
     "data": {
      "application/vnd.jupyter.widget-view+json": {
       "model_id": "6d076c56e1ea452abf8e8aafc65b2c1b",
       "version_major": 2,
       "version_minor": 0
      },
      "text/plain": [
       "HBox(children=(FloatProgress(value=1.0, bar_style='info', description='epoch [5/10]', max=1.0, style=ProgressS…"
      ]
     },
     "metadata": {},
     "output_type": "display_data"
    },
    {
     "name": "stdout",
     "output_type": "stream",
     "text": [
      "\n",
      "Epoch: [5/10], Loss: 0.0014\n"
     ]
    },
    {
     "data": {
      "application/vnd.jupyter.widget-view+json": {
       "model_id": "8b76596d5223450b81d21661bc1704f2",
       "version_major": 2,
       "version_minor": 0
      },
      "text/plain": [
       "HBox(children=(FloatProgress(value=1.0, bar_style='info', description='epoch [6/10]', max=1.0, style=ProgressS…"
      ]
     },
     "metadata": {},
     "output_type": "display_data"
    },
    {
     "name": "stdout",
     "output_type": "stream",
     "text": [
      "\n",
      "Epoch: [6/10], Loss: 0.0014\n"
     ]
    },
    {
     "data": {
      "application/vnd.jupyter.widget-view+json": {
       "model_id": "a5c240d815fd4125a30284bcd0807746",
       "version_major": 2,
       "version_minor": 0
      },
      "text/plain": [
       "HBox(children=(FloatProgress(value=1.0, bar_style='info', description='epoch [7/10]', max=1.0, style=ProgressS…"
      ]
     },
     "metadata": {},
     "output_type": "display_data"
    },
    {
     "name": "stdout",
     "output_type": "stream",
     "text": [
      "\n",
      "Epoch: [7/10], Loss: 0.0014\n"
     ]
    },
    {
     "data": {
      "application/vnd.jupyter.widget-view+json": {
       "model_id": "61b7011ef7ca4ad585d9f93531ff1f86",
       "version_major": 2,
       "version_minor": 0
      },
      "text/plain": [
       "HBox(children=(FloatProgress(value=1.0, bar_style='info', description='epoch [8/10]', max=1.0, style=ProgressS…"
      ]
     },
     "metadata": {},
     "output_type": "display_data"
    },
    {
     "name": "stdout",
     "output_type": "stream",
     "text": [
      "\n",
      "Epoch: [8/10], Loss: 0.0014\n"
     ]
    },
    {
     "data": {
      "application/vnd.jupyter.widget-view+json": {
       "model_id": "f4016b1ae440443db1d7681d6d8b2eac",
       "version_major": 2,
       "version_minor": 0
      },
      "text/plain": [
       "HBox(children=(FloatProgress(value=1.0, bar_style='info', description='epoch [9/10]', max=1.0, style=ProgressS…"
      ]
     },
     "metadata": {},
     "output_type": "display_data"
    },
    {
     "name": "stdout",
     "output_type": "stream",
     "text": [
      "\n",
      "Epoch: [9/10], Loss: 0.0014\n"
     ]
    },
    {
     "data": {
      "application/vnd.jupyter.widget-view+json": {
       "model_id": "2a884dd0fb0444988871b0e7c5518865",
       "version_major": 2,
       "version_minor": 0
      },
      "text/plain": [
       "HBox(children=(FloatProgress(value=1.0, bar_style='info', description='epoch [10/10]', max=1.0, style=Progress…"
      ]
     },
     "metadata": {},
     "output_type": "display_data"
    },
    {
     "name": "stdout",
     "output_type": "stream",
     "text": [
      "\n",
      "Epoch: [10/10], Loss: 0.0014\n"
     ]
    },
    {
     "data": {
      "application/vnd.jupyter.widget-view+json": {
       "model_id": "5802bc970f5d479e8909f1529de97964",
       "version_major": 2,
       "version_minor": 0
      },
      "text/plain": [
       "HBox(children=(FloatProgress(value=1.0, bar_style='info', description='Evaluating', max=1.0, style=ProgressSty…"
      ]
     },
     "metadata": {},
     "output_type": "display_data"
    },
    {
     "name": "stdout",
     "output_type": "stream",
     "text": [
      "\n",
      "Score (accuracy) of the model: 0.9500\n"
     ]
    },
    {
     "data": {
      "application/vnd.jupyter.widget-view+json": {
       "model_id": "8750734f8ce34eaabd0365bec238a717",
       "version_major": 2,
       "version_minor": 0
      },
      "text/plain": [
       "HBox(children=(FloatProgress(value=1.0, bar_style='info', description='Evaluating', max=1.0, style=ProgressSty…"
      ]
     },
     "metadata": {},
     "output_type": "display_data"
    },
    {
     "name": "stdout",
     "output_type": "stream",
     "text": [
      "\n",
      "Score (accuracy) of the model: 0.9469\n",
      "Selecting 499 random neurons\n",
      "Training classification model\n",
      "Creating model...\n",
      "Number of training instances: 199207\n",
      "Number of classes: 17\n"
     ]
    },
    {
     "data": {
      "application/vnd.jupyter.widget-view+json": {
       "model_id": "17c38e2d44f24cc59b04cf41bbfcce65",
       "version_major": 2,
       "version_minor": 0
      },
      "text/plain": [
       "HBox(children=(FloatProgress(value=1.0, bar_style='info', description='epoch [1/10]', max=1.0, style=ProgressS…"
      ]
     },
     "metadata": {},
     "output_type": "display_data"
    },
    {
     "name": "stdout",
     "output_type": "stream",
     "text": [
      "\n",
      "Epoch: [1/10], Loss: 0.0027\n"
     ]
    },
    {
     "data": {
      "application/vnd.jupyter.widget-view+json": {
       "model_id": "ed0aa9c16eea4338843a8e7a76c52132",
       "version_major": 2,
       "version_minor": 0
      },
      "text/plain": [
       "HBox(children=(FloatProgress(value=1.0, bar_style='info', description='epoch [2/10]', max=1.0, style=ProgressS…"
      ]
     },
     "metadata": {},
     "output_type": "display_data"
    },
    {
     "name": "stdout",
     "output_type": "stream",
     "text": [
      "\n",
      "Epoch: [2/10], Loss: 0.0017\n"
     ]
    },
    {
     "data": {
      "application/vnd.jupyter.widget-view+json": {
       "model_id": "f1440640821a45f9ba3be79ef411053c",
       "version_major": 2,
       "version_minor": 0
      },
      "text/plain": [
       "HBox(children=(FloatProgress(value=1.0, bar_style='info', description='epoch [3/10]', max=1.0, style=ProgressS…"
      ]
     },
     "metadata": {},
     "output_type": "display_data"
    },
    {
     "name": "stdout",
     "output_type": "stream",
     "text": [
      "\n",
      "Epoch: [3/10], Loss: 0.0016\n"
     ]
    },
    {
     "data": {
      "application/vnd.jupyter.widget-view+json": {
       "model_id": "f920518a687642c5ba07647daaa9d69d",
       "version_major": 2,
       "version_minor": 0
      },
      "text/plain": [
       "HBox(children=(FloatProgress(value=1.0, bar_style='info', description='epoch [4/10]', max=1.0, style=ProgressS…"
      ]
     },
     "metadata": {},
     "output_type": "display_data"
    },
    {
     "name": "stdout",
     "output_type": "stream",
     "text": [
      "\n",
      "Epoch: [4/10], Loss: 0.0016\n"
     ]
    },
    {
     "data": {
      "application/vnd.jupyter.widget-view+json": {
       "model_id": "59f3b61e493b490d9f817f3a32a1fe65",
       "version_major": 2,
       "version_minor": 0
      },
      "text/plain": [
       "HBox(children=(FloatProgress(value=1.0, bar_style='info', description='epoch [5/10]', max=1.0, style=ProgressS…"
      ]
     },
     "metadata": {},
     "output_type": "display_data"
    },
    {
     "name": "stdout",
     "output_type": "stream",
     "text": [
      "\n",
      "Epoch: [5/10], Loss: 0.0016\n"
     ]
    },
    {
     "data": {
      "application/vnd.jupyter.widget-view+json": {
       "model_id": "ee61968b535249408a5faf2ea2620d36",
       "version_major": 2,
       "version_minor": 0
      },
      "text/plain": [
       "HBox(children=(FloatProgress(value=1.0, bar_style='info', description='epoch [6/10]', max=1.0, style=ProgressS…"
      ]
     },
     "metadata": {},
     "output_type": "display_data"
    },
    {
     "name": "stdout",
     "output_type": "stream",
     "text": [
      "\n",
      "Epoch: [6/10], Loss: 0.0016\n"
     ]
    },
    {
     "data": {
      "application/vnd.jupyter.widget-view+json": {
       "model_id": "aaf9c5d7b92b410b848147c838a5af39",
       "version_major": 2,
       "version_minor": 0
      },
      "text/plain": [
       "HBox(children=(FloatProgress(value=1.0, bar_style='info', description='epoch [7/10]', max=1.0, style=ProgressS…"
      ]
     },
     "metadata": {},
     "output_type": "display_data"
    },
    {
     "name": "stdout",
     "output_type": "stream",
     "text": [
      "\n",
      "Epoch: [7/10], Loss: 0.0016\n"
     ]
    },
    {
     "data": {
      "application/vnd.jupyter.widget-view+json": {
       "model_id": "a2d7939acbb24e07a74182682427a1e6",
       "version_major": 2,
       "version_minor": 0
      },
      "text/plain": [
       "HBox(children=(FloatProgress(value=1.0, bar_style='info', description='epoch [8/10]', max=1.0, style=ProgressS…"
      ]
     },
     "metadata": {},
     "output_type": "display_data"
    },
    {
     "name": "stdout",
     "output_type": "stream",
     "text": [
      "\n",
      "Epoch: [8/10], Loss: 0.0016\n"
     ]
    },
    {
     "data": {
      "application/vnd.jupyter.widget-view+json": {
       "model_id": "0dbf34149e7d49188529c9c36d9fcd7a",
       "version_major": 2,
       "version_minor": 0
      },
      "text/plain": [
       "HBox(children=(FloatProgress(value=1.0, bar_style='info', description='epoch [9/10]', max=1.0, style=ProgressS…"
      ]
     },
     "metadata": {},
     "output_type": "display_data"
    },
    {
     "name": "stdout",
     "output_type": "stream",
     "text": [
      "\n",
      "Epoch: [9/10], Loss: 0.0016\n"
     ]
    },
    {
     "data": {
      "application/vnd.jupyter.widget-view+json": {
       "model_id": "9761f98f154340bfa233f27edc33479c",
       "version_major": 2,
       "version_minor": 0
      },
      "text/plain": [
       "HBox(children=(FloatProgress(value=1.0, bar_style='info', description='epoch [10/10]', max=1.0, style=Progress…"
      ]
     },
     "metadata": {},
     "output_type": "display_data"
    },
    {
     "name": "stdout",
     "output_type": "stream",
     "text": [
      "\n",
      "Epoch: [10/10], Loss: 0.0016\n"
     ]
    },
    {
     "data": {
      "application/vnd.jupyter.widget-view+json": {
       "model_id": "4f743e1de99b4935b6e633edf470d1cf",
       "version_major": 2,
       "version_minor": 0
      },
      "text/plain": [
       "HBox(children=(FloatProgress(value=1.0, bar_style='info', description='Evaluating', max=1.0, style=ProgressSty…"
      ]
     },
     "metadata": {},
     "output_type": "display_data"
    },
    {
     "name": "stdout",
     "output_type": "stream",
     "text": [
      "\n",
      "Score (accuracy) of the model: 0.9464\n",
      "Selecting 499 bottom neurons\n",
      "Training classification model\n",
      "Creating model...\n",
      "Number of training instances: 199207\n",
      "Number of classes: 17\n"
     ]
    },
    {
     "data": {
      "application/vnd.jupyter.widget-view+json": {
       "model_id": "628324c8230d4f9db69cfae4fc47a9fa",
       "version_major": 2,
       "version_minor": 0
      },
      "text/plain": [
       "HBox(children=(FloatProgress(value=1.0, bar_style='info', description='epoch [1/10]', max=1.0, style=ProgressS…"
      ]
     },
     "metadata": {},
     "output_type": "display_data"
    },
    {
     "name": "stdout",
     "output_type": "stream",
     "text": [
      "\n",
      "Epoch: [1/10], Loss: 0.0036\n"
     ]
    },
    {
     "data": {
      "application/vnd.jupyter.widget-view+json": {
       "model_id": "314596671cec4a79afc9c970ff544d5d",
       "version_major": 2,
       "version_minor": 0
      },
      "text/plain": [
       "HBox(children=(FloatProgress(value=1.0, bar_style='info', description='epoch [2/10]', max=1.0, style=ProgressS…"
      ]
     },
     "metadata": {},
     "output_type": "display_data"
    },
    {
     "name": "stdout",
     "output_type": "stream",
     "text": [
      "\n",
      "Epoch: [2/10], Loss: 0.0022\n"
     ]
    },
    {
     "data": {
      "application/vnd.jupyter.widget-view+json": {
       "model_id": "842abffe71984b22b8672756c121cb93",
       "version_major": 2,
       "version_minor": 0
      },
      "text/plain": [
       "HBox(children=(FloatProgress(value=1.0, bar_style='info', description='epoch [3/10]', max=1.0, style=ProgressS…"
      ]
     },
     "metadata": {},
     "output_type": "display_data"
    },
    {
     "name": "stdout",
     "output_type": "stream",
     "text": [
      "\n",
      "Epoch: [3/10], Loss: 0.0021\n"
     ]
    },
    {
     "data": {
      "application/vnd.jupyter.widget-view+json": {
       "model_id": "47a9513f68f945448f2f8bf612cfac38",
       "version_major": 2,
       "version_minor": 0
      },
      "text/plain": [
       "HBox(children=(FloatProgress(value=1.0, bar_style='info', description='epoch [4/10]', max=1.0, style=ProgressS…"
      ]
     },
     "metadata": {},
     "output_type": "display_data"
    },
    {
     "name": "stdout",
     "output_type": "stream",
     "text": [
      "\n",
      "Epoch: [4/10], Loss: 0.0021\n"
     ]
    },
    {
     "data": {
      "application/vnd.jupyter.widget-view+json": {
       "model_id": "4259559c559a4a14a2e075503d47db35",
       "version_major": 2,
       "version_minor": 0
      },
      "text/plain": [
       "HBox(children=(FloatProgress(value=1.0, bar_style='info', description='epoch [5/10]', max=1.0, style=ProgressS…"
      ]
     },
     "metadata": {},
     "output_type": "display_data"
    },
    {
     "name": "stdout",
     "output_type": "stream",
     "text": [
      "\n",
      "Epoch: [5/10], Loss: 0.0021\n"
     ]
    },
    {
     "data": {
      "application/vnd.jupyter.widget-view+json": {
       "model_id": "e8692d41e1b1453f8cb9c91bc3f39bfc",
       "version_major": 2,
       "version_minor": 0
      },
      "text/plain": [
       "HBox(children=(FloatProgress(value=1.0, bar_style='info', description='epoch [6/10]', max=1.0, style=ProgressS…"
      ]
     },
     "metadata": {},
     "output_type": "display_data"
    },
    {
     "name": "stdout",
     "output_type": "stream",
     "text": [
      "\n",
      "Epoch: [6/10], Loss: 0.0020\n"
     ]
    },
    {
     "data": {
      "application/vnd.jupyter.widget-view+json": {
       "model_id": "753181baacc14553b44f2cae899d3080",
       "version_major": 2,
       "version_minor": 0
      },
      "text/plain": [
       "HBox(children=(FloatProgress(value=1.0, bar_style='info', description='epoch [7/10]', max=1.0, style=ProgressS…"
      ]
     },
     "metadata": {},
     "output_type": "display_data"
    },
    {
     "name": "stdout",
     "output_type": "stream",
     "text": [
      "\n",
      "Epoch: [7/10], Loss: 0.0020\n"
     ]
    },
    {
     "data": {
      "application/vnd.jupyter.widget-view+json": {
       "model_id": "7bf2188a379d4f39af7c3116d7529695",
       "version_major": 2,
       "version_minor": 0
      },
      "text/plain": [
       "HBox(children=(FloatProgress(value=1.0, bar_style='info', description='epoch [8/10]', max=1.0, style=ProgressS…"
      ]
     },
     "metadata": {},
     "output_type": "display_data"
    },
    {
     "name": "stdout",
     "output_type": "stream",
     "text": [
      "\n",
      "Epoch: [8/10], Loss: 0.0020\n"
     ]
    },
    {
     "data": {
      "application/vnd.jupyter.widget-view+json": {
       "model_id": "ec7bc79ac4fe4e46879d71adf4a61339",
       "version_major": 2,
       "version_minor": 0
      },
      "text/plain": [
       "HBox(children=(FloatProgress(value=1.0, bar_style='info', description='epoch [9/10]', max=1.0, style=ProgressS…"
      ]
     },
     "metadata": {},
     "output_type": "display_data"
    },
    {
     "name": "stdout",
     "output_type": "stream",
     "text": [
      "\n",
      "Epoch: [9/10], Loss: 0.0020\n"
     ]
    },
    {
     "data": {
      "application/vnd.jupyter.widget-view+json": {
       "model_id": "1bb723b1f34b4e1d9370fc218d0fe31d",
       "version_major": 2,
       "version_minor": 0
      },
      "text/plain": [
       "HBox(children=(FloatProgress(value=1.0, bar_style='info', description='epoch [10/10]', max=1.0, style=Progress…"
      ]
     },
     "metadata": {},
     "output_type": "display_data"
    },
    {
     "name": "stdout",
     "output_type": "stream",
     "text": [
      "\n",
      "Epoch: [10/10], Loss: 0.0020\n"
     ]
    },
    {
     "data": {
      "application/vnd.jupyter.widget-view+json": {
       "model_id": "a32da11e5a9d4d92bb7f445936a648af",
       "version_major": 2,
       "version_minor": 0
      },
      "text/plain": [
       "HBox(children=(FloatProgress(value=1.0, bar_style='info', description='Evaluating', max=1.0, style=ProgressSty…"
      ]
     },
     "metadata": {},
     "output_type": "display_data"
    },
    {
     "name": "stdout",
     "output_type": "stream",
     "text": [
      "\n",
      "Score (accuracy) of the model: 0.9344\n",
      "Accuracy with selected: 5.0% = 499 neurons\n",
      "Overall Accuracy for this Lambda Set: 0.9410938001927401\n",
      "Top Neurons Accuracy: 0.9500080308384196\n",
      "Random Neuron Accuracy: 0.946353999357533\n",
      "Bottom Neuron Accuracy: 0.9344282043045294\n"
     ]
    }
   ],
   "source": [
    "findMinimalNeurons(X, y, X_dev, y_dev, X_test, y_test)"
   ]
  },
  {
   "cell_type": "markdown",
   "metadata": {},
   "source": [
    "# Analysis"
   ]
  },
  {
   "cell_type": "markdown",
   "metadata": {},
   "source": [
    "# Load Model"
   ]
  },
  {
   "cell_type": "code",
   "execution_count": 36,
   "metadata": {},
   "outputs": [],
   "source": [
    "with open(JSON, 'r') as fp:\n",
    "   mappingsLoaded = json.load(fp)\n",
    "\n",
    "label2idx, Lidx2label, src2idx, idx2src = mappingsLoaded\n",
    "idx2label = {int(k):v for k,v in Lidx2label.items()}\n",
    "model = torch.load(MODEL)"
   ]
  },
  {
   "cell_type": "markdown",
   "metadata": {},
   "source": [
    "# Get Top Neurons for Analysis"
   ]
  },
  {
   "cell_type": "code",
   "execution_count": 37,
   "metadata": {},
   "outputs": [
    {
     "data": {
      "application/vnd.jupyter.widget-view+json": {
       "model_id": "19c88b5a709f4a42840ceba2d57ae3a9",
       "version_major": 2,
       "version_minor": 0
      },
      "text/plain": [
       "HBox(children=(FloatProgress(value=0.0, max=1001.0), HTML(value='')))"
      ]
     },
     "metadata": {},
     "output_type": "display_data"
    },
    {
     "name": "stdout",
     "output_type": "stream",
     "text": [
      "\n",
      "Selecting 499 top neurons\n",
      "Training classification model\n",
      "Creating model...\n",
      "Number of training instances: 199207\n",
      "Number of classes: 17\n"
     ]
    },
    {
     "data": {
      "application/vnd.jupyter.widget-view+json": {
       "model_id": "15a0a7e21f694bd5b10f792ea938e0e0",
       "version_major": 2,
       "version_minor": 0
      },
      "text/plain": [
       "HBox(children=(FloatProgress(value=1.0, bar_style='info', description='epoch [1/10]', max=1.0, style=ProgressS…"
      ]
     },
     "metadata": {},
     "output_type": "display_data"
    },
    {
     "name": "stdout",
     "output_type": "stream",
     "text": [
      "\n",
      "Epoch: [1/10], Loss: 0.0025\n"
     ]
    },
    {
     "data": {
      "application/vnd.jupyter.widget-view+json": {
       "model_id": "c2aa06c45c854bb0a473fcfc11433e65",
       "version_major": 2,
       "version_minor": 0
      },
      "text/plain": [
       "HBox(children=(FloatProgress(value=1.0, bar_style='info', description='epoch [2/10]', max=1.0, style=ProgressS…"
      ]
     },
     "metadata": {},
     "output_type": "display_data"
    },
    {
     "name": "stdout",
     "output_type": "stream",
     "text": [
      "\n",
      "Epoch: [2/10], Loss: 0.0015\n"
     ]
    },
    {
     "data": {
      "application/vnd.jupyter.widget-view+json": {
       "model_id": "7a859408ef6f4a03bacddc713363b275",
       "version_major": 2,
       "version_minor": 0
      },
      "text/plain": [
       "HBox(children=(FloatProgress(value=1.0, bar_style='info', description='epoch [3/10]', max=1.0, style=ProgressS…"
      ]
     },
     "metadata": {},
     "output_type": "display_data"
    },
    {
     "name": "stdout",
     "output_type": "stream",
     "text": [
      "\n",
      "Epoch: [3/10], Loss: 0.0015\n"
     ]
    },
    {
     "data": {
      "application/vnd.jupyter.widget-view+json": {
       "model_id": "564b03474fad49a9b7116577de027958",
       "version_major": 2,
       "version_minor": 0
      },
      "text/plain": [
       "HBox(children=(FloatProgress(value=1.0, bar_style='info', description='epoch [4/10]', max=1.0, style=ProgressS…"
      ]
     },
     "metadata": {},
     "output_type": "display_data"
    },
    {
     "name": "stdout",
     "output_type": "stream",
     "text": [
      "\n",
      "Epoch: [4/10], Loss: 0.0014\n"
     ]
    },
    {
     "data": {
      "application/vnd.jupyter.widget-view+json": {
       "model_id": "2f685b14a3cd492abd2a91daeaae2faf",
       "version_major": 2,
       "version_minor": 0
      },
      "text/plain": [
       "HBox(children=(FloatProgress(value=1.0, bar_style='info', description='epoch [5/10]', max=1.0, style=ProgressS…"
      ]
     },
     "metadata": {},
     "output_type": "display_data"
    },
    {
     "name": "stdout",
     "output_type": "stream",
     "text": [
      "\n",
      "Epoch: [5/10], Loss: 0.0014\n"
     ]
    },
    {
     "data": {
      "application/vnd.jupyter.widget-view+json": {
       "model_id": "c225bd61265041c6aec16a816c86e049",
       "version_major": 2,
       "version_minor": 0
      },
      "text/plain": [
       "HBox(children=(FloatProgress(value=1.0, bar_style='info', description='epoch [6/10]', max=1.0, style=ProgressS…"
      ]
     },
     "metadata": {},
     "output_type": "display_data"
    },
    {
     "name": "stdout",
     "output_type": "stream",
     "text": [
      "\n",
      "Epoch: [6/10], Loss: 0.0014\n"
     ]
    },
    {
     "data": {
      "application/vnd.jupyter.widget-view+json": {
       "model_id": "db973991343a41c8afde2c6bfeb3ea4f",
       "version_major": 2,
       "version_minor": 0
      },
      "text/plain": [
       "HBox(children=(FloatProgress(value=1.0, bar_style='info', description='epoch [7/10]', max=1.0, style=ProgressS…"
      ]
     },
     "metadata": {},
     "output_type": "display_data"
    },
    {
     "name": "stdout",
     "output_type": "stream",
     "text": [
      "\n",
      "Epoch: [7/10], Loss: 0.0014\n"
     ]
    },
    {
     "data": {
      "application/vnd.jupyter.widget-view+json": {
       "model_id": "ed289e3349d54e85beee52a86ae5bd3b",
       "version_major": 2,
       "version_minor": 0
      },
      "text/plain": [
       "HBox(children=(FloatProgress(value=1.0, bar_style='info', description='epoch [8/10]', max=1.0, style=ProgressS…"
      ]
     },
     "metadata": {},
     "output_type": "display_data"
    },
    {
     "name": "stdout",
     "output_type": "stream",
     "text": [
      "\n",
      "Epoch: [8/10], Loss: 0.0014\n"
     ]
    },
    {
     "data": {
      "application/vnd.jupyter.widget-view+json": {
       "model_id": "0eb242fcfc184d88b30d0f42d5a171b4",
       "version_major": 2,
       "version_minor": 0
      },
      "text/plain": [
       "HBox(children=(FloatProgress(value=1.0, bar_style='info', description='epoch [9/10]', max=1.0, style=ProgressS…"
      ]
     },
     "metadata": {},
     "output_type": "display_data"
    },
    {
     "name": "stdout",
     "output_type": "stream",
     "text": [
      "\n",
      "Epoch: [9/10], Loss: 0.0014\n"
     ]
    },
    {
     "data": {
      "application/vnd.jupyter.widget-view+json": {
       "model_id": "ab06c0c6383c474cb31964fbccd99c1b",
       "version_major": 2,
       "version_minor": 0
      },
      "text/plain": [
       "HBox(children=(FloatProgress(value=1.0, bar_style='info', description='epoch [10/10]', max=1.0, style=Progress…"
      ]
     },
     "metadata": {},
     "output_type": "display_data"
    },
    {
     "name": "stdout",
     "output_type": "stream",
     "text": [
      "\n",
      "Epoch: [10/10], Loss: 0.0014\n"
     ]
    },
    {
     "data": {
      "application/vnd.jupyter.widget-view+json": {
       "model_id": "51ac3219246542ffbe2d78178af55761",
       "version_major": 2,
       "version_minor": 0
      },
      "text/plain": [
       "HBox(children=(FloatProgress(value=1.0, bar_style='info', description='Evaluating', max=1.0, style=ProgressSty…"
      ]
     },
     "metadata": {},
     "output_type": "display_data"
    },
    {
     "name": "stdout",
     "output_type": "stream",
     "text": [
      "\n",
      "Score (accuracy) of the model: 0.9634\n"
     ]
    },
    {
     "data": {
      "application/vnd.jupyter.widget-view+json": {
       "model_id": "917e50421d904ff89ceec31d6aa838b7",
       "version_major": 2,
       "version_minor": 0
      },
      "text/plain": [
       "HBox(children=(FloatProgress(value=1.0, bar_style='info', description='Evaluating', max=1.0, style=ProgressSty…"
      ]
     },
     "metadata": {},
     "output_type": "display_data"
    },
    {
     "name": "stdout",
     "output_type": "stream",
     "text": [
      "\n",
      "Score (accuracy) of the model: 0.9499\n"
     ]
    },
    {
     "data": {
      "application/vnd.jupyter.widget-view+json": {
       "model_id": "ceea75e3e08a40408b193c70d6e79b4d",
       "version_major": 2,
       "version_minor": 0
      },
      "text/plain": [
       "HBox(children=(FloatProgress(value=1.0, bar_style='info', description='Evaluating', max=1.0, style=ProgressSty…"
      ]
     },
     "metadata": {},
     "output_type": "display_data"
    },
    {
     "name": "stdout",
     "output_type": "stream",
     "text": [
      "\n",
      "Score (accuracy) of the model: 0.9470\n"
     ]
    }
   ],
   "source": [
    "percentage = 0.05\n",
    "\n",
    "ordering, cutoffs = utils.get_neuron_ordering(model, label2idx, search_stride=1000)\n",
    "top_neurons = ordering[:int(percentage*len(ordering))]\n",
    "print(\"Selecting %d top neurons\" % (len(top_neurons)))\n",
    "X_filtered = utils.filter_activations_keep_neurons(top_neurons, X)\n",
    "X_dev_filtered = utils.filter_activations_keep_neurons(top_neurons, X_dev)\n",
    "X_test_filtered = utils.filter_activations_keep_neurons(top_neurons, X_test)\n",
    "model_temp = utils.train_logreg_model(X_filtered, y, lambda_l1=L1, lambda_l2=L2, num_epochs=10, batch_size=BATCH_SIZE)\n",
    "top_neurons_train_accuracies = utils.evaluate_model(model_temp, X_filtered, y, idx2label, source_tokens=train_tokens['source'])\n",
    "top_neurons_dev_accuracies = utils.evaluate_model(model_temp, X_dev_filtered, y_dev, idx2label, source_tokens=dev_tokens['source'])\n",
    "top_neurons_test_accuracies = utils.evaluate_model(model_temp, X_test_filtered, y_test, idx2label, source_tokens=test_tokens['source'])\n",
    "accuracyElasticTop = top_neurons_dev_accuracies['__OVERALL__']"
   ]
  },
  {
   "cell_type": "markdown",
   "metadata": {},
   "source": [
    "# Layer-wise Neuron Stats"
   ]
  },
  {
   "cell_type": "code",
   "execution_count": 38,
   "metadata": {},
   "outputs": [
    {
     "data": {
      "image/png": "[encoded data removed]",
      "text/plain": [
       "<Figure size 432x288 with 1 Axes>"
      ]
     },
     "metadata": {
      "needs_background": "light"
     },
     "output_type": "display_data"
    }
   ],
   "source": [
    "percentage = 0.05\n",
    "top_neurons = ordering[:int(percentage*len(ordering))]\n",
    "layerWidth = 768\n",
    "layerDepth = 13\n",
    "layers = [0] * layerDepth\n",
    "layerIndex = list (range(0, layerDepth))\n",
    "for i in top_neurons:\n",
    "    layerNum = int(i/layerWidth)\n",
    "    layers[layerNum] = layers[layerNum] + 1\n",
    "\n",
    "plt.bar(layerIndex, layers)\n",
    "plt.show()\n",
    "    \n",
    "#for idx, val in enumerate(layers):\n",
    " #   print(\"Layer \" + str(idx) + \" contributes \" + str(val))\n",
    "    #print (val)\n"
   ]
  },
  {
   "cell_type": "markdown",
   "metadata": {},
   "source": [
    "# Layer-wise Probe Accuracy (with retraining)"
   ]
  },
  {
   "cell_type": "code",
   "execution_count": 39,
   "metadata": {},
   "outputs": [
    {
     "name": "stdout",
     "output_type": "stream",
     "text": [
      "Selecting from Layer 1\n",
      "768 13\n",
      "Including neurons from f1(#0 to #768)\n",
      "Including neurons from f1(#0 to #768)\n",
      "Creating train tensors...\n",
      "Number of tokens:  199207\n",
      "length of source dictionary:  19649\n",
      "length of target dictionary:  17\n",
      "199207\n",
      "Total instances: 199207\n",
      "['partnership', 'Crim', 'DAUGHTER', 'equivalant', 'SE', 'Conservative', 'sniffing', 'Bio', 'caught', 'ate', 'trimmers', '1542', 'discretion', 'Claude', 'sulfur', 'Meanwhile', 'arbitrators', 'finish', 'dear', 'straight']\n",
      "Number of tokens:  24904\n",
      "length of source dictionary:  19649\n",
      "length of target dictionary:  17\n",
      "24904\n",
      "Total instances: 24904\n",
      "['http://www.google.co.uk/search?q=forensic+photography&ie=utf-8&oe=utf-8&aq=t&rls=org.mozilla:en-US:official&client=firefox-a&safe=active&sout=1', 'ate', 'discretion', 'Urban', 'straight', 'dear', 'join', 'bit', 'Harvey', 'smart', 'smooth', 'L', 'gifts', 'beat', 'occupied', 'appear', 'stayed', 'begin', 'answer', 'smell']\n",
      "Number of tokens:  24737\n",
      "length of source dictionary:  19649\n",
      "length of target dictionary:  17\n",
      "24737\n",
      "Total instances: 24737\n",
      "['thirteen', 'trimmers', 'Hubris', 'straight', 'finish', 'reside', 'Looks', 'join', 'bit', 'bagh', 'Usamah', 'facsimile', 'Harvey', '4/14/00', 'bmw', 'sink', 'greatest', 'L', 'gifts', 'beat']\n",
      "Building model...\n",
      "Training classification model\n",
      "Creating model...\n",
      "Number of training instances: 199207\n",
      "Number of classes: 17\n"
     ]
    },
    {
     "data": {
      "application/vnd.jupyter.widget-view+json": {
       "model_id": "d24c5940922b444080e4d16c0eacccfa",
       "version_major": 2,
       "version_minor": 0
      },
      "text/plain": [
       "HBox(children=(FloatProgress(value=1.0, bar_style='info', description='epoch [1/1]', max=1.0, style=ProgressSt…"
      ]
     },
     "metadata": {},
     "output_type": "display_data"
    },
    {
     "name": "stdout",
     "output_type": "stream",
     "text": [
      "\n",
      "Epoch: [1/1], Loss: 0.0029\n"
     ]
    },
    {
     "data": {
      "application/vnd.jupyter.widget-view+json": {
       "model_id": "239f0d7be4e34c18bdc30dcfe35bc1c7",
       "version_major": 2,
       "version_minor": 0
      },
      "text/plain": [
       "HBox(children=(FloatProgress(value=1.0, bar_style='info', description='Evaluating', max=1.0, style=ProgressSty…"
      ]
     },
     "metadata": {},
     "output_type": "display_data"
    },
    {
     "name": "stdout",
     "output_type": "stream",
     "text": [
      "\n",
      "Score (accuracy) of the model: 0.8710\n",
      "Selecting from Layer 2\n",
      "768 13\n",
      "Including neurons from f2(#768 to #1536)\n",
      "Including neurons from f2(#768 to #1536)\n",
      "Creating train tensors...\n",
      "Number of tokens:  199207\n",
      "length of source dictionary:  19649\n",
      "length of target dictionary:  17\n",
      "199207\n",
      "Total instances: 199207\n",
      "['partnership', 'Crim', 'DAUGHTER', 'equivalant', 'SE', 'Conservative', 'sniffing', 'Bio', 'caught', 'ate', 'trimmers', '1542', 'discretion', 'Claude', 'sulfur', 'Meanwhile', 'arbitrators', 'finish', 'dear', 'straight']\n",
      "Number of tokens:  24904\n",
      "length of source dictionary:  19649\n",
      "length of target dictionary:  17\n",
      "24904\n",
      "Total instances: 24904\n",
      "['http://www.google.co.uk/search?q=forensic+photography&ie=utf-8&oe=utf-8&aq=t&rls=org.mozilla:en-US:official&client=firefox-a&safe=active&sout=1', 'ate', 'discretion', 'Urban', 'straight', 'dear', 'join', 'bit', 'Harvey', 'smart', 'smooth', 'L', 'gifts', 'beat', 'occupied', 'appear', 'stayed', 'begin', 'answer', 'smell']\n",
      "Number of tokens:  24737\n",
      "length of source dictionary:  19649\n",
      "length of target dictionary:  17\n",
      "24737\n",
      "Total instances: 24737\n",
      "['thirteen', 'trimmers', 'Hubris', 'straight', 'finish', 'reside', 'Looks', 'join', 'bit', 'bagh', 'Usamah', 'facsimile', 'Harvey', '4/14/00', 'bmw', 'sink', 'greatest', 'L', 'gifts', 'beat']\n",
      "Building model...\n",
      "Training classification model\n",
      "Creating model...\n",
      "Number of training instances: 199207\n",
      "Number of classes: 17\n"
     ]
    },
    {
     "data": {
      "application/vnd.jupyter.widget-view+json": {
       "model_id": "28532a50d26c41b89bbbee651d828e9b",
       "version_major": 2,
       "version_minor": 0
      },
      "text/plain": [
       "HBox(children=(FloatProgress(value=1.0, bar_style='info', description='epoch [1/1]', max=1.0, style=ProgressSt…"
      ]
     },
     "metadata": {},
     "output_type": "display_data"
    },
    {
     "name": "stdout",
     "output_type": "stream",
     "text": [
      "\n",
      "Epoch: [1/1], Loss: 0.0025\n"
     ]
    },
    {
     "data": {
      "application/vnd.jupyter.widget-view+json": {
       "model_id": "6d46cc073dde4446a04fb4515eae0e81",
       "version_major": 2,
       "version_minor": 0
      },
      "text/plain": [
       "HBox(children=(FloatProgress(value=1.0, bar_style='info', description='Evaluating', max=1.0, style=ProgressSty…"
      ]
     },
     "metadata": {},
     "output_type": "display_data"
    },
    {
     "name": "stdout",
     "output_type": "stream",
     "text": [
      "\n",
      "Score (accuracy) of the model: 0.8981\n",
      "Selecting from Layer 3\n",
      "768 13\n",
      "Including neurons from f3(#1536 to #2304)\n",
      "Including neurons from f3(#1536 to #2304)\n",
      "Creating train tensors...\n",
      "Number of tokens:  199207\n",
      "length of source dictionary:  19649\n",
      "length of target dictionary:  17\n",
      "199207\n",
      "Total instances: 199207\n",
      "['partnership', 'Crim', 'DAUGHTER', 'equivalant', 'SE', 'Conservative', 'sniffing', 'Bio', 'caught', 'ate', 'trimmers', '1542', 'discretion', 'Claude', 'sulfur', 'Meanwhile', 'arbitrators', 'finish', 'dear', 'straight']\n",
      "Number of tokens:  24904\n",
      "length of source dictionary:  19649\n",
      "length of target dictionary:  17\n",
      "24904\n",
      "Total instances: 24904\n",
      "['http://www.google.co.uk/search?q=forensic+photography&ie=utf-8&oe=utf-8&aq=t&rls=org.mozilla:en-US:official&client=firefox-a&safe=active&sout=1', 'ate', 'discretion', 'Urban', 'straight', 'dear', 'join', 'bit', 'Harvey', 'smart', 'smooth', 'L', 'gifts', 'beat', 'occupied', 'appear', 'stayed', 'begin', 'answer', 'smell']\n",
      "Number of tokens:  24737\n",
      "length of source dictionary:  19649\n",
      "length of target dictionary:  17\n",
      "24737\n",
      "Total instances: 24737\n",
      "['thirteen', 'trimmers', 'Hubris', 'straight', 'finish', 'reside', 'Looks', 'join', 'bit', 'bagh', 'Usamah', 'facsimile', 'Harvey', '4/14/00', 'bmw', 'sink', 'greatest', 'L', 'gifts', 'beat']\n",
      "Building model...\n",
      "Training classification model\n",
      "Creating model...\n",
      "Number of training instances: 199207\n",
      "Number of classes: 17\n"
     ]
    },
    {
     "data": {
      "application/vnd.jupyter.widget-view+json": {
       "model_id": "f32fc25e9c4547ca8706df861cee44ac",
       "version_major": 2,
       "version_minor": 0
      },
      "text/plain": [
       "HBox(children=(FloatProgress(value=1.0, bar_style='info', description='epoch [1/1]', max=1.0, style=ProgressSt…"
      ]
     },
     "metadata": {},
     "output_type": "display_data"
    },
    {
     "name": "stdout",
     "output_type": "stream",
     "text": [
      "\n",
      "Epoch: [1/1], Loss: 0.0019\n"
     ]
    },
    {
     "data": {
      "application/vnd.jupyter.widget-view+json": {
       "model_id": "38a0ad0139174abb8c486d1cffbe72bd",
       "version_major": 2,
       "version_minor": 0
      },
      "text/plain": [
       "HBox(children=(FloatProgress(value=1.0, bar_style='info', description='Evaluating', max=1.0, style=ProgressSty…"
      ]
     },
     "metadata": {},
     "output_type": "display_data"
    },
    {
     "name": "stdout",
     "output_type": "stream",
     "text": [
      "\n",
      "Score (accuracy) of the model: 0.9331\n",
      "Selecting from Layer 4\n",
      "768 13\n",
      "Including neurons from f4(#2304 to #3072)\n",
      "Including neurons from f4(#2304 to #3072)\n",
      "Creating train tensors...\n",
      "Number of tokens:  199207\n",
      "length of source dictionary:  19649\n",
      "length of target dictionary:  17\n",
      "199207\n",
      "Total instances: 199207\n",
      "['partnership', 'Crim', 'DAUGHTER', 'equivalant', 'SE', 'Conservative', 'sniffing', 'Bio', 'caught', 'ate', 'trimmers', '1542', 'discretion', 'Claude', 'sulfur', 'Meanwhile', 'arbitrators', 'finish', 'dear', 'straight']\n",
      "Number of tokens:  24904\n",
      "length of source dictionary:  19649\n",
      "length of target dictionary:  17\n",
      "24904\n",
      "Total instances: 24904\n",
      "['http://www.google.co.uk/search?q=forensic+photography&ie=utf-8&oe=utf-8&aq=t&rls=org.mozilla:en-US:official&client=firefox-a&safe=active&sout=1', 'ate', 'discretion', 'Urban', 'straight', 'dear', 'join', 'bit', 'Harvey', 'smart', 'smooth', 'L', 'gifts', 'beat', 'occupied', 'appear', 'stayed', 'begin', 'answer', 'smell']\n",
      "Number of tokens:  24737\n",
      "length of source dictionary:  19649\n",
      "length of target dictionary:  17\n",
      "24737\n",
      "Total instances: 24737\n",
      "['thirteen', 'trimmers', 'Hubris', 'straight', 'finish', 'reside', 'Looks', 'join', 'bit', 'bagh', 'Usamah', 'facsimile', 'Harvey', '4/14/00', 'bmw', 'sink', 'greatest', 'L', 'gifts', 'beat']\n",
      "Building model...\n",
      "Training classification model\n",
      "Creating model...\n",
      "Number of training instances: 199207\n",
      "Number of classes: 17\n"
     ]
    },
    {
     "data": {
      "application/vnd.jupyter.widget-view+json": {
       "model_id": "af45bd7bc018470c9b1faa8da8118cb4",
       "version_major": 2,
       "version_minor": 0
      },
      "text/plain": [
       "HBox(children=(FloatProgress(value=1.0, bar_style='info', description='epoch [1/1]', max=1.0, style=ProgressSt…"
      ]
     },
     "metadata": {},
     "output_type": "display_data"
    },
    {
     "name": "stdout",
     "output_type": "stream",
     "text": [
      "\n",
      "Epoch: [1/1], Loss: 0.0017\n"
     ]
    },
    {
     "data": {
      "application/vnd.jupyter.widget-view+json": {
       "model_id": "184792c8765e44b7b9b8873059777d4b",
       "version_major": 2,
       "version_minor": 0
      },
      "text/plain": [
       "HBox(children=(FloatProgress(value=1.0, bar_style='info', description='Evaluating', max=1.0, style=ProgressSty…"
      ]
     },
     "metadata": {},
     "output_type": "display_data"
    },
    {
     "name": "stdout",
     "output_type": "stream",
     "text": [
      "\n",
      "Score (accuracy) of the model: 0.9418\n",
      "Selecting from Layer 5\n",
      "768 13\n",
      "Including neurons from f5(#3072 to #3840)\n",
      "Including neurons from f5(#3072 to #3840)\n",
      "Creating train tensors...\n",
      "Number of tokens:  199207\n",
      "length of source dictionary:  19649\n",
      "length of target dictionary:  17\n",
      "199207\n",
      "Total instances: 199207\n",
      "['partnership', 'Crim', 'DAUGHTER', 'equivalant', 'SE', 'Conservative', 'sniffing', 'Bio', 'caught', 'ate', 'trimmers', '1542', 'discretion', 'Claude', 'sulfur', 'Meanwhile', 'arbitrators', 'finish', 'dear', 'straight']\n",
      "Number of tokens:  24904\n",
      "length of source dictionary:  19649\n",
      "length of target dictionary:  17\n",
      "24904\n",
      "Total instances: 24904\n",
      "['http://www.google.co.uk/search?q=forensic+photography&ie=utf-8&oe=utf-8&aq=t&rls=org.mozilla:en-US:official&client=firefox-a&safe=active&sout=1', 'ate', 'discretion', 'Urban', 'straight', 'dear', 'join', 'bit', 'Harvey', 'smart', 'smooth', 'L', 'gifts', 'beat', 'occupied', 'appear', 'stayed', 'begin', 'answer', 'smell']\n",
      "Number of tokens:  24737\n",
      "length of source dictionary:  19649\n",
      "length of target dictionary:  17\n",
      "24737\n",
      "Total instances: 24737\n",
      "['thirteen', 'trimmers', 'Hubris', 'straight', 'finish', 'reside', 'Looks', 'join', 'bit', 'bagh', 'Usamah', 'facsimile', 'Harvey', '4/14/00', 'bmw', 'sink', 'greatest', 'L', 'gifts', 'beat']\n",
      "Building model...\n",
      "Training classification model\n",
      "Creating model...\n",
      "Number of training instances: 199207\n",
      "Number of classes: 17\n"
     ]
    },
    {
     "data": {
      "application/vnd.jupyter.widget-view+json": {
       "model_id": "7eda2e9fb5324554b7539687621cecdc",
       "version_major": 2,
       "version_minor": 0
      },
      "text/plain": [
       "HBox(children=(FloatProgress(value=1.0, bar_style='info', description='epoch [1/1]', max=1.0, style=ProgressSt…"
      ]
     },
     "metadata": {},
     "output_type": "display_data"
    },
    {
     "name": "stdout",
     "output_type": "stream",
     "text": [
      "\n",
      "Epoch: [1/1], Loss: 0.0017\n"
     ]
    },
    {
     "data": {
      "application/vnd.jupyter.widget-view+json": {
       "model_id": "78a7b6fb20384d16bd44f194ef93c253",
       "version_major": 2,
       "version_minor": 0
      },
      "text/plain": [
       "HBox(children=(FloatProgress(value=1.0, bar_style='info', description='Evaluating', max=1.0, style=ProgressSty…"
      ]
     },
     "metadata": {},
     "output_type": "display_data"
    },
    {
     "name": "stdout",
     "output_type": "stream",
     "text": [
      "\n",
      "Score (accuracy) of the model: 0.9460\n",
      "Selecting from Layer 6\n",
      "768 13\n",
      "Including neurons from f6(#3840 to #4608)\n",
      "Including neurons from f6(#3840 to #4608)\n",
      "Creating train tensors...\n",
      "Number of tokens:  199207\n",
      "length of source dictionary:  19649\n",
      "length of target dictionary:  17\n",
      "199207\n",
      "Total instances: 199207\n",
      "['partnership', 'Crim', 'DAUGHTER', 'equivalant', 'SE', 'Conservative', 'sniffing', 'Bio', 'caught', 'ate', 'trimmers', '1542', 'discretion', 'Claude', 'sulfur', 'Meanwhile', 'arbitrators', 'finish', 'dear', 'straight']\n",
      "Number of tokens:  24904\n",
      "length of source dictionary:  19649\n",
      "length of target dictionary:  17\n",
      "24904\n",
      "Total instances: 24904\n",
      "['http://www.google.co.uk/search?q=forensic+photography&ie=utf-8&oe=utf-8&aq=t&rls=org.mozilla:en-US:official&client=firefox-a&safe=active&sout=1', 'ate', 'discretion', 'Urban', 'straight', 'dear', 'join', 'bit', 'Harvey', 'smart', 'smooth', 'L', 'gifts', 'beat', 'occupied', 'appear', 'stayed', 'begin', 'answer', 'smell']\n",
      "Number of tokens:  24737\n",
      "length of source dictionary:  19649\n",
      "length of target dictionary:  17\n",
      "24737\n",
      "Total instances: 24737\n",
      "['thirteen', 'trimmers', 'Hubris', 'straight', 'finish', 'reside', 'Looks', 'join', 'bit', 'bagh', 'Usamah', 'facsimile', 'Harvey', '4/14/00', 'bmw', 'sink', 'greatest', 'L', 'gifts', 'beat']\n",
      "Building model...\n",
      "Training classification model\n",
      "Creating model...\n",
      "Number of training instances: 199207\n",
      "Number of classes: 17\n"
     ]
    },
    {
     "data": {
      "application/vnd.jupyter.widget-view+json": {
       "model_id": "ec66eea8d16c41188214358a14b1198e",
       "version_major": 2,
       "version_minor": 0
      },
      "text/plain": [
       "HBox(children=(FloatProgress(value=1.0, bar_style='info', description='epoch [1/1]', max=1.0, style=ProgressSt…"
      ]
     },
     "metadata": {},
     "output_type": "display_data"
    },
    {
     "name": "stdout",
     "output_type": "stream",
     "text": [
      "\n",
      "Epoch: [1/1], Loss: 0.0016\n"
     ]
    },
    {
     "data": {
      "application/vnd.jupyter.widget-view+json": {
       "model_id": "ca307fcd3e1541eea9a323ebe6609356",
       "version_major": 2,
       "version_minor": 0
      },
      "text/plain": [
       "HBox(children=(FloatProgress(value=1.0, bar_style='info', description='Evaluating', max=1.0, style=ProgressSty…"
      ]
     },
     "metadata": {},
     "output_type": "display_data"
    },
    {
     "name": "stdout",
     "output_type": "stream",
     "text": [
      "\n",
      "Score (accuracy) of the model: 0.9497\n",
      "Selecting from Layer 7\n",
      "768 13\n",
      "Including neurons from f7(#4608 to #5376)\n",
      "Including neurons from f7(#4608 to #5376)\n",
      "Creating train tensors...\n",
      "Number of tokens:  199207\n",
      "length of source dictionary:  19649\n",
      "length of target dictionary:  17\n",
      "199207\n",
      "Total instances: 199207\n",
      "['partnership', 'Crim', 'DAUGHTER', 'equivalant', 'SE', 'Conservative', 'sniffing', 'Bio', 'caught', 'ate', 'trimmers', '1542', 'discretion', 'Claude', 'sulfur', 'Meanwhile', 'arbitrators', 'finish', 'dear', 'straight']\n",
      "Number of tokens:  24904\n",
      "length of source dictionary:  19649\n",
      "length of target dictionary:  17\n",
      "24904\n",
      "Total instances: 24904\n",
      "['http://www.google.co.uk/search?q=forensic+photography&ie=utf-8&oe=utf-8&aq=t&rls=org.mozilla:en-US:official&client=firefox-a&safe=active&sout=1', 'ate', 'discretion', 'Urban', 'straight', 'dear', 'join', 'bit', 'Harvey', 'smart', 'smooth', 'L', 'gifts', 'beat', 'occupied', 'appear', 'stayed', 'begin', 'answer', 'smell']\n",
      "Number of tokens:  24737\n",
      "length of source dictionary:  19649\n",
      "length of target dictionary:  17\n",
      "24737\n",
      "Total instances: 24737\n",
      "['thirteen', 'trimmers', 'Hubris', 'straight', 'finish', 'reside', 'Looks', 'join', 'bit', 'bagh', 'Usamah', 'facsimile', 'Harvey', '4/14/00', 'bmw', 'sink', 'greatest', 'L', 'gifts', 'beat']\n",
      "Building model...\n",
      "Training classification model\n",
      "Creating model...\n",
      "Number of training instances: 199207\n",
      "Number of classes: 17\n"
     ]
    },
    {
     "data": {
      "application/vnd.jupyter.widget-view+json": {
       "model_id": "bd5570fa3a02411e988f062ab5d1de95",
       "version_major": 2,
       "version_minor": 0
      },
      "text/plain": [
       "HBox(children=(FloatProgress(value=1.0, bar_style='info', description='epoch [1/1]', max=1.0, style=ProgressSt…"
      ]
     },
     "metadata": {},
     "output_type": "display_data"
    },
    {
     "name": "stdout",
     "output_type": "stream",
     "text": [
      "\n",
      "Epoch: [1/1], Loss: 0.0016\n"
     ]
    },
    {
     "data": {
      "application/vnd.jupyter.widget-view+json": {
       "model_id": "d92272c99d9147e0bce2993e0bad1f8b",
       "version_major": 2,
       "version_minor": 0
      },
      "text/plain": [
       "HBox(children=(FloatProgress(value=1.0, bar_style='info', description='Evaluating', max=1.0, style=ProgressSty…"
      ]
     },
     "metadata": {},
     "output_type": "display_data"
    },
    {
     "name": "stdout",
     "output_type": "stream",
     "text": [
      "\n",
      "Score (accuracy) of the model: 0.9488\n",
      "Selecting from Layer 8\n",
      "768 13\n",
      "Including neurons from f8(#5376 to #6144)\n",
      "Including neurons from f8(#5376 to #6144)\n",
      "Creating train tensors...\n",
      "Number of tokens:  199207\n",
      "length of source dictionary:  19649\n",
      "length of target dictionary:  17\n",
      "199207\n",
      "Total instances: 199207\n",
      "['partnership', 'Crim', 'DAUGHTER', 'equivalant', 'SE', 'Conservative', 'sniffing', 'Bio', 'caught', 'ate', 'trimmers', '1542', 'discretion', 'Claude', 'sulfur', 'Meanwhile', 'arbitrators', 'finish', 'dear', 'straight']\n",
      "Number of tokens:  24904\n",
      "length of source dictionary:  19649\n",
      "length of target dictionary:  17\n",
      "24904\n",
      "Total instances: 24904\n",
      "['http://www.google.co.uk/search?q=forensic+photography&ie=utf-8&oe=utf-8&aq=t&rls=org.mozilla:en-US:official&client=firefox-a&safe=active&sout=1', 'ate', 'discretion', 'Urban', 'straight', 'dear', 'join', 'bit', 'Harvey', 'smart', 'smooth', 'L', 'gifts', 'beat', 'occupied', 'appear', 'stayed', 'begin', 'answer', 'smell']\n",
      "Number of tokens:  24737\n",
      "length of source dictionary:  19649\n",
      "length of target dictionary:  17\n",
      "24737\n",
      "Total instances: 24737\n",
      "['thirteen', 'trimmers', 'Hubris', 'straight', 'finish', 'reside', 'Looks', 'join', 'bit', 'bagh', 'Usamah', 'facsimile', 'Harvey', '4/14/00', 'bmw', 'sink', 'greatest', 'L', 'gifts', 'beat']\n",
      "Building model...\n",
      "Training classification model\n",
      "Creating model...\n",
      "Number of training instances: 199207\n",
      "Number of classes: 17\n"
     ]
    },
    {
     "data": {
      "application/vnd.jupyter.widget-view+json": {
       "model_id": "d1c14c85095b4f8e80342f0c1a4842bd",
       "version_major": 2,
       "version_minor": 0
      },
      "text/plain": [
       "HBox(children=(FloatProgress(value=1.0, bar_style='info', description='epoch [1/1]', max=1.0, style=ProgressSt…"
      ]
     },
     "metadata": {},
     "output_type": "display_data"
    },
    {
     "name": "stdout",
     "output_type": "stream",
     "text": [
      "\n",
      "Epoch: [1/1], Loss: 0.0017\n"
     ]
    },
    {
     "data": {
      "application/vnd.jupyter.widget-view+json": {
       "model_id": "9fdad31aac3449379aa16c8fd7d49169",
       "version_major": 2,
       "version_minor": 0
      },
      "text/plain": [
       "HBox(children=(FloatProgress(value=1.0, bar_style='info', description='Evaluating', max=1.0, style=ProgressSty…"
      ]
     },
     "metadata": {},
     "output_type": "display_data"
    },
    {
     "name": "stdout",
     "output_type": "stream",
     "text": [
      "\n",
      "Score (accuracy) of the model: 0.9495\n",
      "Selecting from Layer 9\n",
      "768 13\n",
      "Including neurons from f9(#6144 to #6912)\n",
      "Including neurons from f9(#6144 to #6912)\n",
      "Creating train tensors...\n",
      "Number of tokens:  199207\n",
      "length of source dictionary:  19649\n",
      "length of target dictionary:  17\n",
      "199207\n",
      "Total instances: 199207\n",
      "['partnership', 'Crim', 'DAUGHTER', 'equivalant', 'SE', 'Conservative', 'sniffing', 'Bio', 'caught', 'ate', 'trimmers', '1542', 'discretion', 'Claude', 'sulfur', 'Meanwhile', 'arbitrators', 'finish', 'dear', 'straight']\n",
      "Number of tokens:  24904\n",
      "length of source dictionary:  19649\n",
      "length of target dictionary:  17\n",
      "24904\n",
      "Total instances: 24904\n",
      "['http://www.google.co.uk/search?q=forensic+photography&ie=utf-8&oe=utf-8&aq=t&rls=org.mozilla:en-US:official&client=firefox-a&safe=active&sout=1', 'ate', 'discretion', 'Urban', 'straight', 'dear', 'join', 'bit', 'Harvey', 'smart', 'smooth', 'L', 'gifts', 'beat', 'occupied', 'appear', 'stayed', 'begin', 'answer', 'smell']\n",
      "Number of tokens:  24737\n",
      "length of source dictionary:  19649\n",
      "length of target dictionary:  17\n",
      "24737\n",
      "Total instances: 24737\n",
      "['thirteen', 'trimmers', 'Hubris', 'straight', 'finish', 'reside', 'Looks', 'join', 'bit', 'bagh', 'Usamah', 'facsimile', 'Harvey', '4/14/00', 'bmw', 'sink', 'greatest', 'L', 'gifts', 'beat']\n",
      "Building model...\n",
      "Training classification model\n",
      "Creating model...\n",
      "Number of training instances: 199207\n",
      "Number of classes: 17\n"
     ]
    },
    {
     "data": {
      "application/vnd.jupyter.widget-view+json": {
       "model_id": "af8a4d7661f24109a5d2123c53acda89",
       "version_major": 2,
       "version_minor": 0
      },
      "text/plain": [
       "HBox(children=(FloatProgress(value=1.0, bar_style='info', description='epoch [1/1]', max=1.0, style=ProgressSt…"
      ]
     },
     "metadata": {},
     "output_type": "display_data"
    },
    {
     "name": "stdout",
     "output_type": "stream",
     "text": [
      "\n",
      "Epoch: [1/1], Loss: 0.0018\n"
     ]
    },
    {
     "data": {
      "application/vnd.jupyter.widget-view+json": {
       "model_id": "02ce6a5afb574edfbb523204a4657e3f",
       "version_major": 2,
       "version_minor": 0
      },
      "text/plain": [
       "HBox(children=(FloatProgress(value=1.0, bar_style='info', description='Evaluating', max=1.0, style=ProgressSty…"
      ]
     },
     "metadata": {},
     "output_type": "display_data"
    },
    {
     "name": "stdout",
     "output_type": "stream",
     "text": [
      "\n",
      "Score (accuracy) of the model: 0.9474\n",
      "Selecting from Layer 10\n",
      "768 13\n",
      "Including neurons from f10(#6912 to #7680)\n",
      "Including neurons from f10(#6912 to #7680)\n",
      "Creating train tensors...\n",
      "Number of tokens:  199207\n",
      "length of source dictionary:  19649\n",
      "length of target dictionary:  17\n",
      "199207\n",
      "Total instances: 199207\n",
      "['partnership', 'Crim', 'DAUGHTER', 'equivalant', 'SE', 'Conservative', 'sniffing', 'Bio', 'caught', 'ate', 'trimmers', '1542', 'discretion', 'Claude', 'sulfur', 'Meanwhile', 'arbitrators', 'finish', 'dear', 'straight']\n",
      "Number of tokens:  24904\n",
      "length of source dictionary:  19649\n",
      "length of target dictionary:  17\n",
      "24904\n",
      "Total instances: 24904\n",
      "['http://www.google.co.uk/search?q=forensic+photography&ie=utf-8&oe=utf-8&aq=t&rls=org.mozilla:en-US:official&client=firefox-a&safe=active&sout=1', 'ate', 'discretion', 'Urban', 'straight', 'dear', 'join', 'bit', 'Harvey', 'smart', 'smooth', 'L', 'gifts', 'beat', 'occupied', 'appear', 'stayed', 'begin', 'answer', 'smell']\n",
      "Number of tokens:  24737\n",
      "length of source dictionary:  19649\n",
      "length of target dictionary:  17\n",
      "24737\n",
      "Total instances: 24737\n",
      "['thirteen', 'trimmers', 'Hubris', 'straight', 'finish', 'reside', 'Looks', 'join', 'bit', 'bagh', 'Usamah', 'facsimile', 'Harvey', '4/14/00', 'bmw', 'sink', 'greatest', 'L', 'gifts', 'beat']\n",
      "Building model...\n",
      "Training classification model\n",
      "Creating model...\n",
      "Number of training instances: 199207\n",
      "Number of classes: 17\n"
     ]
    },
    {
     "data": {
      "application/vnd.jupyter.widget-view+json": {
       "model_id": "e705e0ad4045449a94a4c1c1c12be665",
       "version_major": 2,
       "version_minor": 0
      },
      "text/plain": [
       "HBox(children=(FloatProgress(value=1.0, bar_style='info', description='epoch [1/1]', max=1.0, style=ProgressSt…"
      ]
     },
     "metadata": {},
     "output_type": "display_data"
    },
    {
     "name": "stdout",
     "output_type": "stream",
     "text": [
      "\n",
      "Epoch: [1/1], Loss: 0.0019\n"
     ]
    },
    {
     "data": {
      "application/vnd.jupyter.widget-view+json": {
       "model_id": "4a54846e6d8e4777b0a1d8781e7bff29",
       "version_major": 2,
       "version_minor": 0
      },
      "text/plain": [
       "HBox(children=(FloatProgress(value=1.0, bar_style='info', description='Evaluating', max=1.0, style=ProgressSty…"
      ]
     },
     "metadata": {},
     "output_type": "display_data"
    },
    {
     "name": "stdout",
     "output_type": "stream",
     "text": [
      "\n",
      "Score (accuracy) of the model: 0.9461\n",
      "Selecting from Layer 11\n",
      "768 13\n",
      "Including neurons from f11(#7680 to #8448)\n",
      "Including neurons from f11(#7680 to #8448)\n",
      "Creating train tensors...\n",
      "Number of tokens:  199207\n",
      "length of source dictionary:  19649\n",
      "length of target dictionary:  17\n",
      "199207\n",
      "Total instances: 199207\n",
      "['partnership', 'Crim', 'DAUGHTER', 'equivalant', 'SE', 'Conservative', 'sniffing', 'Bio', 'caught', 'ate', 'trimmers', '1542', 'discretion', 'Claude', 'sulfur', 'Meanwhile', 'arbitrators', 'finish', 'dear', 'straight']\n",
      "Number of tokens:  24904\n",
      "length of source dictionary:  19649\n",
      "length of target dictionary:  17\n",
      "24904\n",
      "Total instances: 24904\n",
      "['http://www.google.co.uk/search?q=forensic+photography&ie=utf-8&oe=utf-8&aq=t&rls=org.mozilla:en-US:official&client=firefox-a&safe=active&sout=1', 'ate', 'discretion', 'Urban', 'straight', 'dear', 'join', 'bit', 'Harvey', 'smart', 'smooth', 'L', 'gifts', 'beat', 'occupied', 'appear', 'stayed', 'begin', 'answer', 'smell']\n",
      "Number of tokens:  24737\n",
      "length of source dictionary:  19649\n",
      "length of target dictionary:  17\n",
      "24737\n",
      "Total instances: 24737\n",
      "['thirteen', 'trimmers', 'Hubris', 'straight', 'finish', 'reside', 'Looks', 'join', 'bit', 'bagh', 'Usamah', 'facsimile', 'Harvey', '4/14/00', 'bmw', 'sink', 'greatest', 'L', 'gifts', 'beat']\n",
      "Building model...\n",
      "Training classification model\n",
      "Creating model...\n",
      "Number of training instances: 199207\n",
      "Number of classes: 17\n"
     ]
    },
    {
     "data": {
      "application/vnd.jupyter.widget-view+json": {
       "model_id": "4092f5efd3534469bb7d388f3ee65c09",
       "version_major": 2,
       "version_minor": 0
      },
      "text/plain": [
       "HBox(children=(FloatProgress(value=1.0, bar_style='info', description='epoch [1/1]', max=1.0, style=ProgressSt…"
      ]
     },
     "metadata": {},
     "output_type": "display_data"
    },
    {
     "name": "stdout",
     "output_type": "stream",
     "text": [
      "\n",
      "Epoch: [1/1], Loss: 0.0021\n"
     ]
    },
    {
     "data": {
      "application/vnd.jupyter.widget-view+json": {
       "model_id": "0ce34ae9c4284bf08c6d50aee2eee869",
       "version_major": 2,
       "version_minor": 0
      },
      "text/plain": [
       "HBox(children=(FloatProgress(value=1.0, bar_style='info', description='Evaluating', max=1.0, style=ProgressSty…"
      ]
     },
     "metadata": {},
     "output_type": "display_data"
    },
    {
     "name": "stdout",
     "output_type": "stream",
     "text": [
      "\n",
      "Score (accuracy) of the model: 0.9427\n",
      "Selecting from Layer 12\n",
      "768 13\n",
      "Including neurons from f12(#8448 to #9216)\n",
      "Including neurons from f12(#8448 to #9216)\n",
      "Creating train tensors...\n",
      "Number of tokens:  199207\n",
      "length of source dictionary:  19649\n",
      "length of target dictionary:  17\n",
      "199207\n",
      "Total instances: 199207\n",
      "['partnership', 'Crim', 'DAUGHTER', 'equivalant', 'SE', 'Conservative', 'sniffing', 'Bio', 'caught', 'ate', 'trimmers', '1542', 'discretion', 'Claude', 'sulfur', 'Meanwhile', 'arbitrators', 'finish', 'dear', 'straight']\n",
      "Number of tokens:  24904\n",
      "length of source dictionary:  19649\n",
      "length of target dictionary:  17\n",
      "24904\n",
      "Total instances: 24904\n",
      "['http://www.google.co.uk/search?q=forensic+photography&ie=utf-8&oe=utf-8&aq=t&rls=org.mozilla:en-US:official&client=firefox-a&safe=active&sout=1', 'ate', 'discretion', 'Urban', 'straight', 'dear', 'join', 'bit', 'Harvey', 'smart', 'smooth', 'L', 'gifts', 'beat', 'occupied', 'appear', 'stayed', 'begin', 'answer', 'smell']\n",
      "Number of tokens:  24737\n",
      "length of source dictionary:  19649\n",
      "length of target dictionary:  17\n",
      "24737\n",
      "Total instances: 24737\n",
      "['thirteen', 'trimmers', 'Hubris', 'straight', 'finish', 'reside', 'Looks', 'join', 'bit', 'bagh', 'Usamah', 'facsimile', 'Harvey', '4/14/00', 'bmw', 'sink', 'greatest', 'L', 'gifts', 'beat']\n",
      "Building model...\n",
      "Training classification model\n",
      "Creating model...\n",
      "Number of training instances: 199207\n",
      "Number of classes: 17\n"
     ]
    },
    {
     "data": {
      "application/vnd.jupyter.widget-view+json": {
       "model_id": "b83ce6f5729648d49af08395caa0296e",
       "version_major": 2,
       "version_minor": 0
      },
      "text/plain": [
       "HBox(children=(FloatProgress(value=1.0, bar_style='info', description='epoch [1/1]', max=1.0, style=ProgressSt…"
      ]
     },
     "metadata": {},
     "output_type": "display_data"
    },
    {
     "name": "stdout",
     "output_type": "stream",
     "text": [
      "\n",
      "Epoch: [1/1], Loss: 0.0023\n"
     ]
    },
    {
     "data": {
      "application/vnd.jupyter.widget-view+json": {
       "model_id": "7d8a51c074514184b67ab090e997800c",
       "version_major": 2,
       "version_minor": 0
      },
      "text/plain": [
       "HBox(children=(FloatProgress(value=1.0, bar_style='info', description='Evaluating', max=1.0, style=ProgressSty…"
      ]
     },
     "metadata": {},
     "output_type": "display_data"
    },
    {
     "name": "stdout",
     "output_type": "stream",
     "text": [
      "\n",
      "Score (accuracy) of the model: 0.9397\n",
      "Selecting from Layer 13\n",
      "768 13\n",
      "Including neurons from f13(#9216 to #9984)\n",
      "Including neurons from f13(#9216 to #9984)\n",
      "Creating train tensors...\n",
      "Number of tokens:  199207\n",
      "length of source dictionary:  19649\n",
      "length of target dictionary:  17\n",
      "199207\n",
      "Total instances: 199207\n",
      "['partnership', 'Crim', 'DAUGHTER', 'equivalant', 'SE', 'Conservative', 'sniffing', 'Bio', 'caught', 'ate', 'trimmers', '1542', 'discretion', 'Claude', 'sulfur', 'Meanwhile', 'arbitrators', 'finish', 'dear', 'straight']\n",
      "Number of tokens:  24904\n",
      "length of source dictionary:  19649\n",
      "length of target dictionary:  17\n",
      "24904\n",
      "Total instances: 24904\n",
      "['http://www.google.co.uk/search?q=forensic+photography&ie=utf-8&oe=utf-8&aq=t&rls=org.mozilla:en-US:official&client=firefox-a&safe=active&sout=1', 'ate', 'discretion', 'Urban', 'straight', 'dear', 'join', 'bit', 'Harvey', 'smart', 'smooth', 'L', 'gifts', 'beat', 'occupied', 'appear', 'stayed', 'begin', 'answer', 'smell']\n",
      "Number of tokens:  24737\n",
      "length of source dictionary:  19649\n",
      "length of target dictionary:  17\n",
      "24737\n",
      "Total instances: 24737\n",
      "['thirteen', 'trimmers', 'Hubris', 'straight', 'finish', 'reside', 'Looks', 'join', 'bit', 'bagh', 'Usamah', 'facsimile', 'Harvey', '4/14/00', 'bmw', 'sink', 'greatest', 'L', 'gifts', 'beat']\n",
      "Building model...\n",
      "Training classification model\n",
      "Creating model...\n",
      "Number of training instances: 199207\n",
      "Number of classes: 17\n"
     ]
    },
    {
     "data": {
      "application/vnd.jupyter.widget-view+json": {
       "model_id": "33a6b07366d14b2aad88156453c1aa9d",
       "version_major": 2,
       "version_minor": 0
      },
      "text/plain": [
       "HBox(children=(FloatProgress(value=1.0, bar_style='info', description='epoch [1/1]', max=1.0, style=ProgressSt…"
      ]
     },
     "metadata": {},
     "output_type": "display_data"
    },
    {
     "name": "stdout",
     "output_type": "stream",
     "text": [
      "\n",
      "Epoch: [1/1], Loss: 0.0032\n"
     ]
    },
    {
     "data": {
      "application/vnd.jupyter.widget-view+json": {
       "model_id": "763a16b32fbc479bbaf2f7959e14c7b5",
       "version_major": 2,
       "version_minor": 0
      },
      "text/plain": [
       "HBox(children=(FloatProgress(value=1.0, bar_style='info', description='Evaluating', max=1.0, style=ProgressSty…"
      ]
     },
     "metadata": {},
     "output_type": "display_data"
    },
    {
     "name": "stdout",
     "output_type": "stream",
     "text": [
      "\n",
      "Score (accuracy) of the model: 0.9283\n"
     ]
    },
    {
     "data": {
      "image/png": "[encoded data removed]",
      "text/plain": [
       "<Figure size 432x288 with 1 Axes>"
      ]
     },
     "metadata": {
      "needs_background": "light"
     },
     "output_type": "display_data"
    }
   ],
   "source": [
    "layerAccuracy = [0] * layerDepth\n",
    "layerIndex = list (range(1, layerDepth+1))\n",
    "\n",
    "\n",
    "for layer in range(1, NUM_LAYERS+1):\n",
    "    \n",
    "    print (\"Selecting from Layer \" + str(layer))\n",
    "    filter_layers=\"f\" + str(layer)\n",
    "    print(NUM_NEURONS_PER_LAYER, NUM_LAYERS)\n",
    "    f_train_activations, f_test_activations = utils.filter_activations_by_layers(train_activations, test_activations, filter_layers, NUM_NEURONS_PER_LAYER, NUM_LAYERS, IS_BRNN)\n",
    "    f_train_activations, f_dev_activations = utils.filter_activations_by_layers(train_activations, dev_activations, filter_layers, NUM_NEURONS_PER_LAYER, NUM_LAYERS, IS_BRNN)\n",
    "\n",
    "    print(\"Creating train tensors...\")\n",
    "    X_filtered, y, mappings = utils.create_tensors(train_tokens, f_train_activations, TASK_SPECIFIC_TAG)\n",
    "    X_dev_filtered, y_dev, mappings = utils.create_tensors(dev_tokens, f_dev_activations, TASK_SPECIFIC_TAG, mappings)\n",
    "    X_test_filtered, y_test, mappings = utils.create_tensors(test_tokens, f_test_activations, TASK_SPECIFIC_TAG, mappings)\n",
    "    label2idx, idx2label, src2idx, idx2src = mappings\n",
    "    \n",
    "    print(\"Building model...\")\n",
    "    \n",
    "    model_filtered = utils.train_logreg_model(X_filtered, y, lambda_l1=0, lambda_l2=0, num_epochs=1, batch_size=BATCH_SIZE)\n",
    "    #overall_train_accuracies = utils.evaluate_model(model_filtered, X_filtered, y, idx2label)\n",
    "    #overall_dev_accuracies = utils.evaluate_model(model_filtered, X_dev_filtered, y_dev, idx2label)\n",
    "    overall_test_accuracies, predictions = utils.evaluate_model(model_filtered, X_test_filtered, y_test, idx2label, return_predictions=True, source_tokens=test_tokens['source'])\n",
    "    layerAccuracy[layer-1] = overall_test_accuracies['__OVERALL__']\n",
    "    \n",
    "plt.bar(layerIndex, layerAccuracy)\n",
    "plt.show()"
   ]
  },
  {
   "cell_type": "markdown",
   "metadata": {},
   "source": [
    "# Spread of Neurons per property"
   ]
  },
  {
   "cell_type": "code",
   "execution_count": 41,
   "metadata": {},
   "outputs": [
    {
     "data": {
      "application/vnd.jupyter.widget-view+json": {
       "model_id": "1eccdf89cc824999b6602ff7b81182b5",
       "version_major": 2,
       "version_minor": 0
      },
      "text/plain": [
       "HBox(children=(FloatProgress(value=0.0, max=1001.0), HTML(value='')))"
      ]
     },
     "metadata": {},
     "output_type": "display_data"
    },
    {
     "name": "stdout",
     "output_type": "stream",
     "text": [
      "\n"
     ]
    },
    {
     "data": {
      "image/png": "[encoded data removed]",
      "text/plain": [
       "<Figure size 1800x360 with 1 Axes>"
      ]
     },
     "metadata": {
      "needs_background": "light"
     },
     "output_type": "display_data"
    }
   ],
   "source": [
    "percentage=0.05\n",
    "ordering, cutoffs = utils.get_neuron_ordering(model, label2idx, search_stride=1000)\n",
    "top_neurons_global = ordering[:int(percentage*len(ordering))]\n",
    "fac = 1\n",
    "top_neurons_local = []\n",
    "\n",
    "while (len(top_neurons_local) < len(top_neurons_global)):\n",
    "    top_neurons_local, classWise = utils.get_top_neurons(model, percentage*fac, label2idx)\n",
    "    fac = fac + 0.1\n",
    "\n",
    "properties = []\n",
    "numNeurons = []\n",
    "\n",
    "for k, v in classWise.items():\n",
    "    #print (k, v)\n",
    "    properties.append(k)\n",
    "    numNeurons.append(len(v))\n",
    "plt.figure(figsize=(25,5))\n",
    "plt.bar(properties, numNeurons)\n",
    "plt.show()"
   ]
  },
  {
   "cell_type": "markdown",
   "metadata": {},
   "source": [
    "# Spread of Neurons per layer per property"
   ]
  },
  {
   "cell_type": "code",
   "execution_count": 42,
   "metadata": {},
   "outputs": [
    {
     "data": {
      "application/vnd.jupyter.widget-view+json": {
       "model_id": "93f00680274e4b82ae4e586cc637d720",
       "version_major": 2,
       "version_minor": 0
      },
      "text/plain": [
       "HBox(children=(FloatProgress(value=0.0, max=1001.0), HTML(value='')))"
      ]
     },
     "metadata": {},
     "output_type": "display_data"
    },
    {
     "name": "stdout",
     "output_type": "stream",
     "text": [
      "\n",
      "PUNCT\n"
     ]
    },
    {
     "data": {
      "image/png": "[encoded data removed]",
      "text/plain": [
       "<Figure size 1800x360 with 1 Axes>"
      ]
     },
     "metadata": {
      "needs_background": "light"
     },
     "output_type": "display_data"
    },
    {
     "name": "stdout",
     "output_type": "stream",
     "text": [
      "ADV\n"
     ]
    },
    {
     "data": {
      "image/png": "[encoded data removed]",
      "text/plain": [
       "<Figure size 1800x360 with 1 Axes>"
      ]
     },
     "metadata": {
      "needs_background": "light"
     },
     "output_type": "display_data"
    },
    {
     "name": "stdout",
     "output_type": "stream",
     "text": [
      "DET\n"
     ]
    },
    {
     "data": {
      "image/png": "[encoded data removed]",
      "text/plain": [
       "<Figure size 1800x360 with 1 Axes>"
      ]
     },
     "metadata": {
      "needs_background": "light"
     },
     "output_type": "display_data"
    },
    {
     "name": "stdout",
     "output_type": "stream",
     "text": [
      "PART\n"
     ]
    },
    {
     "data": {
      "image/png": "[encoded data removed]",
      "text/plain": [
       "<Figure size 1800x360 with 1 Axes>"
      ]
     },
     "metadata": {
      "needs_background": "light"
     },
     "output_type": "display_data"
    },
    {
     "name": "stdout",
     "output_type": "stream",
     "text": [
      "NOUN\n"
     ]
    },
    {
     "data": {
      "image/png": "[encoded data removed]",
      "text/plain": [
       "<Figure size 1800x360 with 1 Axes>"
      ]
     },
     "metadata": {
      "needs_background": "light"
     },
     "output_type": "display_data"
    },
    {
     "name": "stdout",
     "output_type": "stream",
     "text": [
      "SYM\n"
     ]
    },
    {
     "data": {
      "image/png": "[encoded data removed]",
      "text/plain": [
       "<Figure size 1800x360 with 1 Axes>"
      ]
     },
     "metadata": {
      "needs_background": "light"
     },
     "output_type": "display_data"
    },
    {
     "name": "stdout",
     "output_type": "stream",
     "text": [
      "PROPN\n"
     ]
    },
    {
     "data": {
      "image/png": "[encoded data removed]",
      "text/plain": [
       "<Figure size 1800x360 with 1 Axes>"
      ]
     },
     "metadata": {
      "needs_background": "light"
     },
     "output_type": "display_data"
    },
    {
     "name": "stdout",
     "output_type": "stream",
     "text": [
      "ADJ\n"
     ]
    },
    {
     "data": {
      "image/png": "[encoded data removed]",
      "text/plain": [
       "<Figure size 1800x360 with 1 Axes>"
      ]
     },
     "metadata": {
      "needs_background": "light"
     },
     "output_type": "display_data"
    },
    {
     "name": "stdout",
     "output_type": "stream",
     "text": [
      "VERB\n"
     ]
    },
    {
     "data": {
      "image/png": "[encoded data removed]",
      "text/plain": [
       "<Figure size 1800x360 with 1 Axes>"
      ]
     },
     "metadata": {
      "needs_background": "light"
     },
     "output_type": "display_data"
    },
    {
     "name": "stdout",
     "output_type": "stream",
     "text": [
      "AUX\n"
     ]
    },
    {
     "data": {
      "image/png": "[encoded data removed]",
      "text/plain": [
       "<Figure size 1800x360 with 1 Axes>"
      ]
     },
     "metadata": {
      "needs_background": "light"
     },
     "output_type": "display_data"
    },
    {
     "name": "stdout",
     "output_type": "stream",
     "text": [
      "NUM\n"
     ]
    },
    {
     "data": {
      "image/png": "[encoded data removed]",
      "text/plain": [
       "<Figure size 1800x360 with 1 Axes>"
      ]
     },
     "metadata": {
      "needs_background": "light"
     },
     "output_type": "display_data"
    },
    {
     "name": "stdout",
     "output_type": "stream",
     "text": [
      "CONJ\n"
     ]
    },
    {
     "data": {
      "image/png": "[encoded data removed]",
      "text/plain": [
       "<Figure size 1800x360 with 1 Axes>"
      ]
     },
     "metadata": {
      "needs_background": "light"
     },
     "output_type": "display_data"
    },
    {
     "name": "stdout",
     "output_type": "stream",
     "text": [
      "PRON\n"
     ]
    },
    {
     "data": {
      "image/png": "[encoded data removed]",
      "text/plain": [
       "<Figure size 1800x360 with 1 Axes>"
      ]
     },
     "metadata": {
      "needs_background": "light"
     },
     "output_type": "display_data"
    },
    {
     "name": "stdout",
     "output_type": "stream",
     "text": [
      "X\n"
     ]
    },
    {
     "data": {
      "image/png": "[encoded data removed]",
      "text/plain": [
       "<Figure size 1800x360 with 1 Axes>"
      ]
     },
     "metadata": {
      "needs_background": "light"
     },
     "output_type": "display_data"
    },
    {
     "name": "stdout",
     "output_type": "stream",
     "text": [
      "SCONJ\n"
     ]
    },
    {
     "data": {
      "image/png": "[encoded data removed]",
      "text/plain": [
       "<Figure size 1800x360 with 1 Axes>"
      ]
     },
     "metadata": {
      "needs_background": "light"
     },
     "output_type": "display_data"
    },
    {
     "name": "stdout",
     "output_type": "stream",
     "text": [
      "INTJ\n"
     ]
    },
    {
     "data": {
      "image/png": "[encoded data removed]",
      "text/plain": [
       "<Figure size 1800x360 with 1 Axes>"
      ]
     },
     "metadata": {
      "needs_background": "light"
     },
     "output_type": "display_data"
    },
    {
     "name": "stdout",
     "output_type": "stream",
     "text": [
      "ADP\n"
     ]
    },
    {
     "data": {
      "image/png": "[encoded data removed]",
      "text/plain": [
       "<Figure size 1800x360 with 1 Axes>"
      ]
     },
     "metadata": {
      "needs_background": "light"
     },
     "output_type": "display_data"
    }
   ],
   "source": [
    "percentage=0.05\n",
    "ordering, cutoffs = utils.get_neuron_ordering(model, label2idx, search_stride=1000)\n",
    "top_neurons_global = ordering[:int(percentage*len(ordering))]\n",
    "fac = 1\n",
    "top_neurons_local = []\n",
    "\n",
    "while (len(top_neurons_local) < len(top_neurons_global)):\n",
    "    top_neurons_local, classWise = utils.get_top_neurons(model, percentage*fac, label2idx)\n",
    "    fac = fac + 0.1\n",
    "\n",
    "properties = []\n",
    "numNeurons = []\n",
    "\n",
    "layerWidth = 768\n",
    "layerDepth = 13\n",
    "winner = list (range(0, layerDepth))\n",
    "\n",
    "for k, v in classWise.items():\n",
    "    layers = [0] * layerDepth\n",
    "    for i in v:\n",
    "        layerNum = int(i/layerWidth)\n",
    "        layers[layerNum] = layers[layerNum] + 1\n",
    "    \n",
    "    print (k)\n",
    "    plt.figure(figsize=(25,5))\n",
    "    plt.bar(winner, layers)\n",
    "    plt.show()\n",
    "    \n",
    "    \n",
    "   "
   ]
  },
  {
   "cell_type": "code",
   "execution_count": 44,
   "metadata": {},
   "outputs": [
    {
     "name": "stdout",
     "output_type": "stream",
     "text": [
      "PUNCT,4,2,2,0,0,1,0,0,0,2,1,0,0,0 \n",
      "\n",
      "ADV,0,1,3,3,3,4,8,9,7,7,2,4,0,7 \n",
      "\n",
      "DET,4,5,2,2,0,4,3,3,3,1,0,0,0,1 \n",
      "\n",
      "PART,0,1,0,1,3,2,1,4,2,2,2,3,0,7 \n",
      "\n",
      "NOUN,12,3,4,2,2,5,5,5,6,7,2,5,0,0 \n",
      "\n",
      "SYM,0,0,1,1,0,1,0,2,1,2,1,0,0,7 \n",
      "\n",
      "PROPN,8,2,3,3,0,2,1,3,1,5,12,9,1,10 \n",
      "\n",
      "ADJ,13,3,2,3,1,2,6,6,4,6,1,4,0,0 \n",
      "\n",
      "VERB,2,2,5,1,1,5,4,11,2,3,2,7,0,7 \n",
      "\n",
      "AUX,0,0,1,0,0,2,2,7,9,5,2,1,0,8 \n",
      "\n",
      "NUM,0,2,1,1,3,3,3,3,1,2,0,1,0,4 \n",
      "\n",
      "CONJ,1,5,3,0,1,3,0,0,2,0,0,1,0,1 \n",
      "\n",
      "PRON,1,3,2,1,1,2,2,4,4,2,4,2,0,7 \n",
      "\n",
      "X,0,1,2,0,0,1,2,2,3,4,5,3,0,10 \n",
      "\n",
      "SCONJ,1,0,0,0,0,0,2,7,7,5,1,4,0,7 \n",
      "\n",
      "INTJ,0,3,1,2,0,1,5,6,5,4,2,1,0,7 \n",
      "\n",
      "ADP,2,2,2,0,5,1,4,7,4,2,3,4,0,7 \n",
      "\n",
      "Winner,3,2,0,0,1,0,0,8,1,0,2,0,0,"
     ]
    }
   ],
   "source": [
    "percentage=0.05\n",
    "ordering, cutoffs = utils.get_neuron_ordering(model, label2idx, search_stride=1000)\n",
    "top_neurons_global = ordering[:int(percentage*len(ordering))]\n",
    "fac = 1\n",
    "top_neurons_local = []\n",
    "\n",
    "while (len(top_neurons_local) < len(top_neurons_global)):\n",
    "    top_neurons_local, classWise = utils.get_top_neurons(model, percentage*fac, label2idx)\n",
    "    fac = fac + 0.1\n",
    "\n",
    "layerWidth = 768\n",
    "layerDepth = 13\n",
    "winner = [0] * layerDepth\n",
    "\n",
    "\n",
    "for k, v in classWise.items():\n",
    "    layers = [0] * layerDepth\n",
    "    for i in v:\n",
    "        layerNum = int(i/layerWidth)\n",
    "        layers[layerNum] = layers[layerNum] + 1\n",
    "    \n",
    "    max = 0\n",
    "    maxVal = 0\n",
    "    print (k, end = ',' )\n",
    "    \n",
    "    for idx, val in enumerate(layers):\n",
    "        print(val , end = ','),\n",
    "        if (val > maxVal):\n",
    "            max = idx\n",
    "            maxVal = val\n",
    "    winner[max] = winner[max] +1\n",
    "    print (max, '\\n')\n",
    "\n",
    "print (\"Winner\", end = ',')\n",
    "for i, j in enumerate (winner):\n",
    "    print (j, end = ',')"
   ]
  },
  {
   "cell_type": "code",
   "execution_count": null,
   "metadata": {},
   "outputs": [],
   "source": []
  }
 ],
 "metadata": {
  "kernelspec": {
   "display_name": "Python 3",
   "language": "python",
   "name": "python3"
  },
  "language_info": {
   "codemirror_mode": {
    "name": "ipython",
    "version": 3
   },
   "file_extension": ".py",
   "mimetype": "text/x-python",
   "name": "python",
   "nbconvert_exporter": "python",
   "pygments_lexer": "ipython3",
   "version": "3.7.7"
  }
 },
 "nbformat": 4,
 "nbformat_minor": 2
}
