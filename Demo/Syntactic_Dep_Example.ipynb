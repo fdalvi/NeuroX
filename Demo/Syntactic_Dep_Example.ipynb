{
 "cells": [
  {
   "cell_type": "markdown",
   "metadata": {},
   "source": [
    "# Imports"
   ]
  },
  {
   "cell_type": "code",
   "execution_count": 1,
   "metadata": {},
   "outputs": [],
   "source": [
    "import dill as pickle\n",
    "import json\n",
    "import collections\n",
    "import numpy as np\n",
    "import os\n",
    "import re\n",
    "import sys\n",
    "import h5py\n",
    "import torch\n",
    "import matplotlib.pyplot as plt\n",
    "# Can replace with your own path\n",
    "sys.path.append(os.path.abspath('/alt-mt/work/durrani/aux_classifier/'))\n",
    "\n",
    "import aux_classifier\n",
    "from aux_classifier import data_loader\n",
    "from aux_classifier import utils\n",
    "from tqdm import tqdm, tqdm_notebook, tnrange\n",
    "#from aux_classifier import plotting\n",
    "sys.modules['aux_classifier'] = aux_classifier"
   ]
  },
  {
   "cell_type": "markdown",
   "metadata": {},
   "source": [
    "# JSONS"
   ]
  },
  {
   "cell_type": "code",
   "execution_count": 2,
   "metadata": {},
   "outputs": [],
   "source": [
    "DIR='/alt/mt/work/durrani/Causation_Analysis/ProbingClassifiers/English/SynDep/Representations/xlm-roberta-base/'\n",
    "nMap=os.path.join(DIR,'neuronMap.json')\n",
    "overallAcc=os.path.join(DIR,'overall.json')\n",
    "topRandomBottom=os.path.join(DIR,'topRandomBottom.json')\n",
    "layerWiseAccuracy=os.path.join(DIR,'layerWiseAccuracy.json')\n",
    "layerWiseNeurons=os.path.join(DIR,'layerWiseNeurons.json')\n",
    "spreadOfNeurons=os.path.join(DIR,'spreadOfNeurons.json')\n",
    "spreadOfNeuronsPropertyWise=os.path.join(DIR,'spreadOfNeuronsPropertyWise.json')\n"
   ]
  },
  {
   "cell_type": "markdown",
   "metadata": {},
   "source": [
    "# Constants"
   ]
  },
  {
   "cell_type": "code",
   "execution_count": 3,
   "metadata": {},
   "outputs": [],
   "source": [
    "# Results save directory\n",
    "OUT_DIR = 'results/'\n",
    "\n",
    "# Training setup\n",
    "NUM_EPOCHS = 10\n",
    "BATCH_SIZE = 128\n",
    "\n",
    "L1 = 0.00001 \n",
    "L2 = 0.00001\n",
    "\n",
    "MODEL=os.path.join(DIR,'aux_model')\n",
    "JSON=os.path.join(DIR,'mapping.json')\n",
    "TRAIN_SOURCE = os.path.join(DIR,'en-ud-train.word')\n",
    "TRAIN_LABELS = os.path.join(DIR, 'en-ud-train.rel')\n",
    "TRAIN_HEADS = os.path.join(DIR, 'en-ud-train.head')\n",
    "TRAIN_ACTIVATIONS = os.path.join(DIR, 'en-ud-train.hdf5')\n",
    "DEV_SOURCE = os.path.join(DIR,'en-ud-dev.word')\n",
    "DEV_LABELS = os.path.join(DIR, 'en-ud-dev.rel')\n",
    "DEV_HEADS = os.path.join(DIR, 'en-ud-dev.head')\n",
    "DEV_ACTIVATIONS = os.path.join(DIR, 'en-ud-dev.hdf5')\n",
    "TEST_SOURCE = os.path.join(DIR, 'en-ud-test.word')\n",
    "TEST_LABELS = os.path.join(DIR, 'en-ud-test.rel')\n",
    "TEST_HEADS = os.path.join(DIR, 'en-ud-test.head')\n",
    "TEST_ACTIVATIONS = os.path.join(DIR, 'en-ud-test.hdf5')\n",
    "\n",
    "#NUM_NEURONS_PER_LAYER = 768\n",
    "MAX_SENT_L = 1000\n",
    "IS_BRNN = False\n",
    "TASK_SPECIFIC_TAG = 'nmod'"
   ]
  },
  {
   "cell_type": "code",
   "execution_count": 4,
   "metadata": {},
   "outputs": [
    {
     "name": "stdout",
     "output_type": "stream",
     "text": [
      "torch.Size([13, 14, 768])\n",
      "768\n"
     ]
    },
    {
     "data": {
      "text/plain": [
       "11664"
      ]
     },
     "execution_count": 4,
     "metadata": {},
     "output_type": "execute_result"
    }
   ],
   "source": [
    "representations=h5py.File(TRAIN_ACTIVATIONS, \"r\")\n",
    "sentRepresentation = torch.FloatTensor(representations[\"1631\"])\n",
    "print(sentRepresentation.shape)\n",
    "print (sentRepresentation.shape[2])\n",
    "NUM_NEURONS_PER_LAYER = sentRepresentation.shape[2]\n",
    "len(representations)\n"
   ]
  },
  {
   "cell_type": "markdown",
   "metadata": {},
   "source": [
    "# Preprocessing"
   ]
  },
  {
   "cell_type": "code",
   "execution_count": 5,
   "metadata": {},
   "outputs": [],
   "source": [
    "# Create required directories\n",
    "os.makedirs(OUT_DIR, exist_ok=True)"
   ]
  },
  {
   "cell_type": "code",
   "execution_count": 6,
   "metadata": {},
   "outputs": [
    {
     "name": "stdout",
     "output_type": "stream",
     "text": [
      "Loading activations...\n",
      "Loading hdf5 activations from /alt/mt/work/durrani/Causation_Analysis/ProbingClassifiers/English/SynDep/Representations/xlm-roberta-base/en-ud-train.hdf5...\n",
      "Loading hdf5 activations from /alt/mt/work/durrani/Causation_Analysis/ProbingClassifiers/English/SynDep/Representations/xlm-roberta-base/en-ud-dev.hdf5...\n",
      "Loading hdf5 activations from /alt/mt/work/durrani/Causation_Analysis/ProbingClassifiers/English/SynDep/Representations/xlm-roberta-base/en-ud-test.hdf5...\n",
      "Number of train sentences: 11663\n",
      "Number of dev sentences: 1914\n",
      "Number of test sentences: 3828\n"
     ]
    }
   ],
   "source": [
    "print(\"Loading activations...\")\n",
    "train_activations, NUM_LAYERS = data_loader.load_activations(TRAIN_ACTIVATIONS, NUM_NEURONS_PER_LAYER, is_brnn=IS_BRNN)\n",
    "#train_activations, _ = data_loader.load_activations(DEV_ACTIVATIONS, NUM_NEURONS_PER_LAYER, is_brnn=IS_BRNN)\n",
    "dev_activations, _ = data_loader.load_activations(DEV_ACTIVATIONS, NUM_NEURONS_PER_LAYER, is_brnn=IS_BRNN)\n",
    "test_activations, _ = data_loader.load_activations(TEST_ACTIVATIONS, NUM_NEURONS_PER_LAYER, is_brnn=IS_BRNN)\n",
    "print(\"Number of train sentences: %d\"%(len(train_activations)))\n",
    "print(\"Number of dev sentences: %d\"%(len(dev_activations)))\n",
    "print(\"Number of test sentences: %d\"%(len(test_activations)))"
   ]
  },
  {
   "cell_type": "code",
   "execution_count": 7,
   "metadata": {},
   "outputs": [],
   "source": [
    "train_tokens = data_loader.load_data_rel(TRAIN_SOURCE, TRAIN_LABELS, TRAIN_HEADS, train_activations, MAX_SENT_L)\n",
    "dev_tokens = data_loader.load_data_rel(DEV_SOURCE, DEV_LABELS, DEV_HEADS, dev_activations, MAX_SENT_L)\n",
    "test_tokens = data_loader.load_data_rel(TEST_SOURCE, TEST_LABELS, TEST_HEADS, test_activations, MAX_SENT_L)\n",
    "#NUM_TOKENS = sum([len(t) for t in train_tokens['target']])"
   ]
  },
  {
   "cell_type": "code",
   "execution_count": 8,
   "metadata": {},
   "outputs": [],
   "source": [
    "def concatenateActivations (activations, tokens):\n",
    "\n",
    "    concatenatedActivations = []\n",
    "    concatSize = activations[0][0].size *2\n",
    "    for idx, activation in tqdm(enumerate(activations)):\n",
    "        thisHead = tokens['head'][idx]\n",
    "        thisSentence = np.zeros((len(thisHead), concatSize), dtype=np.float32)\n",
    "        #thisSentence = []\n",
    "        for w_idx, targetTag in enumerate(tokens['target'][idx]):\n",
    "            #print (idx, w_idx, thisHead[w_idx])\n",
    "            #print (idx, w_idx, head_train_tokens[idx])\n",
    "            #print (idx, w_idx, int(thisHead[w_idx])-1)\n",
    "            #print(\"First\", train_activations[idx][w_idx])\n",
    "\n",
    "            if (int(thisHead[w_idx]) == 0):\n",
    "                #print(\"Second\", train_activations[idx][w_idx])\n",
    "                temp = np.concatenate([activations[idx][w_idx], activations[idx][w_idx]])\n",
    "            else:\n",
    "                #print(\"Second\", train_activations[idx][int(thisHead[w_idx])-1])\n",
    "                temp = np.concatenate([activations[idx][w_idx], activations[idx][int(thisHead[w_idx])-1]])\n",
    "\n",
    "            thisSentence[w_idx, :] = temp\n",
    "            \n",
    "\n",
    "            #print (idx, type(idx), w_idx, type(w_idx))\n",
    "            #print (train_activations[idx][w_idx].shape, temp.shape)\n",
    "        #print (thisSentence.shape, type(thisSentence))\n",
    "        concatenatedActivations.append(thisSentence)\n",
    "    return concatenatedActivations"
   ]
  },
  {
   "cell_type": "code",
   "execution_count": 9,
   "metadata": {},
   "outputs": [],
   "source": [
    "def averageActivations (activations, tokens):\n",
    "\n",
    "    concatenatedActivations = []\n",
    "    concatSize = activations[0][0].size \n",
    "    for idx, activation in tqdm(enumerate(activations)):\n",
    "        thisHead = tokens['head'][idx]\n",
    "        thisSentence = np.zeros((len(thisHead), concatSize), dtype=np.float32)\n",
    "        #thisSentence = []\n",
    "        for w_idx, targetTag in enumerate(tokens['target'][idx]):\n",
    "            #print (idx, w_idx, thisHead[w_idx])\n",
    "            #print (idx, w_idx, head_train_tokens[idx])\n",
    "            #print (idx, w_idx, int(thisHead[w_idx])-1)\n",
    "            #print(\"First\", train_activations[idx][w_idx])\n",
    "\n",
    "            if (int(thisHead[w_idx]) == 0):\n",
    "                #print(\"Second\", train_activations[idx][w_idx])\n",
    "                #temp = np.average([activations[idx][w_idx], activations[idx][w_idx]])\n",
    "                temp = (activations[idx][w_idx] + activations[idx][w_idx])/2\n",
    "                \n",
    "            else:\n",
    "                #print(\"Second\", train_activations[idx][int(thisHead[w_idx])-1])\n",
    "                #temp = np.average([activations[idx][w_idx], activations[idx][int(thisHead[w_idx])-1]])\n",
    "                temp = (activations[idx][w_idx] + activations[idx][int(thisHead[w_idx])-1])/2\n",
    "                \n",
    "            thisSentence[w_idx, :] = temp\n",
    "            \n",
    "        concatenatedActivations.append(thisSentence)\n",
    "    return concatenatedActivations"
   ]
  },
  {
   "cell_type": "code",
   "execution_count": 10,
   "metadata": {
    "scrolled": true
   },
   "outputs": [
    {
     "name": "stdout",
     "output_type": "stream",
     "text": [
      "Number of source words: 198800\n",
      "Number of neurons: 9984\n",
      "Number of layers: 13\n"
     ]
    }
   ],
   "source": [
    "#print('Number of total train tokens: %d'%(NUM_TOKENS))\n",
    "NUM_SOURCE_TOKENS = sum([len(t) for t in train_tokens['source']])\n",
    "print('Number of source words: %d'%(NUM_SOURCE_TOKENS)) \n",
    "NUM_NEURONS = train_activations[0].shape[1]\n",
    "print('Number of neurons: %d'%(NUM_NEURONS))\n",
    "print(\"Number of layers: %d\" % (NUM_LAYERS))"
   ]
  },
  {
   "cell_type": "markdown",
   "metadata": {},
   "source": [
    "# Concatenate the activations for head and dep words"
   ]
  },
  {
   "cell_type": "code",
   "execution_count": 11,
   "metadata": {},
   "outputs": [
    {
     "name": "stderr",
     "output_type": "stream",
     "text": [
      "11663it [00:13, 886.40it/s] \n",
      "1914it [00:01, 1181.91it/s]\n",
      "3828it [00:03, 1206.06it/s]\n"
     ]
    }
   ],
   "source": [
    "combined_train_activations = concatenateActivations(train_activations, train_tokens)\n",
    "combined_dev_activations = concatenateActivations(dev_activations, dev_tokens)\n",
    "combined_test_activations = concatenateActivations(test_activations, test_tokens)\n"
   ]
  },
  {
   "cell_type": "markdown",
   "metadata": {},
   "source": [
    "# Average the activations for head and dep words"
   ]
  },
  {
   "cell_type": "code",
   "execution_count": null,
   "metadata": {},
   "outputs": [],
   "source": [
    "combined_train_activations = averageActivations(train_activations, train_tokens)\n",
    "combined_dev_activations = averageActivations(dev_activations, dev_tokens)\n",
    "combined_test_activations = averageActivations(test_activations, test_tokens)\n",
    "\n"
   ]
  },
  {
   "cell_type": "markdown",
   "metadata": {},
   "source": [
    "# Create Tensors"
   ]
  },
  {
   "cell_type": "code",
   "execution_count": 12,
   "metadata": {},
   "outputs": [
    {
     "name": "stdout",
     "output_type": "stream",
     "text": [
      "Creating train tensors...\n",
      "Number of tokens:  198800\n",
      "length of source dictionary:  19554\n",
      "length of target dictionary:  49\n",
      "198800\n",
      "Total instances: 198800\n",
      "['Shuttle', 'deals', 'reason', 'Afghanistan', 'academic', 'tin', 'Norwegians', 'relatively', 'integrate', 'tele', 'gaps', 'Atal', 'Lamonica', 'Kaufman', 'substantiation', 'sofa', 'woollies', 'Town', 'pendulum', 'operation']\n",
      "(198800, 19968)\n",
      "(198800,)\n",
      "Creating test tensors...\n",
      "Number of tokens:  24904\n",
      "length of source dictionary:  19554\n",
      "length of target dictionary:  49\n",
      "24904\n",
      "Total instances: 24904\n",
      "['Shuttle', 'reason', 'academic', 'Afghanistan', 'Barrel', 'grammar', 'Bonding', 'suburban', 'intrepid', 'vu', 'operation', 'awful', 'darin', 'ones', 'runner', 'weight', 'Prime', 'unsure', 'arabes', 'comme']\n",
      "Creating test tensors...\n",
      "Number of tokens:  49464\n",
      "length of source dictionary:  19554\n",
      "length of target dictionary:  49\n",
      "49464\n",
      "Total instances: 49464\n",
      "['Shuttle', 'deals', 'reason', 'Afghanistan', 'academic', 'spoiler', 'Barrel', 'grammar', 'relatively', 'Bonding', 'suburban', 'intrepid', 'Atal', 'pepco', 'vu', 'Town', 'operation', 'awful', 'darin', 'ones']\n"
     ]
    }
   ],
   "source": [
    "print(\"Creating train tensors...\")\n",
    "X, y, mappings = utils.create_tensors(train_tokens, combined_train_activations, TASK_SPECIFIC_TAG)\n",
    "print (X.shape)\n",
    "print (y.shape)\n",
    "print(\"Creating test tensors...\")\n",
    "X_dev, y_dev, mappings = utils.create_tensors(dev_tokens, combined_dev_activations, TASK_SPECIFIC_TAG, mappings)\n",
    "print(\"Creating test tensors...\")\n",
    "X_test, y_test, mappings = utils.create_tensors(test_tokens, combined_test_activations, TASK_SPECIFIC_TAG, mappings)\n",
    "label2idx, idx2label, src2idx, idx2src = mappings"
   ]
  },
  {
   "cell_type": "markdown",
   "metadata": {},
   "source": [
    "# Get Accuracy with All neurons without Regularization"
   ]
  },
  {
   "cell_type": "code",
   "execution_count": 13,
   "metadata": {
    "scrolled": true
   },
   "outputs": [
    {
     "name": "stdout",
     "output_type": "stream",
     "text": [
      "Building model...\n",
      "Training classification model\n",
      "Creating model...\n",
      "Number of training instances: 198800\n",
      "Number of classes: 49\n"
     ]
    },
    {
     "data": {
      "application/vnd.jupyter.widget-view+json": {
       "model_id": "8322f52a73d24a2bbb7f89617e0c6b75",
       "version_major": 2,
       "version_minor": 0
      },
      "text/plain": [
       "HBox(children=(FloatProgress(value=1.0, bar_style='info', description='epoch [1/10]', max=1.0, style=ProgressS…"
      ]
     },
     "metadata": {},
     "output_type": "display_data"
    },
    {
     "name": "stdout",
     "output_type": "stream",
     "text": [
      "\n",
      "Epoch: [1/10], Loss: 0.0043\n"
     ]
    },
    {
     "data": {
      "application/vnd.jupyter.widget-view+json": {
       "model_id": "dd547b5ed46544b19e539dbe5ae37b6c",
       "version_major": 2,
       "version_minor": 0
      },
      "text/plain": [
       "HBox(children=(FloatProgress(value=1.0, bar_style='info', description='epoch [2/10]', max=1.0, style=ProgressS…"
      ]
     },
     "metadata": {},
     "output_type": "display_data"
    },
    {
     "name": "stdout",
     "output_type": "stream",
     "text": [
      "\n",
      "Epoch: [2/10], Loss: 0.0028\n"
     ]
    },
    {
     "data": {
      "application/vnd.jupyter.widget-view+json": {
       "model_id": "efe649b0aba14b79847d55f4cb6f9812",
       "version_major": 2,
       "version_minor": 0
      },
      "text/plain": [
       "HBox(children=(FloatProgress(value=1.0, bar_style='info', description='epoch [3/10]', max=1.0, style=ProgressS…"
      ]
     },
     "metadata": {},
     "output_type": "display_data"
    },
    {
     "name": "stdout",
     "output_type": "stream",
     "text": [
      "\n",
      "Epoch: [3/10], Loss: 0.0023\n"
     ]
    },
    {
     "data": {
      "application/vnd.jupyter.widget-view+json": {
       "model_id": "0a9f28f1df174c318519788c14bae85f",
       "version_major": 2,
       "version_minor": 0
      },
      "text/plain": [
       "HBox(children=(FloatProgress(value=1.0, bar_style='info', description='epoch [4/10]', max=1.0, style=ProgressS…"
      ]
     },
     "metadata": {},
     "output_type": "display_data"
    },
    {
     "name": "stdout",
     "output_type": "stream",
     "text": [
      "\n",
      "Epoch: [4/10], Loss: 0.0020\n"
     ]
    },
    {
     "data": {
      "application/vnd.jupyter.widget-view+json": {
       "model_id": "8dcebcc35655410e80c3b988cac9dcff",
       "version_major": 2,
       "version_minor": 0
      },
      "text/plain": [
       "HBox(children=(FloatProgress(value=1.0, bar_style='info', description='epoch [5/10]', max=1.0, style=ProgressS…"
      ]
     },
     "metadata": {},
     "output_type": "display_data"
    },
    {
     "name": "stdout",
     "output_type": "stream",
     "text": [
      "\n",
      "Epoch: [5/10], Loss: 0.0018\n"
     ]
    },
    {
     "data": {
      "application/vnd.jupyter.widget-view+json": {
       "model_id": "c5a7f925b27845afb721e7ad641c7f2c",
       "version_major": 2,
       "version_minor": 0
      },
      "text/plain": [
       "HBox(children=(FloatProgress(value=1.0, bar_style='info', description='epoch [6/10]', max=1.0, style=ProgressS…"
      ]
     },
     "metadata": {},
     "output_type": "display_data"
    },
    {
     "name": "stdout",
     "output_type": "stream",
     "text": [
      "\n",
      "Epoch: [6/10], Loss: 0.0015\n"
     ]
    },
    {
     "data": {
      "application/vnd.jupyter.widget-view+json": {
       "model_id": "33f97a07dc5044969ace948683c92e2e",
       "version_major": 2,
       "version_minor": 0
      },
      "text/plain": [
       "HBox(children=(FloatProgress(value=1.0, bar_style='info', description='epoch [7/10]', max=1.0, style=ProgressS…"
      ]
     },
     "metadata": {},
     "output_type": "display_data"
    },
    {
     "name": "stdout",
     "output_type": "stream",
     "text": [
      "\n",
      "Epoch: [7/10], Loss: 0.0014\n"
     ]
    },
    {
     "data": {
      "application/vnd.jupyter.widget-view+json": {
       "model_id": "d4c32e16e01341d0a46ee8b5caa7832e",
       "version_major": 2,
       "version_minor": 0
      },
      "text/plain": [
       "HBox(children=(FloatProgress(value=1.0, bar_style='info', description='epoch [8/10]', max=1.0, style=ProgressS…"
      ]
     },
     "metadata": {},
     "output_type": "display_data"
    },
    {
     "name": "stdout",
     "output_type": "stream",
     "text": [
      "\n",
      "Epoch: [8/10], Loss: 0.0012\n"
     ]
    },
    {
     "data": {
      "application/vnd.jupyter.widget-view+json": {
       "model_id": "d7f6984924c4445282e62038f96a38c5",
       "version_major": 2,
       "version_minor": 0
      },
      "text/plain": [
       "HBox(children=(FloatProgress(value=1.0, bar_style='info', description='epoch [9/10]', max=1.0, style=ProgressS…"
      ]
     },
     "metadata": {},
     "output_type": "display_data"
    },
    {
     "name": "stdout",
     "output_type": "stream",
     "text": [
      "\n",
      "Epoch: [9/10], Loss: 0.0011\n"
     ]
    },
    {
     "data": {
      "application/vnd.jupyter.widget-view+json": {
       "model_id": "a920d8fcc1c048078e7d44314fa24c4f",
       "version_major": 2,
       "version_minor": 0
      },
      "text/plain": [
       "HBox(children=(FloatProgress(value=1.0, bar_style='info', description='epoch [10/10]', max=1.0, style=Progress…"
      ]
     },
     "metadata": {},
     "output_type": "display_data"
    },
    {
     "name": "stdout",
     "output_type": "stream",
     "text": [
      "\n",
      "Epoch: [10/10], Loss: 0.0011\n"
     ]
    },
    {
     "data": {
      "application/vnd.jupyter.widget-view+json": {
       "model_id": "0072078fb006407aa28cb2173a99a15a",
       "version_major": 2,
       "version_minor": 0
      },
      "text/plain": [
       "HBox(children=(FloatProgress(value=1.0, bar_style='info', description='Evaluating', max=1.0, style=ProgressSty…"
      ]
     },
     "metadata": {},
     "output_type": "display_data"
    },
    {
     "name": "stdout",
     "output_type": "stream",
     "text": [
      "\n",
      "Score (accuracy) of the model: 0.97\n"
     ]
    },
    {
     "data": {
      "application/vnd.jupyter.widget-view+json": {
       "model_id": "47303d1f94d44c62bff27b23ef85213d",
       "version_major": 2,
       "version_minor": 0
      },
      "text/plain": [
       "HBox(children=(FloatProgress(value=1.0, bar_style='info', description='Evaluating', max=1.0, style=ProgressSty…"
      ]
     },
     "metadata": {},
     "output_type": "display_data"
    },
    {
     "name": "stdout",
     "output_type": "stream",
     "text": [
      "\n",
      "Score (accuracy) of the model: 0.92\n"
     ]
    },
    {
     "name": "stderr",
     "output_type": "stream",
     "text": [
      "/alt-mt/work/durrani/aux_classifier/aux_classifier/metrics.py:16: RuntimeWarning: Mean of empty slice.\n",
      "  return (preds == labels).mean()\n",
      "/home/local/QCRI/ndurrani/anaconda3/envs/neuron-analysis/lib/python3.7/site-packages/numpy/core/_methods.py:161: RuntimeWarning: invalid value encountered in double_scalars\n",
      "  ret = ret.dtype.type(ret / rcount)\n"
     ]
    },
    {
     "data": {
      "application/vnd.jupyter.widget-view+json": {
       "model_id": "72da76fc04ad43a4860ab3a823c0151b",
       "version_major": 2,
       "version_minor": 0
      },
      "text/plain": [
       "HBox(children=(FloatProgress(value=1.0, bar_style='info', description='Evaluating', max=1.0, style=ProgressSty…"
      ]
     },
     "metadata": {},
     "output_type": "display_data"
    },
    {
     "name": "stdout",
     "output_type": "stream",
     "text": [
      "\n",
      "Score (accuracy) of the model: 0.92\n",
      "=============================================\n",
      "Overall Train Accuracies\n",
      "{'__OVERALL__': 0.9721327967806841, 'det': 0.9996759979263867, 'case': 0.9991206472036581, 'mark': 0.9755330781848004, 'expl': 0.9565217391304348, 'obj': 0.9858034635521546, 'flat': 0.9767267267267268, 'flat:foreign': 1.0, 'ccomp': 0.8228547153780799, 'acl': 0.9806094182825484, 'cop': 0.9620397896181111, 'punct': 0.9986803906043811, 'obl:npmod': 0.8468271334792122, 'parataxis': 0.8859397417503587, 'dislocated': 1.0, 'appos': 0.9307065217391305, 'vocative': 0.9545454545454546, 'aux': 0.9992093611638204, 'nsubj:pass': 0.991047448522829, 'dep': 0.8571428571428571, 'cc': 0.99609375, 'det:predet': 1.0, 'nmod:npmod': 0.9142857142857143, 'nsubj': 0.9789652141152831, 'conj': 0.9629082112619272, 'compound:prt': 0.945054945054945, 'xcomp': 0.890587835541964, 'nummod': 0.9971311475409836, 'aux:pass': 0.9985007496251874, 'list': 0.9610027855153204, 'obl': 0.8905639307649358, 'discourse': 0.9677914110429447, 'goeswith': 0.9453551912568307, 'reparandum': 0.6071428571428571, 'advcl': 0.9579563597658329, 'acl:relcl': 0.9551706571574121, 'nmod': 0.9732446415373245, 'amod': 0.9873218893750701, 'cc:preconj': 1.0, 'fixed': 0.9979423868312757, 'obl:tmod': 0.9792060491493384, 'advmod': 0.951151560178306, 'nmod:poss': 1.0, 'csubj': 0.9090909090909091, 'root': 0.9812226699819944, 'compound': 0.9080257024064508, 'csubj:pass': 0.8, 'orphan': 1.0, 'iobj': 0.9696969696969697, 'nmod:tmod': 0.8812260536398467}\n",
      "Overall Dev Accuracies\n",
      "{'__OVERALL__': 0.9223819466752329, 'det': 0.9950576606260296, 'case': 0.9945137157107232, 'mark': 0.9437340153452686, 'expl': 0.8780487804878049, 'obj': 0.9584690553745928, 'flat': 0.9384615384615385, 'flat:foreign': 0.0, 'ccomp': 0.6008771929824561, 'acl': 0.8313253012048193, 'cop': 0.9290540540540541, 'punct': 0.9936772046589019, 'obl:npmod': 0.5111111111111111, 'parataxis': 0.5232067510548524, 'dislocated': nan, 'appos': 0.6705202312138728, 'vocative': 0.7142857142857143, 'aux': 0.988031914893617, 'nsubj:pass': 0.8766233766233766, 'dep': 0.0, 'cc': 0.9821656050955414, 'det:predet': 1.0, 'nmod:npmod': 0.5555555555555556, 'nsubj': 0.9486921529175051, 'conj': 0.8792165397170838, 'compound:prt': 0.7837837837837838, 'xcomp': 0.7588075880758808, 'nummod': 0.9737827715355806, 'aux:pass': 0.9320987654320988, 'list': 0.5466666666666666, 'obl': 0.7961352657004831, 'discourse': 0.7622950819672131, 'goeswith': 0.3939393939393939, 'reparandum': 0.0, 'advcl': 0.8287292817679558, 'acl:relcl': 0.8193832599118943, 'nmod': 0.9305210918114144, 'amod': 0.9339774557165862, 'cc:preconj': 0.9285714285714286, 'fixed': 0.9310344827586207, 'obl:tmod': 0.803030303030303, 'advmod': 0.8910060975609756, 'nmod:poss': 0.9870801033591732, 'csubj': 0.4878048780487805, 'root': 0.9555903866248694, 'compound': 0.8104956268221575, 'csubj:pass': nan, 'orphan': 0.0, 'iobj': 0.8936170212765957, 'nmod:tmod': 0.78125}\n",
      "Overall Test Accuracies\n",
      "{'__OVERALL__': 0.9197800420507845, 'det': 0.9964266080263882, 'case': 0.992938209331652, 'mark': 0.9459807073954984, 'expl': 0.891156462585034, 'obj': 0.9569757727652465, 'flat': 0.9284064665127021, 'flat:foreign': 0.0, 'ccomp': 0.655982905982906, 'acl': 0.8259587020648967, 'cop': 0.9230769230769231, 'punct': 0.9921114467942262, 'obl:npmod': 0.5543478260869565, 'parataxis': 0.4930875576036866, 'dislocated': nan, 'appos': 0.6135693215339233, 'vocative': 0.6341463414634146, 'aux': 0.9885350318471338, 'nsubj:pass': 0.8784313725490196, 'dep': 0.0, 'cc': 0.9784595300261096, 'det:predet': 0.9534883720930233, 'nmod:npmod': 0.38095238095238093, 'nsubj': 0.9515351433646283, 'conj': 0.8688801350590883, 'compound:prt': 0.8322981366459627, 'xcomp': 0.757703081232493, 'nummod': 0.9741219963031423, 'aux:pass': 0.9386281588447654, 'list': 0.4788273615635179, 'obl': 0.8097302504816956, 'discourse': 0.7901234567901234, 'goeswith': 0.4489795918367347, 'reparandum': 0.0, 'advcl': 0.8147138964577657, 'acl:relcl': 0.830316742081448, 'nmod': 0.9236641221374046, 'amod': 0.9333888426311407, 'cc:preconj': 0.9130434782608695, 'fixed': 0.95, 'obl:tmod': 0.8, 'advmod': 0.8931061192873742, 'nmod:poss': 0.9817945383615084, 'csubj': 0.421875, 'root': 0.9516718913270638, 'compound': 0.7951695308871343, 'csubj:pass': 0.0, 'orphan': 0.0, 'iobj': 0.8295454545454546, 'nmod:tmod': 0.7352941176470589}\n",
      "=============================================\n"
     ]
    }
   ],
   "source": [
    "print(\"Building model...\")\n",
    "model = utils.train_logreg_model(X, y, lambda_l1=0, lambda_l2=0, num_epochs=NUM_EPOCHS, batch_size=BATCH_SIZE)\n",
    "overall_train_accuracies = utils.evaluate_model(model, X, y, idx2label)\n",
    "overall_dev_accuracies = utils.evaluate_model(model, X_dev, y_dev, idx2label)\n",
    "overall_test_accuracies, predictions = utils.evaluate_model(model, X_test, y_test, idx2label, return_predictions=True, source_tokens=test_tokens['source'])\n",
    "\n",
    "print(\"=============================================\")\n",
    "print(\"Overall Train Accuracies\")\n",
    "print(overall_train_accuracies)\n",
    "\n",
    "print(\"Overall Dev Accuracies\")\n",
    "print(overall_dev_accuracies)\n",
    "\n",
    "print(\"Overall Test Accuracies\")\n",
    "print(overall_test_accuracies)\n",
    "print(\"=============================================\")"
   ]
  },
  {
   "cell_type": "markdown",
   "metadata": {},
   "source": [
    "# Baseline without concatenation"
   ]
  },
  {
   "cell_type": "code",
   "execution_count": null,
   "metadata": {},
   "outputs": [],
   "source": [
    "print(\"Creating train tensors...\")\n",
    "X, y, mappings = utils.create_tensors(train_tokens, train_activations, TASK_SPECIFIC_TAG)\n",
    "print (X.shape)\n",
    "print (y.shape)\n",
    "print(\"Creating test tensors...\")\n",
    "X_dev, y_dev, mappings = utils.create_tensors(dev_tokens, dev_activations, TASK_SPECIFIC_TAG, mappings)\n",
    "print(\"Creating test tensors...\")\n",
    "X_test, y_test, mappings = utils.create_tensors(test_tokens, test_activations, TASK_SPECIFIC_TAG, mappings)\n",
    "label2idx, idx2label, src2idx, idx2src = mappings"
   ]
  },
  {
   "cell_type": "code",
   "execution_count": null,
   "metadata": {},
   "outputs": [],
   "source": [
    "print(\"Building model...\")\n",
    "model = utils.train_logreg_model(X, y, lambda_l1=0, lambda_l2=0, num_epochs=NUM_EPOCHS, batch_size=BATCH_SIZE)\n",
    "overall_train_accuracies = utils.evaluate_model(model, X, y, idx2label)\n",
    "overall_dev_accuracies = utils.evaluate_model(model, X_dev, y_dev, idx2label)\n",
    "overall_test_accuracies, predictions = utils.evaluate_model(model, X_test, y_test, idx2label, return_predictions=True, source_tokens=test_tokens['source'])\n",
    "\n",
    "print(\"=============================================\")\n",
    "print(\"Overall Train Accuracies\")\n",
    "print(overall_train_accuracies)\n",
    "\n",
    "print(\"Overall Dev Accuracies\")\n",
    "print(overall_dev_accuracies)\n",
    "\n",
    "print(\"Overall Test Accuracies\")\n",
    "print(overall_test_accuracies)\n",
    "print(\"=============================================\")"
   ]
  },
  {
   "cell_type": "code",
   "execution_count": 14,
   "metadata": {},
   "outputs": [
    {
     "name": "stdout",
     "output_type": "stream",
     "text": [
      "(198800, 19968)\n",
      "(24904, 19968)\n",
      "(49464, 19968)\n"
     ]
    }
   ],
   "source": [
    "print (X.shape)\n",
    "print (X_dev.shape)\n",
    "print (X_test.shape)\n",
    "#overall_test_accuracies, predictions = utils.evaluate_model(model, X_test, y_test, idx2label, return_predictions=True, source_tokens=test_tokens['source'])"
   ]
  },
  {
   "cell_type": "markdown",
   "metadata": {},
   "source": [
    "# Get Accuracy with Selected neurons with Elastic-net (Retraining)"
   ]
  },
  {
   "cell_type": "code",
   "execution_count": 15,
   "metadata": {},
   "outputs": [],
   "source": [
    "def findMinimalNeurons(X, y, X_dev, y_dev, X_train, y_train):\n",
    "    bestTopNeurons = []\n",
    "    bestRandomNeurons = []\n",
    "    bestBottomNeurons = []\n",
    "     \n",
    "    print(\"Building model with: L1: \" +  str(L1) + \" L2: \" + str(L2))\n",
    "    model_temp = utils.train_logreg_model(X, y, lambda_l1=L1, lambda_l2=L2, num_epochs=10, batch_size=BATCH_SIZE)\n",
    "    dev_accuracies = utils.evaluate_model(model_temp, X_dev, y_dev, idx2label, source_tokens=dev_tokens['source'])\n",
    "    test_accuracies = utils.evaluate_model(model_temp, X_test, y_test, idx2label, source_tokens=test_tokens['source'])\n",
    "    accuracyElastic = dev_accuracies['__OVERALL__']\n",
    "    accuracyElasticTest = test_accuracies['__OVERALL__']\n",
    "    \n",
    "    print (accuracyElastic, accuracyElasticTest)\n",
    "    torch.save(model_temp, MODEL)\n",
    "    with open(JSON, 'w') as fp:\n",
    "        json.dump(mappings, fp)\n",
    "        \n",
    "    ordering, cutoffs = utils.get_neuron_ordering(model_temp, label2idx, search_stride=1000)\n",
    "    for percentage in [0.05]: #[0.01, 0.02, 0.03, 0.05, 0.1, 0.2, 0.3, 0.5]:\n",
    "        top_neurons = ordering[:int(percentage*len(ordering))]\n",
    "        print(\"Selecting %d top neurons\" % (len(top_neurons)))\n",
    "        X_filtered = utils.filter_activations_keep_neurons(top_neurons, X)\n",
    "        X_dev_filtered = utils.filter_activations_keep_neurons(top_neurons, X_dev)\n",
    "        X_test_filtered = utils.filter_activations_keep_neurons(top_neurons, X_test)\n",
    "        model_temp = utils.train_logreg_model(X_filtered, y, lambda_l1=L1, lambda_l2=L2, num_epochs=10, batch_size=BATCH_SIZE)\n",
    "        top_neurons_dev_accuracies = utils.evaluate_model(model_temp, X_dev_filtered, y_dev, idx2label, source_tokens=test_tokens['source'])\n",
    "        top_neurons_test_accuracies = utils.evaluate_model(model_temp, X_test_filtered, y_test, idx2label, source_tokens=test_tokens['source'])\n",
    "        accuracyElasticTop = top_neurons_dev_accuracies['__OVERALL__']\n",
    "        \n",
    "        random_neurons = np.random.choice(ordering, size=len(top_neurons), replace=False)\n",
    "        print(\"Selecting %d random neurons\" % (len(random_neurons)))\n",
    "        X_filtered = utils.filter_activations_keep_neurons(random_neurons, X)\n",
    "        X_dev_filtered = utils.filter_activations_keep_neurons(random_neurons, X_dev)\n",
    "        model_temp = utils.train_logreg_model(X_filtered, y, lambda_l1=L1, lambda_l2=L2, num_epochs=10, batch_size=BATCH_SIZE)\n",
    "        random_neurons_dev_accuracies = utils.evaluate_model(model_temp, X_dev_filtered, y_dev, idx2label, source_tokens=test_tokens['source'])\n",
    "        accuracyElasticRandom = random_neurons_dev_accuracies['__OVERALL__']\n",
    "        \n",
    "        bottom_neurons = ordering[-int(percentage*len(ordering)):]\n",
    "        print(\"Selecting %d bottom neurons\" % (len(bottom_neurons)))\n",
    "        X_filtered = utils.filter_activations_keep_neurons(bottom_neurons, X)\n",
    "        X_dev_filtered = utils.filter_activations_keep_neurons(bottom_neurons, X_dev)\n",
    "        model_temp = utils.train_logreg_model(X_filtered, y, lambda_l1=L1, lambda_l2=L2, num_epochs=10, batch_size=BATCH_SIZE)\n",
    "        bottom_neurons_dev_accuracies = utils.evaluate_model(model_temp, X_dev_filtered, y_dev, idx2label, source_tokens=test_tokens['source'])\n",
    "        accuracyElasticBottom = bottom_neurons_dev_accuracies['__OVERALL__']\n",
    "        \n",
    "        print (\"Accuracy with selected: \" + str(percentage*100) + str(\"% = \") + str(len(top_neurons)) + str(\" neurons\"))\n",
    "        print (\"Overall Accuracy for this Lambda Set: \" + str(accuracyElastic))\n",
    "        print (\"Top Neurons Accuracy: \" + str(accuracyElasticTop))\n",
    "        print (\"Random Neuron Accuracy: \" + str(accuracyElasticRandom))\n",
    "        print (\"Bottom Neuron Accuracy: \" + str(accuracyElasticBottom))\n",
    "        \n",
    "        overallList = []\n",
    "        overallList.append(accuracyElasticTop)\n",
    "        overallList.append(accuracyElasticRandom)\n",
    "        overallList.append(accuracyElasticBottom)\n",
    "        \n",
    "        f = open(topRandomBottom, 'w')\n",
    "        json.dump(overallList, f)\n",
    "        f.close()\n",
    "    return \n",
    "\n"
   ]
  },
  {
   "cell_type": "code",
   "execution_count": 16,
   "metadata": {
    "scrolled": true
   },
   "outputs": [
    {
     "name": "stdout",
     "output_type": "stream",
     "text": [
      "Building model with: L1: 1e-05 L2: 1e-05\n",
      "Training classification model\n",
      "Creating model...\n",
      "Number of training instances: 198800\n",
      "Number of classes: 49\n"
     ]
    },
    {
     "data": {
      "application/vnd.jupyter.widget-view+json": {
       "model_id": "76c846403ce84571976feabac0a00638",
       "version_major": 2,
       "version_minor": 0
      },
      "text/plain": [
       "HBox(children=(FloatProgress(value=1.0, bar_style='info', description='epoch [1/10]', max=1.0, style=ProgressS…"
      ]
     },
     "metadata": {},
     "output_type": "display_data"
    },
    {
     "name": "stdout",
     "output_type": "stream",
     "text": [
      "\n",
      "Epoch: [1/10], Loss: 0.0053\n"
     ]
    },
    {
     "data": {
      "application/vnd.jupyter.widget-view+json": {
       "model_id": "830e26e238154c3180c55bd90a125e54",
       "version_major": 2,
       "version_minor": 0
      },
      "text/plain": [
       "HBox(children=(FloatProgress(value=1.0, bar_style='info', description='epoch [2/10]', max=1.0, style=ProgressS…"
      ]
     },
     "metadata": {},
     "output_type": "display_data"
    },
    {
     "name": "stdout",
     "output_type": "stream",
     "text": [
      "\n",
      "Epoch: [2/10], Loss: 0.0043\n"
     ]
    },
    {
     "data": {
      "application/vnd.jupyter.widget-view+json": {
       "model_id": "9dcaea24ce2c4ea5aa15df709fc08ef0",
       "version_major": 2,
       "version_minor": 0
      },
      "text/plain": [
       "HBox(children=(FloatProgress(value=1.0, bar_style='info', description='epoch [3/10]', max=1.0, style=ProgressS…"
      ]
     },
     "metadata": {},
     "output_type": "display_data"
    },
    {
     "name": "stdout",
     "output_type": "stream",
     "text": [
      "\n",
      "Epoch: [3/10], Loss: 0.0043\n"
     ]
    },
    {
     "data": {
      "application/vnd.jupyter.widget-view+json": {
       "model_id": "6a195c4694a949d8bbd934fe479cc0ec",
       "version_major": 2,
       "version_minor": 0
      },
      "text/plain": [
       "HBox(children=(FloatProgress(value=1.0, bar_style='info', description='epoch [4/10]', max=1.0, style=ProgressS…"
      ]
     },
     "metadata": {},
     "output_type": "display_data"
    },
    {
     "name": "stdout",
     "output_type": "stream",
     "text": [
      "\n",
      "Epoch: [4/10], Loss: 0.0042\n"
     ]
    },
    {
     "data": {
      "application/vnd.jupyter.widget-view+json": {
       "model_id": "3c8b5242fe6241e2b2c962370152c632",
       "version_major": 2,
       "version_minor": 0
      },
      "text/plain": [
       "HBox(children=(FloatProgress(value=1.0, bar_style='info', description='epoch [5/10]', max=1.0, style=ProgressS…"
      ]
     },
     "metadata": {},
     "output_type": "display_data"
    },
    {
     "name": "stdout",
     "output_type": "stream",
     "text": [
      "\n",
      "Epoch: [5/10], Loss: 0.0041\n"
     ]
    },
    {
     "data": {
      "application/vnd.jupyter.widget-view+json": {
       "model_id": "f69f3a462f0f431d90c9429b7a6cb963",
       "version_major": 2,
       "version_minor": 0
      },
      "text/plain": [
       "HBox(children=(FloatProgress(value=1.0, bar_style='info', description='epoch [6/10]', max=1.0, style=ProgressS…"
      ]
     },
     "metadata": {},
     "output_type": "display_data"
    },
    {
     "name": "stdout",
     "output_type": "stream",
     "text": [
      "\n",
      "Epoch: [6/10], Loss: 0.0041\n"
     ]
    },
    {
     "data": {
      "application/vnd.jupyter.widget-view+json": {
       "model_id": "cbccf55201814834b83dae7d34cabfb6",
       "version_major": 2,
       "version_minor": 0
      },
      "text/plain": [
       "HBox(children=(FloatProgress(value=1.0, bar_style='info', description='epoch [7/10]', max=1.0, style=ProgressS…"
      ]
     },
     "metadata": {},
     "output_type": "display_data"
    },
    {
     "name": "stdout",
     "output_type": "stream",
     "text": [
      "\n",
      "Epoch: [7/10], Loss: 0.0040\n"
     ]
    },
    {
     "data": {
      "application/vnd.jupyter.widget-view+json": {
       "model_id": "6d26e14eb65945e3b31fda69f745226b",
       "version_major": 2,
       "version_minor": 0
      },
      "text/plain": [
       "HBox(children=(FloatProgress(value=1.0, bar_style='info', description='epoch [8/10]', max=1.0, style=ProgressS…"
      ]
     },
     "metadata": {},
     "output_type": "display_data"
    },
    {
     "name": "stdout",
     "output_type": "stream",
     "text": [
      "\n",
      "Epoch: [8/10], Loss: 0.0040\n"
     ]
    },
    {
     "data": {
      "application/vnd.jupyter.widget-view+json": {
       "model_id": "ee04007b01c845d99b2ff1034ce6f551",
       "version_major": 2,
       "version_minor": 0
      },
      "text/plain": [
       "HBox(children=(FloatProgress(value=1.0, bar_style='info', description='epoch [9/10]', max=1.0, style=ProgressS…"
      ]
     },
     "metadata": {},
     "output_type": "display_data"
    },
    {
     "name": "stdout",
     "output_type": "stream",
     "text": [
      "\n",
      "Epoch: [9/10], Loss: 0.0040\n"
     ]
    },
    {
     "data": {
      "application/vnd.jupyter.widget-view+json": {
       "model_id": "6a0b0eb6c1cc47b7b6b6b191100b4c1a",
       "version_major": 2,
       "version_minor": 0
      },
      "text/plain": [
       "HBox(children=(FloatProgress(value=1.0, bar_style='info', description='epoch [10/10]', max=1.0, style=Progress…"
      ]
     },
     "metadata": {},
     "output_type": "display_data"
    },
    {
     "name": "stdout",
     "output_type": "stream",
     "text": [
      "\n",
      "Epoch: [10/10], Loss: 0.0039\n"
     ]
    },
    {
     "data": {
      "application/vnd.jupyter.widget-view+json": {
       "model_id": "c0f79bb7a85d4919be1d3b0ee6895427",
       "version_major": 2,
       "version_minor": 0
      },
      "text/plain": [
       "HBox(children=(FloatProgress(value=1.0, bar_style='info', description='Evaluating', max=1.0, style=ProgressSty…"
      ]
     },
     "metadata": {},
     "output_type": "display_data"
    },
    {
     "name": "stdout",
     "output_type": "stream",
     "text": [
      "\n",
      "Score (accuracy) of the model: 0.92\n"
     ]
    },
    {
     "data": {
      "application/vnd.jupyter.widget-view+json": {
       "model_id": "d09229bfbd5848379e70a2f8dda8a342",
       "version_major": 2,
       "version_minor": 0
      },
      "text/plain": [
       "HBox(children=(FloatProgress(value=1.0, bar_style='info', description='Evaluating', max=1.0, style=ProgressSty…"
      ]
     },
     "metadata": {},
     "output_type": "display_data"
    },
    {
     "name": "stdout",
     "output_type": "stream",
     "text": [
      "\n",
      "Score (accuracy) of the model: 0.92\n",
      "0.9188483777706392 0.9151099789746078\n"
     ]
    },
    {
     "name": "stderr",
     "output_type": "stream",
     "text": [
      "/home/local/QCRI/ndurrani/anaconda3/envs/neuron-analysis/lib/python3.7/site-packages/torch/serialization.py:292: UserWarning: Couldn't retrieve source code for container of type LinearNet. It won't be checked for correctness upon loading.\n",
      "  \"type \" + obj.__name__ + \". It won't be checked \"\n",
      "/home/local/QCRI/ndurrani/anaconda3/envs/neuron-analysis/lib/python3.7/site-packages/torch/serialization.py:292: UserWarning: Couldn't retrieve source code for container of type Linear. It won't be checked for correctness upon loading.\n",
      "  \"type \" + obj.__name__ + \". It won't be checked \"\n"
     ]
    },
    {
     "data": {
      "application/vnd.jupyter.widget-view+json": {
       "model_id": "aa68a08705744dd8bea6359fb2007fa6",
       "version_major": 2,
       "version_minor": 0
      },
      "text/plain": [
       "HBox(children=(FloatProgress(value=0.0, max=1001.0), HTML(value='')))"
      ]
     },
     "metadata": {},
     "output_type": "display_data"
    },
    {
     "name": "stdout",
     "output_type": "stream",
     "text": [
      "\n",
      "Selecting 998 top neurons\n",
      "Training classification model\n",
      "Creating model...\n",
      "Number of training instances: 198800\n",
      "Number of classes: 49\n"
     ]
    },
    {
     "data": {
      "application/vnd.jupyter.widget-view+json": {
       "model_id": "77f2ade2db164d8bbfacdfa62bab8a43",
       "version_major": 2,
       "version_minor": 0
      },
      "text/plain": [
       "HBox(children=(FloatProgress(value=1.0, bar_style='info', description='epoch [1/10]', max=1.0, style=ProgressS…"
      ]
     },
     "metadata": {},
     "output_type": "display_data"
    },
    {
     "name": "stdout",
     "output_type": "stream",
     "text": [
      "\n",
      "Epoch: [1/10], Loss: 0.0051\n"
     ]
    },
    {
     "data": {
      "application/vnd.jupyter.widget-view+json": {
       "model_id": "8504e65d25384c1ba5e5aa0c7c360b0a",
       "version_major": 2,
       "version_minor": 0
      },
      "text/plain": [
       "HBox(children=(FloatProgress(value=1.0, bar_style='info', description='epoch [2/10]', max=1.0, style=ProgressS…"
      ]
     },
     "metadata": {},
     "output_type": "display_data"
    },
    {
     "name": "stdout",
     "output_type": "stream",
     "text": [
      "\n",
      "Epoch: [2/10], Loss: 0.0027\n"
     ]
    },
    {
     "data": {
      "application/vnd.jupyter.widget-view+json": {
       "model_id": "b55e8b9bf5ff4fa0b0956fc03919f7c5",
       "version_major": 2,
       "version_minor": 0
      },
      "text/plain": [
       "HBox(children=(FloatProgress(value=1.0, bar_style='info', description='epoch [3/10]', max=1.0, style=ProgressS…"
      ]
     },
     "metadata": {},
     "output_type": "display_data"
    },
    {
     "name": "stdout",
     "output_type": "stream",
     "text": [
      "\n",
      "Epoch: [3/10], Loss: 0.0025\n"
     ]
    },
    {
     "data": {
      "application/vnd.jupyter.widget-view+json": {
       "model_id": "c459a3cd525b4d25a2411444fa0e744d",
       "version_major": 2,
       "version_minor": 0
      },
      "text/plain": [
       "HBox(children=(FloatProgress(value=1.0, bar_style='info', description='epoch [4/10]', max=1.0, style=ProgressS…"
      ]
     },
     "metadata": {},
     "output_type": "display_data"
    },
    {
     "name": "stdout",
     "output_type": "stream",
     "text": [
      "\n",
      "Epoch: [4/10], Loss: 0.0023\n"
     ]
    },
    {
     "data": {
      "application/vnd.jupyter.widget-view+json": {
       "model_id": "7d84804218dc4118ac5b1afd68d05a8e",
       "version_major": 2,
       "version_minor": 0
      },
      "text/plain": [
       "HBox(children=(FloatProgress(value=1.0, bar_style='info', description='epoch [5/10]', max=1.0, style=ProgressS…"
      ]
     },
     "metadata": {},
     "output_type": "display_data"
    },
    {
     "name": "stdout",
     "output_type": "stream",
     "text": [
      "\n",
      "Epoch: [5/10], Loss: 0.0022\n"
     ]
    },
    {
     "data": {
      "application/vnd.jupyter.widget-view+json": {
       "model_id": "eb0d0034a5704baa8c67ed60f6754eeb",
       "version_major": 2,
       "version_minor": 0
      },
      "text/plain": [
       "HBox(children=(FloatProgress(value=1.0, bar_style='info', description='epoch [6/10]', max=1.0, style=ProgressS…"
      ]
     },
     "metadata": {},
     "output_type": "display_data"
    },
    {
     "name": "stdout",
     "output_type": "stream",
     "text": [
      "\n",
      "Epoch: [6/10], Loss: 0.0022\n"
     ]
    },
    {
     "data": {
      "application/vnd.jupyter.widget-view+json": {
       "model_id": "c253afd72be04af3ad999f415c237054",
       "version_major": 2,
       "version_minor": 0
      },
      "text/plain": [
       "HBox(children=(FloatProgress(value=1.0, bar_style='info', description='epoch [7/10]', max=1.0, style=ProgressS…"
      ]
     },
     "metadata": {},
     "output_type": "display_data"
    },
    {
     "name": "stdout",
     "output_type": "stream",
     "text": [
      "\n",
      "Epoch: [7/10], Loss: 0.0021\n"
     ]
    },
    {
     "data": {
      "application/vnd.jupyter.widget-view+json": {
       "model_id": "e02f464f28694f9bac9bb0e91fc86a15",
       "version_major": 2,
       "version_minor": 0
      },
      "text/plain": [
       "HBox(children=(FloatProgress(value=1.0, bar_style='info', description='epoch [8/10]', max=1.0, style=ProgressS…"
      ]
     },
     "metadata": {},
     "output_type": "display_data"
    },
    {
     "name": "stdout",
     "output_type": "stream",
     "text": [
      "\n",
      "Epoch: [8/10], Loss: 0.0021\n"
     ]
    },
    {
     "data": {
      "application/vnd.jupyter.widget-view+json": {
       "model_id": "4b2a694e29d34f0e9574b817a27783b6",
       "version_major": 2,
       "version_minor": 0
      },
      "text/plain": [
       "HBox(children=(FloatProgress(value=1.0, bar_style='info', description='epoch [9/10]', max=1.0, style=ProgressS…"
      ]
     },
     "metadata": {},
     "output_type": "display_data"
    },
    {
     "name": "stdout",
     "output_type": "stream",
     "text": [
      "\n",
      "Epoch: [9/10], Loss: 0.0021\n"
     ]
    },
    {
     "data": {
      "application/vnd.jupyter.widget-view+json": {
       "model_id": "c08cc6304c9b4a379c2133256f6afdcb",
       "version_major": 2,
       "version_minor": 0
      },
      "text/plain": [
       "HBox(children=(FloatProgress(value=1.0, bar_style='info', description='epoch [10/10]', max=1.0, style=Progress…"
      ]
     },
     "metadata": {},
     "output_type": "display_data"
    },
    {
     "name": "stdout",
     "output_type": "stream",
     "text": [
      "\n",
      "Epoch: [10/10], Loss: 0.0021\n"
     ]
    },
    {
     "data": {
      "application/vnd.jupyter.widget-view+json": {
       "model_id": "109e85e05995485bb61f64f4b5ff1dcb",
       "version_major": 2,
       "version_minor": 0
      },
      "text/plain": [
       "HBox(children=(FloatProgress(value=1.0, bar_style='info', description='Evaluating', max=1.0, style=ProgressSty…"
      ]
     },
     "metadata": {},
     "output_type": "display_data"
    },
    {
     "name": "stdout",
     "output_type": "stream",
     "text": [
      "\n",
      "Score (accuracy) of the model: 0.91\n"
     ]
    },
    {
     "data": {
      "application/vnd.jupyter.widget-view+json": {
       "model_id": "6b21682e5c274e0a92e8b8a2d4fa5a33",
       "version_major": 2,
       "version_minor": 0
      },
      "text/plain": [
       "HBox(children=(FloatProgress(value=1.0, bar_style='info', description='Evaluating', max=1.0, style=ProgressSty…"
      ]
     },
     "metadata": {},
     "output_type": "display_data"
    },
    {
     "name": "stdout",
     "output_type": "stream",
     "text": [
      "\n",
      "Score (accuracy) of the model: 0.91\n",
      "Selecting 998 random neurons\n",
      "Training classification model\n",
      "Creating model...\n",
      "Number of training instances: 198800\n",
      "Number of classes: 49\n"
     ]
    },
    {
     "data": {
      "application/vnd.jupyter.widget-view+json": {
       "model_id": "50d80e9222a647499fb9fc59bb93b1f9",
       "version_major": 2,
       "version_minor": 0
      },
      "text/plain": [
       "HBox(children=(FloatProgress(value=1.0, bar_style='info', description='epoch [1/10]', max=1.0, style=ProgressS…"
      ]
     },
     "metadata": {},
     "output_type": "display_data"
    },
    {
     "name": "stdout",
     "output_type": "stream",
     "text": [
      "\n",
      "Epoch: [1/10], Loss: 0.0050\n"
     ]
    },
    {
     "data": {
      "application/vnd.jupyter.widget-view+json": {
       "model_id": "5e3ca4c0435044e7aa82656228662a30",
       "version_major": 2,
       "version_minor": 0
      },
      "text/plain": [
       "HBox(children=(FloatProgress(value=1.0, bar_style='info', description='epoch [2/10]', max=1.0, style=ProgressS…"
      ]
     },
     "metadata": {},
     "output_type": "display_data"
    },
    {
     "name": "stdout",
     "output_type": "stream",
     "text": [
      "\n",
      "Epoch: [2/10], Loss: 0.0028\n"
     ]
    },
    {
     "data": {
      "application/vnd.jupyter.widget-view+json": {
       "model_id": "d04117a4652948f590259fcc9ac7be57",
       "version_major": 2,
       "version_minor": 0
      },
      "text/plain": [
       "HBox(children=(FloatProgress(value=1.0, bar_style='info', description='epoch [3/10]', max=1.0, style=ProgressS…"
      ]
     },
     "metadata": {},
     "output_type": "display_data"
    },
    {
     "name": "stdout",
     "output_type": "stream",
     "text": [
      "\n",
      "Epoch: [3/10], Loss: 0.0025\n"
     ]
    },
    {
     "data": {
      "application/vnd.jupyter.widget-view+json": {
       "model_id": "c37b0ac7b1ca4bebb6e56876b5a265d7",
       "version_major": 2,
       "version_minor": 0
      },
      "text/plain": [
       "HBox(children=(FloatProgress(value=1.0, bar_style='info', description='epoch [4/10]', max=1.0, style=ProgressS…"
      ]
     },
     "metadata": {},
     "output_type": "display_data"
    },
    {
     "name": "stdout",
     "output_type": "stream",
     "text": [
      "\n",
      "Epoch: [4/10], Loss: 0.0024\n"
     ]
    },
    {
     "data": {
      "application/vnd.jupyter.widget-view+json": {
       "model_id": "32a3eecef1a24651a84be9961fe598fb",
       "version_major": 2,
       "version_minor": 0
      },
      "text/plain": [
       "HBox(children=(FloatProgress(value=1.0, bar_style='info', description='epoch [5/10]', max=1.0, style=ProgressS…"
      ]
     },
     "metadata": {},
     "output_type": "display_data"
    },
    {
     "name": "stdout",
     "output_type": "stream",
     "text": [
      "\n",
      "Epoch: [5/10], Loss: 0.0023\n"
     ]
    },
    {
     "data": {
      "application/vnd.jupyter.widget-view+json": {
       "model_id": "79b37e2e044b4524b772c3a51e963337",
       "version_major": 2,
       "version_minor": 0
      },
      "text/plain": [
       "HBox(children=(FloatProgress(value=1.0, bar_style='info', description='epoch [6/10]', max=1.0, style=ProgressS…"
      ]
     },
     "metadata": {},
     "output_type": "display_data"
    },
    {
     "name": "stdout",
     "output_type": "stream",
     "text": [
      "\n",
      "Epoch: [6/10], Loss: 0.0022\n"
     ]
    },
    {
     "data": {
      "application/vnd.jupyter.widget-view+json": {
       "model_id": "1c14182293dd4e719b1cfafb2a65ccdb",
       "version_major": 2,
       "version_minor": 0
      },
      "text/plain": [
       "HBox(children=(FloatProgress(value=1.0, bar_style='info', description='epoch [7/10]', max=1.0, style=ProgressS…"
      ]
     },
     "metadata": {},
     "output_type": "display_data"
    },
    {
     "name": "stdout",
     "output_type": "stream",
     "text": [
      "\n",
      "Epoch: [7/10], Loss: 0.0022\n"
     ]
    },
    {
     "data": {
      "application/vnd.jupyter.widget-view+json": {
       "model_id": "652ea21b3c5e484a857ac7bde2e44c73",
       "version_major": 2,
       "version_minor": 0
      },
      "text/plain": [
       "HBox(children=(FloatProgress(value=1.0, bar_style='info', description='epoch [8/10]', max=1.0, style=ProgressS…"
      ]
     },
     "metadata": {},
     "output_type": "display_data"
    },
    {
     "name": "stdout",
     "output_type": "stream",
     "text": [
      "\n",
      "Epoch: [8/10], Loss: 0.0022\n"
     ]
    },
    {
     "data": {
      "application/vnd.jupyter.widget-view+json": {
       "model_id": "c6b3c68d91314d7eb8281bfc4fa2ab57",
       "version_major": 2,
       "version_minor": 0
      },
      "text/plain": [
       "HBox(children=(FloatProgress(value=1.0, bar_style='info', description='epoch [9/10]', max=1.0, style=ProgressS…"
      ]
     },
     "metadata": {},
     "output_type": "display_data"
    },
    {
     "name": "stdout",
     "output_type": "stream",
     "text": [
      "\n",
      "Epoch: [9/10], Loss: 0.0022\n"
     ]
    },
    {
     "data": {
      "application/vnd.jupyter.widget-view+json": {
       "model_id": "f0827dd7bdff46ce8d1c9ec4af90406d",
       "version_major": 2,
       "version_minor": 0
      },
      "text/plain": [
       "HBox(children=(FloatProgress(value=1.0, bar_style='info', description='epoch [10/10]', max=1.0, style=Progress…"
      ]
     },
     "metadata": {},
     "output_type": "display_data"
    },
    {
     "name": "stdout",
     "output_type": "stream",
     "text": [
      "\n",
      "Epoch: [10/10], Loss: 0.0021\n"
     ]
    },
    {
     "data": {
      "application/vnd.jupyter.widget-view+json": {
       "model_id": "8ecbc40d06f947e987b210ecf691408f",
       "version_major": 2,
       "version_minor": 0
      },
      "text/plain": [
       "HBox(children=(FloatProgress(value=1.0, bar_style='info', description='Evaluating', max=1.0, style=ProgressSty…"
      ]
     },
     "metadata": {},
     "output_type": "display_data"
    },
    {
     "name": "stdout",
     "output_type": "stream",
     "text": [
      "\n",
      "Score (accuracy) of the model: 0.91\n",
      "Selecting 998 bottom neurons\n",
      "Training classification model\n",
      "Creating model...\n",
      "Number of training instances: 198800\n",
      "Number of classes: 49\n"
     ]
    },
    {
     "data": {
      "application/vnd.jupyter.widget-view+json": {
       "model_id": "4e8916df11cd4226b8a97731cb4fedf3",
       "version_major": 2,
       "version_minor": 0
      },
      "text/plain": [
       "HBox(children=(FloatProgress(value=1.0, bar_style='info', description='epoch [1/10]', max=1.0, style=ProgressS…"
      ]
     },
     "metadata": {},
     "output_type": "display_data"
    },
    {
     "name": "stdout",
     "output_type": "stream",
     "text": [
      "\n",
      "Epoch: [1/10], Loss: 0.0115\n"
     ]
    },
    {
     "data": {
      "application/vnd.jupyter.widget-view+json": {
       "model_id": "d4c46ee6ca3a44b6b3b339b838932a9f",
       "version_major": 2,
       "version_minor": 0
      },
      "text/plain": [
       "HBox(children=(FloatProgress(value=1.0, bar_style='info', description='epoch [2/10]', max=1.0, style=ProgressS…"
      ]
     },
     "metadata": {},
     "output_type": "display_data"
    },
    {
     "name": "stdout",
     "output_type": "stream",
     "text": [
      "\n",
      "Epoch: [2/10], Loss: 0.0066\n"
     ]
    },
    {
     "data": {
      "application/vnd.jupyter.widget-view+json": {
       "model_id": "2a82084509e143e3a57af12f6bc76b84",
       "version_major": 2,
       "version_minor": 0
      },
      "text/plain": [
       "HBox(children=(FloatProgress(value=1.0, bar_style='info', description='epoch [3/10]', max=1.0, style=ProgressS…"
      ]
     },
     "metadata": {},
     "output_type": "display_data"
    },
    {
     "name": "stdout",
     "output_type": "stream",
     "text": [
      "\n",
      "Epoch: [3/10], Loss: 0.0055\n"
     ]
    },
    {
     "data": {
      "application/vnd.jupyter.widget-view+json": {
       "model_id": "dbf29c1612434f2887ed221caa71be5e",
       "version_major": 2,
       "version_minor": 0
      },
      "text/plain": [
       "HBox(children=(FloatProgress(value=1.0, bar_style='info', description='epoch [4/10]', max=1.0, style=ProgressS…"
      ]
     },
     "metadata": {},
     "output_type": "display_data"
    },
    {
     "name": "stdout",
     "output_type": "stream",
     "text": [
      "\n",
      "Epoch: [4/10], Loss: 0.0050\n"
     ]
    },
    {
     "data": {
      "application/vnd.jupyter.widget-view+json": {
       "model_id": "d03404b8fc5c4da18f06a00302b88efd",
       "version_major": 2,
       "version_minor": 0
      },
      "text/plain": [
       "HBox(children=(FloatProgress(value=1.0, bar_style='info', description='epoch [5/10]', max=1.0, style=ProgressS…"
      ]
     },
     "metadata": {},
     "output_type": "display_data"
    },
    {
     "name": "stdout",
     "output_type": "stream",
     "text": [
      "\n",
      "Epoch: [5/10], Loss: 0.0047\n"
     ]
    },
    {
     "data": {
      "application/vnd.jupyter.widget-view+json": {
       "model_id": "7c5da94297834ae29176da5a69acfe69",
       "version_major": 2,
       "version_minor": 0
      },
      "text/plain": [
       "HBox(children=(FloatProgress(value=1.0, bar_style='info', description='epoch [6/10]', max=1.0, style=ProgressS…"
      ]
     },
     "metadata": {},
     "output_type": "display_data"
    },
    {
     "name": "stdout",
     "output_type": "stream",
     "text": [
      "\n",
      "Epoch: [6/10], Loss: 0.0046\n"
     ]
    },
    {
     "data": {
      "application/vnd.jupyter.widget-view+json": {
       "model_id": "890666d101a043728dabc7518d1cb349",
       "version_major": 2,
       "version_minor": 0
      },
      "text/plain": [
       "HBox(children=(FloatProgress(value=1.0, bar_style='info', description='epoch [7/10]', max=1.0, style=ProgressS…"
      ]
     },
     "metadata": {},
     "output_type": "display_data"
    },
    {
     "name": "stdout",
     "output_type": "stream",
     "text": [
      "\n",
      "Epoch: [7/10], Loss: 0.0044\n"
     ]
    },
    {
     "data": {
      "application/vnd.jupyter.widget-view+json": {
       "model_id": "f17b3989d73942479da88b057709d76d",
       "version_major": 2,
       "version_minor": 0
      },
      "text/plain": [
       "HBox(children=(FloatProgress(value=1.0, bar_style='info', description='epoch [8/10]', max=1.0, style=ProgressS…"
      ]
     },
     "metadata": {},
     "output_type": "display_data"
    },
    {
     "name": "stdout",
     "output_type": "stream",
     "text": [
      "\n",
      "Epoch: [8/10], Loss: 0.0043\n"
     ]
    },
    {
     "data": {
      "application/vnd.jupyter.widget-view+json": {
       "model_id": "3ccb7b21724640fdb78ae3c3064f5b89",
       "version_major": 2,
       "version_minor": 0
      },
      "text/plain": [
       "HBox(children=(FloatProgress(value=1.0, bar_style='info', description='epoch [9/10]', max=1.0, style=ProgressS…"
      ]
     },
     "metadata": {},
     "output_type": "display_data"
    },
    {
     "name": "stdout",
     "output_type": "stream",
     "text": [
      "\n",
      "Epoch: [9/10], Loss: 0.0043\n"
     ]
    },
    {
     "data": {
      "application/vnd.jupyter.widget-view+json": {
       "model_id": "f591c117a9ad464f933f77fb5564b622",
       "version_major": 2,
       "version_minor": 0
      },
      "text/plain": [
       "HBox(children=(FloatProgress(value=1.0, bar_style='info', description='epoch [10/10]', max=1.0, style=Progress…"
      ]
     },
     "metadata": {},
     "output_type": "display_data"
    },
    {
     "name": "stdout",
     "output_type": "stream",
     "text": [
      "\n",
      "Epoch: [10/10], Loss: 0.0042\n"
     ]
    },
    {
     "data": {
      "application/vnd.jupyter.widget-view+json": {
       "model_id": "02b5561d0711430d8f19b985912ae13a",
       "version_major": 2,
       "version_minor": 0
      },
      "text/plain": [
       "HBox(children=(FloatProgress(value=1.0, bar_style='info', description='Evaluating', max=1.0, style=ProgressSty…"
      ]
     },
     "metadata": {},
     "output_type": "display_data"
    },
    {
     "name": "stdout",
     "output_type": "stream",
     "text": [
      "\n",
      "Score (accuracy) of the model: 0.87\n",
      "Accuracy with selected: 5.0% = 998 neurons\n",
      "Overall Accuracy for this Lambda Set: 0.9188483777706392\n",
      "Top Neurons Accuracy: 0.9115001606167684\n",
      "Random Neuron Accuracy: 0.912704786379698\n",
      "Bottom Neuron Accuracy: 0.8679730163829104\n"
     ]
    }
   ],
   "source": [
    "findMinimalNeurons(X, y, X_dev, y_dev, X_test, y_test)"
   ]
  },
  {
   "cell_type": "markdown",
   "metadata": {},
   "source": [
    "# Analysis"
   ]
  },
  {
   "cell_type": "markdown",
   "metadata": {},
   "source": [
    "# Load Model"
   ]
  },
  {
   "cell_type": "code",
   "execution_count": 17,
   "metadata": {},
   "outputs": [],
   "source": [
    "with open(JSON, 'r') as fp:\n",
    "   mappingsLoaded = json.load(fp)\n",
    "\n",
    "label2idx, Lidx2label, src2idx, idx2src = mappingsLoaded\n",
    "idx2label = {int(k):v for k,v in Lidx2label.items()}\n",
    "model = torch.load(MODEL)"
   ]
  },
  {
   "cell_type": "code",
   "execution_count": 18,
   "metadata": {},
   "outputs": [
    {
     "data": {
      "application/vnd.jupyter.widget-view+json": {
       "model_id": "eb9f44fc131243288d82aa617caa54df",
       "version_major": 2,
       "version_minor": 0
      },
      "text/plain": [
       "HBox(children=(FloatProgress(value=0.0, max=1001.0), HTML(value='')))"
      ]
     },
     "metadata": {},
     "output_type": "display_data"
    },
    {
     "name": "stdout",
     "output_type": "stream",
     "text": [
      "\n"
     ]
    }
   ],
   "source": [
    "percentage = 0.10\n",
    "ordering, cutoffs = utils.get_neuron_ordering(model, label2idx, search_stride=1000)\n",
    "top_neurons_global = ordering[:int(percentage*len(ordering))]\n",
    "fac = 1\n",
    "top_neurons_local = []\n",
    "\n",
    "while (len(top_neurons_local) < len(top_neurons_global)):\n",
    "    top_neurons_local, classWise = utils.get_top_neurons(model, percentage*fac, label2idx)\n",
    "    fac = fac + 0.1\n",
    "\n",
    "#for i in top_neurons_global:\n",
    " #   top_neurons_g.add(i)\n",
    "\n",
    "#print (len(ordering), len(top_neurons_global), len(top_neurons_local))\n",
    "#for k, v in classWise.items():\n",
    " #   for i in v:\n",
    "  #      top_neurons_l.add(i)\n",
    "\n",
    "#result = top_neurons_g.intersection(top_neurons_l)\n",
    "#print (result, len(result))\n",
    "\n"
   ]
  },
  {
   "cell_type": "markdown",
   "metadata": {},
   "source": [
    "# Get Top Neurons for Analysis"
   ]
  },
  {
   "cell_type": "code",
   "execution_count": 19,
   "metadata": {},
   "outputs": [
    {
     "name": "stdout",
     "output_type": "stream",
     "text": [
      "Selecting 1996 top neurons\n",
      "Training classification model\n",
      "Creating model...\n",
      "Number of training instances: 198800\n",
      "Number of classes: 49\n"
     ]
    },
    {
     "data": {
      "application/vnd.jupyter.widget-view+json": {
       "model_id": "e49ef75d9ef44fe39490208def667d24",
       "version_major": 2,
       "version_minor": 0
      },
      "text/plain": [
       "HBox(children=(FloatProgress(value=1.0, bar_style='info', description='epoch [1/10]', max=1.0, style=ProgressS…"
      ]
     },
     "metadata": {},
     "output_type": "display_data"
    },
    {
     "name": "stdout",
     "output_type": "stream",
     "text": [
      "\n",
      "Epoch: [1/10], Loss: 0.0036\n"
     ]
    },
    {
     "data": {
      "application/vnd.jupyter.widget-view+json": {
       "model_id": "45a1029cdfb4484e83e36a9adc3ad0b5",
       "version_major": 2,
       "version_minor": 0
      },
      "text/plain": [
       "HBox(children=(FloatProgress(value=1.0, bar_style='info', description='epoch [2/10]', max=1.0, style=ProgressS…"
      ]
     },
     "metadata": {},
     "output_type": "display_data"
    },
    {
     "name": "stdout",
     "output_type": "stream",
     "text": [
      "\n",
      "Epoch: [2/10], Loss: 0.0021\n"
     ]
    },
    {
     "data": {
      "application/vnd.jupyter.widget-view+json": {
       "model_id": "2b7250dc16d5488e81f87d1edd452567",
       "version_major": 2,
       "version_minor": 0
      },
      "text/plain": [
       "HBox(children=(FloatProgress(value=1.0, bar_style='info', description='epoch [3/10]', max=1.0, style=ProgressS…"
      ]
     },
     "metadata": {},
     "output_type": "display_data"
    },
    {
     "name": "stdout",
     "output_type": "stream",
     "text": [
      "\n",
      "Epoch: [3/10], Loss: 0.0019\n"
     ]
    },
    {
     "data": {
      "application/vnd.jupyter.widget-view+json": {
       "model_id": "6e2fd6c646274302a95ed3576a817886",
       "version_major": 2,
       "version_minor": 0
      },
      "text/plain": [
       "HBox(children=(FloatProgress(value=1.0, bar_style='info', description='epoch [4/10]', max=1.0, style=ProgressS…"
      ]
     },
     "metadata": {},
     "output_type": "display_data"
    },
    {
     "name": "stdout",
     "output_type": "stream",
     "text": [
      "\n",
      "Epoch: [4/10], Loss: 0.0018\n"
     ]
    },
    {
     "data": {
      "application/vnd.jupyter.widget-view+json": {
       "model_id": "4778e99a46464968b0907bbce321b695",
       "version_major": 2,
       "version_minor": 0
      },
      "text/plain": [
       "HBox(children=(FloatProgress(value=1.0, bar_style='info', description='epoch [5/10]', max=1.0, style=ProgressS…"
      ]
     },
     "metadata": {},
     "output_type": "display_data"
    },
    {
     "name": "stdout",
     "output_type": "stream",
     "text": [
      "\n",
      "Epoch: [5/10], Loss: 0.0017\n"
     ]
    },
    {
     "data": {
      "application/vnd.jupyter.widget-view+json": {
       "model_id": "b233ed70958e4735b203d295fcc088c2",
       "version_major": 2,
       "version_minor": 0
      },
      "text/plain": [
       "HBox(children=(FloatProgress(value=1.0, bar_style='info', description='epoch [6/10]', max=1.0, style=ProgressS…"
      ]
     },
     "metadata": {},
     "output_type": "display_data"
    },
    {
     "name": "stdout",
     "output_type": "stream",
     "text": [
      "\n",
      "Epoch: [6/10], Loss: 0.0017\n"
     ]
    },
    {
     "data": {
      "application/vnd.jupyter.widget-view+json": {
       "model_id": "cb95893fe66645d58aebb29c7f4ad834",
       "version_major": 2,
       "version_minor": 0
      },
      "text/plain": [
       "HBox(children=(FloatProgress(value=1.0, bar_style='info', description='epoch [7/10]', max=1.0, style=ProgressS…"
      ]
     },
     "metadata": {},
     "output_type": "display_data"
    },
    {
     "name": "stdout",
     "output_type": "stream",
     "text": [
      "\n",
      "Epoch: [7/10], Loss: 0.0016\n"
     ]
    },
    {
     "data": {
      "application/vnd.jupyter.widget-view+json": {
       "model_id": "88ca2aff8ade482b8b4496d3f1c641bb",
       "version_major": 2,
       "version_minor": 0
      },
      "text/plain": [
       "HBox(children=(FloatProgress(value=1.0, bar_style='info', description='epoch [8/10]', max=1.0, style=ProgressS…"
      ]
     },
     "metadata": {},
     "output_type": "display_data"
    },
    {
     "name": "stdout",
     "output_type": "stream",
     "text": [
      "\n",
      "Epoch: [8/10], Loss: 0.0016\n"
     ]
    },
    {
     "data": {
      "application/vnd.jupyter.widget-view+json": {
       "model_id": "a7bfb90964014ce0a4e45333ee99db5c",
       "version_major": 2,
       "version_minor": 0
      },
      "text/plain": [
       "HBox(children=(FloatProgress(value=1.0, bar_style='info', description='epoch [9/10]', max=1.0, style=ProgressS…"
      ]
     },
     "metadata": {},
     "output_type": "display_data"
    },
    {
     "name": "stdout",
     "output_type": "stream",
     "text": [
      "\n",
      "Epoch: [9/10], Loss: 0.0016\n"
     ]
    },
    {
     "data": {
      "application/vnd.jupyter.widget-view+json": {
       "model_id": "c1093e35000e4bb3acb0eaf87bdd3429",
       "version_major": 2,
       "version_minor": 0
      },
      "text/plain": [
       "HBox(children=(FloatProgress(value=1.0, bar_style='info', description='epoch [10/10]', max=1.0, style=Progress…"
      ]
     },
     "metadata": {},
     "output_type": "display_data"
    },
    {
     "name": "stdout",
     "output_type": "stream",
     "text": [
      "\n",
      "Epoch: [10/10], Loss: 0.0016\n"
     ]
    },
    {
     "data": {
      "application/vnd.jupyter.widget-view+json": {
       "model_id": "b5c918aaec5a48f399163d6b942ca7c0",
       "version_major": 2,
       "version_minor": 0
      },
      "text/plain": [
       "HBox(children=(FloatProgress(value=1.0, bar_style='info', description='Evaluating', max=1.0, style=ProgressSty…"
      ]
     },
     "metadata": {},
     "output_type": "display_data"
    },
    {
     "name": "stdout",
     "output_type": "stream",
     "text": [
      "\n",
      "Score (accuracy) of the model: 0.97\n"
     ]
    },
    {
     "data": {
      "application/vnd.jupyter.widget-view+json": {
       "model_id": "c0a1f5961a8f4af3919788874509cc6b",
       "version_major": 2,
       "version_minor": 0
      },
      "text/plain": [
       "HBox(children=(FloatProgress(value=1.0, bar_style='info', description='Evaluating', max=1.0, style=ProgressSty…"
      ]
     },
     "metadata": {},
     "output_type": "display_data"
    },
    {
     "name": "stdout",
     "output_type": "stream",
     "text": [
      "\n",
      "Score (accuracy) of the model: 0.93\n"
     ]
    },
    {
     "data": {
      "application/vnd.jupyter.widget-view+json": {
       "model_id": "3df236e9f06241d3a454292a14dcfd06",
       "version_major": 2,
       "version_minor": 0
      },
      "text/plain": [
       "HBox(children=(FloatProgress(value=1.0, bar_style='info', description='Evaluating', max=1.0, style=ProgressSty…"
      ]
     },
     "metadata": {},
     "output_type": "display_data"
    },
    {
     "name": "stdout",
     "output_type": "stream",
     "text": [
      "\n",
      "Score (accuracy) of the model: 0.92\n",
      "0.9253935110825571 0.923216885007278\n"
     ]
    }
   ],
   "source": [
    "top_neurons = ordering[:int(percentage*len(ordering))]\n",
    "print(\"Selecting %d top neurons\" % (len(top_neurons)))\n",
    "X_filtered = utils.filter_activations_keep_neurons(top_neurons, X)\n",
    "X_dev_filtered = utils.filter_activations_keep_neurons(top_neurons, X_dev)\n",
    "X_test_filtered = utils.filter_activations_keep_neurons(top_neurons, X_test)\n",
    "model_temp = utils.train_logreg_model(X_filtered, y, lambda_l1=L1, lambda_l2=L2, num_epochs=10, batch_size=BATCH_SIZE)\n",
    "top_neurons_train_accuracies = utils.evaluate_model(model_temp, X_filtered, y, idx2label, source_tokens=train_tokens['source'])\n",
    "top_neurons_dev_accuracies = utils.evaluate_model(model_temp, X_dev_filtered, y_dev, idx2label, source_tokens=dev_tokens['source'])\n",
    "top_neurons_test_accuracies = utils.evaluate_model(model_temp, X_test_filtered, y_test, idx2label, source_tokens=test_tokens['source'])\n",
    "accuracyElasticTop = top_neurons_dev_accuracies['__OVERALL__']\n",
    "accuracyElasticTopTest = top_neurons_test_accuracies['__OVERALL__']\n",
    "print (accuracyElasticTop, accuracyElasticTopTest)"
   ]
  },
  {
   "cell_type": "code",
   "execution_count": 20,
   "metadata": {},
   "outputs": [
    {
     "name": "stdout",
     "output_type": "stream",
     "text": [
      "[0.966569416498994, 0.9253935110825571, 0.923216885007278]\n"
     ]
    }
   ],
   "source": [
    "overallList = []\n",
    "overallList.append(top_neurons_train_accuracies['__OVERALL__'])\n",
    "overallList.append(top_neurons_dev_accuracies['__OVERALL__'])\n",
    "overallList.append(top_neurons_test_accuracies['__OVERALL__'])\n",
    "\n",
    "f = open(overallAcc, 'w')\n",
    "json.dump(overallList, f)\n",
    "f.close()\n",
    "\n",
    "with open(overallAcc, 'r') as f:\n",
    "   jsonList = json.load(f)\n",
    "\n",
    "print (jsonList)"
   ]
  },
  {
   "cell_type": "markdown",
   "metadata": {},
   "source": [
    "# Layer-wise Neuron Stats"
   ]
  },
  {
   "cell_type": "code",
   "execution_count": 21,
   "metadata": {},
   "outputs": [
    {
     "name": "stdout",
     "output_type": "stream",
     "text": [
      "[6912, 7042, 2959, 6416, 2705, 8600, 4377, 4633, 14233, 6299, 4894, 14751, 6561, 5793, 4771, 5924, 17701, 15782, 15270, 17191, 17318, 8622, 5558, 15426, 7236, 6341, 5575, 18119, 6473, 5834, 11849, 7244, 17358, 4430, 5586, 4435, 4055, 7513, 6490, 14431, 8674, 16234, 5230, 14452, 5749, 7290, 4859, 2684, 4357, 12807, 6159, 5921, 6946, 6312, 15788, 6326, 5303, 3382, 7990, 6334, 7359, 16452, 4293, 17220, 5573, 14792, 3146, 8907, 8139, 4813, 18126, 5584, 7506, 11090, 16600, 6745, 18014, 8415, 7906, 4581, 4966, 5225, 16492, 6765, 4334, 6516, 5113, 4475, 4988, 12937, 13578, 5259, 6800, 6801, 3216, 5392, 16147, 18965, 7570, 6426, 6683, 3611, 16667, 6174, 5662, 16037, 6694, 5286, 16677, 11822, 12590, 2352, 18993, 5939, 14903, 6712, 7351, 6841, 15547, 7480, 14138, 5559, 5951, 6585, 4537, 3006, 5443, 8388, 8773, 6727, 15047, 4808, 6865, 5842, 4561, 6100, 16086, 14551, 2518, 4954, 4059, 3422, 6879, 13663, 13280, 7526, 12904, 4458, 4971, 6893, 14317, 5744, 14835, 6517, 6649, 15484, 6270, 14976, 5249, 8834, 5378, 10884, 5125, 12169, 6538, 5260, 6414, 4623, 6160, 3856, 8338, 7569, 6165, 5397, 16663, 4891, 6558, 11551, 2981, 2214, 8487, 6012, 6571, 5423, 7471, 6707, 5818, 6970, 6588, 6845, 3065, 6210, 5826, 3394, 8005, 5061, 4807, 15815, 8649, 7371, 6092, 5581, 16590, 7164, 17105, 6610, 17619, 17107, 7508, 5848, 6109, 4190, 2402, 7650, 4067, 8425, 14697, 7915, 16875, 3950, 6896, 12528, 7537, 6387, 4980, 6901, 5618, 6904, 2809, 17020, 14206, 5121, 6146, 13320, 7181, 3087, 7184, 6675, 2588, 4640, 6691, 7728, 6709, 3130, 11834, 7230, 14921, 7778, 6762, 4209, 4731, 5768, 13961, 7819, 15504, 8344, 7832, 16543, 7344, 7364, 15054, 8404, 5355, 4845, 6396, 15109, 8461, 7453, 6436, 16164, 5938, 17223, 4938, 14672, 7507, 4436, 3421, 15199, 18790, 5990, 11652, 5514, 16271, 3476, 15774, 14243, 15269, 14758, 7080, 7082, 18348, 4014, 9137, 5047, 17351, 5577, 16851, 18387, 4572, 6622, 7136, 16883, 8181, 6136, 14841, 4091, 6653, 1022, 16264, 11401, 13705, 5515, 8972, 5133, 5774, 16912, 15505, 5777, 5627, 6938, 4890, 5786, 16798, 15006, 5278, 12705, 7074, 5539, 4517, 6568, 2345, 5289, 2990, 4143, 18479, 4784, 13358, 15663, 5808, 14126, 16176, 12602, 2107, 4794, 5697, 5314, 6979, 14916, 14277, 15687, 14538, 6602, 7242, 3323, 4949, 14679, 9176, 5335, 14299, 6493, 5341, 5599, 4709, 5734, 8038, 4713, 3306, 14957, 4717, 6255, 3821, 6898, 4213, 5878, 3832, 14073, 2427, 16380, 15999, 4610, 6667, 8205, 6188, 6191, 4655, 4658, 8246, 5175, 16954, 18504, 5198, 7248, 3667, 12886, 5216, 4705, 4198, 15465, 5738, 15984, 18042, 5243, 6789, 6286, 3727, 3220, 5780, 2710, 16553, 15021, 6325, 1719, 17598, 4288, 5824, 3785, 7885, 8413, 16093, 7397, 5360, 5363, 12537, 16641, 7425, 16136, 6428, 6942, 14114, 6439, 5415, 6968, 5433, 4930, 16215, 4448, 3434, 13183, 7051, 14737, 9107, 8084, 6559, 16809, 5546, 6583, 6586, 18876, 5056, 16320, 9156, 15818, 993, 16868, 6118, 7146, 4075, 6125, 15354, 15367, 6685, 6703, 2607, 6193, 6706, 4660, 4664, 6209, 4176, 5203, 4186, 8806, 19053, 4718, 8305, 7285, 3708, 4221, 16508, 6269, 3712, 4747, 4748, 7321, 2714, 7334, 5291, 6320, 5300, 4790, 7360, 10950, 17606, 18644, 17108, 4828, 3810, 14568, 6889, 6378, 5368, 5891, 16646, 5898, 17685, 5402, 16670, 16676, 4903, 6959, 3889, 6465, 16195, 18248, 15200, 13680, 4466, 6522, 14204, 3967, 1419, 3979, 6542, 2963, 5022, 2465, 14249, 6066, 16824, 17852, 6592, 6596, 7622, 6093, 5078, 7131, 7645, 8163, 5610, 6637, 7664, 11252, 4603, 2563, 17411, 14875, 8746, 17459, 8248, 14906, 3643, 4668, 8255, 6211, 4683, 14927, 6224, 6739, 86, 5212, 2142, 6760, 18029, 6766, 3697, 7802, 14972, 8830, 6281, 4752, 8337, 4267, 6844, 6846, 6340, 4806, 6855, 3271, 14545, 17620, 2270, 17122, 4836, 7413, 15609, 14076, 7939, 13062, 5901, 14094, 18197, 6430, 6945, 5422, 16693, 7477, 17730, 6981, 3909, 4945, 5970, 8021, 5974, 3418, 8029, 2919, 1383, 14703, 6000, 4480, 7040, 4487, 17304, 14238, 5023, 6570, 15792, 7094, 6076, 5066, 6097, 17876, 15832, 16348, 6130, 17397, 15361, 8197, 16389, 15882, 5147, 4132, 5157, 14374, 18983, 16435, 6196, 4669, 6719, 2626, 17480, 16457, 6729, 8271, 7253, 5722, 15967, 14950, 16514, 4744, 8330, 4746, 6803, 12948, 7316, 16562, 6850, 717, 6868, 6870, 4318, 6371, 6887, 1259, 13041, 5370, 12549, 4362, 5391, 4368, 7455, 15136, 2348, 3383, 5952, 15689, 5968, 9042, 2912, 16235, 8043, 6509, 16249, 11646, 2431, 8577, 9098, 7562, 2444, 3980, 6576, 16314, 14275, 7620, 18887, 7623, 15309, 7638, 17367, 3038, 7137, 17379, 6638, 5619, 9211, 6142, 4099, 6147, 4619, 12319, 7714, 6185, 14894, 16446, 7750, 5193, 6219, 16461, 4686, 3662, 8789, 16487, 3687, 3179, 17005, 5234, 14963, 14964, 6266, 3716, 6796, 3212, 4250, 15523, 5815, 16569, 6330, 14530, 6860, 5329, 6871, 3805, 4833, 6372, 5861, 5358, 12530, 4343, 8443, 3838, 6927, 3857, 3347, 6937, 5917, 7460, 2350, 17711, 5441, 6978, 6468, 1868, 12113, 11609, 4444, 15708, 4446, 8028, 7520, 6499, 9067, 7535, 6002, 14719, 389, 5518, 14739, 7059, 7078, 5568, 7618, 16337, 5083, 4068, 18406, 17906, 16885, 4992, 5248, 2434, 5123, 8066, 16902, 14599, 6536, 8841, 15624, 13835, 16653, 8335, 9103, 13969, 2450, 7571, 17914, 16017, 8214, 6934, 7828, 5912, 5530, 7834, 3993, 7198, 17440, 5154, 7462, 17830, 15275, 16557, 6190, 2226, 5428, 7991, 5948, 8381, 7101, 6082, 6212, 6084, 16838, 16583, 2641, 8274, 6738, 15188, 87, 17623, 16986, 6367, 12895, 18529, 15203, 18022, 2151, 7274, 5994, 9196, 5740, 16878, 7022, 2928, 4721, 5104, 3566, 7662, 5872, 17018, 16377, 4218, 6779, 6910, 5759, 15873, 8707, 8204, 7693, 4110, 18450, 6180, 1066, 10799, 19016, 5705, 6231, 8284, 16993, 7777, 6251, 6268, 14460, 6784, 7809, 3719, 8345, 7329, 6821, 6822, 13990, 7851, 2732, 3758, 5819, 4797, 1231, 13012, 14043, 7393, 4336, 15603, 7414, 8956, 7424, 4353, 5382, 6423, 5919, 7456, 3872, 3873, 3879, 7484, 16204, 855, 14680, 18270, 5984, 15718, 6504, 16750, 16752, 17265, 15728, 3957, 1916, 2944, 15744, 8587, 2955, 5533, 15775, 14242, 16291, 5045, 17850, 6587, 16830, 8126, 15809, 7633, 14312, 6123, 17395, 6647, 13305, 3066, 6144, 5635, 3590, 8203, 4126, 5150, 3618, 4647, 4652, 7212, 3631, 579, 16458, 4172, 16463, 17488, 18532, 7268, 3690, 8813, 8822, 16002, 14467, 7304, 17548, 4750, 18577, 15011, 6310, 4263, 7341, 1731, 4805, 17095, 5847, 2269, 14051, 11493, 1769, 5877, 15094, 6395, 7423, 5377, 16130, 6403, 7431, 4386, 4401, 2871, 7487, 15168, 17728, 9031, 14674, 4953, 16736, 12144, 3958, 7548, 5503, 6016, 6530, 5506, 6033, 18840, 3480, 17827, 17833, 6574, 5049, 4028, 8125, 6595, 4557, 15822, 5074, 5587, 15317, 7126, 5080, 14829, 3056, 15345, 8692, 5111, 3713, 6659, 12804, 7557, 5897, 6282, 6283, 16651, 15629, 8974, 7438, 16144, 16785, 14738, 18324, 7702, 6167, 6297, 4892, 3105, 8354, 6690, 931, 18981, 4003, 6775, 4776, 4521, 4008, 5035, 5294, 2994, 12340, 14261, 5942, 17720, 6201, 15545, 5817, 7998, 16191, 16832, 4800, 6594, 17600, 3142, 3015, 4038, 4170, 15178, 6354, 2131, 13394, 2901, 12758, 11222, 15447, 2649, 7258, 7514, 5471, 15584, 16997, 8427, 4078, 15215, 6126, 8062, 4599, 15352, 4858, 13310, 3078, 5640, 8201, 7695, 15896, 3617, 18980, 18469, 7215, 15408, 8753, 18994, 4151, 13370, 6730, 4688, 5713, 3666, 19030, 15966, 8288, 19046, 17015, 3194, 4732, 17535, 8320, 2700, 16528, 4241, 5273, 6307, 2727, 17064, 15035, 5820, 6333, 16068, 7877, 7373, 2767, 5353, 16105, 3310, 6895, 5362, 2295, 5374, 5376, 4355, 5894, 5393, 6935, 5399, 7459, 3390, 4935, 16712, 15177, 15187, 6489, 16729, 4455, 4973, 4981, 3962, 7036, 15740, 7552, 4492, 11667, 6548, 6035, 18328, 8602, 6563, 7600, 5557, 6071, 9148, 4546, 7109, 6108, 7659, 17901, 5628, 15870, 4109, 6672, 7696, 8728, 5145, 14368, 6693, 16428, 5676, 5169, 17461, 17990, 17491, 6241, 4706, 3173, 5735, 17524, 4222, 16018, 659, 7835, 4765, 7846, 7335, 14506, 6830, 7858, 6837, 18108, 17093, 10952, 7370, 4816, 8405, 6370, 15587, 8931, 17126, 6377, 6382, 14576, 16115, 5367, 7931, 4867, 16650, 2330, 18716, 13106, 6469, 3922, 347, 5980, 7004, 7516, 16228, 5481, 12650, 4462, 4982, 4983, 3963, 6529, 6544, 2452, 5015, 16290, 7590, 5032, 12713, 15796, 4022, 2487, 8128, 963, 4037, 14286, 7118, 3551, 14816, 3042, 6629, 16360, 12273, 6656, 5126, 7694, 3118, 13874, 15922, 8245, 12862, 7237, 15437, 13914, 14946, 14438, 15978, 7791, 7286, 5751, 16506, 5758, 2176, 5263, 8848, 6288, 8860, 5788, 15010, 15017, 5805, 8370, 3762, 14526, 15559, 7378, 5343, 16107, 17137, 4851, 7927, 6906, 5885, 2815, 3331, 16135, 2848, 2850, 15652, 15670, 6455, 12617, 5450, 6503, 3436, 5487, 4986, 16251, 16764, 2940, 4990, 6527, 16255, 5000, 1418, 5516, 17296, 14736, 16273, 14754, 5544, 6063, 14769, 15803, 5590, 7139, 13284, 5611, 5614, 7150, 16891, 5129, 6670, 4632, 17438, 11298, 5166, 5171, 6202, 15946, 13902, 6740, 5728, 4196, 8299, 17022, 4232, 6799, 7312, 8343, 5787, 7326, 14499, 15526, 15533, 8372, 7357, 5829, 6348, 5325, 12504, 8414, 6376, 7912, 15083, 14577, 17651, 7421, 16647, 1302, 7960, 7457, 5409, 5922, 6434, 2343, 7978, 8492, 16687, 3888, 16690, 5943, 12613, 14149, 6477, 3409, 12626, 16216, 18791, 16744, 8042, 8556, 15234, 5006, 3984, 15249, 15777, 5025, 6567, 17321, 4016, 13241, 7100, 15293, 12742, 7632, 16849, 16340, 5613, 3059, 4083, 1527, 5117, 15376, 16411, 2596, 6183, 1582, 16943, 6200, 17978, 2644, 2645, 7768, 3680, 6761, 4203, 4730, 1664, 2688, 5798, 17063, 5799, 17065, 7355, 14016, 4289, 8400, 3796, 8408, 6363, 13544, 2806, 3830, 17656, 3842, 12036, 16645, 801, 4385, 18215, 6958, 3887, 4920, 5944, 5947, 3907, 4932, 842, 13652, 16732, 6492, 3428, 2922, 3437, 14189, 7023, 6001, 15733, 15227, 4991, 6528, 3455, 16260, 8581, 7049, 15243, 5520, 8097, 7075, 6057, 2987, 4526, 2996, 4025, 5055, 5578, 1999, 8158, 7661, 2544, 11769, 3581, 7171, 8196, 7182, 5650, 5151, 7715, 5156, 1577, 17458, 5687, 19004, 6720, 3138, 7249, 8282, 5223, 2158, 8304, 11889, 3195, 3198, 5760, 5762, 15490, 11920, 17041, 15000, 10905, 18084, 15016, 6314, 5293, 8377, 5823, 17088, 16577, 5313, 8391, 4809, 6858, 4819, 3806, 7390, 8441, 17679, 8465, 3863, 5406, 5923, 4389, 14121, 4399, 5935, 2353, 7985, 11572, 3900, 14652, 2885, 4425, 13133, 13144, 4442, 5468, 6004, 17271, 3454, 8063, 4491, 12180, 8092, 7072, 8614, 16295, 2480, 5562, 14790, 17362, 16852, 16853, 6614, 9183, 8161, 5603, 1010, 5626, 17929, 17429, 13340, 5153, 3619, 14385, 5173, 4665, 4666, 4164, 4677, 7238, 8263, 4169, 14416, 4177, 15953, 15956, 5717, 3158, 6748, 7772, 6240, 5228, 6252, 4727, 11396, 4740, 8327, 4236, 14488, 2211, 5803, 8369, 17083, 8893, 15040, 6338, 6344, 7881, 14540, 7382, 5346, 4846, 15086, 6902, 15097, 15102, 254, 17157, 2822, 5904, 5907, 3357, 7458, 5925, 15144, 7475, 7497, 6987, 7002, 12637, 7007, 7017, 7536, 14199, 7033, 8073, 8080, 6034, 9116, 7582, 16805, 16806, 15785, 7091, 16309, 17336, 3520, 5059, 7108, 18388, 9174, 4573, 5086, 15338, 8686, 9088, 12544, 6657, 6278, 5895, 16778, 17292, 17809, 6930, 7187, 18839, 17433, 8985, 6809, 17950, 9118, 5791, 15394, 16035, 15527, 17448, 2602, 4011, 17580, 5040, 15024, 15155, 9013, 8630, 11319, 5941, 3897, 7862, 4283, 13756, 14013, 6206, 6591, 5696, 7612, 18242, 18498, 5703, 5959, 16586, 4810, 6220, 1485, 5966, 6474, 6861, 6863, 7801, 7547, 16084, 15701, 8536, 5210, 9182, 3550, 5470, 15071, 4066, 7904, 10853, 16358, 615, 3815, 5991, 15601, 15092, 3831, 17017, 15738, 17659, 4349, 8192, 8576, 4352, 7810, 17413, 10885, 6405, 6280, 6918, 8202, 4877, 3088, 18067, 3219, 18071, 9111, 2584, 5529, 14234, 12572, 1952, 7584, 15522, 5155, 7713, 6566, 17581, 5037, 6062, 16173, 14001, 4277, 5432, 15288, 16442, 14650, 15808, 5185, 15041, 5444, 4167, 4423, 4042, 15436, 6221, 5327, 13777, 4818, 15826, 12884, 15954, 7510, 8018, 3032, 4185, 7260, 4574, 18656, 4964, 4345, 15077, 14055, 4329, 7933, 18156, 4205, 1776, 5745, 7666, 16370, 6392, 3961, 7034, 16763, 17149, 7294, 8206, 4115, 4634, 4123, 17444, 14387, 19006, 2633, 8281, 5224, 7277, 6768, 3189, 5252, 4229, 5255, 2187, 3723, 17038, 16538, 17568, 5280, 18083, 6819, 7843, 5813, 4793, 14524, 8894, 6851, 18117, 16594, 15060, 4309, 2784, 15586, 7911, 2290, 6386, 14579, 11512, 14585, 4361, 3854, 3346, 16160, 2337, 8483, 4908, 6969, 17210, 5438, 5445, 15176, 1873, 16734, 12640, 3938, 4967, 12649, 6512, 6515, 15734, 8571, 15256, 7576, 7085, 14768, 8627, 15292, 6077, 7619, 4041, 7628, 14291, 16854, 18397, 6625, 15843, 16871, 2542, 16880, 2547, 14846, 6662, 6161, 16915, 1562, 16928, 1569, 15410, 15928, 13378, 4175, 18000, 17494, 15448, 16477, 6246, 7782, 13417, 6764, 5231, 8824, 17040, 18064, 4244, 18072, 7838, 16551, 3755, 19116, 5806, 6322, 5305, 14009, 8380, 15043, 4822, 6878, 4842, 7404, 14581, 12534, 17145, 7427, 3851, 7436, 3360, 4919, 2361, 16185, 14142, 6977, 6980, 3408, 5456, 16723, 3413, 3930, 7538, 5500, 17808, 16281, 1948, 7587, 7083, 2989, 7597, 6575, 4535, 8633, 17851, 8124, 4029]\n"
     ]
    },
    {
     "data": {
      "image/png": "[encoded data removed]",
      "text/plain": [
       "<Figure size 432x288 with 1 Axes>"
      ]
     },
     "metadata": {
      "needs_background": "light"
     },
     "output_type": "display_data"
    },
    {
     "name": "stdout",
     "output_type": "stream",
     "text": [
      "[1, 2, 3, 4, 5, 6, 7, 8, 9, 10, 11, 12, 13] [26, 107, 234, 396, 412, 193, 0, 34, 59, 161, 210, 134, 30]\n"
     ]
    }
   ],
   "source": [
    "layerWidth = 768*2\n",
    "layerDepth = 13\n",
    "layers = [0] * layerDepth\n",
    "layerIndex = list (range(1, layerDepth+1))\n",
    "print (top_neurons)\n",
    "for i in top_neurons:\n",
    "    layerNum = int(i/layerWidth)\n",
    "    layers[layerNum] = layers[layerNum] + 1\n",
    "\n",
    "plt.bar(layerIndex, layers)\n",
    "plt.show()\n",
    "\n",
    "print (layerIndex, layers)\n",
    "    \n",
    "#for idx, val in enumerate(layers):\n",
    " #   print(\"Layer \" + str(idx) + \" contributes \" + str(val))\n",
    "    #print (val)\n"
   ]
  },
  {
   "cell_type": "code",
   "execution_count": 22,
   "metadata": {},
   "outputs": [
    {
     "data": {
      "image/png": "[encoded data removed]",
      "text/plain": [
       "<Figure size 432x288 with 1 Axes>"
      ]
     },
     "metadata": {
      "needs_background": "light"
     },
     "output_type": "display_data"
    }
   ],
   "source": [
    "jsonList = {}\n",
    "for i in range(0,len(layerIndex)):\n",
    "    jsonList[layerIndex[i]] = layers[i]\n",
    "\n",
    "f = open(layerWiseNeurons, 'w')\n",
    "json.dump(jsonList, f)\n",
    "f.close()\n",
    "\n",
    "with open(layerWiseNeurons, 'r') as f:\n",
    "   jsonList = json.load(f)\n",
    "\n",
    "l = []\n",
    "lIndex = []\n",
    "for key in jsonList:\n",
    "    lIndex.append(int(key))\n",
    "    l.append(jsonList[key])\n",
    "\n",
    "plt.bar(lIndex, l)\n",
    "plt.show()"
   ]
  },
  {
   "cell_type": "markdown",
   "metadata": {},
   "source": [
    "# Layer-wise Probe Accuracy (with retraining)"
   ]
  },
  {
   "cell_type": "code",
   "execution_count": 23,
   "metadata": {
    "scrolled": false
   },
   "outputs": [
    {
     "name": "stdout",
     "output_type": "stream",
     "text": [
      "Selecting from Layer 1\n",
      "768 13\n",
      "Including neurons from f1(#0 to #768)\n",
      "Including neurons from f1(#0 to #768)\n"
     ]
    },
    {
     "name": "stderr",
     "output_type": "stream",
     "text": [
      "11663it [00:01, 5948.07it/s]\n",
      "1914it [00:00, 6512.26it/s]\n",
      "3828it [00:00, 6678.23it/s]\n"
     ]
    },
    {
     "name": "stdout",
     "output_type": "stream",
     "text": [
      "Creating train tensors...\n",
      "Number of tokens:  198800\n",
      "length of source dictionary:  19554\n",
      "length of target dictionary:  49\n",
      "198800\n",
      "Total instances: 198800\n",
      "['Shuttle', 'deals', 'reason', 'Afghanistan', 'academic', 'tin', 'Norwegians', 'relatively', 'integrate', 'tele', 'gaps', 'Atal', 'Lamonica', 'Kaufman', 'substantiation', 'sofa', 'woollies', 'Town', 'pendulum', 'operation']\n",
      "Number of tokens:  24904\n",
      "length of source dictionary:  19554\n",
      "length of target dictionary:  49\n",
      "24904\n",
      "Total instances: 24904\n",
      "['Shuttle', 'reason', 'academic', 'Afghanistan', 'Barrel', 'grammar', 'Bonding', 'suburban', 'intrepid', 'vu', 'operation', 'awful', 'darin', 'ones', 'runner', 'weight', 'Prime', 'unsure', 'arabes', 'comme']\n",
      "Number of tokens:  49464\n",
      "length of source dictionary:  19554\n",
      "length of target dictionary:  49\n",
      "49464\n",
      "Total instances: 49464\n",
      "['Shuttle', 'deals', 'reason', 'Afghanistan', 'academic', 'spoiler', 'Barrel', 'grammar', 'relatively', 'Bonding', 'suburban', 'intrepid', 'Atal', 'pepco', 'vu', 'Town', 'operation', 'awful', 'darin', 'ones']\n",
      "Building model...\n",
      "Training classification model\n",
      "Creating model...\n",
      "Number of training instances: 198800\n",
      "Number of classes: 49\n"
     ]
    },
    {
     "data": {
      "application/vnd.jupyter.widget-view+json": {
       "model_id": "e23211bfea184f86806f4a441a25473d",
       "version_major": 2,
       "version_minor": 0
      },
      "text/plain": [
       "HBox(children=(FloatProgress(value=1.0, bar_style='info', description='epoch [1/5]', max=1.0, style=ProgressSt…"
      ]
     },
     "metadata": {},
     "output_type": "display_data"
    },
    {
     "name": "stdout",
     "output_type": "stream",
     "text": [
      "\n",
      "Epoch: [1/5], Loss: 0.0082\n"
     ]
    },
    {
     "data": {
      "application/vnd.jupyter.widget-view+json": {
       "model_id": "bcfe3d6c2e8c4dfa9bc742a84e73bb54",
       "version_major": 2,
       "version_minor": 0
      },
      "text/plain": [
       "HBox(children=(FloatProgress(value=1.0, bar_style='info', description='epoch [2/5]', max=1.0, style=ProgressSt…"
      ]
     },
     "metadata": {},
     "output_type": "display_data"
    },
    {
     "name": "stdout",
     "output_type": "stream",
     "text": [
      "\n",
      "Epoch: [2/5], Loss: 0.0060\n"
     ]
    },
    {
     "data": {
      "application/vnd.jupyter.widget-view+json": {
       "model_id": "100c9ea88884434fa4d30b7b63cbfde0",
       "version_major": 2,
       "version_minor": 0
      },
      "text/plain": [
       "HBox(children=(FloatProgress(value=1.0, bar_style='info', description='epoch [3/5]', max=1.0, style=ProgressSt…"
      ]
     },
     "metadata": {},
     "output_type": "display_data"
    },
    {
     "name": "stdout",
     "output_type": "stream",
     "text": [
      "\n",
      "Epoch: [3/5], Loss: 0.0056\n"
     ]
    },
    {
     "data": {
      "application/vnd.jupyter.widget-view+json": {
       "model_id": "5ac0437cdd974644a395ac5221670236",
       "version_major": 2,
       "version_minor": 0
      },
      "text/plain": [
       "HBox(children=(FloatProgress(value=1.0, bar_style='info', description='epoch [4/5]', max=1.0, style=ProgressSt…"
      ]
     },
     "metadata": {},
     "output_type": "display_data"
    },
    {
     "name": "stdout",
     "output_type": "stream",
     "text": [
      "\n",
      "Epoch: [4/5], Loss: 0.0054\n"
     ]
    },
    {
     "data": {
      "application/vnd.jupyter.widget-view+json": {
       "model_id": "468e03a6497f4918b2fff1a6e0e988df",
       "version_major": 2,
       "version_minor": 0
      },
      "text/plain": [
       "HBox(children=(FloatProgress(value=1.0, bar_style='info', description='epoch [5/5]', max=1.0, style=ProgressSt…"
      ]
     },
     "metadata": {},
     "output_type": "display_data"
    },
    {
     "name": "stdout",
     "output_type": "stream",
     "text": [
      "\n",
      "Epoch: [5/5], Loss: 0.0053\n"
     ]
    },
    {
     "data": {
      "application/vnd.jupyter.widget-view+json": {
       "model_id": "ac9f72779f65490bae74d67c68e65097",
       "version_major": 2,
       "version_minor": 0
      },
      "text/plain": [
       "HBox(children=(FloatProgress(value=1.0, bar_style='info', description='Evaluating', max=1.0, style=ProgressSty…"
      ]
     },
     "metadata": {},
     "output_type": "display_data"
    },
    {
     "name": "stdout",
     "output_type": "stream",
     "text": [
      "\n",
      "Score (accuracy) of the model: 0.76\n",
      "Selecting from Layer 2\n",
      "768 13\n",
      "Including neurons from f2(#768 to #1536)\n",
      "Including neurons from f2(#768 to #1536)\n"
     ]
    },
    {
     "name": "stderr",
     "output_type": "stream",
     "text": [
      "11663it [00:01, 6017.19it/s]\n",
      "1914it [00:00, 7424.84it/s]\n",
      "3828it [00:00, 7439.77it/s]\n"
     ]
    },
    {
     "name": "stdout",
     "output_type": "stream",
     "text": [
      "Creating train tensors...\n",
      "Number of tokens:  198800\n",
      "length of source dictionary:  19554\n",
      "length of target dictionary:  49\n",
      "198800\n",
      "Total instances: 198800\n",
      "['Shuttle', 'deals', 'reason', 'Afghanistan', 'academic', 'tin', 'Norwegians', 'relatively', 'integrate', 'tele', 'gaps', 'Atal', 'Lamonica', 'Kaufman', 'substantiation', 'sofa', 'woollies', 'Town', 'pendulum', 'operation']\n",
      "Number of tokens:  24904\n",
      "length of source dictionary:  19554\n",
      "length of target dictionary:  49\n",
      "24904\n",
      "Total instances: 24904\n",
      "['Shuttle', 'reason', 'academic', 'Afghanistan', 'Barrel', 'grammar', 'Bonding', 'suburban', 'intrepid', 'vu', 'operation', 'awful', 'darin', 'ones', 'runner', 'weight', 'Prime', 'unsure', 'arabes', 'comme']\n",
      "Number of tokens:  49464\n",
      "length of source dictionary:  19554\n",
      "length of target dictionary:  49\n",
      "49464\n",
      "Total instances: 49464\n",
      "['Shuttle', 'deals', 'reason', 'Afghanistan', 'academic', 'spoiler', 'Barrel', 'grammar', 'relatively', 'Bonding', 'suburban', 'intrepid', 'Atal', 'pepco', 'vu', 'Town', 'operation', 'awful', 'darin', 'ones']\n",
      "Building model...\n",
      "Training classification model\n",
      "Creating model...\n",
      "Number of training instances: 198800\n",
      "Number of classes: 49\n"
     ]
    },
    {
     "data": {
      "application/vnd.jupyter.widget-view+json": {
       "model_id": "f9cf116436814cac82609d2a6850cd75",
       "version_major": 2,
       "version_minor": 0
      },
      "text/plain": [
       "HBox(children=(FloatProgress(value=1.0, bar_style='info', description='epoch [1/5]', max=1.0, style=ProgressSt…"
      ]
     },
     "metadata": {},
     "output_type": "display_data"
    },
    {
     "name": "stdout",
     "output_type": "stream",
     "text": [
      "\n",
      "Epoch: [1/5], Loss: 0.0071\n"
     ]
    },
    {
     "data": {
      "application/vnd.jupyter.widget-view+json": {
       "model_id": "744621fecaca4bf0801cf6c29ee16317",
       "version_major": 2,
       "version_minor": 0
      },
      "text/plain": [
       "HBox(children=(FloatProgress(value=1.0, bar_style='info', description='epoch [2/5]', max=1.0, style=ProgressSt…"
      ]
     },
     "metadata": {},
     "output_type": "display_data"
    },
    {
     "name": "stdout",
     "output_type": "stream",
     "text": [
      "\n",
      "Epoch: [2/5], Loss: 0.0055\n"
     ]
    },
    {
     "data": {
      "application/vnd.jupyter.widget-view+json": {
       "model_id": "4238306322854bdfab9906db3352f1e2",
       "version_major": 2,
       "version_minor": 0
      },
      "text/plain": [
       "HBox(children=(FloatProgress(value=1.0, bar_style='info', description='epoch [3/5]', max=1.0, style=ProgressSt…"
      ]
     },
     "metadata": {},
     "output_type": "display_data"
    },
    {
     "name": "stdout",
     "output_type": "stream",
     "text": [
      "\n",
      "Epoch: [3/5], Loss: 0.0052\n"
     ]
    },
    {
     "data": {
      "application/vnd.jupyter.widget-view+json": {
       "model_id": "608f7ac53f564529a4b232f713e5f356",
       "version_major": 2,
       "version_minor": 0
      },
      "text/plain": [
       "HBox(children=(FloatProgress(value=1.0, bar_style='info', description='epoch [4/5]', max=1.0, style=ProgressSt…"
      ]
     },
     "metadata": {},
     "output_type": "display_data"
    },
    {
     "name": "stdout",
     "output_type": "stream",
     "text": [
      "\n",
      "Epoch: [4/5], Loss: 0.0050\n"
     ]
    },
    {
     "data": {
      "application/vnd.jupyter.widget-view+json": {
       "model_id": "02a8cc7f14c34e01b35d325064ae3914",
       "version_major": 2,
       "version_minor": 0
      },
      "text/plain": [
       "HBox(children=(FloatProgress(value=1.0, bar_style='info', description='epoch [5/5]', max=1.0, style=ProgressSt…"
      ]
     },
     "metadata": {},
     "output_type": "display_data"
    },
    {
     "name": "stdout",
     "output_type": "stream",
     "text": [
      "\n",
      "Epoch: [5/5], Loss: 0.0049\n"
     ]
    },
    {
     "data": {
      "application/vnd.jupyter.widget-view+json": {
       "model_id": "32e6720bd48146898e9e51e0b711ef09",
       "version_major": 2,
       "version_minor": 0
      },
      "text/plain": [
       "HBox(children=(FloatProgress(value=1.0, bar_style='info', description='Evaluating', max=1.0, style=ProgressSty…"
      ]
     },
     "metadata": {},
     "output_type": "display_data"
    },
    {
     "name": "stdout",
     "output_type": "stream",
     "text": [
      "\n",
      "Score (accuracy) of the model: 0.78\n",
      "Selecting from Layer 3\n",
      "768 13\n",
      "Including neurons from f3(#1536 to #2304)\n",
      "Including neurons from f3(#1536 to #2304)\n"
     ]
    },
    {
     "name": "stderr",
     "output_type": "stream",
     "text": [
      "11663it [00:01, 6163.09it/s]\n",
      "1914it [00:00, 7376.22it/s]\n",
      "3828it [00:00, 7391.86it/s]\n"
     ]
    },
    {
     "name": "stdout",
     "output_type": "stream",
     "text": [
      "Creating train tensors...\n",
      "Number of tokens:  198800\n",
      "length of source dictionary:  19554\n",
      "length of target dictionary:  49\n",
      "198800\n",
      "Total instances: 198800\n",
      "['Shuttle', 'deals', 'reason', 'Afghanistan', 'academic', 'tin', 'Norwegians', 'relatively', 'integrate', 'tele', 'gaps', 'Atal', 'Lamonica', 'Kaufman', 'substantiation', 'sofa', 'woollies', 'Town', 'pendulum', 'operation']\n",
      "Number of tokens:  24904\n",
      "length of source dictionary:  19554\n",
      "length of target dictionary:  49\n",
      "24904\n",
      "Total instances: 24904\n",
      "['Shuttle', 'reason', 'academic', 'Afghanistan', 'Barrel', 'grammar', 'Bonding', 'suburban', 'intrepid', 'vu', 'operation', 'awful', 'darin', 'ones', 'runner', 'weight', 'Prime', 'unsure', 'arabes', 'comme']\n",
      "Number of tokens:  49464\n",
      "length of source dictionary:  19554\n",
      "length of target dictionary:  49\n",
      "49464\n",
      "Total instances: 49464\n",
      "['Shuttle', 'deals', 'reason', 'Afghanistan', 'academic', 'spoiler', 'Barrel', 'grammar', 'relatively', 'Bonding', 'suburban', 'intrepid', 'Atal', 'pepco', 'vu', 'Town', 'operation', 'awful', 'darin', 'ones']\n",
      "Building model...\n",
      "Training classification model\n",
      "Creating model...\n",
      "Number of training instances: 198800\n",
      "Number of classes: 49\n"
     ]
    },
    {
     "data": {
      "application/vnd.jupyter.widget-view+json": {
       "model_id": "c05302afcc3f4bac994c6996f41677d7",
       "version_major": 2,
       "version_minor": 0
      },
      "text/plain": [
       "HBox(children=(FloatProgress(value=1.0, bar_style='info', description='epoch [1/5]', max=1.0, style=ProgressSt…"
      ]
     },
     "metadata": {},
     "output_type": "display_data"
    },
    {
     "name": "stdout",
     "output_type": "stream",
     "text": [
      "\n",
      "Epoch: [1/5], Loss: 0.0056\n"
     ]
    },
    {
     "data": {
      "application/vnd.jupyter.widget-view+json": {
       "model_id": "626643077a2a489c8ed41d47025f6b86",
       "version_major": 2,
       "version_minor": 0
      },
      "text/plain": [
       "HBox(children=(FloatProgress(value=1.0, bar_style='info', description='epoch [2/5]', max=1.0, style=ProgressSt…"
      ]
     },
     "metadata": {},
     "output_type": "display_data"
    },
    {
     "name": "stdout",
     "output_type": "stream",
     "text": [
      "\n",
      "Epoch: [2/5], Loss: 0.0038\n"
     ]
    },
    {
     "data": {
      "application/vnd.jupyter.widget-view+json": {
       "model_id": "a585bbac6fbd4275b0d3bcbe16fa1b8b",
       "version_major": 2,
       "version_minor": 0
      },
      "text/plain": [
       "HBox(children=(FloatProgress(value=1.0, bar_style='info', description='epoch [3/5]', max=1.0, style=ProgressSt…"
      ]
     },
     "metadata": {},
     "output_type": "display_data"
    },
    {
     "name": "stdout",
     "output_type": "stream",
     "text": [
      "\n",
      "Epoch: [3/5], Loss: 0.0034\n"
     ]
    },
    {
     "data": {
      "application/vnd.jupyter.widget-view+json": {
       "model_id": "10d2dff986d44bcdb29abfd992495cab",
       "version_major": 2,
       "version_minor": 0
      },
      "text/plain": [
       "HBox(children=(FloatProgress(value=1.0, bar_style='info', description='epoch [4/5]', max=1.0, style=ProgressSt…"
      ]
     },
     "metadata": {},
     "output_type": "display_data"
    },
    {
     "name": "stdout",
     "output_type": "stream",
     "text": [
      "\n",
      "Epoch: [4/5], Loss: 0.0032\n"
     ]
    },
    {
     "data": {
      "application/vnd.jupyter.widget-view+json": {
       "model_id": "357a74cd7d544bc78f8d9c14ef387ec1",
       "version_major": 2,
       "version_minor": 0
      },
      "text/plain": [
       "HBox(children=(FloatProgress(value=1.0, bar_style='info', description='epoch [5/5]', max=1.0, style=ProgressSt…"
      ]
     },
     "metadata": {},
     "output_type": "display_data"
    },
    {
     "name": "stdout",
     "output_type": "stream",
     "text": [
      "\n",
      "Epoch: [5/5], Loss: 0.0031\n"
     ]
    },
    {
     "data": {
      "application/vnd.jupyter.widget-view+json": {
       "model_id": "a4613c8ba47b492c98795c1b83f798e5",
       "version_major": 2,
       "version_minor": 0
      },
      "text/plain": [
       "HBox(children=(FloatProgress(value=1.0, bar_style='info', description='Evaluating', max=1.0, style=ProgressSty…"
      ]
     },
     "metadata": {},
     "output_type": "display_data"
    },
    {
     "name": "stdout",
     "output_type": "stream",
     "text": [
      "\n",
      "Score (accuracy) of the model: 0.85\n",
      "Selecting from Layer 4\n",
      "768 13\n",
      "Including neurons from f4(#2304 to #3072)\n",
      "Including neurons from f4(#2304 to #3072)\n"
     ]
    },
    {
     "name": "stderr",
     "output_type": "stream",
     "text": [
      "11663it [00:01, 6376.42it/s]\n",
      "1914it [00:00, 7451.76it/s]\n",
      "3828it [00:00, 7414.93it/s]\n"
     ]
    },
    {
     "name": "stdout",
     "output_type": "stream",
     "text": [
      "Creating train tensors...\n",
      "Number of tokens:  198800\n",
      "length of source dictionary:  19554\n",
      "length of target dictionary:  49\n",
      "198800\n",
      "Total instances: 198800\n",
      "['Shuttle', 'deals', 'reason', 'Afghanistan', 'academic', 'tin', 'Norwegians', 'relatively', 'integrate', 'tele', 'gaps', 'Atal', 'Lamonica', 'Kaufman', 'substantiation', 'sofa', 'woollies', 'Town', 'pendulum', 'operation']\n",
      "Number of tokens:  24904\n",
      "length of source dictionary:  19554\n",
      "length of target dictionary:  49\n",
      "24904\n",
      "Total instances: 24904\n",
      "['Shuttle', 'reason', 'academic', 'Afghanistan', 'Barrel', 'grammar', 'Bonding', 'suburban', 'intrepid', 'vu', 'operation', 'awful', 'darin', 'ones', 'runner', 'weight', 'Prime', 'unsure', 'arabes', 'comme']\n",
      "Number of tokens:  49464\n",
      "length of source dictionary:  19554\n",
      "length of target dictionary:  49\n",
      "49464\n",
      "Total instances: 49464\n",
      "['Shuttle', 'deals', 'reason', 'Afghanistan', 'academic', 'spoiler', 'Barrel', 'grammar', 'relatively', 'Bonding', 'suburban', 'intrepid', 'Atal', 'pepco', 'vu', 'Town', 'operation', 'awful', 'darin', 'ones']\n",
      "Building model...\n",
      "Training classification model\n",
      "Creating model...\n",
      "Number of training instances: 198800\n",
      "Number of classes: 49\n"
     ]
    },
    {
     "data": {
      "application/vnd.jupyter.widget-view+json": {
       "model_id": "f7adea23752b4e96af54f66bd31db567",
       "version_major": 2,
       "version_minor": 0
      },
      "text/plain": [
       "HBox(children=(FloatProgress(value=1.0, bar_style='info', description='epoch [1/5]', max=1.0, style=ProgressSt…"
      ]
     },
     "metadata": {},
     "output_type": "display_data"
    },
    {
     "name": "stdout",
     "output_type": "stream",
     "text": [
      "\n",
      "Epoch: [1/5], Loss: 0.0044\n"
     ]
    },
    {
     "data": {
      "application/vnd.jupyter.widget-view+json": {
       "model_id": "c6123a6eb52e43a284eee2037076a6f8",
       "version_major": 2,
       "version_minor": 0
      },
      "text/plain": [
       "HBox(children=(FloatProgress(value=1.0, bar_style='info', description='epoch [2/5]', max=1.0, style=ProgressSt…"
      ]
     },
     "metadata": {},
     "output_type": "display_data"
    },
    {
     "name": "stdout",
     "output_type": "stream",
     "text": [
      "\n",
      "Epoch: [2/5], Loss: 0.0028\n"
     ]
    },
    {
     "data": {
      "application/vnd.jupyter.widget-view+json": {
       "model_id": "b40a289a65664ed28e04f29a46ed9287",
       "version_major": 2,
       "version_minor": 0
      },
      "text/plain": [
       "HBox(children=(FloatProgress(value=1.0, bar_style='info', description='epoch [3/5]', max=1.0, style=ProgressSt…"
      ]
     },
     "metadata": {},
     "output_type": "display_data"
    },
    {
     "name": "stdout",
     "output_type": "stream",
     "text": [
      "\n",
      "Epoch: [3/5], Loss: 0.0025\n"
     ]
    },
    {
     "data": {
      "application/vnd.jupyter.widget-view+json": {
       "model_id": "c0063d6d294544e4bd2d7242bfcecb78",
       "version_major": 2,
       "version_minor": 0
      },
      "text/plain": [
       "HBox(children=(FloatProgress(value=1.0, bar_style='info', description='epoch [4/5]', max=1.0, style=ProgressSt…"
      ]
     },
     "metadata": {},
     "output_type": "display_data"
    },
    {
     "name": "stdout",
     "output_type": "stream",
     "text": [
      "\n",
      "Epoch: [4/5], Loss: 0.0023\n"
     ]
    },
    {
     "data": {
      "application/vnd.jupyter.widget-view+json": {
       "model_id": "dd4b3bbf03ab4b469544e92d9783cb43",
       "version_major": 2,
       "version_minor": 0
      },
      "text/plain": [
       "HBox(children=(FloatProgress(value=1.0, bar_style='info', description='epoch [5/5]', max=1.0, style=ProgressSt…"
      ]
     },
     "metadata": {},
     "output_type": "display_data"
    },
    {
     "name": "stdout",
     "output_type": "stream",
     "text": [
      "\n",
      "Epoch: [5/5], Loss: 0.0022\n"
     ]
    },
    {
     "data": {
      "application/vnd.jupyter.widget-view+json": {
       "model_id": "86eae0d6be78453a8b31d46815fe465a",
       "version_major": 2,
       "version_minor": 0
      },
      "text/plain": [
       "HBox(children=(FloatProgress(value=1.0, bar_style='info', description='Evaluating', max=1.0, style=ProgressSty…"
      ]
     },
     "metadata": {},
     "output_type": "display_data"
    },
    {
     "name": "stdout",
     "output_type": "stream",
     "text": [
      "\n",
      "Score (accuracy) of the model: 0.89\n",
      "Selecting from Layer 5\n",
      "768 13\n",
      "Including neurons from f5(#3072 to #3840)\n",
      "Including neurons from f5(#3072 to #3840)\n"
     ]
    },
    {
     "name": "stderr",
     "output_type": "stream",
     "text": [
      "11663it [00:01, 6496.31it/s]\n",
      "1914it [00:00, 9218.74it/s]\n",
      "3828it [00:00, 8131.98it/s]\n"
     ]
    },
    {
     "name": "stdout",
     "output_type": "stream",
     "text": [
      "Creating train tensors...\n",
      "Number of tokens:  198800\n",
      "length of source dictionary:  19554\n",
      "length of target dictionary:  49\n",
      "198800\n",
      "Total instances: 198800\n",
      "['Shuttle', 'deals', 'reason', 'Afghanistan', 'academic', 'tin', 'Norwegians', 'relatively', 'integrate', 'tele', 'gaps', 'Atal', 'Lamonica', 'Kaufman', 'substantiation', 'sofa', 'woollies', 'Town', 'pendulum', 'operation']\n",
      "Number of tokens:  24904\n",
      "length of source dictionary:  19554\n",
      "length of target dictionary:  49\n",
      "24904\n",
      "Total instances: 24904\n",
      "['Shuttle', 'reason', 'academic', 'Afghanistan', 'Barrel', 'grammar', 'Bonding', 'suburban', 'intrepid', 'vu', 'operation', 'awful', 'darin', 'ones', 'runner', 'weight', 'Prime', 'unsure', 'arabes', 'comme']\n",
      "Number of tokens:  49464\n",
      "length of source dictionary:  19554\n",
      "length of target dictionary:  49\n",
      "49464\n",
      "Total instances: 49464\n",
      "['Shuttle', 'deals', 'reason', 'Afghanistan', 'academic', 'spoiler', 'Barrel', 'grammar', 'relatively', 'Bonding', 'suburban', 'intrepid', 'Atal', 'pepco', 'vu', 'Town', 'operation', 'awful', 'darin', 'ones']\n",
      "Building model...\n",
      "Training classification model\n",
      "Creating model...\n",
      "Number of training instances: 198800\n",
      "Number of classes: 49\n"
     ]
    },
    {
     "data": {
      "application/vnd.jupyter.widget-view+json": {
       "model_id": "c4094a697eb3473e990b72e7be6054bc",
       "version_major": 2,
       "version_minor": 0
      },
      "text/plain": [
       "HBox(children=(FloatProgress(value=1.0, bar_style='info', description='epoch [1/5]', max=1.0, style=ProgressSt…"
      ]
     },
     "metadata": {},
     "output_type": "display_data"
    },
    {
     "name": "stdout",
     "output_type": "stream",
     "text": [
      "\n",
      "Epoch: [1/5], Loss: 0.0039\n"
     ]
    },
    {
     "data": {
      "application/vnd.jupyter.widget-view+json": {
       "model_id": "d9c63ca85118486e9786b01f84671295",
       "version_major": 2,
       "version_minor": 0
      },
      "text/plain": [
       "HBox(children=(FloatProgress(value=1.0, bar_style='info', description='epoch [2/5]', max=1.0, style=ProgressSt…"
      ]
     },
     "metadata": {},
     "output_type": "display_data"
    },
    {
     "name": "stdout",
     "output_type": "stream",
     "text": [
      "\n",
      "Epoch: [2/5], Loss: 0.0022\n"
     ]
    },
    {
     "data": {
      "application/vnd.jupyter.widget-view+json": {
       "model_id": "fdd4f2ab4bb14c6f8293b35fbefc91c3",
       "version_major": 2,
       "version_minor": 0
      },
      "text/plain": [
       "HBox(children=(FloatProgress(value=1.0, bar_style='info', description='epoch [3/5]', max=1.0, style=ProgressSt…"
      ]
     },
     "metadata": {},
     "output_type": "display_data"
    },
    {
     "name": "stdout",
     "output_type": "stream",
     "text": [
      "\n",
      "Epoch: [3/5], Loss: 0.0019\n"
     ]
    },
    {
     "data": {
      "application/vnd.jupyter.widget-view+json": {
       "model_id": "7ca44336a3014506b5ec5d2bc428f0be",
       "version_major": 2,
       "version_minor": 0
      },
      "text/plain": [
       "HBox(children=(FloatProgress(value=1.0, bar_style='info', description='epoch [4/5]', max=1.0, style=ProgressSt…"
      ]
     },
     "metadata": {},
     "output_type": "display_data"
    },
    {
     "name": "stdout",
     "output_type": "stream",
     "text": [
      "\n",
      "Epoch: [4/5], Loss: 0.0018\n"
     ]
    },
    {
     "data": {
      "application/vnd.jupyter.widget-view+json": {
       "model_id": "547a9e02088446aaac66f6aa1c0dbb0a",
       "version_major": 2,
       "version_minor": 0
      },
      "text/plain": [
       "HBox(children=(FloatProgress(value=1.0, bar_style='info', description='epoch [5/5]', max=1.0, style=ProgressSt…"
      ]
     },
     "metadata": {},
     "output_type": "display_data"
    },
    {
     "name": "stdout",
     "output_type": "stream",
     "text": [
      "\n",
      "Epoch: [5/5], Loss: 0.0016\n"
     ]
    },
    {
     "data": {
      "application/vnd.jupyter.widget-view+json": {
       "model_id": "155df4ec642441e895848f7ba94cf19d",
       "version_major": 2,
       "version_minor": 0
      },
      "text/plain": [
       "HBox(children=(FloatProgress(value=1.0, bar_style='info', description='Evaluating', max=1.0, style=ProgressSty…"
      ]
     },
     "metadata": {},
     "output_type": "display_data"
    },
    {
     "name": "stdout",
     "output_type": "stream",
     "text": [
      "\n",
      "Score (accuracy) of the model: 0.91\n",
      "Selecting from Layer 6\n",
      "768 13\n",
      "Including neurons from f6(#3840 to #4608)\n",
      "Including neurons from f6(#3840 to #4608)\n"
     ]
    },
    {
     "name": "stderr",
     "output_type": "stream",
     "text": [
      "11663it [00:01, 6815.67it/s]\n",
      "1914it [00:00, 9305.01it/s]\n",
      "3828it [00:00, 9179.45it/s]\n"
     ]
    },
    {
     "name": "stdout",
     "output_type": "stream",
     "text": [
      "Creating train tensors...\n",
      "Number of tokens:  198800\n",
      "length of source dictionary:  19554\n",
      "length of target dictionary:  49\n",
      "198800\n",
      "Total instances: 198800\n",
      "['Shuttle', 'deals', 'reason', 'Afghanistan', 'academic', 'tin', 'Norwegians', 'relatively', 'integrate', 'tele', 'gaps', 'Atal', 'Lamonica', 'Kaufman', 'substantiation', 'sofa', 'woollies', 'Town', 'pendulum', 'operation']\n",
      "Number of tokens:  24904\n",
      "length of source dictionary:  19554\n",
      "length of target dictionary:  49\n",
      "24904\n",
      "Total instances: 24904\n",
      "['Shuttle', 'reason', 'academic', 'Afghanistan', 'Barrel', 'grammar', 'Bonding', 'suburban', 'intrepid', 'vu', 'operation', 'awful', 'darin', 'ones', 'runner', 'weight', 'Prime', 'unsure', 'arabes', 'comme']\n",
      "Number of tokens:  49464\n",
      "length of source dictionary:  19554\n",
      "length of target dictionary:  49\n",
      "49464\n",
      "Total instances: 49464\n",
      "['Shuttle', 'deals', 'reason', 'Afghanistan', 'academic', 'spoiler', 'Barrel', 'grammar', 'relatively', 'Bonding', 'suburban', 'intrepid', 'Atal', 'pepco', 'vu', 'Town', 'operation', 'awful', 'darin', 'ones']\n",
      "Building model...\n",
      "Training classification model\n",
      "Creating model...\n",
      "Number of training instances: 198800\n",
      "Number of classes: 49\n"
     ]
    },
    {
     "data": {
      "application/vnd.jupyter.widget-view+json": {
       "model_id": "695adc42d937401892a09c15e26997f6",
       "version_major": 2,
       "version_minor": 0
      },
      "text/plain": [
       "HBox(children=(FloatProgress(value=1.0, bar_style='info', description='epoch [1/5]', max=1.0, style=ProgressSt…"
      ]
     },
     "metadata": {},
     "output_type": "display_data"
    },
    {
     "name": "stdout",
     "output_type": "stream",
     "text": [
      "\n",
      "Epoch: [1/5], Loss: 0.0034\n"
     ]
    },
    {
     "data": {
      "application/vnd.jupyter.widget-view+json": {
       "model_id": "ec1e8547c5bb436c8f275c1c33177c04",
       "version_major": 2,
       "version_minor": 0
      },
      "text/plain": [
       "HBox(children=(FloatProgress(value=1.0, bar_style='info', description='epoch [2/5]', max=1.0, style=ProgressSt…"
      ]
     },
     "metadata": {},
     "output_type": "display_data"
    },
    {
     "name": "stdout",
     "output_type": "stream",
     "text": [
      "\n",
      "Epoch: [2/5], Loss: 0.0018\n"
     ]
    },
    {
     "data": {
      "application/vnd.jupyter.widget-view+json": {
       "model_id": "fa202fdc90d1415d94e7afdaa3deef7a",
       "version_major": 2,
       "version_minor": 0
      },
      "text/plain": [
       "HBox(children=(FloatProgress(value=1.0, bar_style='info', description='epoch [3/5]', max=1.0, style=ProgressSt…"
      ]
     },
     "metadata": {},
     "output_type": "display_data"
    },
    {
     "name": "stdout",
     "output_type": "stream",
     "text": [
      "\n",
      "Epoch: [3/5], Loss: 0.0015\n"
     ]
    },
    {
     "data": {
      "application/vnd.jupyter.widget-view+json": {
       "model_id": "2b39a94d11e1495299be10aec4c08fe9",
       "version_major": 2,
       "version_minor": 0
      },
      "text/plain": [
       "HBox(children=(FloatProgress(value=1.0, bar_style='info', description='epoch [4/5]', max=1.0, style=ProgressSt…"
      ]
     },
     "metadata": {},
     "output_type": "display_data"
    },
    {
     "name": "stdout",
     "output_type": "stream",
     "text": [
      "\n",
      "Epoch: [4/5], Loss: 0.0014\n"
     ]
    },
    {
     "data": {
      "application/vnd.jupyter.widget-view+json": {
       "model_id": "2ae2ce49b177499cace5b66fb376050a",
       "version_major": 2,
       "version_minor": 0
      },
      "text/plain": [
       "HBox(children=(FloatProgress(value=1.0, bar_style='info', description='epoch [5/5]', max=1.0, style=ProgressSt…"
      ]
     },
     "metadata": {},
     "output_type": "display_data"
    },
    {
     "name": "stdout",
     "output_type": "stream",
     "text": [
      "\n",
      "Epoch: [5/5], Loss: 0.0013\n"
     ]
    },
    {
     "data": {
      "application/vnd.jupyter.widget-view+json": {
       "model_id": "76353ddaf83b4dc79bdca317199ef7fe",
       "version_major": 2,
       "version_minor": 0
      },
      "text/plain": [
       "HBox(children=(FloatProgress(value=1.0, bar_style='info', description='Evaluating', max=1.0, style=ProgressSty…"
      ]
     },
     "metadata": {},
     "output_type": "display_data"
    },
    {
     "name": "stdout",
     "output_type": "stream",
     "text": [
      "\n",
      "Score (accuracy) of the model: 0.92\n",
      "Selecting from Layer 7\n",
      "768 13\n",
      "Including neurons from f7(#4608 to #5376)\n",
      "Including neurons from f7(#4608 to #5376)\n"
     ]
    },
    {
     "name": "stderr",
     "output_type": "stream",
     "text": [
      "11663it [00:01, 6505.21it/s]\n",
      "1914it [00:00, 7850.94it/s]\n",
      "3828it [00:00, 7714.50it/s]\n"
     ]
    },
    {
     "name": "stdout",
     "output_type": "stream",
     "text": [
      "Creating train tensors...\n",
      "Number of tokens:  198800\n",
      "length of source dictionary:  19554\n",
      "length of target dictionary:  49\n",
      "198800\n",
      "Total instances: 198800\n",
      "['Shuttle', 'deals', 'reason', 'Afghanistan', 'academic', 'tin', 'Norwegians', 'relatively', 'integrate', 'tele', 'gaps', 'Atal', 'Lamonica', 'Kaufman', 'substantiation', 'sofa', 'woollies', 'Town', 'pendulum', 'operation']\n",
      "Number of tokens:  24904\n",
      "length of source dictionary:  19554\n",
      "length of target dictionary:  49\n",
      "24904\n",
      "Total instances: 24904\n",
      "['Shuttle', 'reason', 'academic', 'Afghanistan', 'Barrel', 'grammar', 'Bonding', 'suburban', 'intrepid', 'vu', 'operation', 'awful', 'darin', 'ones', 'runner', 'weight', 'Prime', 'unsure', 'arabes', 'comme']\n",
      "Number of tokens:  49464\n",
      "length of source dictionary:  19554\n",
      "length of target dictionary:  49\n",
      "49464\n",
      "Total instances: 49464\n",
      "['Shuttle', 'deals', 'reason', 'Afghanistan', 'academic', 'spoiler', 'Barrel', 'grammar', 'relatively', 'Bonding', 'suburban', 'intrepid', 'Atal', 'pepco', 'vu', 'Town', 'operation', 'awful', 'darin', 'ones']\n",
      "Building model...\n",
      "Training classification model\n",
      "Creating model...\n",
      "Number of training instances: 198800\n",
      "Number of classes: 49\n"
     ]
    },
    {
     "data": {
      "application/vnd.jupyter.widget-view+json": {
       "model_id": "c86add255a01447f9d45f14f69f85f1b",
       "version_major": 2,
       "version_minor": 0
      },
      "text/plain": [
       "HBox(children=(FloatProgress(value=1.0, bar_style='info', description='epoch [1/5]', max=1.0, style=ProgressSt…"
      ]
     },
     "metadata": {},
     "output_type": "display_data"
    },
    {
     "name": "stdout",
     "output_type": "stream",
     "text": [
      "\n",
      "Epoch: [1/5], Loss: 0.0032\n"
     ]
    },
    {
     "data": {
      "application/vnd.jupyter.widget-view+json": {
       "model_id": "636d9a18027d43078efc5354cd2d7f91",
       "version_major": 2,
       "version_minor": 0
      },
      "text/plain": [
       "HBox(children=(FloatProgress(value=1.0, bar_style='info', description='epoch [2/5]', max=1.0, style=ProgressSt…"
      ]
     },
     "metadata": {},
     "output_type": "display_data"
    },
    {
     "name": "stdout",
     "output_type": "stream",
     "text": [
      "\n",
      "Epoch: [2/5], Loss: 0.0016\n"
     ]
    },
    {
     "data": {
      "application/vnd.jupyter.widget-view+json": {
       "model_id": "569c343a3d9c43e7bdd6f6842c06886f",
       "version_major": 2,
       "version_minor": 0
      },
      "text/plain": [
       "HBox(children=(FloatProgress(value=1.0, bar_style='info', description='epoch [3/5]', max=1.0, style=ProgressSt…"
      ]
     },
     "metadata": {},
     "output_type": "display_data"
    },
    {
     "name": "stdout",
     "output_type": "stream",
     "text": [
      "\n",
      "Epoch: [3/5], Loss: 0.0013\n"
     ]
    },
    {
     "data": {
      "application/vnd.jupyter.widget-view+json": {
       "model_id": "9e3156581aeb4fd195645d9f19907bc3",
       "version_major": 2,
       "version_minor": 0
      },
      "text/plain": [
       "HBox(children=(FloatProgress(value=1.0, bar_style='info', description='epoch [4/5]', max=1.0, style=ProgressSt…"
      ]
     },
     "metadata": {},
     "output_type": "display_data"
    },
    {
     "name": "stdout",
     "output_type": "stream",
     "text": [
      "\n",
      "Epoch: [4/5], Loss: 0.0012\n"
     ]
    },
    {
     "data": {
      "application/vnd.jupyter.widget-view+json": {
       "model_id": "8c35ba73f4f848fa92f67e6a221661c4",
       "version_major": 2,
       "version_minor": 0
      },
      "text/plain": [
       "HBox(children=(FloatProgress(value=1.0, bar_style='info', description='epoch [5/5]', max=1.0, style=ProgressSt…"
      ]
     },
     "metadata": {},
     "output_type": "display_data"
    },
    {
     "name": "stdout",
     "output_type": "stream",
     "text": [
      "\n",
      "Epoch: [5/5], Loss: 0.0011\n"
     ]
    },
    {
     "data": {
      "application/vnd.jupyter.widget-view+json": {
       "model_id": "1c53358057064700aff4407f966e52c7",
       "version_major": 2,
       "version_minor": 0
      },
      "text/plain": [
       "HBox(children=(FloatProgress(value=1.0, bar_style='info', description='Evaluating', max=1.0, style=ProgressSty…"
      ]
     },
     "metadata": {},
     "output_type": "display_data"
    },
    {
     "name": "stdout",
     "output_type": "stream",
     "text": [
      "\n",
      "Score (accuracy) of the model: 0.93\n",
      "Selecting from Layer 8\n",
      "768 13\n",
      "Including neurons from f8(#5376 to #6144)\n",
      "Including neurons from f8(#5376 to #6144)\n"
     ]
    },
    {
     "name": "stderr",
     "output_type": "stream",
     "text": [
      "11663it [00:01, 6096.79it/s]\n",
      "1914it [00:00, 6897.35it/s]\n",
      "3828it [00:00, 7340.33it/s]\n"
     ]
    },
    {
     "name": "stdout",
     "output_type": "stream",
     "text": [
      "Creating train tensors...\n",
      "Number of tokens:  198800\n",
      "length of source dictionary:  19554\n",
      "length of target dictionary:  49\n",
      "198800\n",
      "Total instances: 198800\n",
      "['Shuttle', 'deals', 'reason', 'Afghanistan', 'academic', 'tin', 'Norwegians', 'relatively', 'integrate', 'tele', 'gaps', 'Atal', 'Lamonica', 'Kaufman', 'substantiation', 'sofa', 'woollies', 'Town', 'pendulum', 'operation']\n",
      "Number of tokens:  24904\n",
      "length of source dictionary:  19554\n",
      "length of target dictionary:  49\n",
      "24904\n",
      "Total instances: 24904\n",
      "['Shuttle', 'reason', 'academic', 'Afghanistan', 'Barrel', 'grammar', 'Bonding', 'suburban', 'intrepid', 'vu', 'operation', 'awful', 'darin', 'ones', 'runner', 'weight', 'Prime', 'unsure', 'arabes', 'comme']\n",
      "Number of tokens:  49464\n",
      "length of source dictionary:  19554\n",
      "length of target dictionary:  49\n",
      "49464\n",
      "Total instances: 49464\n",
      "['Shuttle', 'deals', 'reason', 'Afghanistan', 'academic', 'spoiler', 'Barrel', 'grammar', 'relatively', 'Bonding', 'suburban', 'intrepid', 'Atal', 'pepco', 'vu', 'Town', 'operation', 'awful', 'darin', 'ones']\n",
      "Building model...\n",
      "Training classification model\n",
      "Creating model...\n",
      "Number of training instances: 198800\n",
      "Number of classes: 49\n"
     ]
    },
    {
     "data": {
      "application/vnd.jupyter.widget-view+json": {
       "model_id": "63b7a9250d5b4d9cb8a1e4034b65f36e",
       "version_major": 2,
       "version_minor": 0
      },
      "text/plain": [
       "HBox(children=(FloatProgress(value=1.0, bar_style='info', description='epoch [1/5]', max=1.0, style=ProgressSt…"
      ]
     },
     "metadata": {},
     "output_type": "display_data"
    },
    {
     "name": "stdout",
     "output_type": "stream",
     "text": [
      "\n",
      "Epoch: [1/5], Loss: 0.0032\n"
     ]
    },
    {
     "data": {
      "application/vnd.jupyter.widget-view+json": {
       "model_id": "7586f70daa1f4464b39a0050b10b2879",
       "version_major": 2,
       "version_minor": 0
      },
      "text/plain": [
       "HBox(children=(FloatProgress(value=1.0, bar_style='info', description='epoch [2/5]', max=1.0, style=ProgressSt…"
      ]
     },
     "metadata": {},
     "output_type": "display_data"
    },
    {
     "name": "stdout",
     "output_type": "stream",
     "text": [
      "\n",
      "Epoch: [2/5], Loss: 0.0016\n"
     ]
    },
    {
     "data": {
      "application/vnd.jupyter.widget-view+json": {
       "model_id": "6641791d95ec4dad9d71a4b58c761194",
       "version_major": 2,
       "version_minor": 0
      },
      "text/plain": [
       "HBox(children=(FloatProgress(value=1.0, bar_style='info', description='epoch [3/5]', max=1.0, style=ProgressSt…"
      ]
     },
     "metadata": {},
     "output_type": "display_data"
    },
    {
     "name": "stdout",
     "output_type": "stream",
     "text": [
      "\n",
      "Epoch: [3/5], Loss: 0.0013\n"
     ]
    },
    {
     "data": {
      "application/vnd.jupyter.widget-view+json": {
       "model_id": "92c79ead131c47cca04a6447a987d814",
       "version_major": 2,
       "version_minor": 0
      },
      "text/plain": [
       "HBox(children=(FloatProgress(value=1.0, bar_style='info', description='epoch [4/5]', max=1.0, style=ProgressSt…"
      ]
     },
     "metadata": {},
     "output_type": "display_data"
    },
    {
     "name": "stdout",
     "output_type": "stream",
     "text": [
      "\n",
      "Epoch: [4/5], Loss: 0.0012\n"
     ]
    },
    {
     "data": {
      "application/vnd.jupyter.widget-view+json": {
       "model_id": "2b5723e9e10a437a9398e48d06aa1f14",
       "version_major": 2,
       "version_minor": 0
      },
      "text/plain": [
       "HBox(children=(FloatProgress(value=1.0, bar_style='info', description='epoch [5/5]', max=1.0, style=ProgressSt…"
      ]
     },
     "metadata": {},
     "output_type": "display_data"
    },
    {
     "name": "stdout",
     "output_type": "stream",
     "text": [
      "\n",
      "Epoch: [5/5], Loss: 0.0010\n"
     ]
    },
    {
     "data": {
      "application/vnd.jupyter.widget-view+json": {
       "model_id": "666c99e6a001465ca73dcabf2df80d7d",
       "version_major": 2,
       "version_minor": 0
      },
      "text/plain": [
       "HBox(children=(FloatProgress(value=1.0, bar_style='info', description='Evaluating', max=1.0, style=ProgressSty…"
      ]
     },
     "metadata": {},
     "output_type": "display_data"
    },
    {
     "name": "stdout",
     "output_type": "stream",
     "text": [
      "\n",
      "Score (accuracy) of the model: 0.93\n",
      "Selecting from Layer 9\n",
      "768 13\n",
      "Including neurons from f9(#6144 to #6912)\n",
      "Including neurons from f9(#6144 to #6912)\n"
     ]
    },
    {
     "name": "stderr",
     "output_type": "stream",
     "text": [
      "11663it [00:01, 6595.38it/s]\n",
      "1914it [00:00, 9357.85it/s]\n",
      "3828it [00:00, 9202.38it/s]\n"
     ]
    },
    {
     "name": "stdout",
     "output_type": "stream",
     "text": [
      "Creating train tensors...\n",
      "Number of tokens:  198800\n",
      "length of source dictionary:  19554\n",
      "length of target dictionary:  49\n",
      "198800\n",
      "Total instances: 198800\n",
      "['Shuttle', 'deals', 'reason', 'Afghanistan', 'academic', 'tin', 'Norwegians', 'relatively', 'integrate', 'tele', 'gaps', 'Atal', 'Lamonica', 'Kaufman', 'substantiation', 'sofa', 'woollies', 'Town', 'pendulum', 'operation']\n",
      "Number of tokens:  24904\n",
      "length of source dictionary:  19554\n",
      "length of target dictionary:  49\n",
      "24904\n",
      "Total instances: 24904\n",
      "['Shuttle', 'reason', 'academic', 'Afghanistan', 'Barrel', 'grammar', 'Bonding', 'suburban', 'intrepid', 'vu', 'operation', 'awful', 'darin', 'ones', 'runner', 'weight', 'Prime', 'unsure', 'arabes', 'comme']\n",
      "Number of tokens:  49464\n",
      "length of source dictionary:  19554\n",
      "length of target dictionary:  49\n",
      "49464\n",
      "Total instances: 49464\n",
      "['Shuttle', 'deals', 'reason', 'Afghanistan', 'academic', 'spoiler', 'Barrel', 'grammar', 'relatively', 'Bonding', 'suburban', 'intrepid', 'Atal', 'pepco', 'vu', 'Town', 'operation', 'awful', 'darin', 'ones']\n",
      "Building model...\n",
      "Training classification model\n",
      "Creating model...\n",
      "Number of training instances: 198800\n",
      "Number of classes: 49\n"
     ]
    },
    {
     "data": {
      "application/vnd.jupyter.widget-view+json": {
       "model_id": "f43ef3f7569b4c8ea33c4720b96a965e",
       "version_major": 2,
       "version_minor": 0
      },
      "text/plain": [
       "HBox(children=(FloatProgress(value=1.0, bar_style='info', description='epoch [1/5]', max=1.0, style=ProgressSt…"
      ]
     },
     "metadata": {},
     "output_type": "display_data"
    },
    {
     "name": "stdout",
     "output_type": "stream",
     "text": [
      "\n",
      "Epoch: [1/5], Loss: 0.0032\n"
     ]
    },
    {
     "data": {
      "application/vnd.jupyter.widget-view+json": {
       "model_id": "86838890db0c4e778d8189b6d46bf4e0",
       "version_major": 2,
       "version_minor": 0
      },
      "text/plain": [
       "HBox(children=(FloatProgress(value=1.0, bar_style='info', description='epoch [2/5]', max=1.0, style=ProgressSt…"
      ]
     },
     "metadata": {},
     "output_type": "display_data"
    },
    {
     "name": "stdout",
     "output_type": "stream",
     "text": [
      "\n",
      "Epoch: [2/5], Loss: 0.0015\n"
     ]
    },
    {
     "data": {
      "application/vnd.jupyter.widget-view+json": {
       "model_id": "2d3b21cc578542b69be04049cb8afb8f",
       "version_major": 2,
       "version_minor": 0
      },
      "text/plain": [
       "HBox(children=(FloatProgress(value=1.0, bar_style='info', description='epoch [3/5]', max=1.0, style=ProgressSt…"
      ]
     },
     "metadata": {},
     "output_type": "display_data"
    },
    {
     "name": "stdout",
     "output_type": "stream",
     "text": [
      "\n",
      "Epoch: [3/5], Loss: 0.0013\n"
     ]
    },
    {
     "data": {
      "application/vnd.jupyter.widget-view+json": {
       "model_id": "095d4789b4454e1b97b7553b80630b37",
       "version_major": 2,
       "version_minor": 0
      },
      "text/plain": [
       "HBox(children=(FloatProgress(value=1.0, bar_style='info', description='epoch [4/5]', max=1.0, style=ProgressSt…"
      ]
     },
     "metadata": {},
     "output_type": "display_data"
    },
    {
     "name": "stdout",
     "output_type": "stream",
     "text": [
      "\n",
      "Epoch: [4/5], Loss: 0.0011\n"
     ]
    },
    {
     "data": {
      "application/vnd.jupyter.widget-view+json": {
       "model_id": "ae2fecf1248c4778a5b8efc9fe9c90ec",
       "version_major": 2,
       "version_minor": 0
      },
      "text/plain": [
       "HBox(children=(FloatProgress(value=1.0, bar_style='info', description='epoch [5/5]', max=1.0, style=ProgressSt…"
      ]
     },
     "metadata": {},
     "output_type": "display_data"
    },
    {
     "name": "stdout",
     "output_type": "stream",
     "text": [
      "\n",
      "Epoch: [5/5], Loss: 0.0010\n"
     ]
    },
    {
     "data": {
      "application/vnd.jupyter.widget-view+json": {
       "model_id": "d4f2f435c5e34b04a46cbe61fbf495c2",
       "version_major": 2,
       "version_minor": 0
      },
      "text/plain": [
       "HBox(children=(FloatProgress(value=1.0, bar_style='info', description='Evaluating', max=1.0, style=ProgressSty…"
      ]
     },
     "metadata": {},
     "output_type": "display_data"
    },
    {
     "name": "stdout",
     "output_type": "stream",
     "text": [
      "\n",
      "Score (accuracy) of the model: 0.94\n",
      "Selecting from Layer 10\n",
      "768 13\n",
      "Including neurons from f10(#6912 to #7680)\n",
      "Including neurons from f10(#6912 to #7680)\n"
     ]
    },
    {
     "name": "stderr",
     "output_type": "stream",
     "text": [
      "11663it [00:02, 5682.93it/s]\n",
      "1914it [00:00, 6179.14it/s]\n",
      "3828it [00:00, 6108.86it/s]\n"
     ]
    },
    {
     "name": "stdout",
     "output_type": "stream",
     "text": [
      "Creating train tensors...\n",
      "Number of tokens:  198800\n",
      "length of source dictionary:  19554\n",
      "length of target dictionary:  49\n",
      "198800\n",
      "Total instances: 198800\n",
      "['Shuttle', 'deals', 'reason', 'Afghanistan', 'academic', 'tin', 'Norwegians', 'relatively', 'integrate', 'tele', 'gaps', 'Atal', 'Lamonica', 'Kaufman', 'substantiation', 'sofa', 'woollies', 'Town', 'pendulum', 'operation']\n",
      "Number of tokens:  24904\n",
      "length of source dictionary:  19554\n",
      "length of target dictionary:  49\n",
      "24904\n",
      "Total instances: 24904\n",
      "['Shuttle', 'reason', 'academic', 'Afghanistan', 'Barrel', 'grammar', 'Bonding', 'suburban', 'intrepid', 'vu', 'operation', 'awful', 'darin', 'ones', 'runner', 'weight', 'Prime', 'unsure', 'arabes', 'comme']\n",
      "Number of tokens:  49464\n",
      "length of source dictionary:  19554\n",
      "length of target dictionary:  49\n",
      "49464\n",
      "Total instances: 49464\n",
      "['Shuttle', 'deals', 'reason', 'Afghanistan', 'academic', 'spoiler', 'Barrel', 'grammar', 'relatively', 'Bonding', 'suburban', 'intrepid', 'Atal', 'pepco', 'vu', 'Town', 'operation', 'awful', 'darin', 'ones']\n",
      "Building model...\n",
      "Training classification model\n",
      "Creating model...\n",
      "Number of training instances: 198800\n",
      "Number of classes: 49\n"
     ]
    },
    {
     "data": {
      "application/vnd.jupyter.widget-view+json": {
       "model_id": "03215d06bb8e4b4d8fb9bee03ee09d01",
       "version_major": 2,
       "version_minor": 0
      },
      "text/plain": [
       "HBox(children=(FloatProgress(value=1.0, bar_style='info', description='epoch [1/5]', max=1.0, style=ProgressSt…"
      ]
     },
     "metadata": {},
     "output_type": "display_data"
    },
    {
     "name": "stdout",
     "output_type": "stream",
     "text": [
      "\n",
      "Epoch: [1/5], Loss: 0.0033\n"
     ]
    },
    {
     "data": {
      "application/vnd.jupyter.widget-view+json": {
       "model_id": "d63a1d272a404f3eb54bb901c030d29a",
       "version_major": 2,
       "version_minor": 0
      },
      "text/plain": [
       "HBox(children=(FloatProgress(value=1.0, bar_style='info', description='epoch [2/5]', max=1.0, style=ProgressSt…"
      ]
     },
     "metadata": {},
     "output_type": "display_data"
    },
    {
     "name": "stdout",
     "output_type": "stream",
     "text": [
      "\n",
      "Epoch: [2/5], Loss: 0.0016\n"
     ]
    },
    {
     "data": {
      "application/vnd.jupyter.widget-view+json": {
       "model_id": "f2a92ba13fcc4d82bfce1562b6930ed2",
       "version_major": 2,
       "version_minor": 0
      },
      "text/plain": [
       "HBox(children=(FloatProgress(value=1.0, bar_style='info', description='epoch [3/5]', max=1.0, style=ProgressSt…"
      ]
     },
     "metadata": {},
     "output_type": "display_data"
    },
    {
     "name": "stdout",
     "output_type": "stream",
     "text": [
      "\n",
      "Epoch: [3/5], Loss: 0.0013\n"
     ]
    },
    {
     "data": {
      "application/vnd.jupyter.widget-view+json": {
       "model_id": "f817895a5b774a5d9b9ec51b359fd5c6",
       "version_major": 2,
       "version_minor": 0
      },
      "text/plain": [
       "HBox(children=(FloatProgress(value=1.0, bar_style='info', description='epoch [4/5]', max=1.0, style=ProgressSt…"
      ]
     },
     "metadata": {},
     "output_type": "display_data"
    },
    {
     "name": "stdout",
     "output_type": "stream",
     "text": [
      "\n",
      "Epoch: [4/5], Loss: 0.0012\n"
     ]
    },
    {
     "data": {
      "application/vnd.jupyter.widget-view+json": {
       "model_id": "81cc4800be6e41bb93f287f4897c8f39",
       "version_major": 2,
       "version_minor": 0
      },
      "text/plain": [
       "HBox(children=(FloatProgress(value=1.0, bar_style='info', description='epoch [5/5]', max=1.0, style=ProgressSt…"
      ]
     },
     "metadata": {},
     "output_type": "display_data"
    },
    {
     "name": "stdout",
     "output_type": "stream",
     "text": [
      "\n",
      "Epoch: [5/5], Loss: 0.0011\n"
     ]
    },
    {
     "data": {
      "application/vnd.jupyter.widget-view+json": {
       "model_id": "108f6421144547909e18c7402a1bfead",
       "version_major": 2,
       "version_minor": 0
      },
      "text/plain": [
       "HBox(children=(FloatProgress(value=1.0, bar_style='info', description='Evaluating', max=1.0, style=ProgressSty…"
      ]
     },
     "metadata": {},
     "output_type": "display_data"
    },
    {
     "name": "stdout",
     "output_type": "stream",
     "text": [
      "\n",
      "Score (accuracy) of the model: 0.93\n",
      "Selecting from Layer 11\n",
      "768 13\n",
      "Including neurons from f11(#7680 to #8448)\n",
      "Including neurons from f11(#7680 to #8448)\n"
     ]
    },
    {
     "name": "stderr",
     "output_type": "stream",
     "text": [
      "11663it [00:01, 6957.97it/s]\n",
      "1914it [00:00, 8167.59it/s]\n",
      "3828it [00:00, 8728.54it/s]\n"
     ]
    },
    {
     "name": "stdout",
     "output_type": "stream",
     "text": [
      "Creating train tensors...\n",
      "Number of tokens:  198800\n",
      "length of source dictionary:  19554\n",
      "length of target dictionary:  49\n",
      "198800\n",
      "Total instances: 198800\n",
      "['Shuttle', 'deals', 'reason', 'Afghanistan', 'academic', 'tin', 'Norwegians', 'relatively', 'integrate', 'tele', 'gaps', 'Atal', 'Lamonica', 'Kaufman', 'substantiation', 'sofa', 'woollies', 'Town', 'pendulum', 'operation']\n",
      "Number of tokens:  24904\n",
      "length of source dictionary:  19554\n",
      "length of target dictionary:  49\n",
      "24904\n",
      "Total instances: 24904\n",
      "['Shuttle', 'reason', 'academic', 'Afghanistan', 'Barrel', 'grammar', 'Bonding', 'suburban', 'intrepid', 'vu', 'operation', 'awful', 'darin', 'ones', 'runner', 'weight', 'Prime', 'unsure', 'arabes', 'comme']\n",
      "Number of tokens:  49464\n",
      "length of source dictionary:  19554\n",
      "length of target dictionary:  49\n",
      "49464\n",
      "Total instances: 49464\n",
      "['Shuttle', 'deals', 'reason', 'Afghanistan', 'academic', 'spoiler', 'Barrel', 'grammar', 'relatively', 'Bonding', 'suburban', 'intrepid', 'Atal', 'pepco', 'vu', 'Town', 'operation', 'awful', 'darin', 'ones']\n",
      "Building model...\n",
      "Training classification model\n",
      "Creating model...\n",
      "Number of training instances: 198800\n",
      "Number of classes: 49\n"
     ]
    },
    {
     "data": {
      "application/vnd.jupyter.widget-view+json": {
       "model_id": "3fb1d8ced6604667a6246a975930b7b6",
       "version_major": 2,
       "version_minor": 0
      },
      "text/plain": [
       "HBox(children=(FloatProgress(value=1.0, bar_style='info', description='epoch [1/5]', max=1.0, style=ProgressSt…"
      ]
     },
     "metadata": {},
     "output_type": "display_data"
    },
    {
     "name": "stdout",
     "output_type": "stream",
     "text": [
      "\n",
      "Epoch: [1/5], Loss: 0.0036\n"
     ]
    },
    {
     "data": {
      "application/vnd.jupyter.widget-view+json": {
       "model_id": "e54290e0eae542328ef6888e865fc6ef",
       "version_major": 2,
       "version_minor": 0
      },
      "text/plain": [
       "HBox(children=(FloatProgress(value=1.0, bar_style='info', description='epoch [2/5]', max=1.0, style=ProgressSt…"
      ]
     },
     "metadata": {},
     "output_type": "display_data"
    },
    {
     "name": "stdout",
     "output_type": "stream",
     "text": [
      "\n",
      "Epoch: [2/5], Loss: 0.0018\n"
     ]
    },
    {
     "data": {
      "application/vnd.jupyter.widget-view+json": {
       "model_id": "dfd72bbbc22443409e8affba0de46a77",
       "version_major": 2,
       "version_minor": 0
      },
      "text/plain": [
       "HBox(children=(FloatProgress(value=1.0, bar_style='info', description='epoch [3/5]', max=1.0, style=ProgressSt…"
      ]
     },
     "metadata": {},
     "output_type": "display_data"
    },
    {
     "name": "stdout",
     "output_type": "stream",
     "text": [
      "\n",
      "Epoch: [3/5], Loss: 0.0015\n"
     ]
    },
    {
     "data": {
      "application/vnd.jupyter.widget-view+json": {
       "model_id": "d54cab07beca49a0bd686d3be26454aa",
       "version_major": 2,
       "version_minor": 0
      },
      "text/plain": [
       "HBox(children=(FloatProgress(value=1.0, bar_style='info', description='epoch [4/5]', max=1.0, style=ProgressSt…"
      ]
     },
     "metadata": {},
     "output_type": "display_data"
    },
    {
     "name": "stdout",
     "output_type": "stream",
     "text": [
      "\n",
      "Epoch: [4/5], Loss: 0.0013\n"
     ]
    },
    {
     "data": {
      "application/vnd.jupyter.widget-view+json": {
       "model_id": "a97fdf9fa16344dda4ea392f06200485",
       "version_major": 2,
       "version_minor": 0
      },
      "text/plain": [
       "HBox(children=(FloatProgress(value=1.0, bar_style='info', description='epoch [5/5]', max=1.0, style=ProgressSt…"
      ]
     },
     "metadata": {},
     "output_type": "display_data"
    },
    {
     "name": "stdout",
     "output_type": "stream",
     "text": [
      "\n",
      "Epoch: [5/5], Loss: 0.0012\n"
     ]
    },
    {
     "data": {
      "application/vnd.jupyter.widget-view+json": {
       "model_id": "57a7cfe3428241a1becca0043ba301d5",
       "version_major": 2,
       "version_minor": 0
      },
      "text/plain": [
       "HBox(children=(FloatProgress(value=1.0, bar_style='info', description='Evaluating', max=1.0, style=ProgressSty…"
      ]
     },
     "metadata": {},
     "output_type": "display_data"
    },
    {
     "name": "stdout",
     "output_type": "stream",
     "text": [
      "\n",
      "Score (accuracy) of the model: 0.93\n",
      "Selecting from Layer 12\n",
      "768 13\n",
      "Including neurons from f12(#8448 to #9216)\n",
      "Including neurons from f12(#8448 to #9216)\n"
     ]
    },
    {
     "name": "stderr",
     "output_type": "stream",
     "text": [
      "11663it [00:01, 7368.49it/s]\n",
      "1914it [00:00, 9422.01it/s]\n",
      "3828it [00:00, 8703.01it/s]\n"
     ]
    },
    {
     "name": "stdout",
     "output_type": "stream",
     "text": [
      "Creating train tensors...\n",
      "Number of tokens:  198800\n",
      "length of source dictionary:  19554\n",
      "length of target dictionary:  49\n",
      "198800\n",
      "Total instances: 198800\n",
      "['Shuttle', 'deals', 'reason', 'Afghanistan', 'academic', 'tin', 'Norwegians', 'relatively', 'integrate', 'tele', 'gaps', 'Atal', 'Lamonica', 'Kaufman', 'substantiation', 'sofa', 'woollies', 'Town', 'pendulum', 'operation']\n",
      "Number of tokens:  24904\n",
      "length of source dictionary:  19554\n",
      "length of target dictionary:  49\n",
      "24904\n",
      "Total instances: 24904\n",
      "['Shuttle', 'reason', 'academic', 'Afghanistan', 'Barrel', 'grammar', 'Bonding', 'suburban', 'intrepid', 'vu', 'operation', 'awful', 'darin', 'ones', 'runner', 'weight', 'Prime', 'unsure', 'arabes', 'comme']\n",
      "Number of tokens:  49464\n",
      "length of source dictionary:  19554\n",
      "length of target dictionary:  49\n",
      "49464\n",
      "Total instances: 49464\n",
      "['Shuttle', 'deals', 'reason', 'Afghanistan', 'academic', 'spoiler', 'Barrel', 'grammar', 'relatively', 'Bonding', 'suburban', 'intrepid', 'Atal', 'pepco', 'vu', 'Town', 'operation', 'awful', 'darin', 'ones']\n",
      "Building model...\n",
      "Training classification model\n",
      "Creating model...\n",
      "Number of training instances: 198800\n",
      "Number of classes: 49\n"
     ]
    },
    {
     "data": {
      "application/vnd.jupyter.widget-view+json": {
       "model_id": "8486b80d4e824a84bcf2a159f661090e",
       "version_major": 2,
       "version_minor": 0
      },
      "text/plain": [
       "HBox(children=(FloatProgress(value=1.0, bar_style='info', description='epoch [1/5]', max=1.0, style=ProgressSt…"
      ]
     },
     "metadata": {},
     "output_type": "display_data"
    },
    {
     "name": "stdout",
     "output_type": "stream",
     "text": [
      "\n",
      "Epoch: [1/5], Loss: 0.0040\n"
     ]
    },
    {
     "data": {
      "application/vnd.jupyter.widget-view+json": {
       "model_id": "b8b11cf0b7c6458b906d94ca939946db",
       "version_major": 2,
       "version_minor": 0
      },
      "text/plain": [
       "HBox(children=(FloatProgress(value=1.0, bar_style='info', description='epoch [2/5]', max=1.0, style=ProgressSt…"
      ]
     },
     "metadata": {},
     "output_type": "display_data"
    },
    {
     "name": "stdout",
     "output_type": "stream",
     "text": [
      "\n",
      "Epoch: [2/5], Loss: 0.0020\n"
     ]
    },
    {
     "data": {
      "application/vnd.jupyter.widget-view+json": {
       "model_id": "9ce33f834acb432fa5a714a92088027c",
       "version_major": 2,
       "version_minor": 0
      },
      "text/plain": [
       "HBox(children=(FloatProgress(value=1.0, bar_style='info', description='epoch [3/5]', max=1.0, style=ProgressSt…"
      ]
     },
     "metadata": {},
     "output_type": "display_data"
    },
    {
     "name": "stdout",
     "output_type": "stream",
     "text": [
      "\n",
      "Epoch: [3/5], Loss: 0.0017\n"
     ]
    },
    {
     "data": {
      "application/vnd.jupyter.widget-view+json": {
       "model_id": "de2780e587634e42b38fd9d80801235a",
       "version_major": 2,
       "version_minor": 0
      },
      "text/plain": [
       "HBox(children=(FloatProgress(value=1.0, bar_style='info', description='epoch [4/5]', max=1.0, style=ProgressSt…"
      ]
     },
     "metadata": {},
     "output_type": "display_data"
    },
    {
     "name": "stdout",
     "output_type": "stream",
     "text": [
      "\n",
      "Epoch: [4/5], Loss: 0.0015\n"
     ]
    },
    {
     "data": {
      "application/vnd.jupyter.widget-view+json": {
       "model_id": "87443a3abbe5423aa18c7e192b35d1fd",
       "version_major": 2,
       "version_minor": 0
      },
      "text/plain": [
       "HBox(children=(FloatProgress(value=1.0, bar_style='info', description='epoch [5/5]', max=1.0, style=ProgressSt…"
      ]
     },
     "metadata": {},
     "output_type": "display_data"
    },
    {
     "name": "stdout",
     "output_type": "stream",
     "text": [
      "\n",
      "Epoch: [5/5], Loss: 0.0014\n"
     ]
    },
    {
     "data": {
      "application/vnd.jupyter.widget-view+json": {
       "model_id": "9445fe3a7b314c9b98333e1b11d8de19",
       "version_major": 2,
       "version_minor": 0
      },
      "text/plain": [
       "HBox(children=(FloatProgress(value=1.0, bar_style='info', description='Evaluating', max=1.0, style=ProgressSty…"
      ]
     },
     "metadata": {},
     "output_type": "display_data"
    },
    {
     "name": "stdout",
     "output_type": "stream",
     "text": [
      "\n",
      "Score (accuracy) of the model: 0.93\n",
      "Selecting from Layer 13\n",
      "768 13\n",
      "Including neurons from f13(#9216 to #9984)\n",
      "Including neurons from f13(#9216 to #9984)\n"
     ]
    },
    {
     "name": "stderr",
     "output_type": "stream",
     "text": [
      "11663it [00:01, 7073.28it/s]\n",
      "1914it [00:00, 10135.27it/s]\n",
      "3828it [00:00, 9940.38it/s]\n"
     ]
    },
    {
     "name": "stdout",
     "output_type": "stream",
     "text": [
      "Creating train tensors...\n",
      "Number of tokens:  198800\n",
      "length of source dictionary:  19554\n",
      "length of target dictionary:  49\n",
      "198800\n",
      "Total instances: 198800\n",
      "['Shuttle', 'deals', 'reason', 'Afghanistan', 'academic', 'tin', 'Norwegians', 'relatively', 'integrate', 'tele', 'gaps', 'Atal', 'Lamonica', 'Kaufman', 'substantiation', 'sofa', 'woollies', 'Town', 'pendulum', 'operation']\n",
      "Number of tokens:  24904\n",
      "length of source dictionary:  19554\n",
      "length of target dictionary:  49\n",
      "24904\n",
      "Total instances: 24904\n",
      "['Shuttle', 'reason', 'academic', 'Afghanistan', 'Barrel', 'grammar', 'Bonding', 'suburban', 'intrepid', 'vu', 'operation', 'awful', 'darin', 'ones', 'runner', 'weight', 'Prime', 'unsure', 'arabes', 'comme']\n",
      "Number of tokens:  49464\n",
      "length of source dictionary:  19554\n",
      "length of target dictionary:  49\n",
      "49464\n",
      "Total instances: 49464\n",
      "['Shuttle', 'deals', 'reason', 'Afghanistan', 'academic', 'spoiler', 'Barrel', 'grammar', 'relatively', 'Bonding', 'suburban', 'intrepid', 'Atal', 'pepco', 'vu', 'Town', 'operation', 'awful', 'darin', 'ones']\n",
      "Building model...\n",
      "Training classification model\n",
      "Creating model...\n",
      "Number of training instances: 198800\n",
      "Number of classes: 49\n"
     ]
    },
    {
     "data": {
      "application/vnd.jupyter.widget-view+json": {
       "model_id": "13c9c1578b124a1fb6e172e6988622a4",
       "version_major": 2,
       "version_minor": 0
      },
      "text/plain": [
       "HBox(children=(FloatProgress(value=1.0, bar_style='info', description='epoch [1/5]', max=1.0, style=ProgressSt…"
      ]
     },
     "metadata": {},
     "output_type": "display_data"
    },
    {
     "name": "stdout",
     "output_type": "stream",
     "text": [
      "\n",
      "Epoch: [1/5], Loss: 0.0082\n"
     ]
    },
    {
     "data": {
      "application/vnd.jupyter.widget-view+json": {
       "model_id": "268b0b188cb44d64b85d48aa098eb7fa",
       "version_major": 2,
       "version_minor": 0
      },
      "text/plain": [
       "HBox(children=(FloatProgress(value=1.0, bar_style='info', description='epoch [2/5]', max=1.0, style=ProgressSt…"
      ]
     },
     "metadata": {},
     "output_type": "display_data"
    },
    {
     "name": "stdout",
     "output_type": "stream",
     "text": [
      "\n",
      "Epoch: [2/5], Loss: 0.0037\n"
     ]
    },
    {
     "data": {
      "application/vnd.jupyter.widget-view+json": {
       "model_id": "a974cd45639d428c9b900c85c93fd9b6",
       "version_major": 2,
       "version_minor": 0
      },
      "text/plain": [
       "HBox(children=(FloatProgress(value=1.0, bar_style='info', description='epoch [3/5]', max=1.0, style=ProgressSt…"
      ]
     },
     "metadata": {},
     "output_type": "display_data"
    },
    {
     "name": "stdout",
     "output_type": "stream",
     "text": [
      "\n",
      "Epoch: [3/5], Loss: 0.0029\n"
     ]
    },
    {
     "data": {
      "application/vnd.jupyter.widget-view+json": {
       "model_id": "8ba397b0d53d4879be51661060b0817e",
       "version_major": 2,
       "version_minor": 0
      },
      "text/plain": [
       "HBox(children=(FloatProgress(value=1.0, bar_style='info', description='epoch [4/5]', max=1.0, style=ProgressSt…"
      ]
     },
     "metadata": {},
     "output_type": "display_data"
    },
    {
     "name": "stdout",
     "output_type": "stream",
     "text": [
      "\n",
      "Epoch: [4/5], Loss: 0.0025\n"
     ]
    },
    {
     "data": {
      "application/vnd.jupyter.widget-view+json": {
       "model_id": "8a7120e2b40842919c999568c8f4f991",
       "version_major": 2,
       "version_minor": 0
      },
      "text/plain": [
       "HBox(children=(FloatProgress(value=1.0, bar_style='info', description='epoch [5/5]', max=1.0, style=ProgressSt…"
      ]
     },
     "metadata": {},
     "output_type": "display_data"
    },
    {
     "name": "stdout",
     "output_type": "stream",
     "text": [
      "\n",
      "Epoch: [5/5], Loss: 0.0023\n"
     ]
    },
    {
     "data": {
      "application/vnd.jupyter.widget-view+json": {
       "model_id": "39a9ae08812a4b3bb1bbee4ab03ade6c",
       "version_major": 2,
       "version_minor": 0
      },
      "text/plain": [
       "HBox(children=(FloatProgress(value=1.0, bar_style='info', description='Evaluating', max=1.0, style=ProgressSty…"
      ]
     },
     "metadata": {},
     "output_type": "display_data"
    },
    {
     "name": "stdout",
     "output_type": "stream",
     "text": [
      "\n",
      "Score (accuracy) of the model: 0.91\n"
     ]
    },
    {
     "data": {
      "image/png": "[encoded data removed]",
      "text/plain": [
       "<Figure size 432x288 with 1 Axes>"
      ]
     },
     "metadata": {
      "needs_background": "light"
     },
     "output_type": "display_data"
    }
   ],
   "source": [
    "layerAccuracy = [0] * layerDepth\n",
    "layerIndex = list (range(1, layerDepth+1))\n",
    "\n",
    "\n",
    "for layer in range(1, NUM_LAYERS+1):\n",
    "    \n",
    "    print (\"Selecting from Layer \" + str(layer))\n",
    "    filter_layers=\"f\" + str(layer)\n",
    "    print(NUM_NEURONS_PER_LAYER, NUM_LAYERS)\n",
    "    f_train_activations, f_test_activations = utils.filter_activations_by_layers(train_activations, test_activations, filter_layers, NUM_NEURONS_PER_LAYER, NUM_LAYERS, IS_BRNN)\n",
    "    f_train_activations, f_dev_activations = utils.filter_activations_by_layers(train_activations, dev_activations, filter_layers, NUM_NEURONS_PER_LAYER, NUM_LAYERS, IS_BRNN)\n",
    "    \n",
    "    ff_train_activations = concatenateActivations(f_train_activations, train_tokens)\n",
    "    ff_dev_activations = concatenateActivations(f_dev_activations, dev_tokens)\n",
    "    ff_test_activations = concatenateActivations(f_test_activations, test_tokens)\n",
    "    \n",
    "    #ff_train_activations = f_train_activations\n",
    "    #ff_dev_activations = f_dev_activations\n",
    "    #ff_test_activations = f_test_activations\n",
    "\n",
    "    \n",
    "\n",
    "    print(\"Creating train tensors...\")\n",
    "    X_filtered, y, mappings = utils.create_tensors(train_tokens, ff_train_activations, TASK_SPECIFIC_TAG)\n",
    "    X_dev_filtered, y_dev, mappings = utils.create_tensors(dev_tokens, ff_dev_activations, TASK_SPECIFIC_TAG, mappings)\n",
    "    X_test_filtered, y_test, mappings = utils.create_tensors(test_tokens, ff_test_activations, TASK_SPECIFIC_TAG, mappings)\n",
    "    label2idx, idx2label, src2idx, idx2src = mappings\n",
    "    \n",
    "    print(\"Building model...\")\n",
    "    \n",
    "    model_filtered = utils.train_logreg_model(X_filtered, y, lambda_l1=0, lambda_l2=0, num_epochs=5, batch_size=BATCH_SIZE)\n",
    "    #overall_train_accuracies = utils.evaluate_model(model_filtered, X_filtered, y, idx2label)\n",
    "    #overall_dev_accuracies = utils.evaluate_model(model_filtered, X_dev_filtered, y_dev, idx2label)\n",
    "    overall_test_accuracies, predictions = utils.evaluate_model(model_filtered, X_test_filtered, y_test, idx2label, return_predictions=True, source_tokens=test_tokens['source'])\n",
    "    layerAccuracy[layer-1] = overall_test_accuracies['__OVERALL__']\n",
    "    \n",
    "plt.bar(layerIndex, layerAccuracy)\n",
    "plt.show()"
   ]
  },
  {
   "cell_type": "code",
   "execution_count": 24,
   "metadata": {},
   "outputs": [
    {
     "name": "stdout",
     "output_type": "stream",
     "text": [
      "[0.7628376192786673, 0.7777979945010512, 0.8540150412421155, 0.8857755135047711, 0.9075084910237748, 0.9241872877244056, 0.9317887756752385, 0.9348010674429889, 0.9359938541161249, 0.9339317483422287, 0.9276443474041728, 0.9261685266052079, 0.9102983988355168]\n"
     ]
    },
    {
     "data": {
      "image/png": "[encoded data removed]",
      "text/plain": [
       "<Figure size 432x288 with 1 Axes>"
      ]
     },
     "metadata": {
      "needs_background": "light"
     },
     "output_type": "display_data"
    }
   ],
   "source": [
    "jsonList = {}\n",
    "for i in range(0,len(layerIndex)):\n",
    "    jsonList[layerIndex[i]] = layerAccuracy[i]\n",
    "\n",
    "f = open(layerWiseAccuracy, 'w')\n",
    "json.dump(jsonList, f)\n",
    "f.close()\n",
    "\n",
    "with open(layerWiseAccuracy, 'r') as f:\n",
    "   jsonList = json.load(f)\n",
    "\n",
    "lAcc = []\n",
    "lIndex = []\n",
    "for key in jsonList:\n",
    "    lIndex.append(int(key))\n",
    "    lAcc.append(jsonList[key])\n",
    "\n",
    "print (lAcc)\n",
    "plt.bar(lIndex, lAcc)\n",
    "plt.show()"
   ]
  },
  {
   "cell_type": "markdown",
   "metadata": {},
   "source": [
    "# Spread of Neurons per property"
   ]
  },
  {
   "cell_type": "code",
   "execution_count": 25,
   "metadata": {},
   "outputs": [
    {
     "data": {
      "image/png": "[encoded data removed]",
      "text/plain": [
       "<Figure size 1800x360 with 1 Axes>"
      ]
     },
     "metadata": {
      "needs_background": "light"
     },
     "output_type": "display_data"
    }
   ],
   "source": [
    "properties = []\n",
    "numNeurons = []\n",
    "\n",
    "for k, v in classWise.items():\n",
    "    #print (k, v)\n",
    "    properties.append(k)\n",
    "    numNeurons.append(len(v))\n",
    "\n",
    "properties, numNeurons = zip(*sorted(zip(properties, numNeurons)))\n",
    "plt.figure(figsize=(25,5))\n",
    "plt.bar(properties, numNeurons)\n",
    "plt.show()"
   ]
  },
  {
   "cell_type": "code",
   "execution_count": 26,
   "metadata": {},
   "outputs": [
    {
     "data": {
      "image/png": "[encoded data removed]",
      "text/plain": [
       "<Figure size 1800x360 with 1 Axes>"
      ]
     },
     "metadata": {
      "needs_background": "light"
     },
     "output_type": "display_data"
    }
   ],
   "source": [
    "jsonList = {}\n",
    "for i in range(0,len(properties)):\n",
    "    jsonList[properties[i]] = numNeurons[i]\n",
    "\n",
    "f = open(spreadOfNeurons, 'w')\n",
    "json.dump(jsonList, f)\n",
    "f.close()\n",
    "\n",
    "with open(spreadOfNeurons, 'r') as f:\n",
    "   jsonList = json.load(f)\n",
    "\n",
    "p = []\n",
    "numN = []\n",
    "for key in jsonList:\n",
    "    p.append(key)\n",
    "    numN.append(jsonList[key])\n",
    "    \n",
    "plt.figure(figsize=(25,5))\n",
    "plt.bar(p, numN)\n",
    "plt.show()"
   ]
  },
  {
   "cell_type": "markdown",
   "metadata": {},
   "source": [
    "# Spread of Neurons per layer per property"
   ]
  },
  {
   "cell_type": "code",
   "execution_count": 27,
   "metadata": {},
   "outputs": [
    {
     "name": "stdout",
     "output_type": "stream",
     "text": [
      "acl\n"
     ]
    },
    {
     "data": {
      "image/png": "[encoded data removed]",
      "text/plain": [
       "<Figure size 1800x360 with 1 Axes>"
      ]
     },
     "metadata": {
      "needs_background": "light"
     },
     "output_type": "display_data"
    },
    {
     "name": "stdout",
     "output_type": "stream",
     "text": [
      "acl:relcl\n"
     ]
    },
    {
     "data": {
      "image/png": "[encoded data removed]",
      "text/plain": [
       "<Figure size 1800x360 with 1 Axes>"
      ]
     },
     "metadata": {
      "needs_background": "light"
     },
     "output_type": "display_data"
    },
    {
     "name": "stdout",
     "output_type": "stream",
     "text": [
      "advcl\n"
     ]
    },
    {
     "data": {
      "image/png": "[encoded data removed]",
      "text/plain": [
       "<Figure size 1800x360 with 1 Axes>"
      ]
     },
     "metadata": {
      "needs_background": "light"
     },
     "output_type": "display_data"
    },
    {
     "name": "stdout",
     "output_type": "stream",
     "text": [
      "advmod\n"
     ]
    },
    {
     "data": {
      "image/png": "[encoded data removed]",
      "text/plain": [
       "<Figure size 1800x360 with 1 Axes>"
      ]
     },
     "metadata": {
      "needs_background": "light"
     },
     "output_type": "display_data"
    },
    {
     "name": "stdout",
     "output_type": "stream",
     "text": [
      "amod\n"
     ]
    },
    {
     "data": {
      "image/png": "[encoded data removed]",
      "text/plain": [
       "<Figure size 1800x360 with 1 Axes>"
      ]
     },
     "metadata": {
      "needs_background": "light"
     },
     "output_type": "display_data"
    },
    {
     "name": "stdout",
     "output_type": "stream",
     "text": [
      "appos\n"
     ]
    },
    {
     "data": {
      "image/png": "[encoded data removed]",
      "text/plain": [
       "<Figure size 1800x360 with 1 Axes>"
      ]
     },
     "metadata": {
      "needs_background": "light"
     },
     "output_type": "display_data"
    },
    {
     "name": "stdout",
     "output_type": "stream",
     "text": [
      "aux\n"
     ]
    },
    {
     "data": {
      "image/png": "[encoded data removed]",
      "text/plain": [
       "<Figure size 1800x360 with 1 Axes>"
      ]
     },
     "metadata": {
      "needs_background": "light"
     },
     "output_type": "display_data"
    },
    {
     "name": "stdout",
     "output_type": "stream",
     "text": [
      "aux:pass\n"
     ]
    },
    {
     "data": {
      "image/png": "[encoded data removed]",
      "text/plain": [
       "<Figure size 1800x360 with 1 Axes>"
      ]
     },
     "metadata": {
      "needs_background": "light"
     },
     "output_type": "display_data"
    },
    {
     "name": "stdout",
     "output_type": "stream",
     "text": [
      "case\n"
     ]
    },
    {
     "data": {
      "image/png": "[encoded data removed]",
      "text/plain": [
       "<Figure size 1800x360 with 1 Axes>"
      ]
     },
     "metadata": {
      "needs_background": "light"
     },
     "output_type": "display_data"
    },
    {
     "name": "stdout",
     "output_type": "stream",
     "text": [
      "cc\n"
     ]
    },
    {
     "data": {
      "image/png": "[encoded data removed]",
      "text/plain": [
       "<Figure size 1800x360 with 1 Axes>"
      ]
     },
     "metadata": {
      "needs_background": "light"
     },
     "output_type": "display_data"
    },
    {
     "name": "stdout",
     "output_type": "stream",
     "text": [
      "cc:preconj\n"
     ]
    },
    {
     "data": {
      "image/png": "[encoded data removed]",
      "text/plain": [
       "<Figure size 1800x360 with 1 Axes>"
      ]
     },
     "metadata": {
      "needs_background": "light"
     },
     "output_type": "display_data"
    },
    {
     "name": "stdout",
     "output_type": "stream",
     "text": [
      "ccomp\n"
     ]
    },
    {
     "data": {
      "image/png": "[encoded data removed]",
      "text/plain": [
       "<Figure size 1800x360 with 1 Axes>"
      ]
     },
     "metadata": {
      "needs_background": "light"
     },
     "output_type": "display_data"
    },
    {
     "name": "stdout",
     "output_type": "stream",
     "text": [
      "compound\n"
     ]
    },
    {
     "data": {
      "image/png": "[encoded data removed]",
      "text/plain": [
       "<Figure size 1800x360 with 1 Axes>"
      ]
     },
     "metadata": {
      "needs_background": "light"
     },
     "output_type": "display_data"
    },
    {
     "name": "stdout",
     "output_type": "stream",
     "text": [
      "compound:prt\n"
     ]
    },
    {
     "data": {
      "image/png": "[encoded data removed]",
      "text/plain": [
       "<Figure size 1800x360 with 1 Axes>"
      ]
     },
     "metadata": {
      "needs_background": "light"
     },
     "output_type": "display_data"
    },
    {
     "name": "stdout",
     "output_type": "stream",
     "text": [
      "conj\n"
     ]
    },
    {
     "data": {
      "image/png": "[encoded data removed]",
      "text/plain": [
       "<Figure size 1800x360 with 1 Axes>"
      ]
     },
     "metadata": {
      "needs_background": "light"
     },
     "output_type": "display_data"
    },
    {
     "name": "stdout",
     "output_type": "stream",
     "text": [
      "cop\n"
     ]
    },
    {
     "data": {
      "image/png": "[encoded data removed]",
      "text/plain": [
       "<Figure size 1800x360 with 1 Axes>"
      ]
     },
     "metadata": {
      "needs_background": "light"
     },
     "output_type": "display_data"
    },
    {
     "name": "stdout",
     "output_type": "stream",
     "text": [
      "csubj\n"
     ]
    },
    {
     "data": {
      "image/png": "[encoded data removed]",
      "text/plain": [
       "<Figure size 1800x360 with 1 Axes>"
      ]
     },
     "metadata": {
      "needs_background": "light"
     },
     "output_type": "display_data"
    },
    {
     "name": "stdout",
     "output_type": "stream",
     "text": [
      "csubj:pass\n"
     ]
    },
    {
     "data": {
      "image/png": "[encoded data removed]",
      "text/plain": [
       "<Figure size 1800x360 with 1 Axes>"
      ]
     },
     "metadata": {
      "needs_background": "light"
     },
     "output_type": "display_data"
    },
    {
     "name": "stdout",
     "output_type": "stream",
     "text": [
      "dep\n"
     ]
    },
    {
     "data": {
      "image/png": "[encoded data removed]",
      "text/plain": [
       "<Figure size 1800x360 with 1 Axes>"
      ]
     },
     "metadata": {
      "needs_background": "light"
     },
     "output_type": "display_data"
    },
    {
     "name": "stdout",
     "output_type": "stream",
     "text": [
      "det\n"
     ]
    },
    {
     "data": {
      "image/png": "[encoded data removed]",
      "text/plain": [
       "<Figure size 1800x360 with 1 Axes>"
      ]
     },
     "metadata": {
      "needs_background": "light"
     },
     "output_type": "display_data"
    },
    {
     "name": "stdout",
     "output_type": "stream",
     "text": [
      "det:predet\n"
     ]
    },
    {
     "data": {
      "image/png": "[encoded data removed]",
      "text/plain": [
       "<Figure size 1800x360 with 1 Axes>"
      ]
     },
     "metadata": {
      "needs_background": "light"
     },
     "output_type": "display_data"
    },
    {
     "name": "stdout",
     "output_type": "stream",
     "text": [
      "discourse\n"
     ]
    },
    {
     "data": {
      "image/png": "[encoded data removed]",
      "text/plain": [
       "<Figure size 1800x360 with 1 Axes>"
      ]
     },
     "metadata": {
      "needs_background": "light"
     },
     "output_type": "display_data"
    },
    {
     "name": "stdout",
     "output_type": "stream",
     "text": [
      "dislocated\n"
     ]
    },
    {
     "data": {
      "image/png": "[encoded data removed]",
      "text/plain": [
       "<Figure size 1800x360 with 1 Axes>"
      ]
     },
     "metadata": {
      "needs_background": "light"
     },
     "output_type": "display_data"
    },
    {
     "name": "stdout",
     "output_type": "stream",
     "text": [
      "expl\n"
     ]
    },
    {
     "data": {
      "image/png": "[encoded data removed]",
      "text/plain": [
       "<Figure size 1800x360 with 1 Axes>"
      ]
     },
     "metadata": {
      "needs_background": "light"
     },
     "output_type": "display_data"
    },
    {
     "name": "stdout",
     "output_type": "stream",
     "text": [
      "fixed\n"
     ]
    },
    {
     "data": {
      "image/png": "[encoded data removed]",
      "text/plain": [
       "<Figure size 1800x360 with 1 Axes>"
      ]
     },
     "metadata": {
      "needs_background": "light"
     },
     "output_type": "display_data"
    },
    {
     "name": "stdout",
     "output_type": "stream",
     "text": [
      "flat\n"
     ]
    },
    {
     "data": {
      "image/png": "[encoded data removed]",
      "text/plain": [
       "<Figure size 1800x360 with 1 Axes>"
      ]
     },
     "metadata": {
      "needs_background": "light"
     },
     "output_type": "display_data"
    },
    {
     "name": "stdout",
     "output_type": "stream",
     "text": [
      "flat:foreign\n"
     ]
    },
    {
     "data": {
      "image/png": "[encoded data removed]",
      "text/plain": [
       "<Figure size 1800x360 with 1 Axes>"
      ]
     },
     "metadata": {
      "needs_background": "light"
     },
     "output_type": "display_data"
    },
    {
     "name": "stdout",
     "output_type": "stream",
     "text": [
      "goeswith\n"
     ]
    },
    {
     "data": {
      "image/png": "[encoded data removed]",
      "text/plain": [
       "<Figure size 1800x360 with 1 Axes>"
      ]
     },
     "metadata": {
      "needs_background": "light"
     },
     "output_type": "display_data"
    },
    {
     "name": "stdout",
     "output_type": "stream",
     "text": [
      "iobj\n"
     ]
    },
    {
     "data": {
      "image/png": "[encoded data removed]",
      "text/plain": [
       "<Figure size 1800x360 with 1 Axes>"
      ]
     },
     "metadata": {
      "needs_background": "light"
     },
     "output_type": "display_data"
    },
    {
     "name": "stdout",
     "output_type": "stream",
     "text": [
      "list\n"
     ]
    },
    {
     "data": {
      "image/png": "[encoded data removed]",
      "text/plain": [
       "<Figure size 1800x360 with 1 Axes>"
      ]
     },
     "metadata": {
      "needs_background": "light"
     },
     "output_type": "display_data"
    },
    {
     "name": "stdout",
     "output_type": "stream",
     "text": [
      "mark\n"
     ]
    },
    {
     "data": {
      "image/png": "[encoded data removed]",
      "text/plain": [
       "<Figure size 1800x360 with 1 Axes>"
      ]
     },
     "metadata": {
      "needs_background": "light"
     },
     "output_type": "display_data"
    },
    {
     "name": "stdout",
     "output_type": "stream",
     "text": [
      "nmod\n"
     ]
    },
    {
     "data": {
      "image/png": "[encoded data removed]",
      "text/plain": [
       "<Figure size 1800x360 with 1 Axes>"
      ]
     },
     "metadata": {
      "needs_background": "light"
     },
     "output_type": "display_data"
    },
    {
     "name": "stdout",
     "output_type": "stream",
     "text": [
      "nmod:npmod\n"
     ]
    },
    {
     "data": {
      "image/png": "[encoded data removed]",
      "text/plain": [
       "<Figure size 1800x360 with 1 Axes>"
      ]
     },
     "metadata": {
      "needs_background": "light"
     },
     "output_type": "display_data"
    },
    {
     "name": "stdout",
     "output_type": "stream",
     "text": [
      "nmod:poss\n"
     ]
    },
    {
     "data": {
      "image/png": "[encoded data removed]",
      "text/plain": [
       "<Figure size 1800x360 with 1 Axes>"
      ]
     },
     "metadata": {
      "needs_background": "light"
     },
     "output_type": "display_data"
    },
    {
     "name": "stdout",
     "output_type": "stream",
     "text": [
      "nmod:tmod\n"
     ]
    },
    {
     "data": {
      "image/png": "[encoded data removed]",
      "text/plain": [
       "<Figure size 1800x360 with 1 Axes>"
      ]
     },
     "metadata": {
      "needs_background": "light"
     },
     "output_type": "display_data"
    },
    {
     "name": "stdout",
     "output_type": "stream",
     "text": [
      "nsubj\n"
     ]
    },
    {
     "data": {
      "image/png": "[encoded data removed]",
      "text/plain": [
       "<Figure size 1800x360 with 1 Axes>"
      ]
     },
     "metadata": {
      "needs_background": "light"
     },
     "output_type": "display_data"
    },
    {
     "name": "stdout",
     "output_type": "stream",
     "text": [
      "nsubj:pass\n"
     ]
    },
    {
     "data": {
      "image/png": "[encoded data removed]",
      "text/plain": [
       "<Figure size 1800x360 with 1 Axes>"
      ]
     },
     "metadata": {
      "needs_background": "light"
     },
     "output_type": "display_data"
    },
    {
     "name": "stdout",
     "output_type": "stream",
     "text": [
      "nummod\n"
     ]
    },
    {
     "data": {
      "image/png": "[encoded data removed]",
      "text/plain": [
       "<Figure size 1800x360 with 1 Axes>"
      ]
     },
     "metadata": {
      "needs_background": "light"
     },
     "output_type": "display_data"
    },
    {
     "name": "stdout",
     "output_type": "stream",
     "text": [
      "obj\n"
     ]
    },
    {
     "data": {
      "image/png": "[encoded data removed]",
      "text/plain": [
       "<Figure size 1800x360 with 1 Axes>"
      ]
     },
     "metadata": {
      "needs_background": "light"
     },
     "output_type": "display_data"
    },
    {
     "name": "stdout",
     "output_type": "stream",
     "text": [
      "obl\n"
     ]
    },
    {
     "data": {
      "image/png": "[encoded data removed]",
      "text/plain": [
       "<Figure size 1800x360 with 1 Axes>"
      ]
     },
     "metadata": {
      "needs_background": "light"
     },
     "output_type": "display_data"
    },
    {
     "name": "stdout",
     "output_type": "stream",
     "text": [
      "obl:npmod\n"
     ]
    },
    {
     "data": {
      "image/png": "[encoded data removed]",
      "text/plain": [
       "<Figure size 1800x360 with 1 Axes>"
      ]
     },
     "metadata": {
      "needs_background": "light"
     },
     "output_type": "display_data"
    },
    {
     "name": "stdout",
     "output_type": "stream",
     "text": [
      "obl:tmod\n"
     ]
    },
    {
     "data": {
      "image/png": "[encoded data removed]",
      "text/plain": [
       "<Figure size 1800x360 with 1 Axes>"
      ]
     },
     "metadata": {
      "needs_background": "light"
     },
     "output_type": "display_data"
    },
    {
     "name": "stdout",
     "output_type": "stream",
     "text": [
      "orphan\n"
     ]
    },
    {
     "data": {
      "image/png": "[encoded data removed]",
      "text/plain": [
       "<Figure size 1800x360 with 1 Axes>"
      ]
     },
     "metadata": {
      "needs_background": "light"
     },
     "output_type": "display_data"
    },
    {
     "name": "stdout",
     "output_type": "stream",
     "text": [
      "parataxis\n"
     ]
    },
    {
     "data": {
      "image/png": "[encoded data removed]",
      "text/plain": [
       "<Figure size 1800x360 with 1 Axes>"
      ]
     },
     "metadata": {
      "needs_background": "light"
     },
     "output_type": "display_data"
    },
    {
     "name": "stdout",
     "output_type": "stream",
     "text": [
      "punct\n"
     ]
    },
    {
     "data": {
      "image/png": "[encoded data removed]",
      "text/plain": [
       "<Figure size 1800x360 with 1 Axes>"
      ]
     },
     "metadata": {
      "needs_background": "light"
     },
     "output_type": "display_data"
    },
    {
     "name": "stdout",
     "output_type": "stream",
     "text": [
      "reparandum\n"
     ]
    },
    {
     "data": {
      "image/png": "[encoded data removed]",
      "text/plain": [
       "<Figure size 1800x360 with 1 Axes>"
      ]
     },
     "metadata": {
      "needs_background": "light"
     },
     "output_type": "display_data"
    },
    {
     "name": "stdout",
     "output_type": "stream",
     "text": [
      "root\n"
     ]
    },
    {
     "data": {
      "image/png": "[encoded data removed]",
      "text/plain": [
       "<Figure size 1800x360 with 1 Axes>"
      ]
     },
     "metadata": {
      "needs_background": "light"
     },
     "output_type": "display_data"
    },
    {
     "name": "stdout",
     "output_type": "stream",
     "text": [
      "vocative\n"
     ]
    },
    {
     "data": {
      "image/png": "[encoded data removed]",
      "text/plain": [
       "<Figure size 1800x360 with 1 Axes>"
      ]
     },
     "metadata": {
      "needs_background": "light"
     },
     "output_type": "display_data"
    },
    {
     "name": "stdout",
     "output_type": "stream",
     "text": [
      "xcomp\n"
     ]
    },
    {
     "data": {
      "image/png": "[encoded data removed]",
      "text/plain": [
       "<Figure size 1800x360 with 1 Axes>"
      ]
     },
     "metadata": {
      "needs_background": "light"
     },
     "output_type": "display_data"
    }
   ],
   "source": [
    "layerWidth = 768*2\n",
    "layerDepth = 13\n",
    "winner = list (range(0, layerDepth))\n",
    "\n",
    "top_neurons = collections.OrderedDict(sorted(classWise.items()))\n",
    "\n",
    "for k, v in top_neurons.items():\n",
    "    layers = [0] * layerDepth\n",
    "    for i in v:\n",
    "        layerNum = int(i/layerWidth)\n",
    "        layers[layerNum] = layers[layerNum] + 1\n",
    "    \n",
    "    print (k)\n",
    "    plt.figure(figsize=(25,5))\n",
    "    plt.bar(winner, layers)\n",
    "    plt.show()\n",
    "    \n",
    "\n",
    "\n",
    "   "
   ]
  },
  {
   "cell_type": "code",
   "execution_count": 28,
   "metadata": {},
   "outputs": [],
   "source": [
    "jsonList = {}\n",
    "top_neurons = collections.OrderedDict(sorted(classWise.items()))\n",
    "\n",
    "for k, v in top_neurons.items():\n",
    "    vv = [int(x) for x in v]\n",
    "    jsonList[k] = vv\n",
    "    \n",
    "f = open(spreadOfNeuronsPropertyWise, 'w')\n",
    "json.dump(jsonList, f)\n",
    "f.close()\n",
    "    "
   ]
  },
  {
   "cell_type": "code",
   "execution_count": 29,
   "metadata": {},
   "outputs": [
    {
     "ename": "IndexError",
     "evalue": "list index out of range",
     "output_type": "error",
     "traceback": [
      "\u001b[0;31m---------------------------------------------------------------------------\u001b[0m",
      "\u001b[0;31mIndexError\u001b[0m                                Traceback (most recent call last)",
      "\u001b[0;32m<ipython-input-29-26c7fb0af7cd>\u001b[0m in \u001b[0;36m<module>\u001b[0;34m\u001b[0m\n\u001b[1;32m      8\u001b[0m     \u001b[0;32mfor\u001b[0m \u001b[0mi\u001b[0m \u001b[0;32min\u001b[0m \u001b[0mv\u001b[0m\u001b[0;34m:\u001b[0m\u001b[0;34m\u001b[0m\u001b[0;34m\u001b[0m\u001b[0m\n\u001b[1;32m      9\u001b[0m         \u001b[0mlayerNum\u001b[0m \u001b[0;34m=\u001b[0m \u001b[0mint\u001b[0m\u001b[0;34m(\u001b[0m\u001b[0mi\u001b[0m\u001b[0;34m/\u001b[0m\u001b[0mlayerWidth\u001b[0m\u001b[0;34m)\u001b[0m\u001b[0;34m\u001b[0m\u001b[0;34m\u001b[0m\u001b[0m\n\u001b[0;32m---> 10\u001b[0;31m         \u001b[0mlayers\u001b[0m\u001b[0;34m[\u001b[0m\u001b[0mlayerNum\u001b[0m\u001b[0;34m]\u001b[0m \u001b[0;34m=\u001b[0m \u001b[0mlayers\u001b[0m\u001b[0;34m[\u001b[0m\u001b[0mlayerNum\u001b[0m\u001b[0;34m]\u001b[0m \u001b[0;34m+\u001b[0m \u001b[0;36m1\u001b[0m\u001b[0;34m\u001b[0m\u001b[0;34m\u001b[0m\u001b[0m\n\u001b[0m\u001b[1;32m     11\u001b[0m \u001b[0;34m\u001b[0m\u001b[0m\n\u001b[1;32m     12\u001b[0m     \u001b[0mmax\u001b[0m \u001b[0;34m=\u001b[0m \u001b[0;36m0\u001b[0m\u001b[0;34m\u001b[0m\u001b[0;34m\u001b[0m\u001b[0m\n",
      "\u001b[0;31mIndexError\u001b[0m: list index out of range"
     ]
    }
   ],
   "source": [
    "layerWidth = 768\n",
    "layerDepth = 13\n",
    "winner = [0] * layerDepth\n",
    "\n",
    "\n",
    "for k, v in classWise.items():\n",
    "    layers = [0] * layerDepth\n",
    "    for i in v:\n",
    "        layerNum = int(i/layerWidth)\n",
    "        layers[layerNum] = layers[layerNum] + 1\n",
    "    \n",
    "    max = 0\n",
    "    maxVal = 0\n",
    "    print (k, end = ',' )\n",
    "    \n",
    "    for idx, val in enumerate(layers):\n",
    "        print(val , end = ','),\n",
    "        if (val > maxVal):\n",
    "            max = idx\n",
    "            maxVal = val\n",
    "    winner[max] = winner[max] +1\n",
    "    print (max, '\\n')\n",
    "\n",
    "print (\"Winner\", end = ',')\n",
    "for i, j in enumerate (winner):\n",
    "    print (j, end = ',')"
   ]
  },
  {
   "cell_type": "markdown",
   "metadata": {},
   "source": [
    "# Neuron to Property Map"
   ]
  },
  {
   "cell_type": "code",
   "execution_count": null,
   "metadata": {},
   "outputs": [],
   "source": [
    "percentage=0.05\n",
    "ordering, cutoffs = utils.get_neuron_ordering(model, label2idx, search_stride=1000)\n",
    "top_neurons_global = ordering[:int(percentage*len(ordering))]\n",
    "fac = 1\n",
    "top_neurons_local = []\n",
    "\n",
    "while (len(top_neurons_local) < len(top_neurons_global)):\n",
    "    top_neurons_local, classWise = utils.get_top_neurons(model, percentage*fac, label2idx)\n",
    "    fac = fac + 0.1\n",
    "\n",
    "\n",
    "top_neurons_l = set()\n",
    "top_neurons_g = set()\n",
    "\n",
    "layerWidth = 768\n",
    "layerDepth = 13\n",
    "neuronMap = {}\n",
    "\n",
    "for i in top_neurons_global:\n",
    "    top_neurons_g.add(i)\n",
    "\n",
    "print (len(ordering), len(top_neurons_global), len(top_neurons_local))\n",
    "for k, v in classWise.items():\n",
    "    print (k, len(v))\n",
    "    for i in v:\n",
    "        propertyList = []\n",
    "        if i in neuronMap.keys():\n",
    "            propertyList = neuronMap[i]\n",
    "        propertyList.append(str(k))\n",
    "        neuronMap[int(i)] = propertyList\n",
    "        top_neurons_l.add(i)\n",
    "\n",
    "result = top_neurons_g.intersection(top_neurons_l)\n",
    "print (result, len(result))\n",
    "\n",
    "with open(nMap, 'w') as fp:\n",
    "        json.dump(neuronMap, fp)\n",
    "\n",
    "        ############################## Loading the dictionary ####################\n",
    "        \n",
    "with open(nMap, 'r') as fp:\n",
    "   neuronMap = json.load(fp)\n",
    "        \n",
    "for key in neuronMap:\n",
    "    propertyList =  neuronMap[key]\n",
    "    print (key, end = '\\t')\n",
    "    for i in propertyList:\n",
    "        print (i , end = '\\t')\n",
    "    print ()\n"
   ]
  },
  {
   "cell_type": "code",
   "execution_count": null,
   "metadata": {},
   "outputs": [],
   "source": []
  },
  {
   "cell_type": "code",
   "execution_count": null,
   "metadata": {},
   "outputs": [],
   "source": []
  }
 ],
 "metadata": {
  "kernelspec": {
   "display_name": "Python 3",
   "language": "python",
   "name": "python3"
  },
  "language_info": {
   "codemirror_mode": {
    "name": "ipython",
    "version": 3
   },
   "file_extension": ".py",
   "mimetype": "text/x-python",
   "name": "python",
   "nbconvert_exporter": "python",
   "pygments_lexer": "ipython3",
   "version": "3.7.7"
  }
 },
 "nbformat": 4,
 "nbformat_minor": 2
}
